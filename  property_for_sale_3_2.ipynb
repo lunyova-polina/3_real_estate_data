{
 "cells": [
  {
   "cell_type": "markdown",
   "metadata": {},
   "source": [
    "# Исследование объявлений о продаже квартир"
   ]
  },
  {
   "cell_type": "markdown",
   "metadata": {},
   "source": [
    "В вашем распоряжении данные сервиса Яндекс.Недвижимость — архив объявлений о продаже квартир в Санкт-Петербурге и соседних населённых пунктах за несколько лет. Нужно научиться определять рыночную стоимость объектов недвижимости. Ваша задача — установить параметры. Это позволит построить автоматизированную систему: она отследит аномалии и мошенническую деятельность. \n",
    "\n",
    "По каждой квартире на продажу доступны два вида данных. Первые вписаны пользователем, вторые получены автоматически на основе картографических данных. Например, расстояние до центра, аэропорта, ближайшего парка и водоёма. "
   ]
  },
  {
   "cell_type": "markdown",
   "metadata": {},
   "source": [
    "**Цель исследования**   \n",
    "Провести анализ данных при помощи которых предприятие разработает стратегию взаимодействия с клиентами.\n"
   ]
  },
  {
   "cell_type": "markdown",
   "metadata": {},
   "source": [
    "**Задачи исследования**   \n",
    "- Изучить следующие параметры: площадь, цена, число комнат, высота потолков.\n",
    "- Изучить время продажи квартиры. Посчитать среднее и медиану. Описать, сколько обычно занимает продажа. Узнать, когда можно считать, что продажи прошли очень быстро, а когда необычно долго?\n",
    "- Узнать, какие факторы больше всего влияют на стоимость квартиры. Изучить, зависит ли цена от площади, числа комнат, удалённости от центра. Изучить зависимость цены от того, на каком этаже расположена квартира: первом, последнем или другом. Также изучить зависимость от даты размещения: дня недели, месяца и года.\n",
    "- Выбрать 10 населённых пунктов с наибольшим числом объявлений. Посчитать среднюю цену квадратного метра в этих населённых пунктах. Выделить населённые пункты с самой высокой и низкой стоимостью жилья.\n",
    "- Изучить предложения квартир: для каждой квартиры есть информация о расстоянии до центра. Выделить квартиры в Санкт-Петербурге (locality_name). Задача — выяснить, какая область входит в центр. \n",
    "- Выделить сегмент квартир в центре. Проанализировать территорию и изучить следующие параметры: площадь, цена, число комнат, высота потолков. Также выделить факторы, которые влияют на стоимость квартиры (число комнат, этаж, удалённость от центра, дата размещения объявления)."
   ]
  },
  {
   "cell_type": "markdown",
   "metadata": {},
   "source": [
    "# Описание данных\n",
    "- `airports_nearest` — расстояние до ближайшего аэропорта в метрах (м)\n",
    "- `balcony` — число балконов\n",
    "- `ceiling_height` — высота потолков (м)\n",
    "- `cityCenters_nearest` — расстояние до центра города (м)\n",
    "- `days_exposition` — сколько дней было размещено объявление (от публикации до снятия)\n",
    "- `first_day_exposition` — дата публикации\n",
    "- `floor` — этаж\n",
    "- `floors_total` — всего этажей в доме\n",
    "- `is_apartment` — апартаменты (булев тип)\n",
    "- `kitchen_area` — площадь кухни в квадратных метрах (м²)\n",
    "- `last_price` — цена на момент снятия с публикации\n",
    "- `living_area` — жилая площадь в квадратных метрах (м²)\n",
    "- `locality_name` — название населённого пункта\n",
    "- `open_plan` — свободная планировка (булев тип)\n",
    "- `parks_around3000` — число парков в радиусе 3 км\n",
    "- `parks_nearest` — расстояние до ближайшего парка (м)\n",
    "- `ponds_around3000` — число водоёмов в радиусе 3 км\n",
    "- `ponds_nearest` — расстояние до ближайшего водоёма (м)\n",
    "- `rooms` — число комнат\n",
    "- `studio` — квартира-студия (булев тип)\n",
    "- `total_area` — площадь квартиры в квадратных метрах (м²)\n",
    "- `total_images` — число фотографий квартиры в объявлении"
   ]
  },
  {
   "cell_type": "markdown",
   "metadata": {},
   "source": [
    "## Изучение общей информации"
   ]
  },
  {
   "cell_type": "code",
   "execution_count": 17,
   "metadata": {},
   "outputs": [],
   "source": [
    "import pandas as pd\n",
    "import matplotlib.pyplot as plt"
   ]
  },
  {
   "cell_type": "code",
   "execution_count": 18,
   "metadata": {
    "scrolled": false
   },
   "outputs": [
    {
     "data": {
      "text/html": [
       "<div>\n",
       "<style scoped>\n",
       "    .dataframe tbody tr th:only-of-type {\n",
       "        vertical-align: middle;\n",
       "    }\n",
       "\n",
       "    .dataframe tbody tr th {\n",
       "        vertical-align: top;\n",
       "    }\n",
       "\n",
       "    .dataframe thead th {\n",
       "        text-align: right;\n",
       "    }\n",
       "</style>\n",
       "<table border=\"1\" class=\"dataframe\">\n",
       "  <thead>\n",
       "    <tr style=\"text-align: right;\">\n",
       "      <th></th>\n",
       "      <th>total_images</th>\n",
       "      <th>last_price</th>\n",
       "      <th>total_area</th>\n",
       "      <th>first_day_exposition</th>\n",
       "      <th>rooms</th>\n",
       "      <th>ceiling_height</th>\n",
       "      <th>floors_total</th>\n",
       "      <th>living_area</th>\n",
       "      <th>floor</th>\n",
       "      <th>is_apartment</th>\n",
       "      <th>...</th>\n",
       "      <th>kitchen_area</th>\n",
       "      <th>balcony</th>\n",
       "      <th>locality_name</th>\n",
       "      <th>airports_nearest</th>\n",
       "      <th>cityCenters_nearest</th>\n",
       "      <th>parks_around3000</th>\n",
       "      <th>parks_nearest</th>\n",
       "      <th>ponds_around3000</th>\n",
       "      <th>ponds_nearest</th>\n",
       "      <th>days_exposition</th>\n",
       "    </tr>\n",
       "  </thead>\n",
       "  <tbody>\n",
       "    <tr>\n",
       "      <td>0</td>\n",
       "      <td>20</td>\n",
       "      <td>13000000.0</td>\n",
       "      <td>108.0</td>\n",
       "      <td>2019-03-07T00:00:00</td>\n",
       "      <td>3</td>\n",
       "      <td>2.70</td>\n",
       "      <td>16.0</td>\n",
       "      <td>51.0</td>\n",
       "      <td>8</td>\n",
       "      <td>NaN</td>\n",
       "      <td>...</td>\n",
       "      <td>25.0</td>\n",
       "      <td>NaN</td>\n",
       "      <td>Санкт-Петербург</td>\n",
       "      <td>18863.0</td>\n",
       "      <td>16028.0</td>\n",
       "      <td>1.0</td>\n",
       "      <td>482.0</td>\n",
       "      <td>2.0</td>\n",
       "      <td>755.0</td>\n",
       "      <td>NaN</td>\n",
       "    </tr>\n",
       "    <tr>\n",
       "      <td>1</td>\n",
       "      <td>7</td>\n",
       "      <td>3350000.0</td>\n",
       "      <td>40.4</td>\n",
       "      <td>2018-12-04T00:00:00</td>\n",
       "      <td>1</td>\n",
       "      <td>NaN</td>\n",
       "      <td>11.0</td>\n",
       "      <td>18.6</td>\n",
       "      <td>1</td>\n",
       "      <td>NaN</td>\n",
       "      <td>...</td>\n",
       "      <td>11.0</td>\n",
       "      <td>2.0</td>\n",
       "      <td>посёлок Шушары</td>\n",
       "      <td>12817.0</td>\n",
       "      <td>18603.0</td>\n",
       "      <td>0.0</td>\n",
       "      <td>NaN</td>\n",
       "      <td>0.0</td>\n",
       "      <td>NaN</td>\n",
       "      <td>81.0</td>\n",
       "    </tr>\n",
       "    <tr>\n",
       "      <td>2</td>\n",
       "      <td>10</td>\n",
       "      <td>5196000.0</td>\n",
       "      <td>56.0</td>\n",
       "      <td>2015-08-20T00:00:00</td>\n",
       "      <td>2</td>\n",
       "      <td>NaN</td>\n",
       "      <td>5.0</td>\n",
       "      <td>34.3</td>\n",
       "      <td>4</td>\n",
       "      <td>NaN</td>\n",
       "      <td>...</td>\n",
       "      <td>8.3</td>\n",
       "      <td>0.0</td>\n",
       "      <td>Санкт-Петербург</td>\n",
       "      <td>21741.0</td>\n",
       "      <td>13933.0</td>\n",
       "      <td>1.0</td>\n",
       "      <td>90.0</td>\n",
       "      <td>2.0</td>\n",
       "      <td>574.0</td>\n",
       "      <td>558.0</td>\n",
       "    </tr>\n",
       "    <tr>\n",
       "      <td>3</td>\n",
       "      <td>0</td>\n",
       "      <td>64900000.0</td>\n",
       "      <td>159.0</td>\n",
       "      <td>2015-07-24T00:00:00</td>\n",
       "      <td>3</td>\n",
       "      <td>NaN</td>\n",
       "      <td>14.0</td>\n",
       "      <td>NaN</td>\n",
       "      <td>9</td>\n",
       "      <td>NaN</td>\n",
       "      <td>...</td>\n",
       "      <td>NaN</td>\n",
       "      <td>0.0</td>\n",
       "      <td>Санкт-Петербург</td>\n",
       "      <td>28098.0</td>\n",
       "      <td>6800.0</td>\n",
       "      <td>2.0</td>\n",
       "      <td>84.0</td>\n",
       "      <td>3.0</td>\n",
       "      <td>234.0</td>\n",
       "      <td>424.0</td>\n",
       "    </tr>\n",
       "    <tr>\n",
       "      <td>4</td>\n",
       "      <td>2</td>\n",
       "      <td>10000000.0</td>\n",
       "      <td>100.0</td>\n",
       "      <td>2018-06-19T00:00:00</td>\n",
       "      <td>2</td>\n",
       "      <td>3.03</td>\n",
       "      <td>14.0</td>\n",
       "      <td>32.0</td>\n",
       "      <td>13</td>\n",
       "      <td>NaN</td>\n",
       "      <td>...</td>\n",
       "      <td>41.0</td>\n",
       "      <td>NaN</td>\n",
       "      <td>Санкт-Петербург</td>\n",
       "      <td>31856.0</td>\n",
       "      <td>8098.0</td>\n",
       "      <td>2.0</td>\n",
       "      <td>112.0</td>\n",
       "      <td>1.0</td>\n",
       "      <td>48.0</td>\n",
       "      <td>121.0</td>\n",
       "    </tr>\n",
       "  </tbody>\n",
       "</table>\n",
       "<p>5 rows × 22 columns</p>\n",
       "</div>"
      ],
      "text/plain": [
       "   total_images  last_price  total_area first_day_exposition  rooms  \\\n",
       "0            20  13000000.0       108.0  2019-03-07T00:00:00      3   \n",
       "1             7   3350000.0        40.4  2018-12-04T00:00:00      1   \n",
       "2            10   5196000.0        56.0  2015-08-20T00:00:00      2   \n",
       "3             0  64900000.0       159.0  2015-07-24T00:00:00      3   \n",
       "4             2  10000000.0       100.0  2018-06-19T00:00:00      2   \n",
       "\n",
       "   ceiling_height  floors_total  living_area  floor is_apartment  ...  \\\n",
       "0            2.70          16.0         51.0      8          NaN  ...   \n",
       "1             NaN          11.0         18.6      1          NaN  ...   \n",
       "2             NaN           5.0         34.3      4          NaN  ...   \n",
       "3             NaN          14.0          NaN      9          NaN  ...   \n",
       "4            3.03          14.0         32.0     13          NaN  ...   \n",
       "\n",
       "   kitchen_area  balcony    locality_name  airports_nearest  \\\n",
       "0          25.0      NaN  Санкт-Петербург           18863.0   \n",
       "1          11.0      2.0   посёлок Шушары           12817.0   \n",
       "2           8.3      0.0  Санкт-Петербург           21741.0   \n",
       "3           NaN      0.0  Санкт-Петербург           28098.0   \n",
       "4          41.0      NaN  Санкт-Петербург           31856.0   \n",
       "\n",
       "  cityCenters_nearest  parks_around3000  parks_nearest  ponds_around3000  \\\n",
       "0             16028.0               1.0          482.0               2.0   \n",
       "1             18603.0               0.0            NaN               0.0   \n",
       "2             13933.0               1.0           90.0               2.0   \n",
       "3              6800.0               2.0           84.0               3.0   \n",
       "4              8098.0               2.0          112.0               1.0   \n",
       "\n",
       "   ponds_nearest  days_exposition  \n",
       "0          755.0              NaN  \n",
       "1            NaN             81.0  \n",
       "2          574.0            558.0  \n",
       "3          234.0            424.0  \n",
       "4           48.0            121.0  \n",
       "\n",
       "[5 rows x 22 columns]"
      ]
     },
     "metadata": {},
     "output_type": "display_data"
    },
    {
     "data": {
      "text/html": [
       "<div>\n",
       "<style scoped>\n",
       "    .dataframe tbody tr th:only-of-type {\n",
       "        vertical-align: middle;\n",
       "    }\n",
       "\n",
       "    .dataframe tbody tr th {\n",
       "        vertical-align: top;\n",
       "    }\n",
       "\n",
       "    .dataframe thead th {\n",
       "        text-align: right;\n",
       "    }\n",
       "</style>\n",
       "<table border=\"1\" class=\"dataframe\">\n",
       "  <thead>\n",
       "    <tr style=\"text-align: right;\">\n",
       "      <th></th>\n",
       "      <th>total_images</th>\n",
       "      <th>last_price</th>\n",
       "      <th>total_area</th>\n",
       "      <th>rooms</th>\n",
       "      <th>ceiling_height</th>\n",
       "      <th>floors_total</th>\n",
       "      <th>living_area</th>\n",
       "      <th>floor</th>\n",
       "      <th>kitchen_area</th>\n",
       "      <th>balcony</th>\n",
       "      <th>airports_nearest</th>\n",
       "      <th>cityCenters_nearest</th>\n",
       "      <th>parks_around3000</th>\n",
       "      <th>parks_nearest</th>\n",
       "      <th>ponds_around3000</th>\n",
       "      <th>ponds_nearest</th>\n",
       "      <th>days_exposition</th>\n",
       "    </tr>\n",
       "  </thead>\n",
       "  <tbody>\n",
       "    <tr>\n",
       "      <td>count</td>\n",
       "      <td>23699.000000</td>\n",
       "      <td>2.369900e+04</td>\n",
       "      <td>23699.000000</td>\n",
       "      <td>23699.000000</td>\n",
       "      <td>14504.000000</td>\n",
       "      <td>23613.000000</td>\n",
       "      <td>21796.000000</td>\n",
       "      <td>23699.000000</td>\n",
       "      <td>21421.000000</td>\n",
       "      <td>12180.000000</td>\n",
       "      <td>18157.000000</td>\n",
       "      <td>18180.000000</td>\n",
       "      <td>18181.000000</td>\n",
       "      <td>8079.000000</td>\n",
       "      <td>18181.000000</td>\n",
       "      <td>9110.000000</td>\n",
       "      <td>20518.000000</td>\n",
       "    </tr>\n",
       "    <tr>\n",
       "      <td>mean</td>\n",
       "      <td>9.858475</td>\n",
       "      <td>6.541549e+06</td>\n",
       "      <td>60.348651</td>\n",
       "      <td>2.070636</td>\n",
       "      <td>2.771499</td>\n",
       "      <td>10.673824</td>\n",
       "      <td>34.457852</td>\n",
       "      <td>5.892358</td>\n",
       "      <td>10.569807</td>\n",
       "      <td>1.150082</td>\n",
       "      <td>28793.672193</td>\n",
       "      <td>14191.277833</td>\n",
       "      <td>0.611408</td>\n",
       "      <td>490.804555</td>\n",
       "      <td>0.770255</td>\n",
       "      <td>517.980900</td>\n",
       "      <td>180.888634</td>\n",
       "    </tr>\n",
       "    <tr>\n",
       "      <td>std</td>\n",
       "      <td>5.682529</td>\n",
       "      <td>1.088701e+07</td>\n",
       "      <td>35.654083</td>\n",
       "      <td>1.078405</td>\n",
       "      <td>1.261056</td>\n",
       "      <td>6.597173</td>\n",
       "      <td>22.030445</td>\n",
       "      <td>4.885249</td>\n",
       "      <td>5.905438</td>\n",
       "      <td>1.071300</td>\n",
       "      <td>12630.880622</td>\n",
       "      <td>8608.386210</td>\n",
       "      <td>0.802074</td>\n",
       "      <td>342.317995</td>\n",
       "      <td>0.938346</td>\n",
       "      <td>277.720643</td>\n",
       "      <td>219.727988</td>\n",
       "    </tr>\n",
       "    <tr>\n",
       "      <td>min</td>\n",
       "      <td>0.000000</td>\n",
       "      <td>1.219000e+04</td>\n",
       "      <td>12.000000</td>\n",
       "      <td>0.000000</td>\n",
       "      <td>1.000000</td>\n",
       "      <td>1.000000</td>\n",
       "      <td>2.000000</td>\n",
       "      <td>1.000000</td>\n",
       "      <td>1.300000</td>\n",
       "      <td>0.000000</td>\n",
       "      <td>0.000000</td>\n",
       "      <td>181.000000</td>\n",
       "      <td>0.000000</td>\n",
       "      <td>1.000000</td>\n",
       "      <td>0.000000</td>\n",
       "      <td>13.000000</td>\n",
       "      <td>1.000000</td>\n",
       "    </tr>\n",
       "    <tr>\n",
       "      <td>25%</td>\n",
       "      <td>6.000000</td>\n",
       "      <td>3.400000e+06</td>\n",
       "      <td>40.000000</td>\n",
       "      <td>1.000000</td>\n",
       "      <td>2.520000</td>\n",
       "      <td>5.000000</td>\n",
       "      <td>18.600000</td>\n",
       "      <td>2.000000</td>\n",
       "      <td>7.000000</td>\n",
       "      <td>0.000000</td>\n",
       "      <td>18585.000000</td>\n",
       "      <td>9238.000000</td>\n",
       "      <td>0.000000</td>\n",
       "      <td>288.000000</td>\n",
       "      <td>0.000000</td>\n",
       "      <td>294.000000</td>\n",
       "      <td>45.000000</td>\n",
       "    </tr>\n",
       "    <tr>\n",
       "      <td>50%</td>\n",
       "      <td>9.000000</td>\n",
       "      <td>4.650000e+06</td>\n",
       "      <td>52.000000</td>\n",
       "      <td>2.000000</td>\n",
       "      <td>2.650000</td>\n",
       "      <td>9.000000</td>\n",
       "      <td>30.000000</td>\n",
       "      <td>4.000000</td>\n",
       "      <td>9.100000</td>\n",
       "      <td>1.000000</td>\n",
       "      <td>26726.000000</td>\n",
       "      <td>13098.500000</td>\n",
       "      <td>0.000000</td>\n",
       "      <td>455.000000</td>\n",
       "      <td>1.000000</td>\n",
       "      <td>502.000000</td>\n",
       "      <td>95.000000</td>\n",
       "    </tr>\n",
       "    <tr>\n",
       "      <td>75%</td>\n",
       "      <td>14.000000</td>\n",
       "      <td>6.800000e+06</td>\n",
       "      <td>69.900000</td>\n",
       "      <td>3.000000</td>\n",
       "      <td>2.800000</td>\n",
       "      <td>16.000000</td>\n",
       "      <td>42.300000</td>\n",
       "      <td>8.000000</td>\n",
       "      <td>12.000000</td>\n",
       "      <td>2.000000</td>\n",
       "      <td>37273.000000</td>\n",
       "      <td>16293.000000</td>\n",
       "      <td>1.000000</td>\n",
       "      <td>612.000000</td>\n",
       "      <td>1.000000</td>\n",
       "      <td>729.000000</td>\n",
       "      <td>232.000000</td>\n",
       "    </tr>\n",
       "    <tr>\n",
       "      <td>max</td>\n",
       "      <td>50.000000</td>\n",
       "      <td>7.630000e+08</td>\n",
       "      <td>900.000000</td>\n",
       "      <td>19.000000</td>\n",
       "      <td>100.000000</td>\n",
       "      <td>60.000000</td>\n",
       "      <td>409.700000</td>\n",
       "      <td>33.000000</td>\n",
       "      <td>112.000000</td>\n",
       "      <td>5.000000</td>\n",
       "      <td>84869.000000</td>\n",
       "      <td>65968.000000</td>\n",
       "      <td>3.000000</td>\n",
       "      <td>3190.000000</td>\n",
       "      <td>3.000000</td>\n",
       "      <td>1344.000000</td>\n",
       "      <td>1580.000000</td>\n",
       "    </tr>\n",
       "  </tbody>\n",
       "</table>\n",
       "</div>"
      ],
      "text/plain": [
       "       total_images    last_price    total_area         rooms  ceiling_height  \\\n",
       "count  23699.000000  2.369900e+04  23699.000000  23699.000000    14504.000000   \n",
       "mean       9.858475  6.541549e+06     60.348651      2.070636        2.771499   \n",
       "std        5.682529  1.088701e+07     35.654083      1.078405        1.261056   \n",
       "min        0.000000  1.219000e+04     12.000000      0.000000        1.000000   \n",
       "25%        6.000000  3.400000e+06     40.000000      1.000000        2.520000   \n",
       "50%        9.000000  4.650000e+06     52.000000      2.000000        2.650000   \n",
       "75%       14.000000  6.800000e+06     69.900000      3.000000        2.800000   \n",
       "max       50.000000  7.630000e+08    900.000000     19.000000      100.000000   \n",
       "\n",
       "       floors_total   living_area         floor  kitchen_area       balcony  \\\n",
       "count  23613.000000  21796.000000  23699.000000  21421.000000  12180.000000   \n",
       "mean      10.673824     34.457852      5.892358     10.569807      1.150082   \n",
       "std        6.597173     22.030445      4.885249      5.905438      1.071300   \n",
       "min        1.000000      2.000000      1.000000      1.300000      0.000000   \n",
       "25%        5.000000     18.600000      2.000000      7.000000      0.000000   \n",
       "50%        9.000000     30.000000      4.000000      9.100000      1.000000   \n",
       "75%       16.000000     42.300000      8.000000     12.000000      2.000000   \n",
       "max       60.000000    409.700000     33.000000    112.000000      5.000000   \n",
       "\n",
       "       airports_nearest  cityCenters_nearest  parks_around3000  parks_nearest  \\\n",
       "count      18157.000000         18180.000000      18181.000000    8079.000000   \n",
       "mean       28793.672193         14191.277833          0.611408     490.804555   \n",
       "std        12630.880622          8608.386210          0.802074     342.317995   \n",
       "min            0.000000           181.000000          0.000000       1.000000   \n",
       "25%        18585.000000          9238.000000          0.000000     288.000000   \n",
       "50%        26726.000000         13098.500000          0.000000     455.000000   \n",
       "75%        37273.000000         16293.000000          1.000000     612.000000   \n",
       "max        84869.000000         65968.000000          3.000000    3190.000000   \n",
       "\n",
       "       ponds_around3000  ponds_nearest  days_exposition  \n",
       "count      18181.000000    9110.000000     20518.000000  \n",
       "mean           0.770255     517.980900       180.888634  \n",
       "std            0.938346     277.720643       219.727988  \n",
       "min            0.000000      13.000000         1.000000  \n",
       "25%            0.000000     294.000000        45.000000  \n",
       "50%            1.000000     502.000000        95.000000  \n",
       "75%            1.000000     729.000000       232.000000  \n",
       "max            3.000000    1344.000000      1580.000000  "
      ]
     },
     "execution_count": 18,
     "metadata": {},
     "output_type": "execute_result"
    }
   ],
   "source": [
    "df = pd.read_csv('/Users/polina_lunyova/Documents/It/projects/final_version/3_Исследовательский_анализ_данных /real_estate_data.csv', sep='\\t')\n",
    "display(df.head())\n",
    "df.describe()"
   ]
  },
  {
   "cell_type": "markdown",
   "metadata": {},
   "source": [
    "### Вывод"
   ]
  },
  {
   "cell_type": "markdown",
   "metadata": {},
   "source": [
    "В данных есть много некорректных значений и пропусков. Например пропуски в значениях могут означать, что такого параметра у клиента нет(колличество балконов), пропуски в таких параметрах можно заменить на ноль. Также клиент может ошибиться в написании значения(высота потолков 20м), что может приветси к аномальным значениям. Прежде чем приступить к расчетам, необходимо привести данные к нормальному виду."
   ]
  },
  {
   "cell_type": "markdown",
   "metadata": {},
   "source": [
    "## Предобработка данных"
   ]
  },
  {
   "cell_type": "code",
   "execution_count": 19,
   "metadata": {},
   "outputs": [
    {
     "data": {
      "text/plain": [
       "total_images                0\n",
       "last_price                  0\n",
       "total_area                  0\n",
       "first_day_exposition        0\n",
       "rooms                       0\n",
       "ceiling_height           9195\n",
       "floors_total               86\n",
       "living_area              1903\n",
       "floor                       0\n",
       "is_apartment            20924\n",
       "studio                      0\n",
       "open_plan                   0\n",
       "kitchen_area             2278\n",
       "balcony                 11519\n",
       "locality_name              49\n",
       "airports_nearest         5542\n",
       "cityCenters_nearest      5519\n",
       "parks_around3000         5518\n",
       "parks_nearest           15620\n",
       "ponds_around3000         5518\n",
       "ponds_nearest           14589\n",
       "days_exposition          3181\n",
       "dtype: int64"
      ]
     },
     "execution_count": 19,
     "metadata": {},
     "output_type": "execute_result"
    }
   ],
   "source": [
    "# определение пропущенных значений\n",
    "df.isna().sum()"
   ]
  },
  {
   "cell_type": "code",
   "execution_count": 20,
   "metadata": {
    "scrolled": true
   },
   "outputs": [
    {
     "data": {
      "text/plain": [
       "total_images                0\n",
       "last_price                  0\n",
       "total_area                  0\n",
       "first_day_exposition        0\n",
       "rooms                       0\n",
       "ceiling_height              0\n",
       "floors_total                0\n",
       "living_area               143\n",
       "floor                       0\n",
       "is_apartment            20924\n",
       "studio                      0\n",
       "open_plan                   0\n",
       "kitchen_area              201\n",
       "balcony                     0\n",
       "locality_name              49\n",
       "airports_nearest         5542\n",
       "cityCenters_nearest      5519\n",
       "parks_around3000         5518\n",
       "parks_nearest               0\n",
       "ponds_around3000            0\n",
       "ponds_nearest           14589\n",
       "days_exposition          3181\n",
       "dtype: int64"
      ]
     },
     "execution_count": 20,
     "metadata": {},
     "output_type": "execute_result"
    }
   ],
   "source": [
    "# пропуски в количестве балконов (balcony)\n",
    "df['balcony'] = df['balcony'].fillna(0)\n",
    "\n",
    "# пропуски в количестве этажей в доме (floors_total) заменяем на этаж, гдк находится сама квартира \n",
    "df['floors_total'] = df['floors_total'].fillna(df['floor'])\n",
    "\n",
    "# пропуски в жилой площади (living_area)\n",
    "df['living_area'] = df['living_area'].fillna(df.groupby('total_area')['living_area'].transform('median'))\n",
    "\n",
    "# пропуски в площади кухни (kitchen_area)\n",
    "df['kitchen_area'] = df['kitchen_area'].fillna(df.groupby('living_area')['kitchen_area'].transform('median'))\n",
    "\n",
    "# изменяем пропуски в количестве водоемов (ponds_around3000)\n",
    "df['ponds_around3000'] = df['ponds_around3000'].fillna(0)\n",
    "\n",
    "# изменяем пропуски расстояния до ближайшего парка (parks_nearest)\n",
    "df['parks_nearest'] = df['parks_nearest'].fillna(0)\n",
    "\n",
    "# изменяем пропуски в количестве комнат (rooms)\n",
    "df.loc[(df['studio'] == True) & df['rooms'] == 1, 'rooms'] = 0\n",
    "\n",
    "# приводим названия населенного пункта (locality_name) к одному регистру \n",
    "df['locality_name'] = df['locality_name'].str.lower()\n",
    "\n",
    "# изменяем высоту потолков (ceiling_height) \n",
    "df.loc[(df['ceiling_height'] >= 20), 'ceiling_height'] = df['ceiling_height'] / 2\n",
    "df['ceiling_height'] = df['ceiling_height'].replace(1, 10)\n",
    "df['ceiling_height'] = df['ceiling_height'].replace(1.2, 12)\n",
    "df['ceiling_height'] = df['ceiling_height'].replace(50, 10)\n",
    "df['ceiling_height'] = df['ceiling_height'].fillna(df['ceiling_height'].median())\n",
    "\n",
    "# повторная проверка пропусков\n",
    "df.isna().sum()"
   ]
  },
  {
   "cell_type": "markdown",
   "metadata": {},
   "source": [
    "1. Пропуски в количестве балконов, возможно, означают то, что балкон в квартире отсутствует вовсе. Заменим значение \"NaN\" на число \"0\".\n",
    "2. Можно предположить, что пропуски в количестве этажей равны самому этажу в доме.\n",
    "3. Пропуски в жилой (living_area) и кухонной (kitchen_area) площади заменим на медианное значение.\n",
    "4. Заменяем значение \"NaN\" на число \"0\" в количестве водоемов т.к. скорее всего это означает, что в радиусе 3км их нет.\n",
    "5. Заменяем значение \"NaN\" на число \"0\" в расстоянии до ближайшего парка, т.к. парка рядом с домом нет.\n",
    "6. Изменяем пропуски в количестве комнат (rooms). Если значение 'studio' равна 'True', значит квартира однокомнатная. \n",
    "7. Приводим названия населенного пункта (locality_name) к одному регистру с помощью \"str.lower()\"\n",
    "8. Изменяем высоту потолков (ceiling_height)."
   ]
  },
  {
   "cell_type": "code",
   "execution_count": 21,
   "metadata": {},
   "outputs": [
    {
     "name": "stdout",
     "output_type": "stream",
     "text": [
      "<class 'pandas.core.frame.DataFrame'>\n",
      "RangeIndex: 23699 entries, 0 to 23698\n",
      "Data columns (total 22 columns):\n",
      "total_images            23699 non-null int64\n",
      "last_price              23699 non-null float64\n",
      "total_area              23699 non-null float64\n",
      "first_day_exposition    23699 non-null object\n",
      "rooms                   23699 non-null int64\n",
      "ceiling_height          23699 non-null float64\n",
      "floors_total            23699 non-null float64\n",
      "living_area             23556 non-null float64\n",
      "floor                   23699 non-null int64\n",
      "is_apartment            2775 non-null object\n",
      "studio                  23699 non-null bool\n",
      "open_plan               23699 non-null bool\n",
      "kitchen_area            23498 non-null float64\n",
      "balcony                 23699 non-null float64\n",
      "locality_name           23650 non-null object\n",
      "airports_nearest        18157 non-null float64\n",
      "cityCenters_nearest     18180 non-null float64\n",
      "parks_around3000        18181 non-null float64\n",
      "parks_nearest           23699 non-null float64\n",
      "ponds_around3000        23699 non-null float64\n",
      "ponds_nearest           9110 non-null float64\n",
      "days_exposition         20518 non-null float64\n",
      "dtypes: bool(2), float64(14), int64(3), object(3)\n",
      "memory usage: 3.7+ MB\n",
      "None\n"
     ]
    }
   ],
   "source": [
    "print(df.info())\n",
    "\n",
    "# изменяем тип данных по количеству дней размещения обьявления (days_exposition)\n",
    "df['days_exposition'] = df['days_exposition'].round().astype('Int64')\n",
    "\n",
    "# изменяем тип данных цены (last_price) \n",
    "df['last_price'] = df['last_price'].round().astype('Int64')\n",
    "\n",
    "# изменяем тип данных в значении площади квартиры (total_area) \n",
    "df['total_area'] = df['total_area'].round().astype('Int64')\n",
    "\n",
    "# приводим данные размещения обьявления (first_day_exposition) к времменному типу 'datetime64'\n",
    "df['first_day_exposition'] = pd.to_datetime(df['first_day_exposition'], format='%Y-%m-%dT%H:%M:%S')\n",
    "#df.info()"
   ]
  },
  {
   "cell_type": "markdown",
   "metadata": {},
   "source": [
    " С помощью метода astype() изменяем тип данных по количеству дней размещения обьявления (days_exposition), цены на момент снятия с публикации(last_price), площади квартиры (total_area) из вещественного типа данных в целочисленный, а также приводим данные размещения обьявления (first_day_exposition) к времменному типу 'datetime64'.\n",
    " \n",
    " \n",
    " \n",
    " "
   ]
  },
  {
   "cell_type": "markdown",
   "metadata": {},
   "source": [
    "## Расчёты и добавление результатов в таблицу"
   ]
  },
  {
   "cell_type": "code",
   "execution_count": 22,
   "metadata": {},
   "outputs": [
    {
     "data": {
      "text/html": [
       "<div>\n",
       "<style scoped>\n",
       "    .dataframe tbody tr th:only-of-type {\n",
       "        vertical-align: middle;\n",
       "    }\n",
       "\n",
       "    .dataframe tbody tr th {\n",
       "        vertical-align: top;\n",
       "    }\n",
       "\n",
       "    .dataframe thead th {\n",
       "        text-align: right;\n",
       "    }\n",
       "</style>\n",
       "<table border=\"1\" class=\"dataframe\">\n",
       "  <thead>\n",
       "    <tr style=\"text-align: right;\">\n",
       "      <th></th>\n",
       "      <th>total_images</th>\n",
       "      <th>last_price</th>\n",
       "      <th>total_area</th>\n",
       "      <th>first_day_exposition</th>\n",
       "      <th>rooms</th>\n",
       "      <th>ceiling_height</th>\n",
       "      <th>floors_total</th>\n",
       "      <th>living_area</th>\n",
       "      <th>floor</th>\n",
       "      <th>is_apartment</th>\n",
       "      <th>...</th>\n",
       "      <th>ponds_around3000</th>\n",
       "      <th>ponds_nearest</th>\n",
       "      <th>days_exposition</th>\n",
       "      <th>price_meter</th>\n",
       "      <th>first_day_weekday</th>\n",
       "      <th>first_month</th>\n",
       "      <th>first_year</th>\n",
       "      <th>floor_category</th>\n",
       "      <th>ratio_living_total_area</th>\n",
       "      <th>retio_kitchen_total_area</th>\n",
       "    </tr>\n",
       "  </thead>\n",
       "  <tbody>\n",
       "    <tr>\n",
       "      <td>0</td>\n",
       "      <td>20</td>\n",
       "      <td>13000000</td>\n",
       "      <td>108</td>\n",
       "      <td>2019-03-07</td>\n",
       "      <td>3</td>\n",
       "      <td>2.70</td>\n",
       "      <td>16.0</td>\n",
       "      <td>51.0</td>\n",
       "      <td>8</td>\n",
       "      <td>NaN</td>\n",
       "      <td>...</td>\n",
       "      <td>2.0</td>\n",
       "      <td>755.0</td>\n",
       "      <td>NaN</td>\n",
       "      <td>120370</td>\n",
       "      <td>3</td>\n",
       "      <td>3</td>\n",
       "      <td>2019</td>\n",
       "      <td>другой</td>\n",
       "      <td>0.47</td>\n",
       "      <td>0.23</td>\n",
       "    </tr>\n",
       "    <tr>\n",
       "      <td>1</td>\n",
       "      <td>7</td>\n",
       "      <td>3350000</td>\n",
       "      <td>40</td>\n",
       "      <td>2018-12-04</td>\n",
       "      <td>1</td>\n",
       "      <td>2.65</td>\n",
       "      <td>11.0</td>\n",
       "      <td>18.6</td>\n",
       "      <td>1</td>\n",
       "      <td>NaN</td>\n",
       "      <td>...</td>\n",
       "      <td>0.0</td>\n",
       "      <td>NaN</td>\n",
       "      <td>81</td>\n",
       "      <td>83750</td>\n",
       "      <td>1</td>\n",
       "      <td>12</td>\n",
       "      <td>2018</td>\n",
       "      <td>первый</td>\n",
       "      <td>0.46</td>\n",
       "      <td>0.28</td>\n",
       "    </tr>\n",
       "    <tr>\n",
       "      <td>2</td>\n",
       "      <td>10</td>\n",
       "      <td>5196000</td>\n",
       "      <td>56</td>\n",
       "      <td>2015-08-20</td>\n",
       "      <td>2</td>\n",
       "      <td>2.65</td>\n",
       "      <td>5.0</td>\n",
       "      <td>34.3</td>\n",
       "      <td>4</td>\n",
       "      <td>NaN</td>\n",
       "      <td>...</td>\n",
       "      <td>2.0</td>\n",
       "      <td>574.0</td>\n",
       "      <td>558</td>\n",
       "      <td>92786</td>\n",
       "      <td>3</td>\n",
       "      <td>8</td>\n",
       "      <td>2015</td>\n",
       "      <td>другой</td>\n",
       "      <td>0.61</td>\n",
       "      <td>0.15</td>\n",
       "    </tr>\n",
       "    <tr>\n",
       "      <td>3</td>\n",
       "      <td>0</td>\n",
       "      <td>64900000</td>\n",
       "      <td>159</td>\n",
       "      <td>2015-07-24</td>\n",
       "      <td>3</td>\n",
       "      <td>2.65</td>\n",
       "      <td>14.0</td>\n",
       "      <td>95.0</td>\n",
       "      <td>9</td>\n",
       "      <td>NaN</td>\n",
       "      <td>...</td>\n",
       "      <td>3.0</td>\n",
       "      <td>234.0</td>\n",
       "      <td>424</td>\n",
       "      <td>408176</td>\n",
       "      <td>4</td>\n",
       "      <td>7</td>\n",
       "      <td>2015</td>\n",
       "      <td>другой</td>\n",
       "      <td>0.60</td>\n",
       "      <td>0.10</td>\n",
       "    </tr>\n",
       "    <tr>\n",
       "      <td>4</td>\n",
       "      <td>2</td>\n",
       "      <td>10000000</td>\n",
       "      <td>100</td>\n",
       "      <td>2018-06-19</td>\n",
       "      <td>2</td>\n",
       "      <td>3.03</td>\n",
       "      <td>14.0</td>\n",
       "      <td>32.0</td>\n",
       "      <td>13</td>\n",
       "      <td>NaN</td>\n",
       "      <td>...</td>\n",
       "      <td>1.0</td>\n",
       "      <td>48.0</td>\n",
       "      <td>121</td>\n",
       "      <td>100000</td>\n",
       "      <td>1</td>\n",
       "      <td>6</td>\n",
       "      <td>2018</td>\n",
       "      <td>другой</td>\n",
       "      <td>0.32</td>\n",
       "      <td>0.41</td>\n",
       "    </tr>\n",
       "  </tbody>\n",
       "</table>\n",
       "<p>5 rows × 29 columns</p>\n",
       "</div>"
      ],
      "text/plain": [
       "   total_images  last_price  total_area first_day_exposition  rooms  \\\n",
       "0            20    13000000         108           2019-03-07      3   \n",
       "1             7     3350000          40           2018-12-04      1   \n",
       "2            10     5196000          56           2015-08-20      2   \n",
       "3             0    64900000         159           2015-07-24      3   \n",
       "4             2    10000000         100           2018-06-19      2   \n",
       "\n",
       "   ceiling_height  floors_total  living_area  floor is_apartment  ...  \\\n",
       "0            2.70          16.0         51.0      8          NaN  ...   \n",
       "1            2.65          11.0         18.6      1          NaN  ...   \n",
       "2            2.65           5.0         34.3      4          NaN  ...   \n",
       "3            2.65          14.0         95.0      9          NaN  ...   \n",
       "4            3.03          14.0         32.0     13          NaN  ...   \n",
       "\n",
       "   ponds_around3000  ponds_nearest  days_exposition  price_meter  \\\n",
       "0               2.0          755.0              NaN       120370   \n",
       "1               0.0            NaN               81        83750   \n",
       "2               2.0          574.0              558        92786   \n",
       "3               3.0          234.0              424       408176   \n",
       "4               1.0           48.0              121       100000   \n",
       "\n",
       "  first_day_weekday  first_month  first_year  floor_category  \\\n",
       "0                 3            3        2019          другой   \n",
       "1                 1           12        2018          первый   \n",
       "2                 3            8        2015          другой   \n",
       "3                 4            7        2015          другой   \n",
       "4                 1            6        2018          другой   \n",
       "\n",
       "   ratio_living_total_area  retio_kitchen_total_area  \n",
       "0                     0.47                      0.23  \n",
       "1                     0.46                      0.28  \n",
       "2                     0.61                      0.15  \n",
       "3                     0.60                      0.10  \n",
       "4                     0.32                      0.41  \n",
       "\n",
       "[5 rows x 29 columns]"
      ]
     },
     "execution_count": 22,
     "metadata": {},
     "output_type": "execute_result"
    }
   ],
   "source": [
    "# расчитываем цену за квадратный метр\n",
    "df['price_meter'] = (df['last_price'] / df['total_area']).round()\n",
    "df['price_meter'] = df['price_meter'].astype('Int64')\n",
    "\n",
    "# извлекаем из данных день недели, месяц и год публикации объявления\n",
    "df['first_day_weekday'] = df['first_day_exposition'].dt.weekday\n",
    "df['first_month'] = df['first_day_exposition'].dt.month\n",
    "df['first_year'] = df['first_day_exposition'].dt.year\n",
    "\n",
    "# этаж квартиры делим на категории\n",
    "def floor_definition(df):\n",
    "    if df['floor'] == 1:\n",
    "        return 'первый'\n",
    "    elif (df['floors_total'] == df['floor']) & (df['floor'] != 1):\n",
    "        return 'последний'\n",
    "    else:\n",
    "        return 'другой'\n",
    "df['floor_category'] = df.apply(floor_definition, axis = 1)\n",
    "\n",
    "# соотношение жилой (living_area) и общей площади(total_area), а также отношение площади кухни (kitchen_area) к общей (total_area).\n",
    "df['ratio_living_total_area'] = (df['living_area'] / df['total_area']).round(2)\n",
    "df['retio_kitchen_total_area'] = (df['kitchen_area'] / df['total_area']).round(2)\n",
    "\n",
    "df.head()\n",
    "#df.info()"
   ]
  },
  {
   "cell_type": "markdown",
   "metadata": {},
   "source": [
    "В таблицу были добавлены расчеты по ценам за квадратный метр (price_meter), извлечены конкретные данные из даты публикации, этажи квартир разделены на категории и посчитано соотношение жилой (living_area) и общей площади(total_area), а также отношение площади кухни (kitchen_area) к общей (total_area).\n"
   ]
  },
  {
   "cell_type": "markdown",
   "metadata": {},
   "source": [
    "## Исследовательский анализ данных"
   ]
  },
  {
   "cell_type": "code",
   "execution_count": 23,
   "metadata": {},
   "outputs": [
    {
     "data": {
      "image/png": "[encoded data removed]",
      "text/plain": [
       "<Figure size 432x288 with 1 Axes>"
      ]
     },
     "metadata": {
      "needs_background": "light"
     },
     "output_type": "display_data"
    },
    {
     "data": {
      "image/png": "[encoded data removed]",
      "text/plain": [
       "<Figure size 432x288 with 1 Axes>"
      ]
     },
     "metadata": {
      "needs_background": "light"
     },
     "output_type": "display_data"
    }
   ],
   "source": [
    "# построем гистограмму на параметр цены\n",
    "df['price_meter'].hist(bins=30, range=(0, 500000))\n",
    "plt.title('Гистограмма параметра цены')\n",
    "plt.xlabel('Стомость квартиры (т.р.)')\n",
    "plt.show()\n",
    "\n",
    "# с помощью диаграммы размаха \"boxplot()\" смотрим редкие и выбивающиеся значения цены за квадратный метр\n",
    "df.boxplot('price_meter')\n",
    "plt.title('Диаграмма размаха')\n",
    "plt.ylim(0, 180000)\n",
    "plt.show()"
   ]
  },
  {
   "cell_type": "markdown",
   "metadata": {},
   "source": [
    "Была построена гистограмма на параметр цены(взята цена за квадратный метр), в которой показано, что максимальная стоимость цены доходит почти до 500000 т.р. за квадратный метр. Этих максимальных значений очень мало, поэтому можно расценивать их как редкие и выбивающиеся.С помощью диаграммы размаха \"boxplot()\" выявлены аномальные значения, которые входят в диапазон до 20000 и после 170000, их можно исключить для более чистого исследования и анализа данных."
   ]
  },
  {
   "cell_type": "code",
   "execution_count": 24,
   "metadata": {},
   "outputs": [
    {
     "data": {
      "image/png": "[encoded data removed]",
      "text/plain": [
       "<Figure size 432x288 with 1 Axes>"
      ]
     },
     "metadata": {
      "needs_background": "light"
     },
     "output_type": "display_data"
    },
    {
     "data": {
      "image/png": "[encoded data removed]",
      "text/plain": [
       "<Figure size 432x288 with 1 Axes>"
      ]
     },
     "metadata": {
      "needs_background": "light"
     },
     "output_type": "display_data"
    }
   ],
   "source": [
    "# построена гистограмма на параметр площади\n",
    "df['total_area'].hist(bins=20, range=(0, 300))\n",
    "plt.title('Гистограмма параметра площади')\n",
    "plt.xlabel('Площадь (кв.м)')\n",
    "plt.show()\n",
    "\n",
    "# с помощью диаграммы размаха \"boxplot()\" смотрим редкие и выбивающиеся значения площади квартиры\n",
    "df.boxplot('total_area') \n",
    "plt.title('Диаграмма размаха')\n",
    "plt.ylim(0, 130)\n",
    "plt.show()"
   ]
  },
  {
   "cell_type": "markdown",
   "metadata": {},
   "source": [
    "Была построена гистограмма на параметр площади, в которой также имеются очень редкие значения. Значения, в диапазоне до 10 и после 115, можно считать за аномальные."
   ]
  },
  {
   "cell_type": "code",
   "execution_count": 25,
   "metadata": {},
   "outputs": [
    {
     "data": {
      "image/png": "[encoded data removed]",
      "text/plain": [
       "<Figure size 432x288 with 1 Axes>"
      ]
     },
     "metadata": {
      "needs_background": "light"
     },
     "output_type": "display_data"
    },
    {
     "data": {
      "image/png": "[encoded data removed]",
      "text/plain": [
       "<Figure size 432x288 with 1 Axes>"
      ]
     },
     "metadata": {
      "needs_background": "light"
     },
     "output_type": "display_data"
    }
   ],
   "source": [
    "# построем гистограмму на параметр числа комнат\n",
    "df['rooms'].hist(bins=10, range=(0, 20)) \n",
    "plt.title('Гистограмма параметра количества комнат')\n",
    "plt.xlabel('Количество комнат')\n",
    "plt.show()\n",
    "\n",
    "# с помощью диаграммы размаха \"boxplot()\" смотрим редкие и выбивающиеся значения числа комнат\n",
    "df.boxplot('rooms') \n",
    "plt.ylim(-1, 7)\n",
    "plt.title('Диаграмма размаха')\n",
    "plt.show()"
   ]
  },
  {
   "cell_type": "markdown",
   "metadata": {},
   "source": [
    "Была построена гистограмма на параметр числа комнат. При рассмотрении графика и метода 'describe()' были обнаружены высокие значения до 19 комнат. Это давольно аномальное и редкое зачение. Аномалные значения, которые находятся после 5, можно исключть."
   ]
  },
  {
   "cell_type": "code",
   "execution_count": 26,
   "metadata": {},
   "outputs": [
    {
     "data": {
      "image/png": "[encoded data removed]",
      "text/plain": [
       "<Figure size 432x288 with 1 Axes>"
      ]
     },
     "metadata": {
      "needs_background": "light"
     },
     "output_type": "display_data"
    },
    {
     "data": {
      "image/png": "[encoded data removed]",
      "text/plain": [
       "<Figure size 432x288 with 1 Axes>"
      ]
     },
     "metadata": {
      "needs_background": "light"
     },
     "output_type": "display_data"
    }
   ],
   "source": [
    "# построем гистограмму на параметр высоты потолков\n",
    "df['ceiling_height'].hist(bins=30, range=(0, 16)) \n",
    "plt.title('Гистограмма параметра высоты потолков')\n",
    "plt.xlabel('Высота потолков (м)')\n",
    "plt.show()\n",
    "\n",
    "# с помощью диаграммы размаха \"boxplot()\" смотрим редкие и выбивающиеся значения высоты потолков\n",
    "df.boxplot('ceiling_height')\n",
    "plt.ylim(2, 3)\n",
    "plt.title('Диаграмма размаха')\n",
    "plt.show()"
   ]
  },
  {
   "cell_type": "markdown",
   "metadata": {},
   "source": [
    "Была построена гистограмма на параметр высоты потолков, в которой тоже присутствуют выбивающие значения, максимальная высота потолков доходит почти до 5м. Исключаем аномальные значения в диапазоне до 2.45 и после 2.85"
   ]
  },
  {
   "cell_type": "code",
   "execution_count": 27,
   "metadata": {},
   "outputs": [
    {
     "data": {
      "text/plain": [
       "count    20518.000000\n",
       "mean       180.888634\n",
       "std        219.727988\n",
       "min          1.000000\n",
       "25%         45.000000\n",
       "50%         95.000000\n",
       "75%        232.000000\n",
       "max       1580.000000\n",
       "Name: days_exposition, dtype: float64"
      ]
     },
     "metadata": {},
     "output_type": "display_data"
    },
    {
     "data": {
      "image/png": "[encoded data removed]",
      "text/plain": [
       "<Figure size 432x288 with 1 Axes>"
      ]
     },
     "metadata": {
      "needs_background": "light"
     },
     "output_type": "display_data"
    }
   ],
   "source": [
    "# изучим данные времени продажи квартиры методом (describe())\n",
    "display(df['days_exposition'].describe())\n",
    "\n",
    "# гистограмма времени продажи квартиры\n",
    "df['days_exposition'].hist(bins=10, range=(0, 1500))\n",
    "plt.title('Гистограмма времени продажи квартиры')\n",
    "plt.xlabel('Количество дней')\n",
    "plt.show()"
   ]
  },
  {
   "cell_type": "markdown",
   "metadata": {},
   "source": [
    "Среднее время продажи квартиры состовляет 180 дней, а медиана 90 дней. Если время продажи квартиры составило от 1 до 43 дней, то можно считать, что продажа состоялась очень быстро. Долгой продажей является более 214 дней. Максимальное время продажи состовляло 1580 дней."
   ]
  },
  {
   "cell_type": "code",
   "execution_count": 28,
   "metadata": {},
   "outputs": [],
   "source": [
    "# сделаем срез редких и выбивающиеся значений\n",
    "df = df.query('(2.45 <= ceiling_height <= 2.85) and rooms <= 5 and (10 <= total_area <= 115) and (20000 <= price_meter <= 170000)')"
   ]
  },
  {
   "cell_type": "markdown",
   "metadata": {},
   "source": [
    "С помощью диаграммы размаха \"boxplot()\" выявлены редкие значения в таблицах. Создан срез без аномальных значений, благодаря которому, можно будет сделать более вероятный анализ данных. "
   ]
  },
  {
   "cell_type": "code",
   "execution_count": 29,
   "metadata": {},
   "outputs": [
    {
     "data": {
      "image/png": "[encoded data removed]",
      "text/plain": [
       "<Figure size 432x288 with 1 Axes>"
      ]
     },
     "metadata": {
      "needs_background": "light"
     },
     "output_type": "display_data"
    }
   ],
   "source": [
    "# определим зависимость цены от общей площади\n",
    "df.pivot_table(index='total_area', values='price_meter', aggfunc='median').reset_index().plot(x='total_area', y='price_meter', kind='scatter', alpha=0.7, grid=True)\n",
    "plt.title('Зависимость цены от общей площади')\n",
    "plt.xlabel('Общая площадь (кв.м)')\n",
    "plt.ylabel('Стоимость кв.м (руб.)')\n",
    "plt.show()"
   ]
  },
  {
   "cell_type": "code",
   "execution_count": 30,
   "metadata": {},
   "outputs": [
    {
     "data": {
      "image/png": "[encoded data removed]",
      "text/plain": [
       "<Figure size 432x288 with 1 Axes>"
      ]
     },
     "metadata": {
      "needs_background": "light"
     },
     "output_type": "display_data"
    }
   ],
   "source": [
    "# определим зависимость цены от количества комнат\n",
    "df.pivot_table(index='rooms', values='price_meter', aggfunc='median').reset_index().plot(x='rooms', y='price_meter', kind='scatter', grid=True)\n",
    "plt.title('Зависимость цены от количества комнат')\n",
    "plt.xlabel('Число комнат')\n",
    "plt.ylabel('Стоимость кв.м (руб.)')\n",
    "plt.show()"
   ]
  },
  {
   "cell_type": "code",
   "execution_count": 31,
   "metadata": {},
   "outputs": [
    {
     "data": {
      "image/png": "[encoded data removed]",
      "text/plain": [
       "<Figure size 432x288 with 1 Axes>"
      ]
     },
     "metadata": {
      "needs_background": "light"
     },
     "output_type": "display_data"
    }
   ],
   "source": [
    "# определим зависимость цены от расстояния до центра города\n",
    "df.pivot_table(index='cityCenters_nearest', values='price_meter', aggfunc='median').reset_index().plot(x='cityCenters_nearest', y='price_meter', kind='scatter', alpha=0.3, grid=True)\n",
    "plt.title('Зависимость цены от расстояния до центра города')\n",
    "plt.xlabel('Расстояние до центра города (м)')\n",
    "plt.ylabel('Стоимость кв.м (руб.)')\n",
    "plt.show()"
   ]
  },
  {
   "cell_type": "code",
   "execution_count": 32,
   "metadata": {},
   "outputs": [
    {
     "data": {
      "image/png": "[encoded data removed]",
      "text/plain": [
       "<Figure size 432x288 with 1 Axes>"
      ]
     },
     "metadata": {
      "needs_background": "light"
     },
     "output_type": "display_data"
    }
   ],
   "source": [
    "# зависимость цены от того, на каком этаже расположена квартира: первом, последнем или другом.\n",
    "df.pivot_table(index='floor_category', values='price_meter', aggfunc='median').plot(kind='bar', grid=True)\n",
    "plt.title('Зависимость цены от этажа квартиры')\n",
    "plt.show()"
   ]
  },
  {
   "cell_type": "code",
   "execution_count": 33,
   "metadata": {},
   "outputs": [
    {
     "data": {
      "image/png": "[encoded data removed]",
      "text/plain": [
       "<Figure size 432x288 with 1 Axes>"
      ]
     },
     "metadata": {
      "needs_background": "light"
     },
     "output_type": "display_data"
    },
    {
     "data": {
      "image/png": "[encoded data removed]",
      "text/plain": [
       "<Figure size 432x288 with 1 Axes>"
      ]
     },
     "metadata": {
      "needs_background": "light"
     },
     "output_type": "display_data"
    },
    {
     "data": {
      "image/png": "[encoded data removed]",
      "text/plain": [
       "<Figure size 432x288 with 1 Axes>"
      ]
     },
     "metadata": {
      "needs_background": "light"
     },
     "output_type": "display_data"
    }
   ],
   "source": [
    "# зависимость цены от даты размещения: дня недели, месяца и года\n",
    "df.pivot_table(index='first_day_weekday', values='price_meter', aggfunc='median').plot(kind='bar', grid=True)\n",
    "plt.title('Зависимость цены от недели')\n",
    "df.pivot_table(index='first_month', values='price_meter', aggfunc='median').plot(kind='bar', grid=True)\n",
    "plt.title('Зависимость цены от месяца')\n",
    "df.pivot_table(index='first_year', values='price_meter', aggfunc='median').plot(kind='bar', grid=True)\n",
    "plt.title('Зависимость цены от года')\n",
    "plt.show()"
   ]
  },
  {
   "cell_type": "markdown",
   "metadata": {},
   "source": [
    "Зависимости стоимости квартиры от даты размещения объявления практически нет. Есть небольшая зависимость в расположении этажа, первый этаж наиболее дешевый по сравнению с другими."
   ]
  },
  {
   "cell_type": "code",
   "execution_count": 34,
   "metadata": {},
   "outputs": [
    {
     "data": {
      "text/plain": [
       "санкт-петербург      12332\n",
       "посёлок мурино         515\n",
       "посёлок шушары         434\n",
       "всеволожск             380\n",
       "посёлок парголово      326\n",
       "колпино                316\n",
       "пушкин                 308\n",
       "деревня кудрово        296\n",
       "гатчина                282\n",
       "выборг                 204\n",
       "Name: locality_name, dtype: int64"
      ]
     },
     "execution_count": 34,
     "metadata": {},
     "output_type": "execute_result"
    }
   ],
   "source": [
    "# определим 10 населённых пунктов с наибольшим числом объявлений\n",
    "top_locality = df['locality_name'].value_counts().head(10)\n",
    "top_locality"
   ]
  },
  {
   "cell_type": "code",
   "execution_count": 35,
   "metadata": {},
   "outputs": [
    {
     "data": {
      "image/png": "[encoded data removed]",
      "text/plain": [
       "<Figure size 432x288 with 1 Axes>"
      ]
     },
     "metadata": {
      "needs_background": "light"
     },
     "output_type": "display_data"
    }
   ],
   "source": [
    "# определим среднюю цену квадратного метра в выбранных населённых пунктах\n",
    "df[df['locality_name'].isin(top_locality.index)].groupby('locality_name')['price_meter'].mean().plot(kind='bar', grid=True)\n",
    "plt.title('Средняя цена квартиры в населенных пунктах')\n",
    "plt.xlabel('Населенные пункты')\n",
    "plt.ylabel('Средняя стоимость')\n",
    "plt.show()\n"
   ]
  },
  {
   "cell_type": "markdown",
   "metadata": {},
   "source": [
    "Средняя цена в выбранных населенных пунктах варьируется от 57000 до 105 т.р. за квадратный метр."
   ]
  },
  {
   "cell_type": "code",
   "execution_count": 36,
   "metadata": {},
   "outputs": [
    {
     "name": "stdout",
     "output_type": "stream",
     "text": [
      "Максимальная стоимость жилья находиться в городе санкт-петербург стоимость которой составляет 170000 т.р. за квадратный метр.\n"
     ]
    }
   ],
   "source": [
    "# населённый пункт с самой высокой стоимостью жилья\n",
    "top_locality_max_price = df[df['locality_name'].isin(top_locality.index)]['price_meter'].max()\n",
    "top_locality_max_name = df[df['locality_name'].isin(top_locality.index)]['locality_name'].max()\n",
    "print('Максимальная стоимость жилья находиться в городе', top_locality_max_name, 'стоимость которой составляет', top_locality_max_price, \"т.р. за квадратный метр.\")\n"
   ]
  },
  {
   "cell_type": "code",
   "execution_count": 37,
   "metadata": {
    "scrolled": true
   },
   "outputs": [
    {
     "name": "stdout",
     "output_type": "stream",
     "text": [
      "Минимальная стоимость жилья находиться в городе всеволожск стоимость которой составляет 23793 т.р. за квадратный метр.\n"
     ]
    }
   ],
   "source": [
    "# населённые пункты с самой низкой стоимостью жилья\n",
    "top_locality_max_price = df[df['locality_name'].isin(top_locality.index)]['price_meter'].min()\n",
    "top_locality_max_name = df[df['locality_name'].isin(top_locality.index)]['locality_name'].min()\n",
    "print('Минимальная стоимость жилья находиться в городе', top_locality_max_name, 'стоимость которой составляет', top_locality_max_price, \"т.р. за квадратный метр.\")\n"
   ]
  },
  {
   "cell_type": "code",
   "execution_count": 38,
   "metadata": {},
   "outputs": [
    {
     "name": "stderr",
     "output_type": "stream",
     "text": [
      "/Users/polina_lunyova/opt/anaconda3/envs/praktikum_env_macos/lib/python3.7/site-packages/ipykernel_launcher.py:3: SettingWithCopyWarning: \n",
      "A value is trying to be set on a copy of a slice from a DataFrame.\n",
      "Try using .loc[row_indexer,col_indexer] = value instead\n",
      "\n",
      "See the caveats in the documentation: http://pandas.pydata.org/pandas-docs/stable/user_guide/indexing.html#returning-a-view-versus-a-copy\n",
      "  This is separate from the ipykernel package so we can avoid doing imports until\n"
     ]
    },
    {
     "data": {
      "image/png": "[encoded data removed]",
      "text/plain": [
       "<Figure size 432x288 with 1 Axes>"
      ]
     },
     "metadata": {
      "needs_background": "light"
     },
     "output_type": "display_data"
    }
   ],
   "source": [
    "# выводим квартиры в Санкт-Петербурге, которые находятся близко к центру\n",
    "spb = df.query('locality_name == \"санкт-петербург\"')\n",
    "spb['cityCenters_nearest_km'] = (spb['cityCenters_nearest'] / 1000).round()\n",
    "\n",
    "# посчитаем среднюю цену для каждого километра \n",
    "spb.groupby('cityCenters_nearest_km')['price_meter'].median().reset_index().plot(x='cityCenters_nearest_km', y='price_meter', style='-', grid=True)\n",
    "plt.title('Зависимость цены от удаленности центра')\n",
    "plt.xlabel('Расстояние до центра (км)')\n",
    "plt.ylabel('Стоимость кв.м (руб.)')\n",
    "plt.show()"
   ]
  },
  {
   "cell_type": "markdown",
   "metadata": {},
   "source": [
    "Был создан столбец с расстоянием до центра в километрах и округлен до целой части. После посчитана средняя цена для каждого километра и построен график, где показывается как цена зависит от удаленности центра. График сильно меняется на границе '7' - это и есть центральная зона."
   ]
  },
  {
   "cell_type": "code",
   "execution_count": 39,
   "metadata": {},
   "outputs": [
    {
     "data": {
      "text/html": [
       "<div>\n",
       "<style scoped>\n",
       "    .dataframe tbody tr th:only-of-type {\n",
       "        vertical-align: middle;\n",
       "    }\n",
       "\n",
       "    .dataframe tbody tr th {\n",
       "        vertical-align: top;\n",
       "    }\n",
       "\n",
       "    .dataframe thead th {\n",
       "        text-align: right;\n",
       "    }\n",
       "</style>\n",
       "<table border=\"1\" class=\"dataframe\">\n",
       "  <thead>\n",
       "    <tr style=\"text-align: right;\">\n",
       "      <th></th>\n",
       "      <th>total_images</th>\n",
       "      <th>last_price</th>\n",
       "      <th>total_area</th>\n",
       "      <th>rooms</th>\n",
       "      <th>ceiling_height</th>\n",
       "      <th>floors_total</th>\n",
       "      <th>living_area</th>\n",
       "      <th>floor</th>\n",
       "      <th>kitchen_area</th>\n",
       "      <th>balcony</th>\n",
       "      <th>...</th>\n",
       "      <th>ponds_around3000</th>\n",
       "      <th>ponds_nearest</th>\n",
       "      <th>days_exposition</th>\n",
       "      <th>price_meter</th>\n",
       "      <th>first_day_weekday</th>\n",
       "      <th>first_month</th>\n",
       "      <th>first_year</th>\n",
       "      <th>ratio_living_total_area</th>\n",
       "      <th>retio_kitchen_total_area</th>\n",
       "      <th>cityCenters_nearest_km</th>\n",
       "    </tr>\n",
       "  </thead>\n",
       "  <tbody>\n",
       "    <tr>\n",
       "      <td>count</td>\n",
       "      <td>1375.000000</td>\n",
       "      <td>1.375000e+03</td>\n",
       "      <td>1375.000000</td>\n",
       "      <td>1375.000000</td>\n",
       "      <td>1375.000000</td>\n",
       "      <td>1375.000000</td>\n",
       "      <td>1370.000000</td>\n",
       "      <td>1375.000000</td>\n",
       "      <td>1362.000000</td>\n",
       "      <td>1375.000000</td>\n",
       "      <td>...</td>\n",
       "      <td>1375.000000</td>\n",
       "      <td>1044.000000</td>\n",
       "      <td>1258.000000</td>\n",
       "      <td>1375.000000</td>\n",
       "      <td>1375.000000</td>\n",
       "      <td>1375.00000</td>\n",
       "      <td>1375.000000</td>\n",
       "      <td>1370.000000</td>\n",
       "      <td>1362.000000</td>\n",
       "      <td>1375.000000</td>\n",
       "    </tr>\n",
       "    <tr>\n",
       "      <td>mean</td>\n",
       "      <td>9.288727</td>\n",
       "      <td>7.701009e+06</td>\n",
       "      <td>65.639273</td>\n",
       "      <td>2.244364</td>\n",
       "      <td>2.663127</td>\n",
       "      <td>8.066909</td>\n",
       "      <td>38.091536</td>\n",
       "      <td>4.498909</td>\n",
       "      <td>11.250595</td>\n",
       "      <td>0.371636</td>\n",
       "      <td>...</td>\n",
       "      <td>1.284364</td>\n",
       "      <td>478.696360</td>\n",
       "      <td>224.127981</td>\n",
       "      <td>119181.375273</td>\n",
       "      <td>2.602182</td>\n",
       "      <td>6.63200</td>\n",
       "      <td>2017.077818</td>\n",
       "      <td>0.570511</td>\n",
       "      <td>0.183047</td>\n",
       "      <td>4.827636</td>\n",
       "    </tr>\n",
       "    <tr>\n",
       "      <td>std</td>\n",
       "      <td>5.564651</td>\n",
       "      <td>2.882715e+06</td>\n",
       "      <td>22.340443</td>\n",
       "      <td>0.940707</td>\n",
       "      <td>0.072268</td>\n",
       "      <td>4.422538</td>\n",
       "      <td>16.093914</td>\n",
       "      <td>3.162249</td>\n",
       "      <td>4.663232</td>\n",
       "      <td>0.776799</td>\n",
       "      <td>...</td>\n",
       "      <td>1.033575</td>\n",
       "      <td>256.250605</td>\n",
       "      <td>262.681885</td>\n",
       "      <td>24699.751820</td>\n",
       "      <td>1.738215</td>\n",
       "      <td>3.37684</td>\n",
       "      <td>1.067133</td>\n",
       "      <td>0.105947</td>\n",
       "      <td>0.080366</td>\n",
       "      <td>1.600616</td>\n",
       "    </tr>\n",
       "    <tr>\n",
       "      <td>min</td>\n",
       "      <td>0.000000</td>\n",
       "      <td>1.686000e+06</td>\n",
       "      <td>13.000000</td>\n",
       "      <td>0.000000</td>\n",
       "      <td>2.450000</td>\n",
       "      <td>2.000000</td>\n",
       "      <td>6.000000</td>\n",
       "      <td>1.000000</td>\n",
       "      <td>2.000000</td>\n",
       "      <td>0.000000</td>\n",
       "      <td>...</td>\n",
       "      <td>0.000000</td>\n",
       "      <td>22.000000</td>\n",
       "      <td>3.000000</td>\n",
       "      <td>26250.000000</td>\n",
       "      <td>0.000000</td>\n",
       "      <td>1.00000</td>\n",
       "      <td>2014.000000</td>\n",
       "      <td>0.190000</td>\n",
       "      <td>0.050000</td>\n",
       "      <td>0.000000</td>\n",
       "    </tr>\n",
       "    <tr>\n",
       "      <td>25%</td>\n",
       "      <td>5.000000</td>\n",
       "      <td>5.550000e+06</td>\n",
       "      <td>47.000000</td>\n",
       "      <td>2.000000</td>\n",
       "      <td>2.650000</td>\n",
       "      <td>5.000000</td>\n",
       "      <td>25.500000</td>\n",
       "      <td>2.000000</td>\n",
       "      <td>8.000000</td>\n",
       "      <td>0.000000</td>\n",
       "      <td>...</td>\n",
       "      <td>1.000000</td>\n",
       "      <td>265.750000</td>\n",
       "      <td>52.000000</td>\n",
       "      <td>100000.000000</td>\n",
       "      <td>1.000000</td>\n",
       "      <td>4.00000</td>\n",
       "      <td>2016.500000</td>\n",
       "      <td>0.512500</td>\n",
       "      <td>0.130000</td>\n",
       "      <td>4.000000</td>\n",
       "    </tr>\n",
       "    <tr>\n",
       "      <td>50%</td>\n",
       "      <td>9.000000</td>\n",
       "      <td>7.100000e+06</td>\n",
       "      <td>64.000000</td>\n",
       "      <td>2.000000</td>\n",
       "      <td>2.650000</td>\n",
       "      <td>6.000000</td>\n",
       "      <td>36.075000</td>\n",
       "      <td>4.000000</td>\n",
       "      <td>10.000000</td>\n",
       "      <td>0.000000</td>\n",
       "      <td>...</td>\n",
       "      <td>1.000000</td>\n",
       "      <td>458.500000</td>\n",
       "      <td>119.000000</td>\n",
       "      <td>118103.000000</td>\n",
       "      <td>3.000000</td>\n",
       "      <td>7.00000</td>\n",
       "      <td>2017.000000</td>\n",
       "      <td>0.580000</td>\n",
       "      <td>0.160000</td>\n",
       "      <td>5.000000</td>\n",
       "    </tr>\n",
       "    <tr>\n",
       "      <td>75%</td>\n",
       "      <td>13.000000</td>\n",
       "      <td>9.400000e+06</td>\n",
       "      <td>83.000000</td>\n",
       "      <td>3.000000</td>\n",
       "      <td>2.650000</td>\n",
       "      <td>10.000000</td>\n",
       "      <td>50.000000</td>\n",
       "      <td>6.000000</td>\n",
       "      <td>13.000000</td>\n",
       "      <td>0.000000</td>\n",
       "      <td>...</td>\n",
       "      <td>2.000000</td>\n",
       "      <td>662.000000</td>\n",
       "      <td>297.500000</td>\n",
       "      <td>138730.000000</td>\n",
       "      <td>4.000000</td>\n",
       "      <td>10.00000</td>\n",
       "      <td>2018.000000</td>\n",
       "      <td>0.640000</td>\n",
       "      <td>0.220000</td>\n",
       "      <td>6.000000</td>\n",
       "    </tr>\n",
       "    <tr>\n",
       "      <td>max</td>\n",
       "      <td>32.000000</td>\n",
       "      <td>1.835333e+07</td>\n",
       "      <td>115.000000</td>\n",
       "      <td>5.000000</td>\n",
       "      <td>2.850000</td>\n",
       "      <td>25.000000</td>\n",
       "      <td>90.200000</td>\n",
       "      <td>21.000000</td>\n",
       "      <td>40.200000</td>\n",
       "      <td>5.000000</td>\n",
       "      <td>...</td>\n",
       "      <td>3.000000</td>\n",
       "      <td>1199.000000</td>\n",
       "      <td>1477.000000</td>\n",
       "      <td>169880.000000</td>\n",
       "      <td>6.000000</td>\n",
       "      <td>12.00000</td>\n",
       "      <td>2019.000000</td>\n",
       "      <td>0.930000</td>\n",
       "      <td>0.940000</td>\n",
       "      <td>7.000000</td>\n",
       "    </tr>\n",
       "  </tbody>\n",
       "</table>\n",
       "<p>8 rows × 24 columns</p>\n",
       "</div>"
      ],
      "text/plain": [
       "       total_images    last_price   total_area        rooms  ceiling_height  \\\n",
       "count   1375.000000  1.375000e+03  1375.000000  1375.000000     1375.000000   \n",
       "mean       9.288727  7.701009e+06    65.639273     2.244364        2.663127   \n",
       "std        5.564651  2.882715e+06    22.340443     0.940707        0.072268   \n",
       "min        0.000000  1.686000e+06    13.000000     0.000000        2.450000   \n",
       "25%        5.000000  5.550000e+06    47.000000     2.000000        2.650000   \n",
       "50%        9.000000  7.100000e+06    64.000000     2.000000        2.650000   \n",
       "75%       13.000000  9.400000e+06    83.000000     3.000000        2.650000   \n",
       "max       32.000000  1.835333e+07   115.000000     5.000000        2.850000   \n",
       "\n",
       "       floors_total  living_area        floor  kitchen_area      balcony  ...  \\\n",
       "count   1375.000000  1370.000000  1375.000000   1362.000000  1375.000000  ...   \n",
       "mean       8.066909    38.091536     4.498909     11.250595     0.371636  ...   \n",
       "std        4.422538    16.093914     3.162249      4.663232     0.776799  ...   \n",
       "min        2.000000     6.000000     1.000000      2.000000     0.000000  ...   \n",
       "25%        5.000000    25.500000     2.000000      8.000000     0.000000  ...   \n",
       "50%        6.000000    36.075000     4.000000     10.000000     0.000000  ...   \n",
       "75%       10.000000    50.000000     6.000000     13.000000     0.000000  ...   \n",
       "max       25.000000    90.200000    21.000000     40.200000     5.000000  ...   \n",
       "\n",
       "       ponds_around3000  ponds_nearest  days_exposition    price_meter  \\\n",
       "count       1375.000000    1044.000000      1258.000000    1375.000000   \n",
       "mean           1.284364     478.696360       224.127981  119181.375273   \n",
       "std            1.033575     256.250605       262.681885   24699.751820   \n",
       "min            0.000000      22.000000         3.000000   26250.000000   \n",
       "25%            1.000000     265.750000        52.000000  100000.000000   \n",
       "50%            1.000000     458.500000       119.000000  118103.000000   \n",
       "75%            2.000000     662.000000       297.500000  138730.000000   \n",
       "max            3.000000    1199.000000      1477.000000  169880.000000   \n",
       "\n",
       "       first_day_weekday  first_month   first_year  ratio_living_total_area  \\\n",
       "count        1375.000000   1375.00000  1375.000000              1370.000000   \n",
       "mean            2.602182      6.63200  2017.077818                 0.570511   \n",
       "std             1.738215      3.37684     1.067133                 0.105947   \n",
       "min             0.000000      1.00000  2014.000000                 0.190000   \n",
       "25%             1.000000      4.00000  2016.500000                 0.512500   \n",
       "50%             3.000000      7.00000  2017.000000                 0.580000   \n",
       "75%             4.000000     10.00000  2018.000000                 0.640000   \n",
       "max             6.000000     12.00000  2019.000000                 0.930000   \n",
       "\n",
       "       retio_kitchen_total_area  cityCenters_nearest_km  \n",
       "count               1362.000000             1375.000000  \n",
       "mean                   0.183047                4.827636  \n",
       "std                    0.080366                1.600616  \n",
       "min                    0.050000                0.000000  \n",
       "25%                    0.130000                4.000000  \n",
       "50%                    0.160000                5.000000  \n",
       "75%                    0.220000                6.000000  \n",
       "max                    0.940000                7.000000  \n",
       "\n",
       "[8 rows x 24 columns]"
      ]
     },
     "execution_count": 39,
     "metadata": {},
     "output_type": "execute_result"
    }
   ],
   "source": [
    "# выделяем сегмент квартир в центре \n",
    "spb_center = spb.query('cityCenters_nearest_km <= 7')\n",
    "spb_center.describe()"
   ]
  },
  {
   "cell_type": "code",
   "execution_count": 40,
   "metadata": {},
   "outputs": [
    {
     "data": {
      "text/html": [
       "<div>\n",
       "<style scoped>\n",
       "    .dataframe tbody tr th:only-of-type {\n",
       "        vertical-align: middle;\n",
       "    }\n",
       "\n",
       "    .dataframe tbody tr th {\n",
       "        vertical-align: top;\n",
       "    }\n",
       "\n",
       "    .dataframe thead th {\n",
       "        text-align: right;\n",
       "    }\n",
       "</style>\n",
       "<table border=\"1\" class=\"dataframe\">\n",
       "  <thead>\n",
       "    <tr style=\"text-align: right;\">\n",
       "      <th></th>\n",
       "      <th>total_images</th>\n",
       "      <th>last_price</th>\n",
       "      <th>total_area</th>\n",
       "      <th>rooms</th>\n",
       "      <th>ceiling_height</th>\n",
       "      <th>floors_total</th>\n",
       "      <th>living_area</th>\n",
       "      <th>floor</th>\n",
       "      <th>kitchen_area</th>\n",
       "      <th>balcony</th>\n",
       "      <th>...</th>\n",
       "      <th>ponds_around3000</th>\n",
       "      <th>ponds_nearest</th>\n",
       "      <th>days_exposition</th>\n",
       "      <th>price_meter</th>\n",
       "      <th>first_day_weekday</th>\n",
       "      <th>first_month</th>\n",
       "      <th>first_year</th>\n",
       "      <th>ratio_living_total_area</th>\n",
       "      <th>retio_kitchen_total_area</th>\n",
       "      <th>cityCenters_nearest_km</th>\n",
       "    </tr>\n",
       "  </thead>\n",
       "  <tbody>\n",
       "    <tr>\n",
       "      <td>count</td>\n",
       "      <td>12332.000000</td>\n",
       "      <td>1.233200e+04</td>\n",
       "      <td>12332.000000</td>\n",
       "      <td>12332.000000</td>\n",
       "      <td>12332.000000</td>\n",
       "      <td>12332.000000</td>\n",
       "      <td>12280.000000</td>\n",
       "      <td>12332.000000</td>\n",
       "      <td>12254.000000</td>\n",
       "      <td>12332.000000</td>\n",
       "      <td>...</td>\n",
       "      <td>12332.000000</td>\n",
       "      <td>5818.000000</td>\n",
       "      <td>10991.000000</td>\n",
       "      <td>12332.000000</td>\n",
       "      <td>12332.000000</td>\n",
       "      <td>12332.000000</td>\n",
       "      <td>12332.000000</td>\n",
       "      <td>12280.000000</td>\n",
       "      <td>12254.000000</td>\n",
       "      <td>12301.000000</td>\n",
       "    </tr>\n",
       "    <tr>\n",
       "      <td>mean</td>\n",
       "      <td>10.009244</td>\n",
       "      <td>5.636560e+06</td>\n",
       "      <td>53.944210</td>\n",
       "      <td>1.942669</td>\n",
       "      <td>2.632714</td>\n",
       "      <td>12.294924</td>\n",
       "      <td>30.780331</td>\n",
       "      <td>6.612228</td>\n",
       "      <td>9.748345</td>\n",
       "      <td>0.621635</td>\n",
       "      <td>...</td>\n",
       "      <td>0.654557</td>\n",
       "      <td>542.865418</td>\n",
       "      <td>166.672914</td>\n",
       "      <td>104911.051898</td>\n",
       "      <td>2.581171</td>\n",
       "      <td>6.434966</td>\n",
       "      <td>2017.369364</td>\n",
       "      <td>0.563113</td>\n",
       "      <td>0.191645</td>\n",
       "      <td>12.853833</td>\n",
       "    </tr>\n",
       "    <tr>\n",
       "      <td>std</td>\n",
       "      <td>5.574387</td>\n",
       "      <td>2.390153e+06</td>\n",
       "      <td>19.030422</td>\n",
       "      <td>0.897580</td>\n",
       "      <td>0.083886</td>\n",
       "      <td>6.350636</td>\n",
       "      <td>13.014009</td>\n",
       "      <td>5.048300</td>\n",
       "      <td>3.920089</td>\n",
       "      <td>0.964900</td>\n",
       "      <td>...</td>\n",
       "      <td>0.826847</td>\n",
       "      <td>279.824248</td>\n",
       "      <td>208.476936</td>\n",
       "      <td>21255.085794</td>\n",
       "      <td>1.790045</td>\n",
       "      <td>3.452363</td>\n",
       "      <td>1.030968</td>\n",
       "      <td>0.099803</td>\n",
       "      <td>0.072371</td>\n",
       "      <td>4.178625</td>\n",
       "    </tr>\n",
       "    <tr>\n",
       "      <td>min</td>\n",
       "      <td>0.000000</td>\n",
       "      <td>1.190000e+06</td>\n",
       "      <td>13.000000</td>\n",
       "      <td>0.000000</td>\n",
       "      <td>2.450000</td>\n",
       "      <td>1.000000</td>\n",
       "      <td>3.000000</td>\n",
       "      <td>1.000000</td>\n",
       "      <td>1.300000</td>\n",
       "      <td>0.000000</td>\n",
       "      <td>...</td>\n",
       "      <td>0.000000</td>\n",
       "      <td>13.000000</td>\n",
       "      <td>1.000000</td>\n",
       "      <td>24490.000000</td>\n",
       "      <td>0.000000</td>\n",
       "      <td>1.000000</td>\n",
       "      <td>2014.000000</td>\n",
       "      <td>0.070000</td>\n",
       "      <td>0.040000</td>\n",
       "      <td>0.000000</td>\n",
       "    </tr>\n",
       "    <tr>\n",
       "      <td>25%</td>\n",
       "      <td>6.000000</td>\n",
       "      <td>3.995000e+06</td>\n",
       "      <td>40.000000</td>\n",
       "      <td>1.000000</td>\n",
       "      <td>2.580000</td>\n",
       "      <td>9.000000</td>\n",
       "      <td>18.500000</td>\n",
       "      <td>3.000000</td>\n",
       "      <td>7.000000</td>\n",
       "      <td>0.000000</td>\n",
       "      <td>...</td>\n",
       "      <td>0.000000</td>\n",
       "      <td>330.000000</td>\n",
       "      <td>39.000000</td>\n",
       "      <td>89619.750000</td>\n",
       "      <td>1.000000</td>\n",
       "      <td>3.000000</td>\n",
       "      <td>2017.000000</td>\n",
       "      <td>0.500000</td>\n",
       "      <td>0.140000</td>\n",
       "      <td>11.000000</td>\n",
       "    </tr>\n",
       "    <tr>\n",
       "      <td>50%</td>\n",
       "      <td>10.000000</td>\n",
       "      <td>4.990000e+06</td>\n",
       "      <td>50.000000</td>\n",
       "      <td>2.000000</td>\n",
       "      <td>2.650000</td>\n",
       "      <td>10.000000</td>\n",
       "      <td>29.700000</td>\n",
       "      <td>5.000000</td>\n",
       "      <td>9.000000</td>\n",
       "      <td>0.000000</td>\n",
       "      <td>...</td>\n",
       "      <td>0.000000</td>\n",
       "      <td>527.000000</td>\n",
       "      <td>88.000000</td>\n",
       "      <td>102000.000000</td>\n",
       "      <td>3.000000</td>\n",
       "      <td>6.000000</td>\n",
       "      <td>2017.000000</td>\n",
       "      <td>0.570000</td>\n",
       "      <td>0.180000</td>\n",
       "      <td>13.000000</td>\n",
       "    </tr>\n",
       "    <tr>\n",
       "      <td>75%</td>\n",
       "      <td>14.000000</td>\n",
       "      <td>6.600000e+06</td>\n",
       "      <td>64.000000</td>\n",
       "      <td>3.000000</td>\n",
       "      <td>2.650000</td>\n",
       "      <td>16.000000</td>\n",
       "      <td>39.825000</td>\n",
       "      <td>9.000000</td>\n",
       "      <td>11.000000</td>\n",
       "      <td>1.000000</td>\n",
       "      <td>...</td>\n",
       "      <td>1.000000</td>\n",
       "      <td>758.000000</td>\n",
       "      <td>206.000000</td>\n",
       "      <td>117576.500000</td>\n",
       "      <td>4.000000</td>\n",
       "      <td>10.000000</td>\n",
       "      <td>2018.000000</td>\n",
       "      <td>0.630000</td>\n",
       "      <td>0.240000</td>\n",
       "      <td>15.000000</td>\n",
       "    </tr>\n",
       "    <tr>\n",
       "      <td>max</td>\n",
       "      <td>50.000000</td>\n",
       "      <td>1.870000e+07</td>\n",
       "      <td>115.000000</td>\n",
       "      <td>5.000000</td>\n",
       "      <td>2.850000</td>\n",
       "      <td>52.000000</td>\n",
       "      <td>93.600000</td>\n",
       "      <td>33.000000</td>\n",
       "      <td>60.000000</td>\n",
       "      <td>5.000000</td>\n",
       "      <td>...</td>\n",
       "      <td>3.000000</td>\n",
       "      <td>1337.000000</td>\n",
       "      <td>1553.000000</td>\n",
       "      <td>170000.000000</td>\n",
       "      <td>6.000000</td>\n",
       "      <td>12.000000</td>\n",
       "      <td>2019.000000</td>\n",
       "      <td>1.010000</td>\n",
       "      <td>1.150000</td>\n",
       "      <td>29.000000</td>\n",
       "    </tr>\n",
       "  </tbody>\n",
       "</table>\n",
       "<p>8 rows × 24 columns</p>\n",
       "</div>"
      ],
      "text/plain": [
       "       total_images    last_price    total_area         rooms  ceiling_height  \\\n",
       "count  12332.000000  1.233200e+04  12332.000000  12332.000000    12332.000000   \n",
       "mean      10.009244  5.636560e+06     53.944210      1.942669        2.632714   \n",
       "std        5.574387  2.390153e+06     19.030422      0.897580        0.083886   \n",
       "min        0.000000  1.190000e+06     13.000000      0.000000        2.450000   \n",
       "25%        6.000000  3.995000e+06     40.000000      1.000000        2.580000   \n",
       "50%       10.000000  4.990000e+06     50.000000      2.000000        2.650000   \n",
       "75%       14.000000  6.600000e+06     64.000000      3.000000        2.650000   \n",
       "max       50.000000  1.870000e+07    115.000000      5.000000        2.850000   \n",
       "\n",
       "       floors_total   living_area         floor  kitchen_area       balcony  \\\n",
       "count  12332.000000  12280.000000  12332.000000  12254.000000  12332.000000   \n",
       "mean      12.294924     30.780331      6.612228      9.748345      0.621635   \n",
       "std        6.350636     13.014009      5.048300      3.920089      0.964900   \n",
       "min        1.000000      3.000000      1.000000      1.300000      0.000000   \n",
       "25%        9.000000     18.500000      3.000000      7.000000      0.000000   \n",
       "50%       10.000000     29.700000      5.000000      9.000000      0.000000   \n",
       "75%       16.000000     39.825000      9.000000     11.000000      1.000000   \n",
       "max       52.000000     93.600000     33.000000     60.000000      5.000000   \n",
       "\n",
       "       ...  ponds_around3000  ponds_nearest  days_exposition    price_meter  \\\n",
       "count  ...      12332.000000    5818.000000     10991.000000   12332.000000   \n",
       "mean   ...          0.654557     542.865418       166.672914  104911.051898   \n",
       "std    ...          0.826847     279.824248       208.476936   21255.085794   \n",
       "min    ...          0.000000      13.000000         1.000000   24490.000000   \n",
       "25%    ...          0.000000     330.000000        39.000000   89619.750000   \n",
       "50%    ...          0.000000     527.000000        88.000000  102000.000000   \n",
       "75%    ...          1.000000     758.000000       206.000000  117576.500000   \n",
       "max    ...          3.000000    1337.000000      1553.000000  170000.000000   \n",
       "\n",
       "       first_day_weekday   first_month    first_year  ratio_living_total_area  \\\n",
       "count       12332.000000  12332.000000  12332.000000             12280.000000   \n",
       "mean            2.581171      6.434966   2017.369364                 0.563113   \n",
       "std             1.790045      3.452363      1.030968                 0.099803   \n",
       "min             0.000000      1.000000   2014.000000                 0.070000   \n",
       "25%             1.000000      3.000000   2017.000000                 0.500000   \n",
       "50%             3.000000      6.000000   2017.000000                 0.570000   \n",
       "75%             4.000000     10.000000   2018.000000                 0.630000   \n",
       "max             6.000000     12.000000   2019.000000                 1.010000   \n",
       "\n",
       "       retio_kitchen_total_area  cityCenters_nearest_km  \n",
       "count              12254.000000            12301.000000  \n",
       "mean                   0.191645               12.853833  \n",
       "std                    0.072371                4.178625  \n",
       "min                    0.040000                0.000000  \n",
       "25%                    0.140000               11.000000  \n",
       "50%                    0.180000               13.000000  \n",
       "75%                    0.240000               15.000000  \n",
       "max                    1.150000               29.000000  \n",
       "\n",
       "[8 rows x 24 columns]"
      ]
     },
     "metadata": {},
     "output_type": "display_data"
    },
    {
     "data": {
      "image/png": "[encoded data removed]",
      "text/plain": [
       "<Figure size 432x288 with 1 Axes>"
      ]
     },
     "metadata": {
      "needs_background": "light"
     },
     "output_type": "display_data"
    }
   ],
   "source": [
    "# изучим стомость квартиры всего Санкт-Петербурга\n",
    "spb['price_meter'].hist(bins=30, range=(0, 500000),  color='blue')\n",
    "display(spb.describe())\n",
    "\n",
    "# изучим параметр стоимости квартиры для центра Санкт-Петербурга\n",
    "spb_center['price_meter'].hist(bins=30, range=(0, 500000), color='red')\n",
    "plt.xlabel('Стоимость квартиры')\n",
    "plt.title('Сравнение стоимости квартир в Санкт-Петербурге с центром города ')\n",
    "plt.show()"
   ]
  },
  {
   "cell_type": "markdown",
   "metadata": {},
   "source": [
    "Цены за квадратный метр в центре Санкт-Петербурга составляют в среднем 120000 т.р., это немного больше, чем во всем городе, там стоимость квартиры составляет в среднем 105000 т.р."
   ]
  },
  {
   "cell_type": "code",
   "execution_count": 41,
   "metadata": {},
   "outputs": [
    {
     "data": {
      "image/png": "[encoded data removed]",
      "text/plain": [
       "<Figure size 432x288 with 1 Axes>"
      ]
     },
     "metadata": {
      "needs_background": "light"
     },
     "output_type": "display_data"
    }
   ],
   "source": [
    "# изучим площадь квартиры во всем Санкт-Петербурге\n",
    "spb['total_area'].hist(bins=15, range=(0, 300), color='blue')\n",
    "\n",
    "# изучим параметр площади квартиры для центра Санкт-Петербурга\n",
    "spb_center['total_area'].hist(bins=15, range=(0, 300), color='red')\n",
    "plt.xlabel('Площадь квартиры')\n",
    "plt.title('Сравнение площади всего города с центром')\n",
    "plt.show()"
   ]
  },
  {
   "cell_type": "markdown",
   "metadata": {},
   "source": [
    "Площадь квартир в центре и во всем Санкт-Петербурге примерно одинаковая. В среднем площадь квартиры в Санкт-Петербурге составляет 54 квадратных метров, в центре площадь составляет около 65 квадратных метров."
   ]
  },
  {
   "cell_type": "code",
   "execution_count": 42,
   "metadata": {},
   "outputs": [
    {
     "data": {
      "image/png": "[encoded data removed]",
      "text/plain": [
       "<Figure size 432x288 with 1 Axes>"
      ]
     },
     "metadata": {
      "needs_background": "light"
     },
     "output_type": "display_data"
    }
   ],
   "source": [
    "# изучим число комнат в квартире во всем Санкт-Петербурге\n",
    "spb['rooms'].hist(bins=10, range=(0, 20),  color='blue') \n",
    "\n",
    "# изучим параметр количества комнат в квартире для центра Санкт-Петербурга\n",
    "spb_center['rooms'].hist(bins=10, range=(0, 20), color='red') \n",
    "plt.xlabel('Количество комнат')\n",
    "plt.title('Сравнение количества комнат в квартирах всего города с центром')\n",
    "plt.show()"
   ]
  },
  {
   "cell_type": "markdown",
   "metadata": {},
   "source": [
    "Количество комнат в центре и самом городе совпадает, чаще всего это двухкомнатные квартиры."
   ]
  },
  {
   "cell_type": "code",
   "execution_count": 43,
   "metadata": {},
   "outputs": [
    {
     "data": {
      "image/png": "[encoded data removed]",
      "text/plain": [
       "<Figure size 432x288 with 1 Axes>"
      ]
     },
     "metadata": {
      "needs_background": "light"
     },
     "output_type": "display_data"
    }
   ],
   "source": [
    "# изучим высоту потолков в квартирах во всем Санкт-Петербурге\n",
    "spb['ceiling_height'].hist(bins=30, range=(0, 16),  color='blue') \n",
    "\n",
    "# изучим параметр высоты потолков в квартире для центра Санкт-Петербурга\n",
    "spb_center['ceiling_height'].hist(bins=30, range=(0, 16),  color='red') \n",
    "plt.xlabel('Высота потолков')\n",
    "plt.title('Сравнение высоты потолков во всем городе с центром')\n",
    "plt.show()"
   ]
  },
  {
   "cell_type": "markdown",
   "metadata": {},
   "source": [
    "Высота потолков тоже примерно одинаковая (в среднем 2.6 м)."
   ]
  },
  {
   "cell_type": "markdown",
   "metadata": {},
   "source": [
    "Цены за квадратный метр в центре Санкт-Петербурга составляют в среднем 120000 т.р., это немного больше, чем во всем городе, там стоимость квартиры составляет в среднем 105000 т.р.\n",
    "Площадь квартир в центре и во всем Санкт-Петербурге примерно одинаковая. В среднем площадь квартиры в Санкт-Петербурге составляет 54 квадратных метров, в центре площадь составляет около 65 квадратных метров.\n",
    "Количество комнат в центре и самом городе совпадает, чаще всего это двухкомнатные квартиры.\n",
    "Высота потолков тоже примерно одинаковая (в среднем 2.6 м)."
   ]
  },
  {
   "cell_type": "code",
   "execution_count": 44,
   "metadata": {},
   "outputs": [
    {
     "name": "stderr",
     "output_type": "stream",
     "text": [
      "/Users/polina_lunyova/opt/anaconda3/envs/praktikum_env_macos/lib/python3.7/site-packages/ipykernel_launcher.py:12: SettingWithCopyWarning: \n",
      "A value is trying to be set on a copy of a slice from a DataFrame.\n",
      "Try using .loc[row_indexer,col_indexer] = value instead\n",
      "\n",
      "See the caveats in the documentation: http://pandas.pydata.org/pandas-docs/stable/user_guide/indexing.html#returning-a-view-versus-a-copy\n",
      "  if sys.path[0] == '':\n"
     ]
    },
    {
     "data": {
      "image/png": "[encoded data removed]",
      "text/plain": [
       "<Figure size 432x288 with 1 Axes>"
      ]
     },
     "metadata": {
      "needs_background": "light"
     },
     "output_type": "display_data"
    },
    {
     "data": {
      "image/png": "[encoded data removed]",
      "text/plain": [
       "<Figure size 432x288 with 1 Axes>"
      ]
     },
     "metadata": {
      "needs_background": "light"
     },
     "output_type": "display_data"
    },
    {
     "data": {
      "image/png": "[encoded data removed]",
      "text/plain": [
       "<Figure size 432x288 with 1 Axes>"
      ]
     },
     "metadata": {
      "needs_background": "light"
     },
     "output_type": "display_data"
    }
   ],
   "source": [
    "# изучим факторы центра Санкт-Петербурга, которые влияют на стоимость квартиры\n",
    "spb_center.pivot_table(index='rooms', values='price_meter', aggfunc='median').plot(kind='bar', grid=True)\n",
    "plt.title('Зависимость цены от количества комнат')\n",
    "plt.xlabel('Количество комнат')\n",
    "plt.ylabel('Стоимость кв.м (руб.)')\n",
    "\n",
    "spb_center.pivot_table(index='floor', values='price_meter', aggfunc='median').plot(kind='bar', grid=True)\n",
    "plt.title('Зависимость цены от этажа квартиры')\n",
    "plt.xlabel('Этаж квартиры')\n",
    "plt.ylabel('Стоимость кв.м (руб.)')\n",
    "\n",
    "spb_center['cityCenters_nearest'] = (spb_center['cityCenters_nearest'] / 1000).round()\n",
    "spb_center.pivot_table(index='cityCenters_nearest', values='price_meter', aggfunc='median').plot(grid=True)\n",
    "plt.title('Зависимость цены от удаленности центра')\n",
    "plt.xlabel('Расстояние до центра (км)')\n",
    "plt.ylabel('Стоимость кв.м (руб.)')\n",
    "plt.show()"
   ]
  },
  {
   "cell_type": "code",
   "execution_count": 45,
   "metadata": {},
   "outputs": [
    {
     "data": {
      "text/html": [
       "<div>\n",
       "<style scoped>\n",
       "    .dataframe tbody tr th:only-of-type {\n",
       "        vertical-align: middle;\n",
       "    }\n",
       "\n",
       "    .dataframe tbody tr th {\n",
       "        vertical-align: top;\n",
       "    }\n",
       "\n",
       "    .dataframe thead th {\n",
       "        text-align: right;\n",
       "    }\n",
       "</style>\n",
       "<table border=\"1\" class=\"dataframe\">\n",
       "  <thead>\n",
       "    <tr style=\"text-align: right;\">\n",
       "      <th></th>\n",
       "      <th>cityCenters_nearest</th>\n",
       "      <th>floor</th>\n",
       "      <th>rooms</th>\n",
       "    </tr>\n",
       "  </thead>\n",
       "  <tbody>\n",
       "    <tr>\n",
       "      <td>cityCenters_nearest</td>\n",
       "      <td>1.000000</td>\n",
       "      <td>0.271642</td>\n",
       "      <td>-0.160451</td>\n",
       "    </tr>\n",
       "    <tr>\n",
       "      <td>floor</td>\n",
       "      <td>0.271642</td>\n",
       "      <td>1.000000</td>\n",
       "      <td>-0.103646</td>\n",
       "    </tr>\n",
       "    <tr>\n",
       "      <td>rooms</td>\n",
       "      <td>-0.160451</td>\n",
       "      <td>-0.103646</td>\n",
       "      <td>1.000000</td>\n",
       "    </tr>\n",
       "  </tbody>\n",
       "</table>\n",
       "</div>"
      ],
      "text/plain": [
       "                     cityCenters_nearest     floor     rooms\n",
       "cityCenters_nearest             1.000000  0.271642 -0.160451\n",
       "floor                           0.271642  1.000000 -0.103646\n",
       "rooms                          -0.160451 -0.103646  1.000000"
      ]
     },
     "metadata": {},
     "output_type": "display_data"
    }
   ],
   "source": [
    "# посмотрим корреляцию факторов центра Санкт-Петербурга\n",
    "spb_center_factors = spb_center.pivot_table(index='price_meter', values=['rooms', 'floor', 'cityCenters_nearest', 'first_day_exposition'], aggfunc='mean')\n",
    "display(spb_center_factors.corr())\n"
   ]
  },
  {
   "cell_type": "markdown",
   "metadata": {},
   "source": [
    "Есть небольшая положительная корреляция в значениях этажа. Это значит: чем выше этаж, тем выше стоимость квартиры."
   ]
  },
  {
   "cell_type": "code",
   "execution_count": 46,
   "metadata": {},
   "outputs": [
    {
     "name": "stderr",
     "output_type": "stream",
     "text": [
      "/Users/polina_lunyova/opt/anaconda3/envs/praktikum_env_macos/lib/python3.7/site-packages/ipykernel_launcher.py:11: SettingWithCopyWarning: \n",
      "A value is trying to be set on a copy of a slice from a DataFrame.\n",
      "Try using .loc[row_indexer,col_indexer] = value instead\n",
      "\n",
      "See the caveats in the documentation: http://pandas.pydata.org/pandas-docs/stable/user_guide/indexing.html#returning-a-view-versus-a-copy\n",
      "  # This is added back by InteractiveShellApp.init_path()\n"
     ]
    },
    {
     "data": {
      "image/png": "[encoded data removed]",
      "text/plain": [
       "<Figure size 432x288 with 1 Axes>"
      ]
     },
     "metadata": {
      "needs_background": "light"
     },
     "output_type": "display_data"
    },
    {
     "data": {
      "image/png": "[encoded data removed]",
      "text/plain": [
       "<Figure size 432x288 with 1 Axes>"
      ]
     },
     "metadata": {
      "needs_background": "light"
     },
     "output_type": "display_data"
    },
    {
     "data": {
      "image/png": "[encoded data removed]",
      "text/plain": [
       "<Figure size 432x288 with 1 Axes>"
      ]
     },
     "metadata": {
      "needs_background": "light"
     },
     "output_type": "display_data"
    }
   ],
   "source": [
    "# изучим факторы всего Санкт-Петербурга, которые влияют на стоимость квартиры\n",
    "spb.pivot_table(index='rooms', values='price_meter', aggfunc='median').plot(kind='bar', style='o', grid=True)\n",
    "plt.title('Зависимость цены от количества комнат')\n",
    "plt.xlabel('Количество комнат')\n",
    "plt.ylabel('Стоимость кв.м (руб.)') \n",
    "\n",
    "spb.pivot_table(index='floor', values='price_meter', aggfunc='median').plot(kind='bar', style='o', grid=True)\n",
    "plt.title('Зависимость цены от этажа квартиры')\n",
    "plt.xlabel('Этаж квартиры')\n",
    "\n",
    "spb['cityCenters_nearest'] = (spb['cityCenters_nearest'] / 1000).round()\n",
    "spb.pivot_table(index='cityCenters_nearest', values='price_meter', aggfunc='median').plot(grid=True)\n",
    "plt.title('Зависимость цены от удаленности центра')\n",
    "plt.xlabel('Расстояние до центра (км)')\n",
    "plt.ylabel('Стоимость кв.м (руб.)')\n",
    "plt.show()"
   ]
  },
  {
   "cell_type": "code",
   "execution_count": 47,
   "metadata": {},
   "outputs": [
    {
     "data": {
      "text/html": [
       "<div>\n",
       "<style scoped>\n",
       "    .dataframe tbody tr th:only-of-type {\n",
       "        vertical-align: middle;\n",
       "    }\n",
       "\n",
       "    .dataframe tbody tr th {\n",
       "        vertical-align: top;\n",
       "    }\n",
       "\n",
       "    .dataframe thead th {\n",
       "        text-align: right;\n",
       "    }\n",
       "</style>\n",
       "<table border=\"1\" class=\"dataframe\">\n",
       "  <thead>\n",
       "    <tr style=\"text-align: right;\">\n",
       "      <th></th>\n",
       "      <th>cityCenters_nearest</th>\n",
       "      <th>floor</th>\n",
       "      <th>rooms</th>\n",
       "    </tr>\n",
       "  </thead>\n",
       "  <tbody>\n",
       "    <tr>\n",
       "      <td>cityCenters_nearest</td>\n",
       "      <td>1.000000</td>\n",
       "      <td>0.131803</td>\n",
       "      <td>-0.069160</td>\n",
       "    </tr>\n",
       "    <tr>\n",
       "      <td>floor</td>\n",
       "      <td>0.131803</td>\n",
       "      <td>1.000000</td>\n",
       "      <td>-0.150673</td>\n",
       "    </tr>\n",
       "    <tr>\n",
       "      <td>rooms</td>\n",
       "      <td>-0.069160</td>\n",
       "      <td>-0.150673</td>\n",
       "      <td>1.000000</td>\n",
       "    </tr>\n",
       "  </tbody>\n",
       "</table>\n",
       "</div>"
      ],
      "text/plain": [
       "                     cityCenters_nearest     floor     rooms\n",
       "cityCenters_nearest             1.000000  0.131803 -0.069160\n",
       "floor                           0.131803  1.000000 -0.150673\n",
       "rooms                          -0.069160 -0.150673  1.000000"
      ]
     },
     "metadata": {},
     "output_type": "display_data"
    }
   ],
   "source": [
    "# посмотрим корреляцию факторов Санкт-Петербурга\n",
    "spb_factors = spb.pivot_table(index='price_meter', values=['rooms', 'floor', 'cityCenters_nearest', 'first_day_exposition'], aggfunc='mean')\n",
    "display(spb_factors.corr())"
   ]
  },
  {
   "cell_type": "markdown",
   "metadata": {},
   "source": [
    "На этих показателях также есть небольшая положительная корреляция в значениях этажа и отрицательная корреляция в количестве комнат. Это значит, что при росте комнат, цента за квадратный метр немного снижается."
   ]
  },
  {
   "cell_type": "markdown",
   "metadata": {},
   "source": [
    "## Общий вывод\n",
    "\n",
    "<br />  В ходе работы были изучены данные сервиса Яндекс.Недвижимость о продаже квартир в Санкт-Петербурге и соседних населённых пунктах за несколько лет. Установлены параметры, в которых были обнаружены и устранены редкие и выбивающие значения.\n",
    "<br />  Далее были изучены данные времени продажи квартиры.Среднее время продажи квартиры состовляет 180 дней, а медиана 90 дней. Если время продажи квартиры составило от 1 до 43 дней, то можно считать, что продажа состоялась очень быстро. Долгой продажей является более 214 дней. Максимальное время продажи составило 1580 дней.\n",
    "<br />  Далее изучены факторы, которые больше всего влияют на стоимость квартиры. Среди всех изцченных факторов есть небольшая зависимость только в расположении этажей, первый этаж наиболее дешевый по сравнению с другими.\n",
    "\n",
    "Далее были расмотрены 10 населенных пунктов, у которых наибольшее число обявлений. Такими городами оказались:\n",
    "1. Санкт-Петербург (15465 объявлений)\n",
    "2. посёлок Мурино (520 объявлений)\n",
    "3. посёлок Шушары (440 объявлений)\n",
    "4. Всеволожск     (397 объявлений)\n",
    "5. Пушкин        (366 объявлений)\n",
    "6. Колпино        (337 объявлений)\n",
    "7. посёлок Парголово (326 объявлений)\n",
    "8. Гатчина         (306 объявлений)\n",
    "9. деревня Кудрово   (299 объявлений)\n",
    "10. Выборг          ( 237 объявлений)\n",
    "\n",
    "<br />  Среди этих населенных пунктов были посчитаны самые высокие, низкие и средние цены квартир за квадратный метр:\n",
    "<br />  Средняя цена в выбранных населенных пунктах варьируется от 57000 до 105000 т.р. за квадратный метр.\n",
    "<br /> Максимальная стоимость жилья находиться в городе Санкт-петербург (170000 т.р. за квадратный метр)\n",
    "<br /> Минимальная стоимость жилья находиться в городе Всеволожск (23793 т.р. за квадратный метр)\n",
    "<br />\n",
    "<br /> Далее идет сравнение параметров квартир в Санкт-Петербурге находящихся близко к центру с параметрами всего города.\n",
    "<br /> Цены за квадратный метр в центре Санкт-Петербурга составляют в среднем 120000 т.р., это немного больше, чем во всем городе, там стоимость квартиры составляет в среднем 105000 т.р.\n",
    "Площадь квартир в центре и во всем Санкт-Петербурге примерно одинаковая. В среднем площадь квартиры в Санкт-Петербурге составляет 54 квадратных метров, в центре площадь составляет около 65 квадратных метров.\n",
    "Количество комнат в центре и самом городе совпадает, чаще всего это двухкомнатные квартиры.\n",
    "Высота потолков тоже примерно одинаковая (в среднем 2.6 м).\n",
    "<br />  Были изучены факторы, влияющие на стоимость квартиры в центре Санкт-Петербурга (число комнат, этаж, удалённость от центра), но они практически не отличаются от всего города.\n",
    "\n"
   ]
  }
 ],
 "metadata": {
  "ExecuteTimeLog": [
   {
    "duration": 747,
    "start_time": "2021-12-21T10:56:28.477Z"
   },
   {
    "duration": 59,
    "start_time": "2021-12-21T10:56:32.660Z"
   },
   {
    "duration": 76,
    "start_time": "2021-12-21T10:57:00.561Z"
   },
   {
    "duration": 85,
    "start_time": "2021-12-21T10:57:33.509Z"
   },
   {
    "duration": 62,
    "start_time": "2021-12-21T11:00:43.164Z"
   },
   {
    "duration": 63,
    "start_time": "2021-12-21T11:01:23.191Z"
   },
   {
    "duration": 85,
    "start_time": "2021-12-21T11:04:26.840Z"
   },
   {
    "duration": 76,
    "start_time": "2021-12-21T11:04:31.661Z"
   },
   {
    "duration": 78,
    "start_time": "2021-12-21T11:04:49.663Z"
   },
   {
    "duration": 71,
    "start_time": "2021-12-21T11:05:08.902Z"
   },
   {
    "duration": 77,
    "start_time": "2021-12-21T11:05:13.948Z"
   },
   {
    "duration": 81,
    "start_time": "2021-12-21T11:05:19.783Z"
   },
   {
    "duration": 95,
    "start_time": "2021-12-21T11:05:30.591Z"
   },
   {
    "duration": 2108,
    "start_time": "2021-12-21T11:05:36.109Z"
   },
   {
    "duration": 63,
    "start_time": "2021-12-21T11:06:51.583Z"
   },
   {
    "duration": 89,
    "start_time": "2021-12-21T11:06:58.980Z"
   },
   {
    "duration": 60,
    "start_time": "2021-12-21T11:07:56.380Z"
   },
   {
    "duration": 97,
    "start_time": "2021-12-21T11:08:02.326Z"
   },
   {
    "duration": 67,
    "start_time": "2021-12-21T11:13:23.039Z"
   },
   {
    "duration": 136,
    "start_time": "2021-12-21T11:13:55.265Z"
   },
   {
    "duration": 87,
    "start_time": "2021-12-21T11:14:12.545Z"
   },
   {
    "duration": 74,
    "start_time": "2021-12-21T11:14:37.024Z"
   },
   {
    "duration": 92,
    "start_time": "2021-12-21T11:17:41.503Z"
   },
   {
    "duration": 9,
    "start_time": "2021-12-21T11:22:37.706Z"
   },
   {
    "duration": 5,
    "start_time": "2021-12-21T11:42:30.199Z"
   },
   {
    "duration": 15,
    "start_time": "2021-12-21T11:42:53.373Z"
   },
   {
    "duration": 14,
    "start_time": "2021-12-21T11:45:12.276Z"
   },
   {
    "duration": 310,
    "start_time": "2021-12-21T11:45:19.161Z"
   },
   {
    "duration": 11,
    "start_time": "2021-12-21T11:45:25.029Z"
   },
   {
    "duration": 290,
    "start_time": "2021-12-21T11:57:59.897Z"
   },
   {
    "duration": 12,
    "start_time": "2021-12-21T11:58:20.863Z"
   },
   {
    "duration": 15,
    "start_time": "2021-12-21T21:02:39.491Z"
   },
   {
    "duration": 13,
    "start_time": "2021-12-21T21:08:49.740Z"
   },
   {
    "duration": 14,
    "start_time": "2021-12-21T21:09:15.859Z"
   },
   {
    "duration": 13,
    "start_time": "2021-12-21T21:09:22.473Z"
   },
   {
    "duration": 12,
    "start_time": "2021-12-21T21:16:04.420Z"
   },
   {
    "duration": 14,
    "start_time": "2021-12-21T21:17:32.432Z"
   },
   {
    "duration": 12,
    "start_time": "2021-12-21T21:17:44.352Z"
   },
   {
    "duration": 12,
    "start_time": "2021-12-21T21:22:47.823Z"
   },
   {
    "duration": 11,
    "start_time": "2021-12-21T21:23:42.241Z"
   },
   {
    "duration": 11,
    "start_time": "2021-12-21T21:23:44.589Z"
   },
   {
    "duration": 11,
    "start_time": "2021-12-21T21:23:47.404Z"
   },
   {
    "duration": 11,
    "start_time": "2021-12-21T21:23:50.949Z"
   },
   {
    "duration": 88,
    "start_time": "2021-12-21T21:24:01.342Z"
   },
   {
    "duration": 9,
    "start_time": "2021-12-21T21:24:01.432Z"
   },
   {
    "duration": 24,
    "start_time": "2021-12-21T21:24:01.443Z"
   },
   {
    "duration": 6974,
    "start_time": "2021-12-21T21:35:21.670Z"
   },
   {
    "duration": 17,
    "start_time": "2021-12-21T21:35:49.178Z"
   },
   {
    "duration": 36,
    "start_time": "2021-12-21T21:46:28.270Z"
   },
   {
    "duration": 17,
    "start_time": "2021-12-21T21:46:35.665Z"
   },
   {
    "duration": 637,
    "start_time": "2021-12-23T08:14:52.286Z"
   },
   {
    "duration": 13,
    "start_time": "2021-12-23T08:14:52.925Z"
   },
   {
    "duration": 25,
    "start_time": "2021-12-23T08:14:52.940Z"
   },
   {
    "duration": 299,
    "start_time": "2021-12-23T08:32:07.925Z"
   },
   {
    "duration": 85,
    "start_time": "2021-12-23T08:32:14.317Z"
   },
   {
    "duration": 8,
    "start_time": "2021-12-23T08:32:14.404Z"
   },
   {
    "duration": 278,
    "start_time": "2021-12-23T08:32:14.414Z"
   },
   {
    "duration": 407,
    "start_time": "2021-12-23T08:32:44.110Z"
   },
   {
    "duration": 29,
    "start_time": "2021-12-23T08:33:08.390Z"
   },
   {
    "duration": 29,
    "start_time": "2021-12-23T08:33:19.766Z"
   },
   {
    "duration": 1249,
    "start_time": "2021-12-23T08:35:11.497Z"
   },
   {
    "duration": 28,
    "start_time": "2021-12-23T08:42:10.900Z"
   },
   {
    "duration": 85,
    "start_time": "2021-12-23T08:42:22.067Z"
   },
   {
    "duration": 8,
    "start_time": "2021-12-23T08:42:22.154Z"
   },
   {
    "duration": 33,
    "start_time": "2021-12-23T08:42:22.164Z"
   },
   {
    "duration": 996,
    "start_time": "2021-12-23T08:42:51.730Z"
   },
   {
    "duration": 29,
    "start_time": "2021-12-23T08:43:25.369Z"
   },
   {
    "duration": 257,
    "start_time": "2021-12-23T08:43:50.639Z"
   },
   {
    "duration": 317,
    "start_time": "2021-12-23T08:44:02.660Z"
   },
   {
    "duration": 29,
    "start_time": "2021-12-23T08:44:30.730Z"
   },
   {
    "duration": 90,
    "start_time": "2021-12-23T08:44:35.238Z"
   },
   {
    "duration": 8,
    "start_time": "2021-12-23T08:44:35.329Z"
   },
   {
    "duration": 42,
    "start_time": "2021-12-23T08:44:35.339Z"
   },
   {
    "duration": 270,
    "start_time": "2021-12-23T08:45:32.711Z"
   },
   {
    "duration": 248,
    "start_time": "2021-12-23T08:45:44.187Z"
   },
   {
    "duration": 29,
    "start_time": "2021-12-23T08:46:20.797Z"
   },
   {
    "duration": 987,
    "start_time": "2021-12-23T08:46:48.901Z"
   },
   {
    "duration": 262,
    "start_time": "2021-12-23T08:47:18.927Z"
   },
   {
    "duration": 123,
    "start_time": "2021-12-23T08:53:24.490Z"
   },
   {
    "duration": 290,
    "start_time": "2021-12-23T08:55:30.647Z"
   },
   {
    "duration": 255,
    "start_time": "2021-12-23T08:55:45.199Z"
   },
   {
    "duration": 261,
    "start_time": "2021-12-23T08:55:59.104Z"
   },
   {
    "duration": 22,
    "start_time": "2021-12-23T08:56:06.450Z"
   },
   {
    "duration": 25,
    "start_time": "2021-12-23T08:56:21.280Z"
   },
   {
    "duration": 84,
    "start_time": "2021-12-23T08:56:29.679Z"
   },
   {
    "duration": 9,
    "start_time": "2021-12-23T08:56:29.765Z"
   },
   {
    "duration": 45,
    "start_time": "2021-12-23T08:56:29.776Z"
   },
   {
    "duration": 82,
    "start_time": "2021-12-23T08:56:46.466Z"
   },
   {
    "duration": 10,
    "start_time": "2021-12-23T08:56:46.550Z"
   },
   {
    "duration": 26,
    "start_time": "2021-12-23T08:56:46.562Z"
   },
   {
    "duration": 24,
    "start_time": "2021-12-23T08:57:39.357Z"
   },
   {
    "duration": 25,
    "start_time": "2021-12-23T08:58:05.170Z"
   },
   {
    "duration": 84,
    "start_time": "2021-12-23T08:58:33.006Z"
   },
   {
    "duration": 11,
    "start_time": "2021-12-23T08:58:33.092Z"
   },
   {
    "duration": 26,
    "start_time": "2021-12-23T08:58:33.105Z"
   },
   {
    "duration": 26,
    "start_time": "2021-12-23T08:59:01.904Z"
   },
   {
    "duration": 80,
    "start_time": "2021-12-23T08:59:24.108Z"
   },
   {
    "duration": 7,
    "start_time": "2021-12-23T08:59:24.190Z"
   },
   {
    "duration": 48,
    "start_time": "2021-12-23T08:59:24.199Z"
   },
   {
    "duration": 18,
    "start_time": "2021-12-23T09:00:07.115Z"
   },
   {
    "duration": 20,
    "start_time": "2021-12-23T09:03:06.478Z"
   },
   {
    "duration": 77,
    "start_time": "2021-12-23T09:03:16.488Z"
   },
   {
    "duration": 8,
    "start_time": "2021-12-23T09:03:16.567Z"
   },
   {
    "duration": 48,
    "start_time": "2021-12-23T09:03:16.577Z"
   },
   {
    "duration": 17,
    "start_time": "2021-12-23T09:03:32.852Z"
   },
   {
    "duration": 22,
    "start_time": "2021-12-23T09:03:45.998Z"
   },
   {
    "duration": 21,
    "start_time": "2021-12-23T09:04:25.083Z"
   },
   {
    "duration": 20,
    "start_time": "2021-12-23T09:04:51.111Z"
   },
   {
    "duration": 18,
    "start_time": "2021-12-23T09:04:56.046Z"
   },
   {
    "duration": 22,
    "start_time": "2021-12-23T09:06:00.922Z"
   },
   {
    "duration": 25,
    "start_time": "2021-12-23T09:06:05.764Z"
   },
   {
    "duration": 31,
    "start_time": "2021-12-23T09:06:32.761Z"
   },
   {
    "duration": 25,
    "start_time": "2021-12-23T09:06:55.439Z"
   },
   {
    "duration": 93,
    "start_time": "2021-12-23T09:07:46.126Z"
   },
   {
    "duration": 11,
    "start_time": "2021-12-23T09:07:46.222Z"
   },
   {
    "duration": 59,
    "start_time": "2021-12-23T09:07:46.235Z"
   },
   {
    "duration": 76,
    "start_time": "2021-12-23T09:08:34.479Z"
   },
   {
    "duration": 10,
    "start_time": "2021-12-23T09:08:34.557Z"
   },
   {
    "duration": 31,
    "start_time": "2021-12-23T09:08:34.569Z"
   },
   {
    "duration": 25,
    "start_time": "2021-12-23T09:10:09.082Z"
   },
   {
    "duration": 26,
    "start_time": "2021-12-23T09:10:20.623Z"
   },
   {
    "duration": 21,
    "start_time": "2021-12-23T09:10:30.492Z"
   },
   {
    "duration": 28,
    "start_time": "2021-12-23T09:10:37.023Z"
   },
   {
    "duration": 26,
    "start_time": "2021-12-23T09:10:51.324Z"
   },
   {
    "duration": 2234,
    "start_time": "2021-12-23T09:15:47.494Z"
   },
   {
    "duration": 2369,
    "start_time": "2021-12-23T09:16:05.888Z"
   },
   {
    "duration": 256,
    "start_time": "2021-12-23T09:16:20.315Z"
   },
   {
    "duration": 20,
    "start_time": "2021-12-23T09:17:47.323Z"
   },
   {
    "duration": 17,
    "start_time": "2021-12-23T09:20:00.089Z"
   },
   {
    "duration": 23,
    "start_time": "2021-12-23T09:20:39.493Z"
   },
   {
    "duration": 83,
    "start_time": "2021-12-23T09:20:47.381Z"
   },
   {
    "duration": 9,
    "start_time": "2021-12-23T09:20:47.466Z"
   },
   {
    "duration": 26,
    "start_time": "2021-12-23T09:20:47.477Z"
   },
   {
    "duration": 25,
    "start_time": "2021-12-23T09:35:17.869Z"
   },
   {
    "duration": 11,
    "start_time": "2021-12-23T09:35:25.888Z"
   },
   {
    "duration": 560,
    "start_time": "2021-12-23T09:37:07.913Z"
   },
   {
    "duration": 81,
    "start_time": "2021-12-23T09:37:13.751Z"
   },
   {
    "duration": 20,
    "start_time": "2021-12-23T09:37:19.068Z"
   },
   {
    "duration": 18,
    "start_time": "2021-12-23T09:46:25.357Z"
   },
   {
    "duration": 82,
    "start_time": "2021-12-23T09:46:35.714Z"
   },
   {
    "duration": 8,
    "start_time": "2021-12-23T09:46:35.797Z"
   },
   {
    "duration": 27,
    "start_time": "2021-12-23T09:46:35.807Z"
   },
   {
    "duration": 21,
    "start_time": "2021-12-23T09:46:35.836Z"
   },
   {
    "duration": 19,
    "start_time": "2021-12-23T09:47:03.539Z"
   },
   {
    "duration": 259,
    "start_time": "2021-12-23T09:49:11.234Z"
   },
   {
    "duration": 20,
    "start_time": "2021-12-23T09:49:25.214Z"
   },
   {
    "duration": 84,
    "start_time": "2021-12-23T10:27:55.767Z"
   },
   {
    "duration": 79,
    "start_time": "2021-12-23T10:27:58.948Z"
   },
   {
    "duration": 9,
    "start_time": "2021-12-23T10:27:59.030Z"
   },
   {
    "duration": 33,
    "start_time": "2021-12-23T10:27:59.041Z"
   },
   {
    "duration": 308,
    "start_time": "2021-12-23T10:27:59.076Z"
   },
   {
    "duration": 24,
    "start_time": "2021-12-23T10:28:19.592Z"
   },
   {
    "duration": 83,
    "start_time": "2021-12-23T10:28:35.948Z"
   },
   {
    "duration": 9,
    "start_time": "2021-12-23T10:28:36.032Z"
   },
   {
    "duration": 33,
    "start_time": "2021-12-23T10:28:36.043Z"
   },
   {
    "duration": 23,
    "start_time": "2021-12-23T10:28:36.078Z"
   },
   {
    "duration": 84,
    "start_time": "2021-12-23T10:29:05.867Z"
   },
   {
    "duration": 9,
    "start_time": "2021-12-23T10:29:05.953Z"
   },
   {
    "duration": 20,
    "start_time": "2021-12-23T10:29:05.964Z"
   },
   {
    "duration": 24,
    "start_time": "2021-12-23T10:29:05.985Z"
   },
   {
    "duration": 330,
    "start_time": "2021-12-23T10:29:22.116Z"
   },
   {
    "duration": 273,
    "start_time": "2021-12-23T10:29:32.509Z"
   },
   {
    "duration": 268,
    "start_time": "2021-12-23T10:29:56.329Z"
   },
   {
    "duration": 271,
    "start_time": "2021-12-23T10:30:05.773Z"
   },
   {
    "duration": 304,
    "start_time": "2021-12-23T10:36:05.707Z"
   },
   {
    "duration": 82,
    "start_time": "2021-12-23T10:36:18.267Z"
   },
   {
    "duration": 14,
    "start_time": "2021-12-23T10:36:18.351Z"
   },
   {
    "duration": 18,
    "start_time": "2021-12-23T10:36:18.367Z"
   },
   {
    "duration": 18,
    "start_time": "2021-12-23T10:36:18.387Z"
   },
   {
    "duration": 245,
    "start_time": "2021-12-23T10:38:44.928Z"
   },
   {
    "duration": 89,
    "start_time": "2021-12-23T10:38:52.871Z"
   },
   {
    "duration": 7,
    "start_time": "2021-12-23T10:38:52.962Z"
   },
   {
    "duration": 19,
    "start_time": "2021-12-23T10:38:52.971Z"
   },
   {
    "duration": 13,
    "start_time": "2021-12-23T10:38:52.991Z"
   },
   {
    "duration": 258,
    "start_time": "2021-12-23T10:45:26.694Z"
   },
   {
    "duration": 82,
    "start_time": "2021-12-23T10:45:29.718Z"
   },
   {
    "duration": 8,
    "start_time": "2021-12-23T10:45:29.802Z"
   },
   {
    "duration": 17,
    "start_time": "2021-12-23T10:45:29.812Z"
   },
   {
    "duration": 13,
    "start_time": "2021-12-23T10:45:29.830Z"
   },
   {
    "duration": 249,
    "start_time": "2021-12-23T10:47:08.530Z"
   },
   {
    "duration": 945,
    "start_time": "2021-12-23T10:47:48.150Z"
   },
   {
    "duration": 99,
    "start_time": "2021-12-23T10:47:52.385Z"
   },
   {
    "duration": 12,
    "start_time": "2021-12-23T10:47:52.486Z"
   },
   {
    "duration": 31,
    "start_time": "2021-12-23T10:47:52.501Z"
   },
   {
    "duration": 47,
    "start_time": "2021-12-23T10:47:52.534Z"
   },
   {
    "duration": 256,
    "start_time": "2021-12-23T10:49:12.532Z"
   },
   {
    "duration": 82,
    "start_time": "2021-12-23T10:49:16.233Z"
   },
   {
    "duration": 8,
    "start_time": "2021-12-23T10:49:16.317Z"
   },
   {
    "duration": 36,
    "start_time": "2021-12-23T10:49:16.327Z"
   },
   {
    "duration": 38,
    "start_time": "2021-12-23T10:49:16.365Z"
   },
   {
    "duration": 236,
    "start_time": "2021-12-23T10:49:40.073Z"
   },
   {
    "duration": 82,
    "start_time": "2021-12-23T10:49:43.793Z"
   },
   {
    "duration": 8,
    "start_time": "2021-12-23T10:49:43.877Z"
   },
   {
    "duration": 31,
    "start_time": "2021-12-23T10:49:43.887Z"
   },
   {
    "duration": 47,
    "start_time": "2021-12-23T10:49:43.920Z"
   },
   {
    "duration": 82,
    "start_time": "2021-12-23T10:50:07.109Z"
   },
   {
    "duration": 9,
    "start_time": "2021-12-23T10:50:07.193Z"
   },
   {
    "duration": 22,
    "start_time": "2021-12-23T10:50:07.204Z"
   },
   {
    "duration": 35,
    "start_time": "2021-12-23T10:50:07.228Z"
   },
   {
    "duration": 278,
    "start_time": "2021-12-23T10:50:51.797Z"
   },
   {
    "duration": 82,
    "start_time": "2021-12-23T10:53:21.509Z"
   },
   {
    "duration": 8,
    "start_time": "2021-12-23T10:53:21.593Z"
   },
   {
    "duration": 30,
    "start_time": "2021-12-23T10:53:21.603Z"
   },
   {
    "duration": 39,
    "start_time": "2021-12-23T10:53:21.635Z"
   },
   {
    "duration": 67,
    "start_time": "2021-12-23T10:53:38.016Z"
   },
   {
    "duration": 9,
    "start_time": "2021-12-23T10:53:38.085Z"
   },
   {
    "duration": 18,
    "start_time": "2021-12-23T10:53:38.095Z"
   },
   {
    "duration": 60,
    "start_time": "2021-12-23T10:53:38.114Z"
   },
   {
    "duration": 78,
    "start_time": "2021-12-23T10:54:05.758Z"
   },
   {
    "duration": 8,
    "start_time": "2021-12-23T10:54:05.837Z"
   },
   {
    "duration": 25,
    "start_time": "2021-12-23T10:54:05.846Z"
   },
   {
    "duration": 43,
    "start_time": "2021-12-23T10:54:05.873Z"
   },
   {
    "duration": 80,
    "start_time": "2021-12-23T10:55:15.270Z"
   },
   {
    "duration": 8,
    "start_time": "2021-12-23T10:55:15.352Z"
   },
   {
    "duration": 23,
    "start_time": "2021-12-23T10:55:15.362Z"
   },
   {
    "duration": 27,
    "start_time": "2021-12-23T10:55:15.387Z"
   },
   {
    "duration": 83,
    "start_time": "2021-12-23T11:15:28.718Z"
   },
   {
    "duration": 8,
    "start_time": "2021-12-23T11:15:28.803Z"
   },
   {
    "duration": 20,
    "start_time": "2021-12-23T11:15:28.813Z"
   },
   {
    "duration": 33,
    "start_time": "2021-12-23T11:15:28.835Z"
   },
   {
    "duration": 252,
    "start_time": "2021-12-23T11:15:28.870Z"
   },
   {
    "duration": 4,
    "start_time": "2021-12-23T11:15:50.404Z"
   },
   {
    "duration": 7,
    "start_time": "2021-12-23T11:15:57.555Z"
   },
   {
    "duration": 24,
    "start_time": "2021-12-23T11:16:28.231Z"
   },
   {
    "duration": 26,
    "start_time": "2021-12-23T11:50:10.155Z"
   },
   {
    "duration": 252,
    "start_time": "2021-12-23T11:50:44.312Z"
   },
   {
    "duration": 88,
    "start_time": "2021-12-23T11:50:51.172Z"
   },
   {
    "duration": 10,
    "start_time": "2021-12-23T11:50:51.262Z"
   },
   {
    "duration": 31,
    "start_time": "2021-12-23T11:50:51.275Z"
   },
   {
    "duration": 30,
    "start_time": "2021-12-23T11:50:51.308Z"
   },
   {
    "duration": 31,
    "start_time": "2021-12-23T11:50:51.340Z"
   },
   {
    "duration": 238,
    "start_time": "2021-12-23T11:52:26.636Z"
   },
   {
    "duration": 87,
    "start_time": "2021-12-23T11:52:32.075Z"
   },
   {
    "duration": 9,
    "start_time": "2021-12-23T11:52:32.165Z"
   },
   {
    "duration": 37,
    "start_time": "2021-12-23T11:52:32.176Z"
   },
   {
    "duration": 42,
    "start_time": "2021-12-23T11:52:32.216Z"
   },
   {
    "duration": 317,
    "start_time": "2021-12-23T11:52:32.261Z"
   },
   {
    "duration": 28,
    "start_time": "2021-12-23T11:53:08.693Z"
   },
   {
    "duration": 33,
    "start_time": "2021-12-23T11:55:16.253Z"
   },
   {
    "duration": 91,
    "start_time": "2021-12-23T12:08:21.920Z"
   },
   {
    "duration": 9,
    "start_time": "2021-12-23T12:08:22.013Z"
   },
   {
    "duration": 20,
    "start_time": "2021-12-23T12:08:22.024Z"
   },
   {
    "duration": 45,
    "start_time": "2021-12-23T12:08:22.046Z"
   },
   {
    "duration": 858,
    "start_time": "2021-12-23T12:08:22.093Z"
   },
   {
    "duration": 90,
    "start_time": "2021-12-23T16:12:46.335Z"
   },
   {
    "duration": 8,
    "start_time": "2021-12-23T16:12:46.426Z"
   },
   {
    "duration": 35,
    "start_time": "2021-12-23T16:12:46.436Z"
   },
   {
    "duration": 19,
    "start_time": "2021-12-23T16:12:46.473Z"
   },
   {
    "duration": 827,
    "start_time": "2021-12-23T16:12:46.494Z"
   },
   {
    "duration": 30,
    "start_time": "2021-12-23T16:19:16.155Z"
   },
   {
    "duration": 85,
    "start_time": "2021-12-23T16:19:21.881Z"
   },
   {
    "duration": 7,
    "start_time": "2021-12-23T16:19:21.968Z"
   },
   {
    "duration": 27,
    "start_time": "2021-12-23T16:19:21.977Z"
   },
   {
    "duration": 18,
    "start_time": "2021-12-23T16:19:22.006Z"
   },
   {
    "duration": 724,
    "start_time": "2021-12-23T16:19:22.025Z"
   },
   {
    "duration": 39,
    "start_time": "2021-12-23T16:20:45.381Z"
   },
   {
    "duration": 77,
    "start_time": "2021-12-23T16:21:08.518Z"
   },
   {
    "duration": 8,
    "start_time": "2021-12-23T16:21:08.597Z"
   },
   {
    "duration": 29,
    "start_time": "2021-12-23T16:21:08.607Z"
   },
   {
    "duration": 41,
    "start_time": "2021-12-23T16:21:08.638Z"
   },
   {
    "duration": 700,
    "start_time": "2021-12-23T16:21:08.681Z"
   },
   {
    "duration": 92,
    "start_time": "2021-12-23T16:24:50.562Z"
   },
   {
    "duration": 7,
    "start_time": "2021-12-23T16:24:50.656Z"
   },
   {
    "duration": 32,
    "start_time": "2021-12-23T16:24:50.665Z"
   },
   {
    "duration": 17,
    "start_time": "2021-12-23T16:24:50.699Z"
   },
   {
    "duration": 750,
    "start_time": "2021-12-23T16:24:50.718Z"
   },
   {
    "duration": 96,
    "start_time": "2021-12-23T16:25:20.838Z"
   },
   {
    "duration": 8,
    "start_time": "2021-12-23T16:25:20.937Z"
   },
   {
    "duration": 48,
    "start_time": "2021-12-23T16:25:20.947Z"
   },
   {
    "duration": 26,
    "start_time": "2021-12-23T16:25:20.997Z"
   },
   {
    "duration": 787,
    "start_time": "2021-12-23T16:25:21.025Z"
   },
   {
    "duration": 37,
    "start_time": "2021-12-23T16:26:01.090Z"
   },
   {
    "duration": 37,
    "start_time": "2021-12-23T16:27:31.574Z"
   },
   {
    "duration": 223,
    "start_time": "2021-12-23T16:35:05.771Z"
   },
   {
    "duration": 222,
    "start_time": "2021-12-23T16:37:20.249Z"
   },
   {
    "duration": 3331,
    "start_time": "2021-12-23T16:43:39.752Z"
   },
   {
    "duration": 2106,
    "start_time": "2021-12-23T16:43:48.021Z"
   },
   {
    "duration": 82,
    "start_time": "2021-12-23T16:45:22.313Z"
   },
   {
    "duration": 1896,
    "start_time": "2021-12-23T16:45:27.765Z"
   },
   {
    "duration": 232,
    "start_time": "2021-12-23T16:45:39.838Z"
   },
   {
    "duration": 175,
    "start_time": "2021-12-23T16:45:59.616Z"
   },
   {
    "duration": 1925,
    "start_time": "2021-12-23T16:46:11.910Z"
   },
   {
    "duration": 316,
    "start_time": "2021-12-23T16:46:19.136Z"
   },
   {
    "duration": 171,
    "start_time": "2021-12-23T16:46:25.930Z"
   },
   {
    "duration": 180,
    "start_time": "2021-12-23T16:46:33.560Z"
   },
   {
    "duration": 163,
    "start_time": "2021-12-23T16:46:38.190Z"
   },
   {
    "duration": 240,
    "start_time": "2021-12-23T16:46:48.590Z"
   },
   {
    "duration": 220,
    "start_time": "2021-12-23T16:46:55.170Z"
   },
   {
    "duration": 524,
    "start_time": "2021-12-23T16:46:59.791Z"
   },
   {
    "duration": 769,
    "start_time": "2021-12-23T16:47:06.920Z"
   },
   {
    "duration": 270,
    "start_time": "2021-12-23T16:47:13.820Z"
   },
   {
    "duration": 218,
    "start_time": "2021-12-23T16:47:23.500Z"
   },
   {
    "duration": 572,
    "start_time": "2021-12-23T16:47:29.940Z"
   },
   {
    "duration": 234,
    "start_time": "2021-12-23T16:47:35.289Z"
   },
   {
    "duration": 215,
    "start_time": "2021-12-23T16:51:42.071Z"
   },
   {
    "duration": 239,
    "start_time": "2021-12-23T16:52:05.259Z"
   },
   {
    "duration": 216,
    "start_time": "2021-12-23T16:52:21.873Z"
   },
   {
    "duration": 975,
    "start_time": "2021-12-23T16:52:33.248Z"
   },
   {
    "duration": 543,
    "start_time": "2021-12-23T16:52:41.622Z"
   },
   {
    "duration": 200,
    "start_time": "2021-12-23T16:52:49.278Z"
   },
   {
    "duration": 204,
    "start_time": "2021-12-23T16:53:03.750Z"
   },
   {
    "duration": 197,
    "start_time": "2021-12-23T16:53:10.948Z"
   },
   {
    "duration": 171,
    "start_time": "2021-12-23T16:53:19.231Z"
   },
   {
    "duration": 213,
    "start_time": "2021-12-23T16:53:28.262Z"
   },
   {
    "duration": 263,
    "start_time": "2021-12-23T16:53:33.758Z"
   },
   {
    "duration": 321,
    "start_time": "2021-12-23T16:53:39.600Z"
   },
   {
    "duration": 221,
    "start_time": "2021-12-23T16:53:47.339Z"
   },
   {
    "duration": 179,
    "start_time": "2021-12-23T16:56:02.421Z"
   },
   {
    "duration": 207,
    "start_time": "2021-12-23T16:58:29.332Z"
   },
   {
    "duration": 151,
    "start_time": "2021-12-23T16:59:34.022Z"
   },
   {
    "duration": 218,
    "start_time": "2021-12-23T16:59:57.439Z"
   },
   {
    "duration": 231,
    "start_time": "2021-12-23T17:00:04.680Z"
   },
   {
    "duration": 214,
    "start_time": "2021-12-23T17:00:17.610Z"
   },
   {
    "duration": 238,
    "start_time": "2021-12-23T17:00:31.359Z"
   },
   {
    "duration": 201,
    "start_time": "2021-12-23T17:00:40.973Z"
   },
   {
    "duration": 212,
    "start_time": "2021-12-23T17:00:57.592Z"
   },
   {
    "duration": 488,
    "start_time": "2021-12-23T17:01:20.065Z"
   },
   {
    "duration": 239,
    "start_time": "2021-12-23T17:01:28.991Z"
   },
   {
    "duration": 219,
    "start_time": "2021-12-23T17:01:35.044Z"
   },
   {
    "duration": 216,
    "start_time": "2021-12-23T17:01:45.260Z"
   },
   {
    "duration": 214,
    "start_time": "2021-12-23T17:02:00.563Z"
   },
   {
    "duration": 192,
    "start_time": "2021-12-23T17:02:16.130Z"
   },
   {
    "duration": 216,
    "start_time": "2021-12-23T17:02:22.917Z"
   },
   {
    "duration": 195,
    "start_time": "2021-12-23T17:02:27.201Z"
   },
   {
    "duration": 193,
    "start_time": "2021-12-23T17:02:39.067Z"
   },
   {
    "duration": 35,
    "start_time": "2021-12-23T17:03:20.029Z"
   },
   {
    "duration": 219,
    "start_time": "2021-12-23T17:03:41.755Z"
   },
   {
    "duration": 669,
    "start_time": "2021-12-23T17:04:31.734Z"
   },
   {
    "duration": 364,
    "start_time": "2021-12-23T17:04:43.575Z"
   },
   {
    "duration": 318,
    "start_time": "2021-12-23T17:05:01.824Z"
   },
   {
    "duration": 284,
    "start_time": "2021-12-23T17:05:33.065Z"
   },
   {
    "duration": 396,
    "start_time": "2021-12-23T17:06:02.954Z"
   },
   {
    "duration": 309,
    "start_time": "2021-12-23T17:06:25.993Z"
   },
   {
    "duration": 308,
    "start_time": "2021-12-23T17:06:41.063Z"
   },
   {
    "duration": 1762,
    "start_time": "2021-12-23T17:06:51.073Z"
   },
   {
    "duration": 877,
    "start_time": "2021-12-23T17:06:59.845Z"
   },
   {
    "duration": 427,
    "start_time": "2021-12-23T17:07:05.011Z"
   },
   {
    "duration": 427,
    "start_time": "2021-12-23T17:07:11.764Z"
   },
   {
    "duration": 430,
    "start_time": "2021-12-23T17:07:18.704Z"
   },
   {
    "duration": 433,
    "start_time": "2021-12-23T17:07:23.255Z"
   },
   {
    "duration": 1016,
    "start_time": "2021-12-23T17:07:33.905Z"
   },
   {
    "duration": 349,
    "start_time": "2021-12-23T17:07:39.876Z"
   },
   {
    "duration": 1477,
    "start_time": "2021-12-23T17:07:46.335Z"
   },
   {
    "duration": 1108,
    "start_time": "2021-12-23T17:08:13.715Z"
   },
   {
    "duration": 1034,
    "start_time": "2021-12-23T17:08:19.527Z"
   },
   {
    "duration": 900,
    "start_time": "2021-12-23T17:38:12.345Z"
   },
   {
    "duration": 229,
    "start_time": "2021-12-23T17:38:24.744Z"
   },
   {
    "duration": 248,
    "start_time": "2021-12-23T17:38:34.575Z"
   },
   {
    "duration": 210,
    "start_time": "2021-12-23T17:38:44.133Z"
   },
   {
    "duration": 178,
    "start_time": "2021-12-23T17:38:55.115Z"
   },
   {
    "duration": 953,
    "start_time": "2021-12-23T18:07:44.217Z"
   },
   {
    "duration": 1295,
    "start_time": "2021-12-23T18:07:56.628Z"
   },
   {
    "duration": 447,
    "start_time": "2021-12-23T18:08:12.910Z"
   },
   {
    "duration": 409,
    "start_time": "2021-12-23T18:08:22.088Z"
   },
   {
    "duration": 488,
    "start_time": "2021-12-23T18:08:45.889Z"
   },
   {
    "duration": 169,
    "start_time": "2021-12-23T18:08:50.256Z"
   },
   {
    "duration": 404,
    "start_time": "2021-12-23T18:08:57.100Z"
   },
   {
    "duration": 167,
    "start_time": "2021-12-23T18:09:15.632Z"
   },
   {
    "duration": 184,
    "start_time": "2021-12-23T18:09:31.411Z"
   },
   {
    "duration": 795,
    "start_time": "2021-12-23T18:10:30.786Z"
   },
   {
    "duration": 174,
    "start_time": "2021-12-23T18:10:50.616Z"
   },
   {
    "duration": 169,
    "start_time": "2021-12-23T18:11:04.496Z"
   },
   {
    "duration": 163,
    "start_time": "2021-12-23T18:11:12.128Z"
   },
   {
    "duration": 169,
    "start_time": "2021-12-23T18:11:18.501Z"
   },
   {
    "duration": 176,
    "start_time": "2021-12-23T18:12:21.398Z"
   },
   {
    "duration": 167,
    "start_time": "2021-12-23T18:12:27.617Z"
   },
   {
    "duration": 166,
    "start_time": "2021-12-23T18:12:33.950Z"
   },
   {
    "duration": 167,
    "start_time": "2021-12-23T18:12:39.139Z"
   },
   {
    "duration": 171,
    "start_time": "2021-12-23T18:12:43.720Z"
   },
   {
    "duration": 166,
    "start_time": "2021-12-23T18:12:52.467Z"
   },
   {
    "duration": 175,
    "start_time": "2021-12-23T18:13:47.535Z"
   },
   {
    "duration": 186,
    "start_time": "2021-12-23T18:13:57.835Z"
   },
   {
    "duration": 189,
    "start_time": "2021-12-23T18:14:02.558Z"
   },
   {
    "duration": 164,
    "start_time": "2021-12-23T18:14:11.780Z"
   },
   {
    "duration": 169,
    "start_time": "2021-12-23T18:14:23.917Z"
   },
   {
    "duration": 168,
    "start_time": "2021-12-23T18:14:39.808Z"
   },
   {
    "duration": 268,
    "start_time": "2021-12-23T18:15:20.358Z"
   },
   {
    "duration": 165,
    "start_time": "2021-12-23T18:15:25.124Z"
   },
   {
    "duration": 178,
    "start_time": "2021-12-23T18:15:31.197Z"
   },
   {
    "duration": 182,
    "start_time": "2021-12-23T18:15:36.328Z"
   },
   {
    "duration": 174,
    "start_time": "2021-12-23T18:15:46.847Z"
   },
   {
    "duration": 175,
    "start_time": "2021-12-23T18:15:53.279Z"
   },
   {
    "duration": 179,
    "start_time": "2021-12-23T18:15:57.800Z"
   },
   {
    "duration": 166,
    "start_time": "2021-12-23T18:16:06.140Z"
   },
   {
    "duration": 255,
    "start_time": "2021-12-23T18:16:14.574Z"
   },
   {
    "duration": 261,
    "start_time": "2021-12-23T18:17:42.447Z"
   },
   {
    "duration": 269,
    "start_time": "2021-12-23T18:36:48.921Z"
   },
   {
    "duration": 1601,
    "start_time": "2021-12-23T18:45:49.842Z"
   },
   {
    "duration": 1062,
    "start_time": "2021-12-23T18:46:10.443Z"
   },
   {
    "duration": 1071,
    "start_time": "2021-12-23T18:46:29.489Z"
   },
   {
    "duration": 472,
    "start_time": "2021-12-23T18:46:38.426Z"
   },
   {
    "duration": 302,
    "start_time": "2021-12-23T18:46:55.869Z"
   },
   {
    "duration": 336,
    "start_time": "2021-12-23T18:47:26.442Z"
   },
   {
    "duration": 1408,
    "start_time": "2021-12-23T18:47:32.061Z"
   },
   {
    "duration": 175,
    "start_time": "2021-12-23T18:47:50.143Z"
   },
   {
    "duration": 254,
    "start_time": "2021-12-23T18:48:00.609Z"
   },
   {
    "duration": 291,
    "start_time": "2021-12-23T18:48:07.502Z"
   },
   {
    "duration": 230,
    "start_time": "2021-12-23T18:48:20.317Z"
   },
   {
    "duration": 264,
    "start_time": "2021-12-23T18:48:27.701Z"
   },
   {
    "duration": 327,
    "start_time": "2021-12-23T18:48:45.182Z"
   },
   {
    "duration": 251,
    "start_time": "2021-12-23T18:48:57.643Z"
   },
   {
    "duration": 338,
    "start_time": "2021-12-23T18:49:14.530Z"
   },
   {
    "duration": 231,
    "start_time": "2021-12-23T18:49:26.511Z"
   },
   {
    "duration": 947,
    "start_time": "2021-12-23T18:49:47.664Z"
   },
   {
    "duration": 491,
    "start_time": "2021-12-23T18:50:22.549Z"
   },
   {
    "duration": 471,
    "start_time": "2021-12-23T18:50:31.341Z"
   },
   {
    "duration": 244,
    "start_time": "2021-12-23T18:50:37.067Z"
   },
   {
    "duration": 241,
    "start_time": "2021-12-23T18:50:44.003Z"
   },
   {
    "duration": 223,
    "start_time": "2021-12-23T18:50:55.422Z"
   },
   {
    "duration": 177,
    "start_time": "2021-12-23T18:51:25.342Z"
   },
   {
    "duration": 181,
    "start_time": "2021-12-23T18:51:40.723Z"
   },
   {
    "duration": 214,
    "start_time": "2021-12-23T18:51:46.381Z"
   },
   {
    "duration": 355,
    "start_time": "2021-12-23T18:52:13.107Z"
   },
   {
    "duration": 234,
    "start_time": "2021-12-23T18:52:21.504Z"
   },
   {
    "duration": 476,
    "start_time": "2021-12-23T18:52:33.502Z"
   },
   {
    "duration": 213,
    "start_time": "2021-12-23T18:52:37.406Z"
   },
   {
    "duration": 180,
    "start_time": "2021-12-23T18:52:45.702Z"
   },
   {
    "duration": 262,
    "start_time": "2021-12-23T18:52:59.583Z"
   },
   {
    "duration": 203,
    "start_time": "2021-12-23T18:53:03.541Z"
   },
   {
    "duration": 228,
    "start_time": "2021-12-23T18:53:09.761Z"
   },
   {
    "duration": 198,
    "start_time": "2021-12-23T18:53:14.890Z"
   },
   {
    "duration": 197,
    "start_time": "2021-12-23T18:53:43.489Z"
   },
   {
    "duration": 188,
    "start_time": "2021-12-23T18:53:47.142Z"
   },
   {
    "duration": 209,
    "start_time": "2021-12-23T18:53:53.562Z"
   },
   {
    "duration": 220,
    "start_time": "2021-12-23T18:54:01.744Z"
   },
   {
    "duration": 196,
    "start_time": "2021-12-23T18:54:44.529Z"
   },
   {
    "duration": 212,
    "start_time": "2021-12-23T18:54:49.483Z"
   },
   {
    "duration": 217,
    "start_time": "2021-12-23T18:55:04.329Z"
   },
   {
    "duration": 215,
    "start_time": "2021-12-23T18:55:09.529Z"
   },
   {
    "duration": 219,
    "start_time": "2021-12-23T19:01:11.884Z"
   },
   {
    "duration": 219,
    "start_time": "2021-12-23T19:01:24.546Z"
   },
   {
    "duration": 219,
    "start_time": "2021-12-23T19:01:34.190Z"
   },
   {
    "duration": 2258,
    "start_time": "2021-12-23T19:05:30.202Z"
   },
   {
    "duration": 1854,
    "start_time": "2021-12-23T19:05:32.902Z"
   },
   {
    "duration": 367,
    "start_time": "2021-12-23T19:06:19.763Z"
   },
   {
    "duration": 9,
    "start_time": "2021-12-23T19:06:50.431Z"
   },
   {
    "duration": 210,
    "start_time": "2021-12-23T19:07:16.762Z"
   },
   {
    "duration": 195,
    "start_time": "2021-12-23T19:07:31.991Z"
   },
   {
    "duration": 203,
    "start_time": "2021-12-23T19:07:41.544Z"
   },
   {
    "duration": 186,
    "start_time": "2021-12-23T19:07:48.682Z"
   },
   {
    "duration": 7,
    "start_time": "2021-12-23T19:08:06.681Z"
   },
   {
    "duration": 7,
    "start_time": "2021-12-23T19:08:12.403Z"
   },
   {
    "duration": 88,
    "start_time": "2021-12-23T19:08:17.743Z"
   },
   {
    "duration": 8,
    "start_time": "2021-12-23T19:08:17.833Z"
   },
   {
    "duration": 46,
    "start_time": "2021-12-23T19:08:17.843Z"
   },
   {
    "duration": 20,
    "start_time": "2021-12-23T19:08:17.891Z"
   },
   {
    "duration": 743,
    "start_time": "2021-12-23T19:08:17.913Z"
   },
   {
    "duration": 1084,
    "start_time": "2021-12-23T19:08:18.661Z"
   },
   {
    "duration": 100,
    "start_time": "2021-12-23T19:08:19.746Z"
   },
   {
    "duration": 2,
    "start_time": "2021-12-23T19:08:19.846Z"
   },
   {
    "duration": 87,
    "start_time": "2021-12-23T19:08:32.924Z"
   },
   {
    "duration": 8,
    "start_time": "2021-12-23T19:08:33.013Z"
   },
   {
    "duration": 50,
    "start_time": "2021-12-23T19:08:33.023Z"
   },
   {
    "duration": 19,
    "start_time": "2021-12-23T19:08:33.075Z"
   },
   {
    "duration": 723,
    "start_time": "2021-12-23T19:08:33.096Z"
   },
   {
    "duration": 240,
    "start_time": "2021-12-23T19:08:33.821Z"
   },
   {
    "duration": 298,
    "start_time": "2021-12-23T19:08:34.064Z"
   },
   {
    "duration": 14,
    "start_time": "2021-12-23T19:08:34.366Z"
   },
   {
    "duration": 7,
    "start_time": "2021-12-23T19:09:54.065Z"
   },
   {
    "duration": 16,
    "start_time": "2021-12-23T19:10:24.242Z"
   },
   {
    "duration": 5,
    "start_time": "2021-12-23T19:10:34.924Z"
   },
   {
    "duration": 249,
    "start_time": "2021-12-23T19:10:46.003Z"
   },
   {
    "duration": 16,
    "start_time": "2021-12-23T19:10:58.092Z"
   },
   {
    "duration": 8,
    "start_time": "2021-12-23T19:11:24.745Z"
   },
   {
    "duration": 4,
    "start_time": "2021-12-23T19:11:59.742Z"
   },
   {
    "duration": 8,
    "start_time": "2021-12-23T19:12:04.102Z"
   },
   {
    "duration": 8,
    "start_time": "2021-12-23T19:12:54.416Z"
   },
   {
    "duration": 214,
    "start_time": "2021-12-23T19:17:25.270Z"
   },
   {
    "duration": 178,
    "start_time": "2021-12-23T19:17:33.263Z"
   },
   {
    "duration": 98,
    "start_time": "2021-12-23T19:17:41.062Z"
   },
   {
    "duration": 8,
    "start_time": "2021-12-23T19:17:41.163Z"
   },
   {
    "duration": 34,
    "start_time": "2021-12-23T19:17:41.173Z"
   },
   {
    "duration": 20,
    "start_time": "2021-12-23T19:17:41.210Z"
   },
   {
    "duration": 1048,
    "start_time": "2021-12-23T19:17:41.232Z"
   },
   {
    "duration": 242,
    "start_time": "2021-12-23T19:17:42.282Z"
   },
   {
    "duration": 444,
    "start_time": "2021-12-23T19:17:42.526Z"
   },
   {
    "duration": 311,
    "start_time": "2021-12-23T19:17:42.972Z"
   },
   {
    "duration": 252,
    "start_time": "2021-12-23T19:18:21.646Z"
   },
   {
    "duration": 277,
    "start_time": "2021-12-23T19:18:28.316Z"
   },
   {
    "duration": 10,
    "start_time": "2021-12-23T19:18:46.163Z"
   },
   {
    "duration": 16,
    "start_time": "2021-12-23T19:19:00.162Z"
   },
   {
    "duration": 12,
    "start_time": "2021-12-23T19:19:10.982Z"
   },
   {
    "duration": 248,
    "start_time": "2021-12-23T19:20:23.792Z"
   },
   {
    "duration": 202,
    "start_time": "2021-12-23T19:20:51.270Z"
   },
   {
    "duration": 196,
    "start_time": "2021-12-23T19:21:01.136Z"
   },
   {
    "duration": 10,
    "start_time": "2021-12-23T19:22:02.542Z"
   },
   {
    "duration": 209,
    "start_time": "2021-12-23T19:23:13.405Z"
   },
   {
    "duration": 209,
    "start_time": "2021-12-23T19:23:46.565Z"
   },
   {
    "duration": 210,
    "start_time": "2021-12-23T19:23:51.702Z"
   },
   {
    "duration": 198,
    "start_time": "2021-12-23T19:24:05.143Z"
   },
   {
    "duration": 206,
    "start_time": "2021-12-23T19:24:09.862Z"
   },
   {
    "duration": 194,
    "start_time": "2021-12-23T19:24:14.689Z"
   },
   {
    "duration": 198,
    "start_time": "2021-12-23T19:24:18.203Z"
   },
   {
    "duration": 246,
    "start_time": "2021-12-23T19:25:07.723Z"
   },
   {
    "duration": 83,
    "start_time": "2021-12-23T19:25:18.442Z"
   },
   {
    "duration": 8,
    "start_time": "2021-12-23T19:25:18.526Z"
   },
   {
    "duration": 46,
    "start_time": "2021-12-23T19:25:18.536Z"
   },
   {
    "duration": 19,
    "start_time": "2021-12-23T19:25:18.583Z"
   },
   {
    "duration": 736,
    "start_time": "2021-12-23T19:25:18.604Z"
   },
   {
    "duration": 213,
    "start_time": "2021-12-23T19:25:19.342Z"
   },
   {
    "duration": 303,
    "start_time": "2021-12-23T19:25:19.560Z"
   },
   {
    "duration": 11,
    "start_time": "2021-12-23T19:25:19.865Z"
   },
   {
    "duration": 344,
    "start_time": "2021-12-23T19:26:44.782Z"
   },
   {
    "duration": 83,
    "start_time": "2021-12-23T19:26:50.570Z"
   },
   {
    "duration": 8,
    "start_time": "2021-12-23T19:26:50.655Z"
   },
   {
    "duration": 34,
    "start_time": "2021-12-23T19:26:50.665Z"
   },
   {
    "duration": 22,
    "start_time": "2021-12-23T19:26:50.701Z"
   },
   {
    "duration": 737,
    "start_time": "2021-12-23T19:26:50.725Z"
   },
   {
    "duration": 233,
    "start_time": "2021-12-23T19:26:51.464Z"
   },
   {
    "duration": 300,
    "start_time": "2021-12-23T19:26:51.699Z"
   },
   {
    "duration": 11,
    "start_time": "2021-12-23T19:26:52.001Z"
   },
   {
    "duration": 199,
    "start_time": "2021-12-23T19:27:58.910Z"
   },
   {
    "duration": 236,
    "start_time": "2021-12-23T19:29:37.149Z"
   },
   {
    "duration": 80,
    "start_time": "2021-12-23T19:29:40.078Z"
   },
   {
    "duration": 8,
    "start_time": "2021-12-23T19:29:40.160Z"
   },
   {
    "duration": 33,
    "start_time": "2021-12-23T19:29:40.170Z"
   },
   {
    "duration": 22,
    "start_time": "2021-12-23T19:29:40.204Z"
   },
   {
    "duration": 709,
    "start_time": "2021-12-23T19:29:40.228Z"
   },
   {
    "duration": 218,
    "start_time": "2021-12-23T19:29:40.938Z"
   },
   {
    "duration": 311,
    "start_time": "2021-12-23T19:29:41.158Z"
   },
   {
    "duration": 11,
    "start_time": "2021-12-23T19:29:41.472Z"
   },
   {
    "duration": 197,
    "start_time": "2021-12-23T19:29:49.023Z"
   },
   {
    "duration": 703,
    "start_time": "2021-12-23T19:29:56.451Z"
   },
   {
    "duration": 212,
    "start_time": "2021-12-23T19:30:24.889Z"
   },
   {
    "duration": 203,
    "start_time": "2021-12-23T19:30:45.903Z"
   },
   {
    "duration": 205,
    "start_time": "2021-12-23T19:30:51.483Z"
   },
   {
    "duration": 202,
    "start_time": "2021-12-23T19:31:14.490Z"
   },
   {
    "duration": 190,
    "start_time": "2021-12-23T19:31:44.809Z"
   },
   {
    "duration": 201,
    "start_time": "2021-12-23T19:31:53.285Z"
   },
   {
    "duration": 688,
    "start_time": "2021-12-23T19:32:38.066Z"
   },
   {
    "duration": 239,
    "start_time": "2021-12-23T19:32:46.444Z"
   },
   {
    "duration": 214,
    "start_time": "2021-12-23T19:32:55.558Z"
   },
   {
    "duration": 17,
    "start_time": "2021-12-23T19:37:10.964Z"
   },
   {
    "duration": 16,
    "start_time": "2021-12-23T19:37:14.065Z"
   },
   {
    "duration": 250,
    "start_time": "2021-12-23T19:37:27.984Z"
   },
   {
    "duration": 21,
    "start_time": "2021-12-23T19:37:42.884Z"
   },
   {
    "duration": 40,
    "start_time": "2021-12-23T20:03:31.112Z"
   },
   {
    "duration": 207,
    "start_time": "2021-12-23T20:25:37.983Z"
   },
   {
    "duration": 193,
    "start_time": "2021-12-23T20:26:18.143Z"
   },
   {
    "duration": 1380,
    "start_time": "2021-12-23T20:57:47.943Z"
   },
   {
    "duration": 81,
    "start_time": "2021-12-23T21:03:06.582Z"
   },
   {
    "duration": 265,
    "start_time": "2021-12-23T21:03:13.312Z"
   },
   {
    "duration": 260,
    "start_time": "2021-12-23T21:05:14.362Z"
   },
   {
    "duration": 12,
    "start_time": "2021-12-23T21:07:12.365Z"
   },
   {
    "duration": 12,
    "start_time": "2021-12-23T21:12:31.912Z"
   },
   {
    "duration": 89,
    "start_time": "2021-12-23T21:13:20.883Z"
   },
   {
    "duration": 771,
    "start_time": "2021-12-23T21:13:32.845Z"
   },
   {
    "duration": 6285,
    "start_time": "2021-12-23T21:14:07.829Z"
   },
   {
    "duration": 6357,
    "start_time": "2021-12-23T21:14:16.645Z"
   },
   {
    "duration": 17,
    "start_time": "2021-12-23T21:14:42.610Z"
   },
   {
    "duration": 11,
    "start_time": "2021-12-23T21:16:29.042Z"
   },
   {
    "duration": 15,
    "start_time": "2021-12-23T21:17:24.663Z"
   },
   {
    "duration": 9275,
    "start_time": "2021-12-23T21:24:34.690Z"
   },
   {
    "duration": 8622,
    "start_time": "2021-12-23T21:24:49.818Z"
   },
   {
    "duration": 8583,
    "start_time": "2021-12-23T21:48:48.031Z"
   },
   {
    "duration": 9582,
    "start_time": "2021-12-23T22:00:17.100Z"
   },
   {
    "duration": 12,
    "start_time": "2021-12-23T22:01:25.655Z"
   },
   {
    "duration": 10,
    "start_time": "2021-12-23T22:02:49.092Z"
   },
   {
    "duration": 281,
    "start_time": "2021-12-23T22:04:31.013Z"
   },
   {
    "duration": 263,
    "start_time": "2021-12-23T22:04:40.712Z"
   },
   {
    "duration": 316,
    "start_time": "2021-12-23T22:05:03.394Z"
   },
   {
    "duration": 277,
    "start_time": "2021-12-23T22:05:09.068Z"
   },
   {
    "duration": 258,
    "start_time": "2021-12-23T22:05:26.693Z"
   },
   {
    "duration": 259,
    "start_time": "2021-12-23T22:05:37.672Z"
   },
   {
    "duration": 295,
    "start_time": "2021-12-23T22:06:02.053Z"
   },
   {
    "duration": 776,
    "start_time": "2021-12-23T22:06:18.633Z"
   },
   {
    "duration": 249,
    "start_time": "2021-12-23T22:06:24.900Z"
   },
   {
    "duration": 169,
    "start_time": "2021-12-23T22:07:53.000Z"
   },
   {
    "duration": 183,
    "start_time": "2021-12-23T22:08:01.980Z"
   },
   {
    "duration": 235,
    "start_time": "2021-12-23T22:08:27.854Z"
   },
   {
    "duration": 200,
    "start_time": "2021-12-23T22:08:34.393Z"
   },
   {
    "duration": 203,
    "start_time": "2021-12-23T22:08:41.089Z"
   },
   {
    "duration": 225,
    "start_time": "2021-12-23T22:08:48.192Z"
   },
   {
    "duration": 214,
    "start_time": "2021-12-23T22:08:51.552Z"
   },
   {
    "duration": 78,
    "start_time": "2021-12-23T22:10:56.652Z"
   },
   {
    "duration": 297,
    "start_time": "2021-12-23T23:12:31.601Z"
   },
   {
    "duration": 77,
    "start_time": "2021-12-23T23:12:35.618Z"
   },
   {
    "duration": 10,
    "start_time": "2021-12-23T23:12:35.697Z"
   },
   {
    "duration": 51,
    "start_time": "2021-12-23T23:12:35.710Z"
   },
   {
    "duration": 23,
    "start_time": "2021-12-23T23:12:35.764Z"
   },
   {
    "duration": 706,
    "start_time": "2021-12-23T23:12:35.789Z"
   },
   {
    "duration": 214,
    "start_time": "2021-12-23T23:12:36.497Z"
   },
   {
    "duration": 312,
    "start_time": "2021-12-23T23:12:36.713Z"
   },
   {
    "duration": 11,
    "start_time": "2021-12-23T23:12:37.027Z"
   },
   {
    "duration": 27,
    "start_time": "2021-12-23T23:12:37.039Z"
   },
   {
    "duration": 202,
    "start_time": "2021-12-23T23:12:37.067Z"
   },
   {
    "duration": 893,
    "start_time": "2021-12-24T08:38:25.724Z"
   },
   {
    "duration": 22,
    "start_time": "2021-12-24T08:38:26.620Z"
   },
   {
    "duration": 62,
    "start_time": "2021-12-24T08:38:26.645Z"
   },
   {
    "duration": 50,
    "start_time": "2021-12-24T08:38:26.710Z"
   },
   {
    "duration": 1227,
    "start_time": "2021-12-24T08:38:26.763Z"
   },
   {
    "duration": 570,
    "start_time": "2021-12-24T08:38:27.993Z"
   },
   {
    "duration": 563,
    "start_time": "2021-12-24T08:38:28.565Z"
   },
   {
    "duration": 28,
    "start_time": "2021-12-24T08:38:29.133Z"
   },
   {
    "duration": 15,
    "start_time": "2021-12-24T08:38:29.164Z"
   },
   {
    "duration": 363,
    "start_time": "2021-12-24T08:38:29.181Z"
   },
   {
    "duration": 356,
    "start_time": "2021-12-24T08:43:13.959Z"
   },
   {
    "duration": 336,
    "start_time": "2021-12-24T08:43:37.823Z"
   },
   {
    "duration": 12,
    "start_time": "2021-12-24T08:43:51.410Z"
   },
   {
    "duration": 12,
    "start_time": "2021-12-24T08:43:58.234Z"
   },
   {
    "duration": 343,
    "start_time": "2021-12-24T08:44:08.324Z"
   },
   {
    "duration": 334,
    "start_time": "2021-12-24T08:45:34.789Z"
   },
   {
    "duration": 823,
    "start_time": "2021-12-24T08:47:19.117Z"
   },
   {
    "duration": 717,
    "start_time": "2021-12-24T08:47:27.966Z"
   },
   {
    "duration": 526,
    "start_time": "2021-12-24T08:47:44.087Z"
   },
   {
    "duration": 851,
    "start_time": "2021-12-24T08:48:13.921Z"
   },
   {
    "duration": 322,
    "start_time": "2021-12-24T08:51:14.725Z"
   },
   {
    "duration": 25,
    "start_time": "2021-12-24T08:51:21.391Z"
   },
   {
    "duration": 313,
    "start_time": "2021-12-24T08:52:41.031Z"
   },
   {
    "duration": 25,
    "start_time": "2021-12-24T09:30:58.064Z"
   },
   {
    "duration": 347,
    "start_time": "2021-12-24T09:33:50.734Z"
   },
   {
    "duration": 316,
    "start_time": "2021-12-24T09:47:11.675Z"
   },
   {
    "duration": 30,
    "start_time": "2021-12-24T09:51:17.623Z"
   },
   {
    "duration": 116079,
    "start_time": "2021-12-24T11:26:07.451Z"
   },
   {
    "duration": -180,
    "start_time": "2021-12-24T11:30:25.160Z"
   },
   {
    "duration": 668,
    "start_time": "2021-12-24T18:35:18.801Z"
   },
   {
    "duration": 13,
    "start_time": "2021-12-24T18:35:19.471Z"
   },
   {
    "duration": 38,
    "start_time": "2021-12-24T18:35:19.486Z"
   },
   {
    "duration": 22,
    "start_time": "2021-12-24T18:35:19.526Z"
   },
   {
    "duration": 798,
    "start_time": "2021-12-24T18:35:19.550Z"
   },
   {
    "duration": 633,
    "start_time": "2021-12-24T18:35:20.349Z"
   },
   {
    "duration": 236,
    "start_time": "2021-12-24T18:35:20.984Z"
   },
   {
    "duration": 288,
    "start_time": "2021-12-24T18:35:21.222Z"
   },
   {
    "duration": -122,
    "start_time": "2021-12-24T18:35:21.634Z"
   },
   {
    "duration": -123,
    "start_time": "2021-12-24T18:35:21.636Z"
   },
   {
    "duration": 81,
    "start_time": "2021-12-24T18:40:52.748Z"
   },
   {
    "duration": 799,
    "start_time": "2021-12-24T18:52:38.829Z"
   },
   {
    "duration": 90,
    "start_time": "2021-12-24T18:52:50.489Z"
   },
   {
    "duration": 16,
    "start_time": "2021-12-24T18:52:50.581Z"
   },
   {
    "duration": 43,
    "start_time": "2021-12-24T18:52:50.600Z"
   },
   {
    "duration": 24,
    "start_time": "2021-12-24T18:52:50.646Z"
   },
   {
    "duration": 889,
    "start_time": "2021-12-24T18:52:50.672Z"
   },
   {
    "duration": 571,
    "start_time": "2021-12-24T18:52:51.563Z"
   },
   {
    "duration": 248,
    "start_time": "2021-12-24T18:52:52.136Z"
   },
   {
    "duration": 1298,
    "start_time": "2021-12-24T18:52:52.385Z"
   },
   {
    "duration": 33,
    "start_time": "2021-12-24T18:52:53.685Z"
   },
   {
    "duration": 275,
    "start_time": "2021-12-24T18:52:53.720Z"
   },
   {
    "duration": 1166,
    "start_time": "2021-12-24T18:56:30.597Z"
   },
   {
    "duration": 585,
    "start_time": "2021-12-24T19:00:46.408Z"
   },
   {
    "duration": 63,
    "start_time": "2021-12-24T19:01:04.687Z"
   },
   {
    "duration": 74,
    "start_time": "2021-12-24T19:01:08.548Z"
   },
   {
    "duration": 8,
    "start_time": "2021-12-24T19:01:08.624Z"
   },
   {
    "duration": 33,
    "start_time": "2021-12-24T19:01:08.634Z"
   },
   {
    "duration": 38,
    "start_time": "2021-12-24T19:01:08.669Z"
   },
   {
    "duration": 722,
    "start_time": "2021-12-24T19:01:08.709Z"
   },
   {
    "duration": 553,
    "start_time": "2021-12-24T19:01:09.433Z"
   },
   {
    "duration": 227,
    "start_time": "2021-12-24T19:01:09.988Z"
   },
   {
    "duration": 57,
    "start_time": "2021-12-24T19:01:10.216Z"
   },
   {
    "duration": 43,
    "start_time": "2021-12-24T19:01:10.232Z"
   },
   {
    "duration": 41,
    "start_time": "2021-12-24T19:01:10.235Z"
   },
   {
    "duration": 63,
    "start_time": "2021-12-24T19:01:21.329Z"
   },
   {
    "duration": 7288,
    "start_time": "2021-12-24T19:01:33.381Z"
   },
   {
    "duration": 982,
    "start_time": "2021-12-24T19:03:00.269Z"
   },
   {
    "duration": 962,
    "start_time": "2021-12-24T19:03:16.169Z"
   },
   {
    "duration": 42,
    "start_time": "2021-12-24T19:05:24.112Z"
   },
   {
    "duration": 2891,
    "start_time": "2021-12-24T19:05:33.248Z"
   },
   {
    "duration": 4657,
    "start_time": "2021-12-24T19:06:06.668Z"
   },
   {
    "duration": 4279,
    "start_time": "2021-12-24T19:06:46.088Z"
   },
   {
    "duration": 82,
    "start_time": "2021-12-24T19:06:57.387Z"
   },
   {
    "duration": 8,
    "start_time": "2021-12-24T19:06:57.470Z"
   },
   {
    "duration": 40,
    "start_time": "2021-12-24T19:06:57.480Z"
   },
   {
    "duration": 24,
    "start_time": "2021-12-24T19:06:57.522Z"
   },
   {
    "duration": 801,
    "start_time": "2021-12-24T19:06:57.548Z"
   },
   {
    "duration": 476,
    "start_time": "2021-12-24T19:06:58.350Z"
   },
   {
    "duration": 223,
    "start_time": "2021-12-24T19:06:58.827Z"
   },
   {
    "duration": 4901,
    "start_time": "2021-12-24T19:06:59.052Z"
   },
   {
    "duration": -420,
    "start_time": "2021-12-24T19:07:04.376Z"
   },
   {
    "duration": -420,
    "start_time": "2021-12-24T19:07:04.377Z"
   },
   {
    "duration": 1084,
    "start_time": "2021-12-24T19:08:06.309Z"
   },
   {
    "duration": 957,
    "start_time": "2021-12-24T19:08:23.136Z"
   },
   {
    "duration": 914,
    "start_time": "2021-12-24T19:08:39.932Z"
   },
   {
    "duration": 4793,
    "start_time": "2021-12-24T19:09:52.188Z"
   },
   {
    "duration": 204,
    "start_time": "2021-12-24T19:10:04.049Z"
   },
   {
    "duration": 886,
    "start_time": "2021-12-24T19:11:08.328Z"
   },
   {
    "duration": 1065,
    "start_time": "2021-12-24T19:11:36.328Z"
   },
   {
    "duration": 931,
    "start_time": "2021-12-24T19:11:48.709Z"
   },
   {
    "duration": 916,
    "start_time": "2021-12-24T19:11:56.669Z"
   },
   {
    "duration": 925,
    "start_time": "2021-12-24T19:12:03.609Z"
   },
   {
    "duration": 1042,
    "start_time": "2021-12-24T19:12:15.308Z"
   },
   {
    "duration": 883,
    "start_time": "2021-12-24T19:12:24.695Z"
   },
   {
    "duration": 941,
    "start_time": "2021-12-24T19:12:32.489Z"
   },
   {
    "duration": 1024,
    "start_time": "2021-12-24T19:12:40.915Z"
   },
   {
    "duration": 958,
    "start_time": "2021-12-24T19:12:52.728Z"
   },
   {
    "duration": 938,
    "start_time": "2021-12-24T19:13:02.669Z"
   },
   {
    "duration": 973,
    "start_time": "2021-12-24T19:13:20.068Z"
   },
   {
    "duration": 1046,
    "start_time": "2021-12-24T19:13:39.795Z"
   },
   {
    "duration": 939,
    "start_time": "2021-12-24T19:13:48.836Z"
   },
   {
    "duration": 962,
    "start_time": "2021-12-24T19:13:54.608Z"
   },
   {
    "duration": 941,
    "start_time": "2021-12-24T19:14:01.848Z"
   },
   {
    "duration": 179,
    "start_time": "2021-12-24T19:15:09.888Z"
   },
   {
    "duration": 231,
    "start_time": "2021-12-24T19:15:33.956Z"
   },
   {
    "duration": 135,
    "start_time": "2021-12-24T19:15:45.228Z"
   },
   {
    "duration": 138,
    "start_time": "2021-12-24T19:15:54.014Z"
   },
   {
    "duration": 130,
    "start_time": "2021-12-24T19:16:27.847Z"
   },
   {
    "duration": 133,
    "start_time": "2021-12-24T19:16:55.635Z"
   },
   {
    "duration": 76,
    "start_time": "2021-12-24T19:17:00.168Z"
   },
   {
    "duration": 8,
    "start_time": "2021-12-24T19:17:00.246Z"
   },
   {
    "duration": 50,
    "start_time": "2021-12-24T19:17:00.256Z"
   },
   {
    "duration": 22,
    "start_time": "2021-12-24T19:17:00.308Z"
   },
   {
    "duration": 725,
    "start_time": "2021-12-24T19:17:00.332Z"
   },
   {
    "duration": 510,
    "start_time": "2021-12-24T19:17:01.060Z"
   },
   {
    "duration": 226,
    "start_time": "2021-12-24T19:17:01.572Z"
   },
   {
    "duration": 229,
    "start_time": "2021-12-24T19:17:01.800Z"
   },
   {
    "duration": 21,
    "start_time": "2021-12-24T19:17:02.032Z"
   },
   {
    "duration": 248,
    "start_time": "2021-12-24T19:17:02.054Z"
   },
   {
    "duration": 145,
    "start_time": "2021-12-24T19:18:10.829Z"
   },
   {
    "duration": 140,
    "start_time": "2021-12-24T19:18:20.927Z"
   },
   {
    "duration": 144,
    "start_time": "2021-12-24T19:18:27.668Z"
   },
   {
    "duration": 154,
    "start_time": "2021-12-24T19:18:34.367Z"
   },
   {
    "duration": 145,
    "start_time": "2021-12-24T19:18:38.529Z"
   },
   {
    "duration": 155,
    "start_time": "2021-12-24T19:18:45.067Z"
   },
   {
    "duration": 149,
    "start_time": "2021-12-24T19:18:58.348Z"
   },
   {
    "duration": 178,
    "start_time": "2021-12-24T19:20:47.447Z"
   },
   {
    "duration": 150,
    "start_time": "2021-12-24T19:21:54.532Z"
   },
   {
    "duration": 167,
    "start_time": "2021-12-24T19:25:14.028Z"
   },
   {
    "duration": 280,
    "start_time": "2021-12-24T19:26:12.827Z"
   },
   {
    "duration": 204,
    "start_time": "2021-12-24T19:26:41.255Z"
   },
   {
    "duration": 248,
    "start_time": "2021-12-24T19:27:11.529Z"
   },
   {
    "duration": 241,
    "start_time": "2021-12-24T19:27:27.187Z"
   },
   {
    "duration": 235,
    "start_time": "2021-12-24T19:27:32.788Z"
   },
   {
    "duration": 223,
    "start_time": "2021-12-24T19:27:40.715Z"
   },
   {
    "duration": 232,
    "start_time": "2021-12-24T19:27:45.228Z"
   },
   {
    "duration": 240,
    "start_time": "2021-12-24T19:27:49.468Z"
   },
   {
    "duration": 229,
    "start_time": "2021-12-24T19:27:56.768Z"
   },
   {
    "duration": 242,
    "start_time": "2021-12-24T19:28:06.108Z"
   },
   {
    "duration": 233,
    "start_time": "2021-12-24T19:31:33.554Z"
   },
   {
    "duration": 331,
    "start_time": "2021-12-24T19:31:57.106Z"
   },
   {
    "duration": 153,
    "start_time": "2021-12-24T19:32:10.486Z"
   },
   {
    "duration": 157,
    "start_time": "2021-12-24T19:32:23.046Z"
   },
   {
    "duration": 297,
    "start_time": "2021-12-24T19:35:55.099Z"
   },
   {
    "duration": 240,
    "start_time": "2021-12-24T19:38:42.328Z"
   },
   {
    "duration": 255,
    "start_time": "2021-12-24T19:38:50.436Z"
   },
   {
    "duration": 5058,
    "start_time": "2021-12-24T19:41:12.048Z"
   },
   {
    "duration": 247,
    "start_time": "2021-12-24T19:42:23.867Z"
   },
   {
    "duration": 4592,
    "start_time": "2021-12-24T19:55:22.667Z"
   },
   {
    "duration": 2335,
    "start_time": "2021-12-24T19:58:27.607Z"
   },
   {
    "duration": 8185,
    "start_time": "2021-12-24T19:59:11.174Z"
   },
   {
    "duration": 56,
    "start_time": "2021-12-24T20:00:05.148Z"
   },
   {
    "duration": 59,
    "start_time": "2021-12-24T20:00:32.146Z"
   },
   {
    "duration": 60,
    "start_time": "2021-12-24T20:01:11.507Z"
   },
   {
    "duration": 58,
    "start_time": "2021-12-24T20:01:32.728Z"
   },
   {
    "duration": 2371,
    "start_time": "2021-12-24T20:01:41.362Z"
   },
   {
    "duration": 2432,
    "start_time": "2021-12-24T20:02:13.306Z"
   },
   {
    "duration": 2371,
    "start_time": "2021-12-24T20:02:26.774Z"
   },
   {
    "duration": 2397,
    "start_time": "2021-12-24T20:03:02.047Z"
   },
   {
    "duration": 2428,
    "start_time": "2021-12-24T20:03:42.367Z"
   },
   {
    "duration": 2499,
    "start_time": "2021-12-24T20:05:29.295Z"
   },
   {
    "duration": 58,
    "start_time": "2021-12-24T20:05:39.694Z"
   },
   {
    "duration": 2395,
    "start_time": "2021-12-24T20:05:46.168Z"
   },
   {
    "duration": 2478,
    "start_time": "2021-12-24T20:06:24.129Z"
   },
   {
    "duration": 2460,
    "start_time": "2021-12-24T20:06:34.487Z"
   },
   {
    "duration": 2474,
    "start_time": "2021-12-24T20:06:45.170Z"
   },
   {
    "duration": 2590,
    "start_time": "2021-12-24T20:06:53.177Z"
   },
   {
    "duration": 2538,
    "start_time": "2021-12-24T20:07:36.994Z"
   },
   {
    "duration": 9199,
    "start_time": "2021-12-24T20:08:25.767Z"
   },
   {
    "duration": 77,
    "start_time": "2021-12-24T20:08:47.953Z"
   },
   {
    "duration": 9,
    "start_time": "2021-12-24T20:08:48.032Z"
   },
   {
    "duration": 55,
    "start_time": "2021-12-24T20:08:48.043Z"
   },
   {
    "duration": 22,
    "start_time": "2021-12-24T20:08:48.101Z"
   },
   {
    "duration": 816,
    "start_time": "2021-12-24T20:08:48.125Z"
   },
   {
    "duration": 480,
    "start_time": "2021-12-24T20:08:48.943Z"
   },
   {
    "duration": 218,
    "start_time": "2021-12-24T20:08:49.426Z"
   },
   {
    "duration": 256,
    "start_time": "2021-12-24T20:08:49.645Z"
   },
   {
    "duration": 6657,
    "start_time": "2021-12-24T20:08:49.903Z"
   },
   {
    "duration": -34,
    "start_time": "2021-12-24T20:08:56.597Z"
   },
   {
    "duration": 2375,
    "start_time": "2021-12-24T20:09:27.307Z"
   },
   {
    "duration": 2449,
    "start_time": "2021-12-24T20:09:44.507Z"
   },
   {
    "duration": 2429,
    "start_time": "2021-12-24T20:09:58.807Z"
   },
   {
    "duration": 2812,
    "start_time": "2021-12-24T20:10:53.667Z"
   },
   {
    "duration": 2639,
    "start_time": "2021-12-24T20:12:58.409Z"
   },
   {
    "duration": 2745,
    "start_time": "2021-12-24T20:13:51.647Z"
   },
   {
    "duration": 2718,
    "start_time": "2021-12-24T20:14:06.655Z"
   },
   {
    "duration": 2818,
    "start_time": "2021-12-24T20:14:15.666Z"
   },
   {
    "duration": 2730,
    "start_time": "2021-12-24T20:14:28.168Z"
   },
   {
    "duration": 2864,
    "start_time": "2021-12-24T20:14:36.507Z"
   },
   {
    "duration": 2894,
    "start_time": "2021-12-24T20:15:26.890Z"
   },
   {
    "duration": 2750,
    "start_time": "2021-12-24T20:16:00.811Z"
   },
   {
    "duration": 2735,
    "start_time": "2021-12-24T20:16:22.687Z"
   },
   {
    "duration": 2935,
    "start_time": "2021-12-24T20:17:08.214Z"
   },
   {
    "duration": 3102,
    "start_time": "2021-12-24T20:17:27.528Z"
   },
   {
    "duration": 2965,
    "start_time": "2021-12-24T20:17:42.948Z"
   },
   {
    "duration": 2942,
    "start_time": "2021-12-24T20:18:05.154Z"
   },
   {
    "duration": 2855,
    "start_time": "2021-12-24T20:18:22.674Z"
   },
   {
    "duration": 252,
    "start_time": "2021-12-24T20:20:04.967Z"
   },
   {
    "duration": 2884,
    "start_time": "2021-12-24T20:25:18.255Z"
   },
   {
    "duration": 2965,
    "start_time": "2021-12-24T20:26:14.407Z"
   },
   {
    "duration": 2858,
    "start_time": "2021-12-24T20:26:51.234Z"
   },
   {
    "duration": 2927,
    "start_time": "2021-12-24T20:27:05.799Z"
   },
   {
    "duration": 2856,
    "start_time": "2021-12-24T20:27:33.714Z"
   },
   {
    "duration": 2876,
    "start_time": "2021-12-24T20:27:48.528Z"
   },
   {
    "duration": 2859,
    "start_time": "2021-12-24T20:28:03.727Z"
   },
   {
    "duration": 3020,
    "start_time": "2021-12-24T20:28:24.286Z"
   },
   {
    "duration": 2922,
    "start_time": "2021-12-24T20:28:46.808Z"
   },
   {
    "duration": 513,
    "start_time": "2021-12-24T20:29:48.807Z"
   },
   {
    "duration": 4694,
    "start_time": "2021-12-24T20:30:44.246Z"
   },
   {
    "duration": 303,
    "start_time": "2021-12-24T20:31:08.388Z"
   },
   {
    "duration": 6210,
    "start_time": "2021-12-24T20:31:13.186Z"
   },
   {
    "duration": -212,
    "start_time": "2021-12-24T20:31:53.630Z"
   },
   {
    "duration": -116,
    "start_time": "2021-12-24T20:32:12.607Z"
   },
   {
    "duration": -117,
    "start_time": "2021-12-24T20:32:12.609Z"
   },
   {
    "duration": -117,
    "start_time": "2021-12-24T20:32:12.611Z"
   },
   {
    "duration": -116,
    "start_time": "2021-12-24T20:32:12.612Z"
   },
   {
    "duration": -115,
    "start_time": "2021-12-24T20:32:12.613Z"
   },
   {
    "duration": -116,
    "start_time": "2021-12-24T20:32:12.615Z"
   },
   {
    "duration": -115,
    "start_time": "2021-12-24T20:32:12.616Z"
   },
   {
    "duration": -114,
    "start_time": "2021-12-24T20:32:12.617Z"
   },
   {
    "duration": -113,
    "start_time": "2021-12-24T20:32:12.618Z"
   },
   {
    "duration": -113,
    "start_time": "2021-12-24T20:32:12.619Z"
   },
   {
    "duration": 80,
    "start_time": "2021-12-24T20:32:32.206Z"
   },
   {
    "duration": 80,
    "start_time": "2021-12-24T20:32:36.554Z"
   },
   {
    "duration": 9,
    "start_time": "2021-12-24T20:32:36.636Z"
   },
   {
    "duration": 49,
    "start_time": "2021-12-24T20:32:36.646Z"
   },
   {
    "duration": 27,
    "start_time": "2021-12-24T20:32:36.697Z"
   },
   {
    "duration": 773,
    "start_time": "2021-12-24T20:32:36.726Z"
   },
   {
    "duration": 547,
    "start_time": "2021-12-24T20:32:37.502Z"
   },
   {
    "duration": 236,
    "start_time": "2021-12-24T20:32:38.050Z"
   },
   {
    "duration": 285,
    "start_time": "2021-12-24T20:32:38.288Z"
   },
   {
    "duration": 4698,
    "start_time": "2021-12-24T20:32:38.576Z"
   },
   {
    "duration": -41,
    "start_time": "2021-12-24T20:32:43.317Z"
   },
   {
    "duration": 312,
    "start_time": "2021-12-24T20:33:57.206Z"
   },
   {
    "duration": 4764,
    "start_time": "2021-12-24T20:34:21.822Z"
   },
   {
    "duration": 3091,
    "start_time": "2021-12-24T20:34:59.089Z"
   },
   {
    "duration": 2874,
    "start_time": "2021-12-24T20:37:09.527Z"
   },
   {
    "duration": 2901,
    "start_time": "2021-12-24T20:37:59.727Z"
   },
   {
    "duration": 2853,
    "start_time": "2021-12-24T20:38:18.427Z"
   },
   {
    "duration": 2842,
    "start_time": "2021-12-24T20:38:35.213Z"
   },
   {
    "duration": 2884,
    "start_time": "2021-12-24T20:38:43.848Z"
   },
   {
    "duration": 1730,
    "start_time": "2021-12-24T20:38:57.047Z"
   },
   {
    "duration": 3126,
    "start_time": "2021-12-24T20:39:02.024Z"
   },
   {
    "duration": 2872,
    "start_time": "2021-12-24T20:39:39.279Z"
   },
   {
    "duration": 3077,
    "start_time": "2021-12-24T20:39:58.947Z"
   },
   {
    "duration": 2991,
    "start_time": "2021-12-24T20:40:05.894Z"
   },
   {
    "duration": 242,
    "start_time": "2021-12-24T20:41:29.387Z"
   },
   {
    "duration": 284,
    "start_time": "2021-12-24T20:41:51.895Z"
   },
   {
    "duration": 230,
    "start_time": "2021-12-24T20:41:59.307Z"
   },
   {
    "duration": 247,
    "start_time": "2021-12-24T20:42:19.266Z"
   },
   {
    "duration": 253,
    "start_time": "2021-12-24T20:42:29.786Z"
   },
   {
    "duration": 250,
    "start_time": "2021-12-24T20:42:33.887Z"
   },
   {
    "duration": 231,
    "start_time": "2021-12-24T20:42:46.507Z"
   },
   {
    "duration": 190,
    "start_time": "2021-12-24T20:43:02.546Z"
   },
   {
    "duration": 4355,
    "start_time": "2021-12-24T20:43:22.247Z"
   },
   {
    "duration": 247,
    "start_time": "2021-12-24T20:57:13.065Z"
   },
   {
    "duration": 58,
    "start_time": "2021-12-24T20:58:04.925Z"
   },
   {
    "duration": 259,
    "start_time": "2021-12-24T20:58:11.165Z"
   },
   {
    "duration": 229,
    "start_time": "2021-12-24T20:59:22.026Z"
   },
   {
    "duration": 198,
    "start_time": "2021-12-24T20:59:37.084Z"
   },
   {
    "duration": 204,
    "start_time": "2021-12-24T21:00:05.005Z"
   },
   {
    "duration": 208,
    "start_time": "2021-12-24T21:00:45.193Z"
   },
   {
    "duration": 174,
    "start_time": "2021-12-24T21:01:39.634Z"
   },
   {
    "duration": 62,
    "start_time": "2021-12-24T21:01:49.064Z"
   },
   {
    "duration": 377,
    "start_time": "2021-12-24T21:01:59.646Z"
   },
   {
    "duration": 258,
    "start_time": "2021-12-24T21:03:09.130Z"
   },
   {
    "duration": 2997,
    "start_time": "2021-12-24T21:03:33.568Z"
   },
   {
    "duration": 2938,
    "start_time": "2021-12-24T21:04:46.250Z"
   },
   {
    "duration": 3161,
    "start_time": "2021-12-24T21:05:03.171Z"
   },
   {
    "duration": 4745,
    "start_time": "2021-12-24T21:05:57.950Z"
   },
   {
    "duration": 4775,
    "start_time": "2021-12-24T21:06:10.088Z"
   },
   {
    "duration": 243,
    "start_time": "2021-12-24T21:06:21.694Z"
   },
   {
    "duration": 2868,
    "start_time": "2021-12-24T21:06:59.290Z"
   },
   {
    "duration": 2783,
    "start_time": "2021-12-24T21:07:13.189Z"
   },
   {
    "duration": 3057,
    "start_time": "2021-12-24T21:07:52.596Z"
   },
   {
    "duration": 3022,
    "start_time": "2021-12-24T21:08:27.657Z"
   },
   {
    "duration": 3248,
    "start_time": "2021-12-24T21:09:05.543Z"
   },
   {
    "duration": 2912,
    "start_time": "2021-12-24T21:09:16.390Z"
   },
   {
    "duration": 234,
    "start_time": "2021-12-24T21:10:09.510Z"
   },
   {
    "duration": 236,
    "start_time": "2021-12-24T21:10:27.410Z"
   },
   {
    "duration": 242,
    "start_time": "2021-12-24T21:10:34.179Z"
   },
   {
    "duration": 242,
    "start_time": "2021-12-24T21:10:41.609Z"
   },
   {
    "duration": 252,
    "start_time": "2021-12-24T21:12:27.177Z"
   },
   {
    "duration": 236,
    "start_time": "2021-12-24T21:12:31.911Z"
   },
   {
    "duration": 23,
    "start_time": "2021-12-24T21:15:14.088Z"
   },
   {
    "duration": 16,
    "start_time": "2021-12-24T21:15:34.328Z"
   },
   {
    "duration": 4476,
    "start_time": "2021-12-24T21:16:53.396Z"
   },
   {
    "duration": 331,
    "start_time": "2021-12-24T21:17:29.276Z"
   },
   {
    "duration": 399,
    "start_time": "2021-12-24T21:17:52.168Z"
   },
   {
    "duration": 272,
    "start_time": "2021-12-24T21:18:10.629Z"
   },
   {
    "duration": 249,
    "start_time": "2021-12-24T21:18:39.429Z"
   },
   {
    "duration": 271,
    "start_time": "2021-12-24T21:19:00.449Z"
   },
   {
    "duration": 4857,
    "start_time": "2021-12-24T21:19:37.116Z"
   },
   {
    "duration": 269,
    "start_time": "2021-12-24T21:19:45.149Z"
   },
   {
    "duration": 194,
    "start_time": "2021-12-24T21:20:28.448Z"
   },
   {
    "duration": 213,
    "start_time": "2021-12-24T21:20:50.677Z"
   },
   {
    "duration": 264,
    "start_time": "2021-12-24T21:21:14.228Z"
   },
   {
    "duration": 258,
    "start_time": "2021-12-24T21:21:27.869Z"
   },
   {
    "duration": 4841,
    "start_time": "2021-12-24T21:21:51.956Z"
   },
   {
    "duration": 4633,
    "start_time": "2021-12-24T21:22:10.009Z"
   },
   {
    "duration": 215,
    "start_time": "2021-12-24T21:22:38.369Z"
   },
   {
    "duration": 238,
    "start_time": "2021-12-24T21:23:21.255Z"
   },
   {
    "duration": 228,
    "start_time": "2021-12-24T21:33:45.529Z"
   },
   {
    "duration": 224,
    "start_time": "2021-12-24T21:34:11.254Z"
   },
   {
    "duration": 221,
    "start_time": "2021-12-24T21:34:16.912Z"
   },
   {
    "duration": 207,
    "start_time": "2021-12-24T21:34:20.949Z"
   },
   {
    "duration": 209,
    "start_time": "2021-12-24T21:34:26.687Z"
   },
   {
    "duration": 1016,
    "start_time": "2021-12-24T21:34:45.329Z"
   },
   {
    "duration": 832,
    "start_time": "2021-12-24T21:34:57.197Z"
   },
   {
    "duration": 819,
    "start_time": "2021-12-24T21:35:01.849Z"
   },
   {
    "duration": 842,
    "start_time": "2021-12-24T21:35:09.978Z"
   },
   {
    "duration": 799,
    "start_time": "2021-12-24T21:35:13.870Z"
   },
   {
    "duration": 826,
    "start_time": "2021-12-24T21:35:21.931Z"
   },
   {
    "duration": 794,
    "start_time": "2021-12-24T21:35:26.029Z"
   },
   {
    "duration": 806,
    "start_time": "2021-12-24T21:35:35.196Z"
   },
   {
    "duration": 794,
    "start_time": "2021-12-24T21:35:42.269Z"
   },
   {
    "duration": 616,
    "start_time": "2021-12-24T21:36:10.636Z"
   },
   {
    "duration": 633,
    "start_time": "2021-12-24T21:36:21.029Z"
   },
   {
    "duration": 618,
    "start_time": "2021-12-24T21:36:27.408Z"
   },
   {
    "duration": 874,
    "start_time": "2021-12-24T21:36:35.640Z"
   },
   {
    "duration": 637,
    "start_time": "2021-12-24T21:36:55.901Z"
   },
   {
    "duration": 658,
    "start_time": "2021-12-24T21:37:02.833Z"
   },
   {
    "duration": 642,
    "start_time": "2021-12-24T21:37:10.452Z"
   },
   {
    "duration": 655,
    "start_time": "2021-12-24T21:37:19.641Z"
   },
   {
    "duration": 221,
    "start_time": "2021-12-24T21:41:04.089Z"
   },
   {
    "duration": 5085,
    "start_time": "2021-12-24T21:41:29.416Z"
   },
   {
    "duration": 727,
    "start_time": "2021-12-24T21:42:09.329Z"
   },
   {
    "duration": 727,
    "start_time": "2021-12-24T21:42:25.009Z"
   },
   {
    "duration": 654,
    "start_time": "2021-12-24T21:42:56.072Z"
   },
   {
    "duration": 656,
    "start_time": "2021-12-24T21:43:02.693Z"
   },
   {
    "duration": 59,
    "start_time": "2021-12-24T21:44:12.549Z"
   },
   {
    "duration": 874,
    "start_time": "2021-12-24T21:44:37.249Z"
   },
   {
    "duration": 226,
    "start_time": "2021-12-24T21:45:25.176Z"
   },
   {
    "duration": 246,
    "start_time": "2021-12-24T21:45:37.493Z"
   },
   {
    "duration": 241,
    "start_time": "2021-12-24T21:46:11.829Z"
   },
   {
    "duration": 228,
    "start_time": "2021-12-24T21:47:25.769Z"
   },
   {
    "duration": 238,
    "start_time": "2021-12-24T21:47:35.749Z"
   },
   {
    "duration": 259,
    "start_time": "2021-12-24T21:47:47.416Z"
   },
   {
    "duration": 57,
    "start_time": "2021-12-24T21:48:44.028Z"
   },
   {
    "duration": 547,
    "start_time": "2021-12-24T21:48:55.508Z"
   },
   {
    "duration": 2687,
    "start_time": "2021-12-24T21:50:06.469Z"
   },
   {
    "duration": 23,
    "start_time": "2021-12-24T21:52:09.608Z"
   },
   {
    "duration": 215,
    "start_time": "2021-12-24T21:52:29.971Z"
   },
   {
    "duration": 67,
    "start_time": "2021-12-24T21:57:55.150Z"
   },
   {
    "duration": 6792,
    "start_time": "2021-12-24T21:58:46.012Z"
   },
   {
    "duration": 6916,
    "start_time": "2021-12-24T22:00:32.391Z"
   },
   {
    "duration": 7249,
    "start_time": "2021-12-24T22:00:50.412Z"
   },
   {
    "duration": 3065,
    "start_time": "2021-12-24T22:01:47.192Z"
   },
   {
    "duration": 6943,
    "start_time": "2021-12-24T22:04:11.137Z"
   },
   {
    "duration": 23,
    "start_time": "2021-12-24T22:06:11.479Z"
   },
   {
    "duration": 5299,
    "start_time": "2021-12-24T22:08:11.884Z"
   },
   {
    "duration": 5135,
    "start_time": "2021-12-24T22:08:20.776Z"
   },
   {
    "duration": 1576,
    "start_time": "2021-12-24T22:08:48.395Z"
   },
   {
    "duration": 5643,
    "start_time": "2021-12-24T22:10:07.395Z"
   },
   {
    "duration": 10409,
    "start_time": "2021-12-24T22:11:11.515Z"
   },
   {
    "duration": 9996,
    "start_time": "2021-12-24T22:11:36.371Z"
   },
   {
    "duration": 10069,
    "start_time": "2021-12-24T22:12:00.427Z"
   },
   {
    "duration": 7338,
    "start_time": "2021-12-24T22:12:32.043Z"
   },
   {
    "duration": 10202,
    "start_time": "2021-12-24T22:13:04.035Z"
   },
   {
    "duration": 10108,
    "start_time": "2021-12-24T22:14:24.788Z"
   },
   {
    "duration": 224,
    "start_time": "2021-12-24T22:16:38.116Z"
   },
   {
    "duration": 2604,
    "start_time": "2021-12-24T22:16:48.995Z"
   },
   {
    "duration": 433,
    "start_time": "2021-12-24T22:17:28.596Z"
   },
   {
    "duration": 58,
    "start_time": "2021-12-24T22:17:41.361Z"
   },
   {
    "duration": 432,
    "start_time": "2021-12-24T22:17:44.683Z"
   },
   {
    "duration": 66,
    "start_time": "2021-12-24T22:18:33.635Z"
   },
   {
    "duration": 1048,
    "start_time": "2021-12-24T22:18:40.275Z"
   },
   {
    "duration": 760,
    "start_time": "2021-12-24T22:19:35.706Z"
   },
   {
    "duration": 185,
    "start_time": "2021-12-24T22:20:14.628Z"
   },
   {
    "duration": 768,
    "start_time": "2021-12-24T22:20:22.496Z"
   },
   {
    "duration": 61,
    "start_time": "2021-12-24T22:20:58.036Z"
   },
   {
    "duration": 672,
    "start_time": "2021-12-24T22:21:04.836Z"
   },
   {
    "duration": 470,
    "start_time": "2021-12-24T22:21:48.117Z"
   },
   {
    "duration": 470,
    "start_time": "2021-12-24T22:22:01.318Z"
   },
   {
    "duration": 5667,
    "start_time": "2021-12-24T22:22:24.923Z"
   },
   {
    "duration": 656,
    "start_time": "2021-12-24T22:22:59.084Z"
   },
   {
    "duration": 672,
    "start_time": "2021-12-24T22:24:08.052Z"
   },
   {
    "duration": 57,
    "start_time": "2021-12-24T22:24:16.376Z"
   },
   {
    "duration": 61,
    "start_time": "2021-12-24T22:24:49.276Z"
   },
   {
    "duration": 65,
    "start_time": "2021-12-24T22:25:42.904Z"
   },
   {
    "duration": 192,
    "start_time": "2021-12-24T22:25:57.336Z"
   },
   {
    "duration": 235,
    "start_time": "2021-12-24T22:26:10.595Z"
   },
   {
    "duration": 452,
    "start_time": "2021-12-24T22:26:42.683Z"
   },
   {
    "duration": 229,
    "start_time": "2021-12-24T22:27:24.996Z"
   },
   {
    "duration": 1076,
    "start_time": "2021-12-24T22:29:03.095Z"
   },
   {
    "duration": 467,
    "start_time": "2021-12-24T22:29:10.164Z"
   },
   {
    "duration": 465,
    "start_time": "2021-12-24T22:29:17.044Z"
   },
   {
    "duration": 701,
    "start_time": "2021-12-24T22:29:42.956Z"
   },
   {
    "duration": 675,
    "start_time": "2021-12-24T22:30:09.035Z"
   },
   {
    "duration": 209,
    "start_time": "2021-12-24T22:30:22.444Z"
   },
   {
    "duration": 622,
    "start_time": "2021-12-24T22:30:44.204Z"
   },
   {
    "duration": 1001,
    "start_time": "2021-12-24T22:30:57.852Z"
   },
   {
    "duration": 4872,
    "start_time": "2021-12-24T22:37:13.816Z"
   },
   {
    "duration": 9,
    "start_time": "2021-12-24T22:37:31.284Z"
   },
   {
    "duration": 6,
    "start_time": "2021-12-24T22:37:42.956Z"
   },
   {
    "duration": 610,
    "start_time": "2021-12-24T22:37:53.817Z"
   },
   {
    "duration": 7,
    "start_time": "2021-12-24T22:37:57.732Z"
   },
   {
    "duration": 6,
    "start_time": "2021-12-24T22:38:38.557Z"
   },
   {
    "duration": 8,
    "start_time": "2021-12-24T22:39:00.180Z"
   },
   {
    "duration": 8,
    "start_time": "2021-12-24T22:39:10.733Z"
   },
   {
    "duration": 8,
    "start_time": "2021-12-24T22:42:47.351Z"
   },
   {
    "duration": 11,
    "start_time": "2021-12-24T22:43:07.832Z"
   },
   {
    "duration": 10,
    "start_time": "2021-12-24T22:43:30.196Z"
   },
   {
    "duration": 11,
    "start_time": "2021-12-24T22:44:34.797Z"
   },
   {
    "duration": 18,
    "start_time": "2021-12-24T22:45:29.996Z"
   },
   {
    "duration": 8,
    "start_time": "2021-12-24T22:46:13.876Z"
   },
   {
    "duration": 21,
    "start_time": "2021-12-24T22:52:13.749Z"
   },
   {
    "duration": 45,
    "start_time": "2021-12-24T22:52:39.996Z"
   },
   {
    "duration": 13,
    "start_time": "2021-12-24T22:53:05.004Z"
   },
   {
    "duration": 11,
    "start_time": "2021-12-24T22:53:08.725Z"
   },
   {
    "duration": 40,
    "start_time": "2021-12-24T22:53:35.739Z"
   },
   {
    "duration": 11,
    "start_time": "2021-12-24T22:53:43.824Z"
   },
   {
    "duration": 11,
    "start_time": "2021-12-24T22:53:53.645Z"
   },
   {
    "duration": 9,
    "start_time": "2021-12-24T22:57:51.885Z"
   },
   {
    "duration": 40,
    "start_time": "2021-12-24T22:58:46.481Z"
   },
   {
    "duration": 201,
    "start_time": "2021-12-24T22:59:49.884Z"
   },
   {
    "duration": 12,
    "start_time": "2021-12-24T23:00:03.178Z"
   },
   {
    "duration": 10,
    "start_time": "2021-12-24T23:01:03.477Z"
   },
   {
    "duration": 204,
    "start_time": "2021-12-24T23:01:17.234Z"
   },
   {
    "duration": 188,
    "start_time": "2021-12-24T23:01:24.674Z"
   },
   {
    "duration": 9,
    "start_time": "2021-12-24T23:01:30.734Z"
   },
   {
    "duration": 9,
    "start_time": "2021-12-24T23:02:37.956Z"
   },
   {
    "duration": 192,
    "start_time": "2021-12-24T23:05:40.515Z"
   },
   {
    "duration": 10,
    "start_time": "2021-12-24T23:05:46.424Z"
   },
   {
    "duration": 61,
    "start_time": "2021-12-24T23:06:46.429Z"
   },
   {
    "duration": 69,
    "start_time": "2021-12-24T23:06:52.516Z"
   },
   {
    "duration": 10,
    "start_time": "2021-12-24T23:07:07.023Z"
   },
   {
    "duration": 9,
    "start_time": "2021-12-24T23:07:19.537Z"
   },
   {
    "duration": 9,
    "start_time": "2021-12-24T23:08:25.743Z"
   },
   {
    "duration": 9,
    "start_time": "2021-12-24T23:08:58.954Z"
   },
   {
    "duration": 10,
    "start_time": "2021-12-24T23:09:27.675Z"
   },
   {
    "duration": 10,
    "start_time": "2021-12-24T23:09:43.271Z"
   },
   {
    "duration": 9,
    "start_time": "2021-12-24T23:10:38.995Z"
   },
   {
    "duration": 10,
    "start_time": "2021-12-24T23:10:40.710Z"
   },
   {
    "duration": 10,
    "start_time": "2021-12-24T23:17:25.813Z"
   },
   {
    "duration": 4668,
    "start_time": "2021-12-24T23:28:13.668Z"
   },
   {
    "duration": 4232,
    "start_time": "2021-12-24T23:28:36.133Z"
   },
   {
    "duration": 190,
    "start_time": "2021-12-24T23:29:05.461Z"
   },
   {
    "duration": 192,
    "start_time": "2021-12-24T23:29:20.433Z"
   },
   {
    "duration": 197,
    "start_time": "2021-12-24T23:30:02.313Z"
   },
   {
    "duration": 192,
    "start_time": "2021-12-24T23:32:07.433Z"
   },
   {
    "duration": 306,
    "start_time": "2021-12-24T23:32:26.653Z"
   },
   {
    "duration": 194,
    "start_time": "2021-12-24T23:32:33.393Z"
   },
   {
    "duration": 293,
    "start_time": "2021-12-24T23:32:39.241Z"
   },
   {
    "duration": 340,
    "start_time": "2021-12-24T23:34:04.673Z"
   },
   {
    "duration": 328,
    "start_time": "2021-12-24T23:34:40.977Z"
   },
   {
    "duration": 300,
    "start_time": "2021-12-24T23:35:21.917Z"
   },
   {
    "duration": 336,
    "start_time": "2021-12-24T23:35:30.276Z"
   },
   {
    "duration": 219,
    "start_time": "2021-12-24T23:35:43.579Z"
   },
   {
    "duration": 333,
    "start_time": "2021-12-24T23:35:50.633Z"
   },
   {
    "duration": 316,
    "start_time": "2021-12-24T23:36:14.212Z"
   },
   {
    "duration": 209,
    "start_time": "2021-12-24T23:37:07.713Z"
   },
   {
    "duration": 314,
    "start_time": "2021-12-24T23:37:47.801Z"
   },
   {
    "duration": 324,
    "start_time": "2021-12-24T23:37:57.753Z"
   },
   {
    "duration": 221,
    "start_time": "2021-12-25T00:01:14.972Z"
   },
   {
    "duration": 40,
    "start_time": "2021-12-25T00:01:27.973Z"
   },
   {
    "duration": 43,
    "start_time": "2021-12-25T00:02:10.384Z"
   },
   {
    "duration": 39,
    "start_time": "2021-12-25T00:02:39.204Z"
   },
   {
    "duration": 84,
    "start_time": "2021-12-25T00:02:49.259Z"
   },
   {
    "duration": 9,
    "start_time": "2021-12-25T00:02:49.345Z"
   },
   {
    "duration": 55,
    "start_time": "2021-12-25T00:02:49.357Z"
   },
   {
    "duration": 22,
    "start_time": "2021-12-25T00:02:49.414Z"
   },
   {
    "duration": 720,
    "start_time": "2021-12-25T00:02:49.438Z"
   },
   {
    "duration": 486,
    "start_time": "2021-12-25T00:02:50.160Z"
   },
   {
    "duration": 221,
    "start_time": "2021-12-25T00:02:50.647Z"
   },
   {
    "duration": 253,
    "start_time": "2021-12-25T00:02:50.870Z"
   },
   {
    "duration": 2687,
    "start_time": "2021-12-25T00:02:51.124Z"
   },
   {
    "duration": 232,
    "start_time": "2021-12-25T00:02:53.812Z"
   },
   {
    "duration": 662,
    "start_time": "2021-12-25T00:02:54.046Z"
   },
   {
    "duration": 10258,
    "start_time": "2021-12-25T00:02:54.710Z"
   },
   {
    "duration": 8,
    "start_time": "2021-12-25T00:03:04.969Z"
   },
   {
    "duration": 21,
    "start_time": "2021-12-25T00:03:04.979Z"
   },
   {
    "duration": 8,
    "start_time": "2021-12-25T00:03:05.001Z"
   },
   {
    "duration": 11,
    "start_time": "2021-12-25T00:03:05.011Z"
   },
   {
    "duration": 310,
    "start_time": "2021-12-25T00:03:05.024Z"
   },
   {
    "duration": 186,
    "start_time": "2021-12-25T00:03:05.336Z"
   },
   {
    "duration": -46,
    "start_time": "2021-12-25T00:03:05.570Z"
   },
   {
    "duration": 38,
    "start_time": "2021-12-25T00:03:10.075Z"
   },
   {
    "duration": 37,
    "start_time": "2021-12-25T00:03:46.864Z"
   },
   {
    "duration": 47,
    "start_time": "2021-12-25T00:03:49.784Z"
   },
   {
    "duration": 47,
    "start_time": "2021-12-25T00:03:55.917Z"
   },
   {
    "duration": 38,
    "start_time": "2021-12-25T00:04:13.768Z"
   },
   {
    "duration": 466,
    "start_time": "2021-12-25T00:16:53.812Z"
   },
   {
    "duration": 212,
    "start_time": "2021-12-25T00:17:41.397Z"
   },
   {
    "duration": 10832,
    "start_time": "2021-12-25T00:23:30.232Z"
   },
   {
    "duration": 10763,
    "start_time": "2021-12-25T00:23:53.841Z"
   },
   {
    "duration": 10062,
    "start_time": "2021-12-25T00:24:14.465Z"
   },
   {
    "duration": 7473,
    "start_time": "2021-12-25T00:28:13.985Z"
   },
   {
    "duration": 10327,
    "start_time": "2021-12-25T00:28:46.004Z"
   },
   {
    "duration": 361,
    "start_time": "2021-12-25T17:32:52.874Z"
   },
   {
    "duration": 769,
    "start_time": "2021-12-25T17:32:58.225Z"
   },
   {
    "duration": 9,
    "start_time": "2021-12-25T17:32:58.996Z"
   },
   {
    "duration": 32,
    "start_time": "2021-12-25T17:32:59.007Z"
   },
   {
    "duration": 52,
    "start_time": "2021-12-25T17:32:59.041Z"
   },
   {
    "duration": 961,
    "start_time": "2021-12-25T17:32:59.095Z"
   },
   {
    "duration": 527,
    "start_time": "2021-12-25T17:33:00.059Z"
   },
   {
    "duration": 191,
    "start_time": "2021-12-25T17:33:00.587Z"
   },
   {
    "duration": 226,
    "start_time": "2021-12-25T17:33:00.780Z"
   },
   {
    "duration": 2821,
    "start_time": "2021-12-25T17:33:01.008Z"
   },
   {
    "duration": 218,
    "start_time": "2021-12-25T17:33:03.830Z"
   },
   {
    "duration": 688,
    "start_time": "2021-12-25T17:33:04.051Z"
   },
   {
    "duration": 11043,
    "start_time": "2021-12-25T17:33:04.741Z"
   },
   {
    "duration": 7,
    "start_time": "2021-12-25T17:33:15.786Z"
   },
   {
    "duration": 10,
    "start_time": "2021-12-25T17:33:15.795Z"
   },
   {
    "duration": 7,
    "start_time": "2021-12-25T17:33:15.827Z"
   },
   {
    "duration": 9,
    "start_time": "2021-12-25T17:33:15.836Z"
   },
   {
    "duration": 307,
    "start_time": "2021-12-25T17:33:15.847Z"
   },
   {
    "duration": -9208,
    "start_time": "2021-12-25T17:33:25.733Z"
   },
   {
    "duration": 404,
    "start_time": "2021-12-25T17:33:36.125Z"
   },
   {
    "duration": 17,
    "start_time": "2021-12-25T17:35:24.089Z"
   },
   {
    "duration": 19,
    "start_time": "2021-12-25T17:35:36.418Z"
   },
   {
    "duration": 4,
    "start_time": "2021-12-25T17:38:45.986Z"
   },
   {
    "duration": 7,
    "start_time": "2021-12-25T17:38:51.640Z"
   },
   {
    "duration": 8523,
    "start_time": "2021-12-25T17:39:14.934Z"
   },
   {
    "duration": 6,
    "start_time": "2021-12-25T17:40:12.251Z"
   },
   {
    "duration": 22,
    "start_time": "2021-12-25T17:42:49.460Z"
   },
   {
    "duration": 19,
    "start_time": "2021-12-25T17:43:33.175Z"
   },
   {
    "duration": 319,
    "start_time": "2021-12-25T17:44:06.942Z"
   },
   {
    "duration": 15,
    "start_time": "2021-12-25T17:44:16.674Z"
   },
   {
    "duration": 13,
    "start_time": "2021-12-25T17:52:59.901Z"
   },
   {
    "duration": 336,
    "start_time": "2021-12-25T17:54:09.233Z"
   },
   {
    "duration": 319,
    "start_time": "2021-12-25T17:55:28.527Z"
   },
   {
    "duration": 25,
    "start_time": "2021-12-25T17:57:14.826Z"
   },
   {
    "duration": 49,
    "start_time": "2021-12-25T17:57:36.219Z"
   },
   {
    "duration": 48,
    "start_time": "2021-12-25T17:58:49.443Z"
   },
   {
    "duration": 48,
    "start_time": "2021-12-25T18:01:04.734Z"
   },
   {
    "duration": 67,
    "start_time": "2021-12-25T18:01:41.889Z"
   },
   {
    "duration": 32,
    "start_time": "2021-12-25T18:03:03.727Z"
   },
   {
    "duration": 19,
    "start_time": "2021-12-25T18:03:33.516Z"
   },
   {
    "duration": 82,
    "start_time": "2021-12-25T18:04:24.040Z"
   },
   {
    "duration": 73,
    "start_time": "2021-12-25T18:04:30.962Z"
   },
   {
    "duration": 136,
    "start_time": "2021-12-25T18:05:39.052Z"
   },
   {
    "duration": 525,
    "start_time": "2021-12-25T18:12:42.616Z"
   },
   {
    "duration": 534,
    "start_time": "2021-12-25T18:12:56.310Z"
   },
   {
    "duration": 519,
    "start_time": "2021-12-25T18:14:52.304Z"
   },
   {
    "duration": 75,
    "start_time": "2021-12-25T18:15:59.960Z"
   },
   {
    "duration": 7,
    "start_time": "2021-12-25T18:16:00.037Z"
   },
   {
    "duration": 32,
    "start_time": "2021-12-25T18:16:00.046Z"
   },
   {
    "duration": 21,
    "start_time": "2021-12-25T18:16:00.080Z"
   },
   {
    "duration": 996,
    "start_time": "2021-12-25T18:16:00.103Z"
   },
   {
    "duration": 574,
    "start_time": "2021-12-25T18:16:01.101Z"
   },
   {
    "duration": 204,
    "start_time": "2021-12-25T18:16:01.677Z"
   },
   {
    "duration": 242,
    "start_time": "2021-12-25T18:16:01.884Z"
   },
   {
    "duration": 2782,
    "start_time": "2021-12-25T18:16:02.128Z"
   },
   {
    "duration": 299,
    "start_time": "2021-12-25T18:16:04.912Z"
   },
   {
    "duration": 686,
    "start_time": "2021-12-25T18:16:05.213Z"
   },
   {
    "duration": 10683,
    "start_time": "2021-12-25T18:16:05.900Z"
   },
   {
    "duration": 10,
    "start_time": "2021-12-25T18:16:16.586Z"
   },
   {
    "duration": 34,
    "start_time": "2021-12-25T18:16:16.598Z"
   },
   {
    "duration": 9,
    "start_time": "2021-12-25T18:16:16.634Z"
   },
   {
    "duration": 7,
    "start_time": "2021-12-25T18:16:16.645Z"
   },
   {
    "duration": 283,
    "start_time": "2021-12-25T18:16:16.653Z"
   },
   {
    "duration": 552,
    "start_time": "2021-12-25T18:16:16.938Z"
   },
   {
    "duration": 127,
    "start_time": "2021-12-25T18:17:07.956Z"
   },
   {
    "duration": 308,
    "start_time": "2021-12-25T18:17:47.141Z"
   },
   {
    "duration": 309,
    "start_time": "2021-12-25T18:18:00.369Z"
   },
   {
    "duration": 306,
    "start_time": "2021-12-25T18:18:10.077Z"
   },
   {
    "duration": 305,
    "start_time": "2021-12-25T18:18:25.928Z"
   },
   {
    "duration": 475,
    "start_time": "2021-12-25T18:18:55.777Z"
   },
   {
    "duration": 465,
    "start_time": "2021-12-25T18:19:05.895Z"
   },
   {
    "duration": 630,
    "start_time": "2021-12-25T18:19:25.402Z"
   },
   {
    "duration": 709,
    "start_time": "2021-12-25T18:19:35.354Z"
   },
   {
    "duration": 660,
    "start_time": "2021-12-25T18:22:23.264Z"
   },
   {
    "duration": 745,
    "start_time": "2021-12-25T18:22:44.776Z"
   },
   {
    "duration": 959,
    "start_time": "2021-12-25T18:26:44.172Z"
   },
   {
    "duration": 687,
    "start_time": "2021-12-25T18:26:57.580Z"
   },
   {
    "duration": 635,
    "start_time": "2021-12-25T18:30:42.968Z"
   },
   {
    "duration": 792,
    "start_time": "2021-12-25T18:30:50.819Z"
   },
   {
    "duration": 548,
    "start_time": "2021-12-25T18:31:09.113Z"
   },
   {
    "duration": 797,
    "start_time": "2021-12-25T18:31:14.964Z"
   },
   {
    "duration": 540,
    "start_time": "2021-12-25T18:32:41.671Z"
   },
   {
    "duration": 532,
    "start_time": "2021-12-25T18:33:57.662Z"
   },
   {
    "duration": 627,
    "start_time": "2021-12-25T18:34:15.193Z"
   },
   {
    "duration": 73,
    "start_time": "2021-12-25T18:34:22.332Z"
   },
   {
    "duration": 7,
    "start_time": "2021-12-25T18:34:22.407Z"
   },
   {
    "duration": 42,
    "start_time": "2021-12-25T18:34:22.416Z"
   },
   {
    "duration": 20,
    "start_time": "2021-12-25T18:34:22.460Z"
   },
   {
    "duration": 703,
    "start_time": "2021-12-25T18:34:22.482Z"
   },
   {
    "duration": 429,
    "start_time": "2021-12-25T18:34:23.187Z"
   },
   {
    "duration": 186,
    "start_time": "2021-12-25T18:34:23.618Z"
   },
   {
    "duration": 224,
    "start_time": "2021-12-25T18:34:23.805Z"
   },
   {
    "duration": 2807,
    "start_time": "2021-12-25T18:34:24.032Z"
   },
   {
    "duration": 259,
    "start_time": "2021-12-25T18:34:26.841Z"
   },
   {
    "duration": 894,
    "start_time": "2021-12-25T18:34:27.102Z"
   },
   {
    "duration": 10270,
    "start_time": "2021-12-25T18:34:27.998Z"
   },
   {
    "duration": 8,
    "start_time": "2021-12-25T18:34:38.269Z"
   },
   {
    "duration": 11,
    "start_time": "2021-12-25T18:34:38.278Z"
   },
   {
    "duration": 37,
    "start_time": "2021-12-25T18:34:38.291Z"
   },
   {
    "duration": 7,
    "start_time": "2021-12-25T18:34:38.330Z"
   },
   {
    "duration": 308,
    "start_time": "2021-12-25T18:34:38.339Z"
   },
   {
    "duration": 547,
    "start_time": "2021-12-25T18:34:38.648Z"
   },
   {
    "duration": 1175,
    "start_time": "2021-12-25T22:00:06.701Z"
   },
   {
    "duration": 17,
    "start_time": "2021-12-25T22:00:07.880Z"
   },
   {
    "duration": 55,
    "start_time": "2021-12-25T22:00:07.917Z"
   },
   {
    "duration": 51,
    "start_time": "2021-12-25T22:00:07.975Z"
   },
   {
    "duration": 1172,
    "start_time": "2021-12-25T22:00:08.028Z"
   },
   {
    "duration": 867,
    "start_time": "2021-12-25T22:00:09.202Z"
   },
   {
    "duration": 326,
    "start_time": "2021-12-25T22:00:10.071Z"
   },
   {
    "duration": 377,
    "start_time": "2021-12-25T22:00:10.399Z"
   },
   {
    "duration": 4618,
    "start_time": "2021-12-25T22:00:10.780Z"
   },
   {
    "duration": 456,
    "start_time": "2021-12-25T22:00:15.401Z"
   },
   {
    "duration": 994,
    "start_time": "2021-12-25T22:00:15.859Z"
   },
   {
    "duration": 17819,
    "start_time": "2021-12-25T22:00:16.855Z"
   },
   {
    "duration": 14,
    "start_time": "2021-12-25T22:00:34.677Z"
   },
   {
    "duration": 14,
    "start_time": "2021-12-25T22:00:34.717Z"
   },
   {
    "duration": 11,
    "start_time": "2021-12-25T22:00:34.734Z"
   },
   {
    "duration": 11,
    "start_time": "2021-12-25T22:00:34.747Z"
   },
   {
    "duration": 462,
    "start_time": "2021-12-25T22:00:34.761Z"
   },
   {
    "duration": 339,
    "start_time": "2021-12-25T22:00:35.226Z"
   },
   {
    "duration": 688,
    "start_time": "2021-12-25T22:02:51.053Z"
   },
   {
    "duration": 667,
    "start_time": "2021-12-25T22:03:01.792Z"
   },
   {
    "duration": 584,
    "start_time": "2021-12-25T22:05:23.923Z"
   },
   {
    "duration": 640,
    "start_time": "2021-12-25T22:06:08.682Z"
   },
   {
    "duration": 715,
    "start_time": "2021-12-25T22:06:28.771Z"
   },
   {
    "duration": 835,
    "start_time": "2021-12-26T16:08:51.729Z"
   },
   {
    "duration": 10,
    "start_time": "2021-12-26T16:08:52.565Z"
   },
   {
    "duration": 37,
    "start_time": "2021-12-26T16:08:52.578Z"
   },
   {
    "duration": 44,
    "start_time": "2021-12-26T16:08:52.617Z"
   },
   {
    "duration": 954,
    "start_time": "2021-12-26T16:08:52.662Z"
   },
   {
    "duration": 812,
    "start_time": "2021-12-26T16:08:53.618Z"
   },
   {
    "duration": 339,
    "start_time": "2021-12-26T16:08:54.433Z"
   },
   {
    "duration": 251,
    "start_time": "2021-12-26T16:08:54.775Z"
   },
   {
    "duration": 2697,
    "start_time": "2021-12-26T16:08:55.028Z"
   },
   {
    "duration": 219,
    "start_time": "2021-12-26T16:08:57.727Z"
   },
   {
    "duration": 630,
    "start_time": "2021-12-26T16:08:57.948Z"
   },
   {
    "duration": 10530,
    "start_time": "2021-12-26T16:08:58.579Z"
   },
   {
    "duration": 8,
    "start_time": "2021-12-26T16:09:09.111Z"
   },
   {
    "duration": 14,
    "start_time": "2021-12-26T16:09:09.121Z"
   },
   {
    "duration": 29,
    "start_time": "2021-12-26T16:09:09.137Z"
   },
   {
    "duration": 8,
    "start_time": "2021-12-26T16:09:09.168Z"
   },
   {
    "duration": 304,
    "start_time": "2021-12-26T16:09:09.178Z"
   },
   {
    "duration": 320,
    "start_time": "2021-12-26T16:09:09.484Z"
   },
   {
    "duration": 330,
    "start_time": "2021-12-26T16:12:53.203Z"
   },
   {
    "duration": 318,
    "start_time": "2021-12-26T16:13:19.604Z"
   },
   {
    "duration": 418,
    "start_time": "2021-12-26T16:13:47.657Z"
   },
   {
    "duration": 389,
    "start_time": "2021-12-26T16:15:21.530Z"
   },
   {
    "duration": 824,
    "start_time": "2021-12-26T16:17:36.751Z"
   },
   {
    "duration": 101,
    "start_time": "2021-12-26T16:30:14.466Z"
   },
   {
    "duration": 8,
    "start_time": "2021-12-26T16:30:14.570Z"
   },
   {
    "duration": 36,
    "start_time": "2021-12-26T16:30:14.581Z"
   },
   {
    "duration": 54,
    "start_time": "2021-12-26T16:30:14.619Z"
   },
   {
    "duration": 927,
    "start_time": "2021-12-26T16:30:14.675Z"
   },
   {
    "duration": 471,
    "start_time": "2021-12-26T16:30:15.604Z"
   },
   {
    "duration": 206,
    "start_time": "2021-12-26T16:30:16.077Z"
   },
   {
    "duration": 243,
    "start_time": "2021-12-26T16:30:16.286Z"
   },
   {
    "duration": 3062,
    "start_time": "2021-12-26T16:30:16.531Z"
   },
   {
    "duration": 233,
    "start_time": "2021-12-26T16:30:19.595Z"
   },
   {
    "duration": 650,
    "start_time": "2021-12-26T16:30:19.830Z"
   },
   {
    "duration": 11812,
    "start_time": "2021-12-26T16:30:20.481Z"
   },
   {
    "duration": 9,
    "start_time": "2021-12-26T16:30:32.295Z"
   },
   {
    "duration": 11,
    "start_time": "2021-12-26T16:30:32.306Z"
   },
   {
    "duration": 8,
    "start_time": "2021-12-26T16:30:32.319Z"
   },
   {
    "duration": 9,
    "start_time": "2021-12-26T16:30:32.360Z"
   },
   {
    "duration": 310,
    "start_time": "2021-12-26T16:30:32.371Z"
   },
   {
    "duration": 88,
    "start_time": "2021-12-26T16:30:32.683Z"
   },
   {
    "duration": -674,
    "start_time": "2021-12-26T16:30:33.447Z"
   },
   {
    "duration": 739,
    "start_time": "2021-12-26T16:31:51.942Z"
   },
   {
    "duration": 1237,
    "start_time": "2021-12-26T16:32:00.886Z"
   },
   {
    "duration": 1355,
    "start_time": "2021-12-26T16:32:05.981Z"
   },
   {
    "duration": 882,
    "start_time": "2021-12-26T16:32:11.395Z"
   },
   {
    "duration": 712,
    "start_time": "2021-12-26T16:32:15.221Z"
   },
   {
    "duration": 704,
    "start_time": "2021-12-26T16:32:20.324Z"
   },
   {
    "duration": 992,
    "start_time": "2021-12-26T16:33:01.481Z"
   },
   {
    "duration": 723,
    "start_time": "2021-12-26T16:33:09.572Z"
   },
   {
    "duration": 863,
    "start_time": "2021-12-26T16:33:15.181Z"
   },
   {
    "duration": 700,
    "start_time": "2021-12-26T16:33:34.902Z"
   },
   {
    "duration": 544,
    "start_time": "2021-12-26T16:34:53.114Z"
   },
   {
    "duration": 546,
    "start_time": "2021-12-26T16:35:03.478Z"
   },
   {
    "duration": 901,
    "start_time": "2021-12-26T16:35:20.166Z"
   },
   {
    "duration": 102,
    "start_time": "2021-12-26T16:45:43.191Z"
   },
   {
    "duration": 10,
    "start_time": "2021-12-26T16:45:43.296Z"
   },
   {
    "duration": 53,
    "start_time": "2021-12-26T16:45:43.309Z"
   },
   {
    "duration": 25,
    "start_time": "2021-12-26T16:45:43.365Z"
   },
   {
    "duration": 907,
    "start_time": "2021-12-26T16:45:43.392Z"
   },
   {
    "duration": 469,
    "start_time": "2021-12-26T16:45:44.301Z"
   },
   {
    "duration": 212,
    "start_time": "2021-12-26T16:45:44.772Z"
   },
   {
    "duration": 248,
    "start_time": "2021-12-26T16:45:44.988Z"
   },
   {
    "duration": 2835,
    "start_time": "2021-12-26T16:45:45.238Z"
   },
   {
    "duration": 249,
    "start_time": "2021-12-26T16:45:48.076Z"
   },
   {
    "duration": 736,
    "start_time": "2021-12-26T16:45:48.328Z"
   },
   {
    "duration": 10806,
    "start_time": "2021-12-26T16:45:49.066Z"
   },
   {
    "duration": 7,
    "start_time": "2021-12-26T16:45:59.874Z"
   },
   {
    "duration": 13,
    "start_time": "2021-12-26T16:45:59.883Z"
   },
   {
    "duration": 14,
    "start_time": "2021-12-26T16:45:59.898Z"
   },
   {
    "duration": 30,
    "start_time": "2021-12-26T16:45:59.914Z"
   },
   {
    "duration": 462,
    "start_time": "2021-12-26T16:45:59.945Z"
   },
   {
    "duration": 332,
    "start_time": "2021-12-26T16:46:00.408Z"
   },
   {
    "duration": 321,
    "start_time": "2021-12-26T16:46:44.406Z"
   },
   {
    "duration": 313,
    "start_time": "2021-12-26T16:46:52.568Z"
   },
   {
    "duration": 210,
    "start_time": "2021-12-26T16:47:04.237Z"
   },
   {
    "duration": 213,
    "start_time": "2021-12-26T16:47:48.916Z"
   },
   {
    "duration": 250,
    "start_time": "2021-12-26T16:48:04.188Z"
   },
   {
    "duration": 215,
    "start_time": "2021-12-26T16:48:08.475Z"
   },
   {
    "duration": 211,
    "start_time": "2021-12-26T16:48:22.801Z"
   },
   {
    "duration": 359,
    "start_time": "2021-12-26T16:49:08.797Z"
   },
   {
    "duration": 240,
    "start_time": "2021-12-26T16:49:13.876Z"
   },
   {
    "duration": 209,
    "start_time": "2021-12-26T16:49:26.854Z"
   },
   {
    "duration": 211,
    "start_time": "2021-12-26T16:50:15.358Z"
   },
   {
    "duration": 276,
    "start_time": "2021-12-26T16:50:26.721Z"
   },
   {
    "duration": 333,
    "start_time": "2021-12-26T16:50:42.854Z"
   },
   {
    "duration": 318,
    "start_time": "2021-12-26T16:52:09.192Z"
   },
   {
    "duration": 275,
    "start_time": "2021-12-26T16:52:23.795Z"
   },
   {
    "duration": 367,
    "start_time": "2021-12-26T16:52:29.139Z"
   },
   {
    "duration": 212,
    "start_time": "2021-12-26T16:52:37.221Z"
   },
   {
    "duration": 212,
    "start_time": "2021-12-26T16:52:57.093Z"
   },
   {
    "duration": 11,
    "start_time": "2021-12-26T16:55:10.685Z"
   },
   {
    "duration": 15,
    "start_time": "2021-12-26T16:55:19.429Z"
   },
   {
    "duration": 15,
    "start_time": "2021-12-26T16:55:51.915Z"
   },
   {
    "duration": 443,
    "start_time": "2021-12-26T17:02:46.719Z"
   },
   {
    "duration": 507,
    "start_time": "2021-12-26T17:06:46.562Z"
   },
   {
    "duration": 288,
    "start_time": "2021-12-26T17:06:55.856Z"
   },
   {
    "duration": 7069,
    "start_time": "2021-12-26T17:11:08.284Z"
   },
   {
    "duration": 559,
    "start_time": "2021-12-26T17:12:02.962Z"
   },
   {
    "duration": 573,
    "start_time": "2021-12-26T17:15:02.855Z"
   },
   {
    "duration": 713,
    "start_time": "2021-12-26T17:15:19.100Z"
   },
   {
    "duration": 541,
    "start_time": "2021-12-26T17:16:55.041Z"
   },
   {
    "duration": 282,
    "start_time": "2021-12-26T17:19:53.374Z"
   },
   {
    "duration": 565,
    "start_time": "2021-12-26T17:22:05.942Z"
   },
   {
    "duration": 642,
    "start_time": "2021-12-26T17:27:13.488Z"
   },
   {
    "duration": 264,
    "start_time": "2021-12-26T17:27:34.060Z"
   },
   {
    "duration": 274,
    "start_time": "2021-12-26T17:27:53.528Z"
   },
   {
    "duration": 254,
    "start_time": "2021-12-26T17:28:58.394Z"
   },
   {
    "duration": 232,
    "start_time": "2021-12-26T17:29:37.774Z"
   },
   {
    "duration": 726,
    "start_time": "2021-12-26T17:32:12.802Z"
   },
   {
    "duration": 921,
    "start_time": "2021-12-26T17:33:06.951Z"
   },
   {
    "duration": 565,
    "start_time": "2021-12-26T17:33:23.574Z"
   },
   {
    "duration": 522,
    "start_time": "2021-12-26T17:35:48.586Z"
   },
   {
    "duration": 524,
    "start_time": "2021-12-26T17:43:39.476Z"
   },
   {
    "duration": 111,
    "start_time": "2021-12-26T17:43:49.126Z"
   },
   {
    "duration": 9,
    "start_time": "2021-12-26T17:43:49.240Z"
   },
   {
    "duration": 43,
    "start_time": "2021-12-26T17:43:49.251Z"
   },
   {
    "duration": 22,
    "start_time": "2021-12-26T17:43:49.295Z"
   },
   {
    "duration": 946,
    "start_time": "2021-12-26T17:43:49.319Z"
   },
   {
    "duration": 463,
    "start_time": "2021-12-26T17:43:50.267Z"
   },
   {
    "duration": 205,
    "start_time": "2021-12-26T17:43:50.731Z"
   },
   {
    "duration": 246,
    "start_time": "2021-12-26T17:43:50.938Z"
   },
   {
    "duration": 2876,
    "start_time": "2021-12-26T17:43:51.187Z"
   },
   {
    "duration": 239,
    "start_time": "2021-12-26T17:43:54.066Z"
   },
   {
    "duration": 572,
    "start_time": "2021-12-26T17:43:54.307Z"
   },
   {
    "duration": 11900,
    "start_time": "2021-12-26T17:43:54.880Z"
   },
   {
    "duration": 11,
    "start_time": "2021-12-26T17:44:06.782Z"
   },
   {
    "duration": 12,
    "start_time": "2021-12-26T17:44:06.795Z"
   },
   {
    "duration": 8,
    "start_time": "2021-12-26T17:44:06.810Z"
   },
   {
    "duration": 8,
    "start_time": "2021-12-26T17:44:06.820Z"
   },
   {
    "duration": 47,
    "start_time": "2021-12-26T17:44:06.829Z"
   },
   {
    "duration": 544,
    "start_time": "2021-12-26T17:44:06.878Z"
   },
   {
    "duration": 1323,
    "start_time": "2021-12-27T07:19:02.276Z"
   },
   {
    "duration": 14,
    "start_time": "2021-12-27T07:19:03.602Z"
   },
   {
    "duration": 72,
    "start_time": "2021-12-27T07:19:03.619Z"
   },
   {
    "duration": 36,
    "start_time": "2021-12-27T07:19:03.695Z"
   },
   {
    "duration": 1433,
    "start_time": "2021-12-27T07:19:03.734Z"
   },
   {
    "duration": 836,
    "start_time": "2021-12-27T07:19:05.170Z"
   },
   {
    "duration": 366,
    "start_time": "2021-12-27T07:19:06.009Z"
   },
   {
    "duration": 481,
    "start_time": "2021-12-27T07:19:06.378Z"
   },
   {
    "duration": 6473,
    "start_time": "2021-12-27T07:19:06.864Z"
   },
   {
    "duration": 355,
    "start_time": "2021-12-27T07:19:13.340Z"
   },
   {
    "duration": 1012,
    "start_time": "2021-12-27T07:19:13.698Z"
   },
   {
    "duration": 18666,
    "start_time": "2021-12-27T07:19:14.713Z"
   },
   {
    "duration": 12,
    "start_time": "2021-12-27T07:19:33.381Z"
   },
   {
    "duration": 17,
    "start_time": "2021-12-27T07:19:33.395Z"
   },
   {
    "duration": 52,
    "start_time": "2021-12-27T07:19:33.415Z"
   },
   {
    "duration": 12,
    "start_time": "2021-12-27T07:19:33.469Z"
   },
   {
    "duration": 20,
    "start_time": "2021-12-27T07:19:33.484Z"
   },
   {
    "duration": 1102,
    "start_time": "2021-12-27T07:19:33.507Z"
   },
   {
    "duration": 168,
    "start_time": "2021-12-27T07:19:34.444Z"
   },
   {
    "duration": 150,
    "start_time": "2021-12-27T07:23:39.059Z"
   },
   {
    "duration": 59,
    "start_time": "2021-12-27T07:24:17.173Z"
   },
   {
    "duration": 504,
    "start_time": "2021-12-27T07:42:12.118Z"
   },
   {
    "duration": 101,
    "start_time": "2021-12-27T08:22:43.170Z"
   },
   {
    "duration": 11,
    "start_time": "2021-12-27T08:22:43.274Z"
   },
   {
    "duration": 84,
    "start_time": "2021-12-27T08:22:43.288Z"
   },
   {
    "duration": 30,
    "start_time": "2021-12-27T08:22:43.375Z"
   },
   {
    "duration": 1355,
    "start_time": "2021-12-27T08:22:43.408Z"
   },
   {
    "duration": 778,
    "start_time": "2021-12-27T08:22:44.766Z"
   },
   {
    "duration": 406,
    "start_time": "2021-12-27T08:22:45.547Z"
   },
   {
    "duration": 411,
    "start_time": "2021-12-27T08:22:45.960Z"
   },
   {
    "duration": 5537,
    "start_time": "2021-12-27T08:22:46.375Z"
   },
   {
    "duration": 458,
    "start_time": "2021-12-27T08:22:51.915Z"
   },
   {
    "duration": 1178,
    "start_time": "2021-12-27T08:22:52.377Z"
   },
   {
    "duration": 17227,
    "start_time": "2021-12-27T08:22:53.560Z"
   },
   {
    "duration": 10,
    "start_time": "2021-12-27T08:23:10.790Z"
   },
   {
    "duration": 12,
    "start_time": "2021-12-27T08:23:10.803Z"
   },
   {
    "duration": 50,
    "start_time": "2021-12-27T08:23:10.817Z"
   },
   {
    "duration": 11,
    "start_time": "2021-12-27T08:23:10.869Z"
   },
   {
    "duration": 162,
    "start_time": "2021-12-27T08:23:10.882Z"
   },
   {
    "duration": 942,
    "start_time": "2021-12-27T08:23:11.047Z"
   },
   {
    "duration": -13,
    "start_time": "2021-12-27T08:23:12.006Z"
   },
   {
    "duration": 96,
    "start_time": "2021-12-27T08:23:19.647Z"
   },
   {
    "duration": 23,
    "start_time": "2021-12-27T08:23:19.745Z"
   },
   {
    "duration": 483,
    "start_time": "2021-12-27T08:23:19.771Z"
   },
   {
    "duration": 140,
    "start_time": "2021-12-27T08:23:20.117Z"
   },
   {
    "duration": 134,
    "start_time": "2021-12-27T08:23:20.125Z"
   },
   {
    "duration": 125,
    "start_time": "2021-12-27T08:23:20.135Z"
   },
   {
    "duration": 123,
    "start_time": "2021-12-27T08:23:20.138Z"
   },
   {
    "duration": 124,
    "start_time": "2021-12-27T08:23:20.139Z"
   },
   {
    "duration": 124,
    "start_time": "2021-12-27T08:23:20.140Z"
   },
   {
    "duration": 125,
    "start_time": "2021-12-27T08:23:20.141Z"
   },
   {
    "duration": 125,
    "start_time": "2021-12-27T08:23:20.142Z"
   },
   {
    "duration": 125,
    "start_time": "2021-12-27T08:23:20.143Z"
   },
   {
    "duration": 125,
    "start_time": "2021-12-27T08:23:20.144Z"
   },
   {
    "duration": 126,
    "start_time": "2021-12-27T08:23:20.145Z"
   },
   {
    "duration": 127,
    "start_time": "2021-12-27T08:23:20.145Z"
   },
   {
    "duration": 127,
    "start_time": "2021-12-27T08:23:20.146Z"
   },
   {
    "duration": 125,
    "start_time": "2021-12-27T08:23:20.149Z"
   },
   {
    "duration": 127,
    "start_time": "2021-12-27T08:23:20.149Z"
   },
   {
    "duration": 553,
    "start_time": "2021-12-27T08:25:28.287Z"
   },
   {
    "duration": 491,
    "start_time": "2021-12-27T08:25:34.323Z"
   },
   {
    "duration": 83,
    "start_time": "2021-12-27T08:26:05.220Z"
   },
   {
    "duration": 73,
    "start_time": "2021-12-27T08:30:02.805Z"
   },
   {
    "duration": 74,
    "start_time": "2021-12-27T08:30:17.295Z"
   },
   {
    "duration": 69,
    "start_time": "2021-12-27T08:30:29.325Z"
   },
   {
    "duration": 121,
    "start_time": "2021-12-27T08:31:01.221Z"
   },
   {
    "duration": 71,
    "start_time": "2021-12-27T08:31:25.573Z"
   },
   {
    "duration": 100,
    "start_time": "2021-12-27T08:33:42.701Z"
   },
   {
    "duration": 12,
    "start_time": "2021-12-27T08:33:42.803Z"
   },
   {
    "duration": 95,
    "start_time": "2021-12-27T08:33:42.818Z"
   },
   {
    "duration": 43,
    "start_time": "2021-12-27T08:33:42.916Z"
   },
   {
    "duration": 1263,
    "start_time": "2021-12-27T08:33:42.963Z"
   },
   {
    "duration": 755,
    "start_time": "2021-12-27T08:33:44.229Z"
   },
   {
    "duration": 330,
    "start_time": "2021-12-27T08:33:44.986Z"
   },
   {
    "duration": 440,
    "start_time": "2021-12-27T08:33:45.319Z"
   },
   {
    "duration": 5061,
    "start_time": "2021-12-27T08:33:45.761Z"
   },
   {
    "duration": 454,
    "start_time": "2021-12-27T08:33:50.825Z"
   },
   {
    "duration": 1042,
    "start_time": "2021-12-27T08:33:51.282Z"
   },
   {
    "duration": 17827,
    "start_time": "2021-12-27T08:33:52.327Z"
   },
   {
    "duration": 13,
    "start_time": "2021-12-27T08:34:10.172Z"
   },
   {
    "duration": 12,
    "start_time": "2021-12-27T08:34:10.187Z"
   },
   {
    "duration": 11,
    "start_time": "2021-12-27T08:34:10.201Z"
   },
   {
    "duration": 20,
    "start_time": "2021-12-27T08:34:10.260Z"
   },
   {
    "duration": 884,
    "start_time": "2021-12-27T08:34:10.283Z"
   },
   {
    "duration": -2067,
    "start_time": "2021-12-27T08:34:13.237Z"
   },
   {
    "duration": 12,
    "start_time": "2021-12-27T08:34:20.393Z"
   },
   {
    "duration": 90,
    "start_time": "2021-12-27T08:37:36.822Z"
   },
   {
    "duration": 105,
    "start_time": "2021-12-27T08:44:26.142Z"
   },
   {
    "duration": 88,
    "start_time": "2021-12-27T08:44:39.866Z"
   },
   {
    "duration": 101,
    "start_time": "2021-12-27T08:46:40.431Z"
   },
   {
    "duration": 115,
    "start_time": "2021-12-27T08:46:48.468Z"
   },
   {
    "duration": 105,
    "start_time": "2021-12-27T08:47:17.627Z"
   },
   {
    "duration": 113,
    "start_time": "2021-12-27T08:47:51.495Z"
   },
   {
    "duration": 95,
    "start_time": "2021-12-27T08:48:12.883Z"
   },
   {
    "duration": 99,
    "start_time": "2021-12-27T08:48:31.782Z"
   },
   {
    "duration": 99,
    "start_time": "2021-12-27T08:48:43.465Z"
   },
   {
    "duration": 15,
    "start_time": "2021-12-27T08:48:43.567Z"
   },
   {
    "duration": 105,
    "start_time": "2021-12-27T08:48:43.585Z"
   },
   {
    "duration": 32,
    "start_time": "2021-12-27T08:48:43.692Z"
   },
   {
    "duration": 1234,
    "start_time": "2021-12-27T08:48:43.726Z"
   },
   {
    "duration": 870,
    "start_time": "2021-12-27T08:48:44.963Z"
   },
   {
    "duration": 461,
    "start_time": "2021-12-27T08:48:45.835Z"
   },
   {
    "duration": 483,
    "start_time": "2021-12-27T08:48:46.298Z"
   },
   {
    "duration": 4937,
    "start_time": "2021-12-27T08:48:46.787Z"
   },
   {
    "duration": 370,
    "start_time": "2021-12-27T08:48:51.727Z"
   },
   {
    "duration": 1061,
    "start_time": "2021-12-27T08:48:52.100Z"
   },
   {
    "duration": 17973,
    "start_time": "2021-12-27T08:48:53.164Z"
   },
   {
    "duration": 26,
    "start_time": "2021-12-27T08:49:11.140Z"
   },
   {
    "duration": 14,
    "start_time": "2021-12-27T08:49:11.169Z"
   },
   {
    "duration": 12,
    "start_time": "2021-12-27T08:49:11.186Z"
   },
   {
    "duration": 12,
    "start_time": "2021-12-27T08:49:11.200Z"
   },
   {
    "duration": 19,
    "start_time": "2021-12-27T08:49:11.260Z"
   },
   {
    "duration": 808,
    "start_time": "2021-12-27T08:49:11.281Z"
   },
   {
    "duration": 124,
    "start_time": "2021-12-27T08:49:18.958Z"
   },
   {
    "duration": 123,
    "start_time": "2021-12-27T08:49:38.345Z"
   },
   {
    "duration": 139,
    "start_time": "2021-12-27T08:50:02.200Z"
   },
   {
    "duration": 93,
    "start_time": "2021-12-27T08:50:07.059Z"
   },
   {
    "duration": 14,
    "start_time": "2021-12-27T08:50:07.154Z"
   },
   {
    "duration": 159,
    "start_time": "2021-12-27T08:50:07.170Z"
   },
   {
    "duration": 43,
    "start_time": "2021-12-27T08:50:07.332Z"
   },
   {
    "duration": 1361,
    "start_time": "2021-12-27T08:50:07.377Z"
   },
   {
    "duration": 787,
    "start_time": "2021-12-27T08:50:08.740Z"
   },
   {
    "duration": 346,
    "start_time": "2021-12-27T08:50:09.529Z"
   },
   {
    "duration": 385,
    "start_time": "2021-12-27T08:50:09.879Z"
   },
   {
    "duration": 4704,
    "start_time": "2021-12-27T08:50:10.267Z"
   },
   {
    "duration": 360,
    "start_time": "2021-12-27T08:50:14.973Z"
   },
   {
    "duration": 1093,
    "start_time": "2021-12-27T08:50:15.335Z"
   },
   {
    "duration": 17393,
    "start_time": "2021-12-27T08:50:16.431Z"
   },
   {
    "duration": 38,
    "start_time": "2021-12-27T08:50:33.827Z"
   },
   {
    "duration": 16,
    "start_time": "2021-12-27T08:50:33.868Z"
   },
   {
    "duration": 14,
    "start_time": "2021-12-27T08:50:33.887Z"
   },
   {
    "duration": 62,
    "start_time": "2021-12-27T08:50:33.904Z"
   },
   {
    "duration": 18,
    "start_time": "2021-12-27T08:50:33.969Z"
   },
   {
    "duration": 1041,
    "start_time": "2021-12-27T08:50:33.990Z"
   },
   {
    "duration": 621,
    "start_time": "2021-12-27T08:53:09.257Z"
   },
   {
    "duration": 130,
    "start_time": "2021-12-27T08:53:21.016Z"
   },
   {
    "duration": 97,
    "start_time": "2021-12-27T08:54:07.231Z"
   },
   {
    "duration": 84,
    "start_time": "2021-12-27T08:54:13.439Z"
   },
   {
    "duration": 103,
    "start_time": "2021-12-27T08:54:18.388Z"
   },
   {
    "duration": 15,
    "start_time": "2021-12-27T08:54:18.494Z"
   },
   {
    "duration": 89,
    "start_time": "2021-12-27T08:54:18.512Z"
   },
   {
    "duration": 31,
    "start_time": "2021-12-27T08:54:18.604Z"
   },
   {
    "duration": 1614,
    "start_time": "2021-12-27T08:54:18.638Z"
   },
   {
    "duration": 739,
    "start_time": "2021-12-27T08:54:20.259Z"
   },
   {
    "duration": 339,
    "start_time": "2021-12-27T08:54:21.000Z"
   },
   {
    "duration": 397,
    "start_time": "2021-12-27T08:54:21.341Z"
   },
   {
    "duration": 4728,
    "start_time": "2021-12-27T08:54:21.742Z"
   },
   {
    "duration": 362,
    "start_time": "2021-12-27T08:54:26.472Z"
   },
   {
    "duration": 1136,
    "start_time": "2021-12-27T08:54:26.836Z"
   },
   {
    "duration": 19033,
    "start_time": "2021-12-27T08:54:27.975Z"
   },
   {
    "duration": 12,
    "start_time": "2021-12-27T08:54:47.010Z"
   },
   {
    "duration": 39,
    "start_time": "2021-12-27T08:54:47.024Z"
   },
   {
    "duration": 11,
    "start_time": "2021-12-27T08:54:47.065Z"
   },
   {
    "duration": 11,
    "start_time": "2021-12-27T08:54:47.079Z"
   },
   {
    "duration": 19,
    "start_time": "2021-12-27T08:54:47.092Z"
   },
   {
    "duration": 890,
    "start_time": "2021-12-27T08:54:47.113Z"
   },
   {
    "duration": 89,
    "start_time": "2021-12-27T08:57:09.468Z"
   },
   {
    "duration": 85,
    "start_time": "2021-12-27T09:00:05.053Z"
   },
   {
    "duration": 107,
    "start_time": "2021-12-27T09:00:13.774Z"
   },
   {
    "duration": 15,
    "start_time": "2021-12-27T09:00:13.885Z"
   },
   {
    "duration": 104,
    "start_time": "2021-12-27T09:00:13.904Z"
   },
   {
    "duration": 47,
    "start_time": "2021-12-27T09:00:14.012Z"
   },
   {
    "duration": 1234,
    "start_time": "2021-12-27T09:00:14.062Z"
   },
   {
    "duration": 795,
    "start_time": "2021-12-27T09:00:15.298Z"
   },
   {
    "duration": 346,
    "start_time": "2021-12-27T09:00:16.096Z"
   },
   {
    "duration": 396,
    "start_time": "2021-12-27T09:00:16.445Z"
   },
   {
    "duration": 4975,
    "start_time": "2021-12-27T09:00:16.845Z"
   },
   {
    "duration": 399,
    "start_time": "2021-12-27T09:00:21.824Z"
   },
   {
    "duration": 1084,
    "start_time": "2021-12-27T09:00:22.226Z"
   },
   {
    "duration": 19125,
    "start_time": "2021-12-27T09:00:23.313Z"
   },
   {
    "duration": 28,
    "start_time": "2021-12-27T09:00:42.441Z"
   },
   {
    "duration": 16,
    "start_time": "2021-12-27T09:00:42.472Z"
   },
   {
    "duration": 14,
    "start_time": "2021-12-27T09:00:42.491Z"
   },
   {
    "duration": 60,
    "start_time": "2021-12-27T09:00:42.508Z"
   },
   {
    "duration": 19,
    "start_time": "2021-12-27T09:00:42.571Z"
   },
   {
    "duration": 821,
    "start_time": "2021-12-27T09:00:42.593Z"
   },
   {
    "duration": 105,
    "start_time": "2021-12-27T09:04:01.521Z"
   },
   {
    "duration": 12,
    "start_time": "2021-12-27T09:04:01.629Z"
   },
   {
    "duration": 96,
    "start_time": "2021-12-27T09:04:01.644Z"
   },
   {
    "duration": 47,
    "start_time": "2021-12-27T09:04:01.743Z"
   },
   {
    "duration": 1250,
    "start_time": "2021-12-27T09:04:01.793Z"
   },
   {
    "duration": 727,
    "start_time": "2021-12-27T09:04:03.046Z"
   },
   {
    "duration": 505,
    "start_time": "2021-12-27T09:04:03.776Z"
   },
   {
    "duration": 383,
    "start_time": "2021-12-27T09:04:04.285Z"
   },
   {
    "duration": 5073,
    "start_time": "2021-12-27T09:04:04.670Z"
   },
   {
    "duration": 376,
    "start_time": "2021-12-27T09:04:09.745Z"
   },
   {
    "duration": 1040,
    "start_time": "2021-12-27T09:04:10.123Z"
   },
   {
    "duration": 19197,
    "start_time": "2021-12-27T09:04:11.166Z"
   },
   {
    "duration": 14,
    "start_time": "2021-12-27T09:04:30.365Z"
   },
   {
    "duration": 25,
    "start_time": "2021-12-27T09:04:30.382Z"
   },
   {
    "duration": 50,
    "start_time": "2021-12-27T09:04:30.411Z"
   },
   {
    "duration": 15,
    "start_time": "2021-12-27T09:04:30.463Z"
   },
   {
    "duration": 21,
    "start_time": "2021-12-27T09:04:30.481Z"
   },
   {
    "duration": 861,
    "start_time": "2021-12-27T09:04:30.504Z"
   },
   {
    "duration": 531,
    "start_time": "2021-12-27T09:08:45.544Z"
   },
   {
    "duration": 548,
    "start_time": "2021-12-27T09:11:34.241Z"
   },
   {
    "duration": 809,
    "start_time": "2021-12-27T09:14:11.826Z"
   },
   {
    "duration": 644,
    "start_time": "2021-12-27T09:14:27.528Z"
   },
   {
    "duration": 968,
    "start_time": "2021-12-27T09:14:37.094Z"
   },
   {
    "duration": 767,
    "start_time": "2021-12-27T09:14:41.576Z"
   },
   {
    "duration": 701,
    "start_time": "2021-12-27T09:14:56.715Z"
   },
   {
    "duration": 845,
    "start_time": "2021-12-27T09:15:18.594Z"
   },
   {
    "duration": 345,
    "start_time": "2021-12-27T09:22:10.208Z"
   },
   {
    "duration": 245,
    "start_time": "2021-12-27T09:25:12.235Z"
   },
   {
    "duration": 267,
    "start_time": "2021-12-27T09:26:48.979Z"
   },
   {
    "duration": 334,
    "start_time": "2021-12-27T09:27:49.870Z"
   },
   {
    "duration": 375,
    "start_time": "2021-12-27T09:28:16.739Z"
   },
   {
    "duration": 755,
    "start_time": "2021-12-27T13:55:39.774Z"
   },
   {
    "duration": 10,
    "start_time": "2021-12-27T13:55:40.531Z"
   },
   {
    "duration": 67,
    "start_time": "2021-12-27T13:55:40.543Z"
   },
   {
    "duration": 27,
    "start_time": "2021-12-27T13:55:40.612Z"
   },
   {
    "duration": 729,
    "start_time": "2021-12-27T13:55:40.640Z"
   },
   {
    "duration": 543,
    "start_time": "2021-12-27T13:55:41.371Z"
   },
   {
    "duration": 220,
    "start_time": "2021-12-27T13:55:41.916Z"
   },
   {
    "duration": 269,
    "start_time": "2021-12-27T13:55:42.140Z"
   },
   {
    "duration": 2751,
    "start_time": "2021-12-27T13:55:42.412Z"
   },
   {
    "duration": 244,
    "start_time": "2021-12-27T13:55:45.165Z"
   },
   {
    "duration": 673,
    "start_time": "2021-12-27T13:55:45.411Z"
   },
   {
    "duration": 11047,
    "start_time": "2021-12-27T13:55:46.085Z"
   },
   {
    "duration": 9,
    "start_time": "2021-12-27T13:55:57.134Z"
   },
   {
    "duration": 13,
    "start_time": "2021-12-27T13:55:57.144Z"
   },
   {
    "duration": 38,
    "start_time": "2021-12-27T13:55:57.159Z"
   },
   {
    "duration": 9,
    "start_time": "2021-12-27T13:55:57.199Z"
   },
   {
    "duration": 11,
    "start_time": "2021-12-27T13:55:57.210Z"
   },
   {
    "duration": 566,
    "start_time": "2021-12-27T13:55:57.223Z"
   },
   {
    "duration": 237,
    "start_time": "2021-12-27T14:03:06.177Z"
   },
   {
    "duration": 401,
    "start_time": "2021-12-27T14:21:23.915Z"
   },
   {
    "duration": 282,
    "start_time": "2021-12-27T14:21:55.754Z"
   },
   {
    "duration": 345,
    "start_time": "2021-12-27T14:22:20.484Z"
   },
   {
    "duration": 390,
    "start_time": "2021-12-27T14:22:45.811Z"
   },
   {
    "duration": 718,
    "start_time": "2021-12-27T14:24:53.031Z"
   },
   {
    "duration": 273,
    "start_time": "2021-12-27T14:28:05.953Z"
   },
   {
    "duration": 282,
    "start_time": "2021-12-27T14:28:47.302Z"
   },
   {
    "duration": 226,
    "start_time": "2021-12-27T14:31:16.309Z"
   },
   {
    "duration": 225,
    "start_time": "2021-12-27T14:31:26.509Z"
   },
   {
    "duration": 261,
    "start_time": "2021-12-27T14:31:33.089Z"
   },
   {
    "duration": 2215,
    "start_time": "2021-12-27T14:32:26.137Z"
   },
   {
    "duration": 734,
    "start_time": "2021-12-27T16:38:32.905Z"
   },
   {
    "duration": 12,
    "start_time": "2021-12-27T16:38:33.642Z"
   },
   {
    "duration": 56,
    "start_time": "2021-12-27T16:38:33.656Z"
   },
   {
    "duration": 47,
    "start_time": "2021-12-27T16:38:33.714Z"
   },
   {
    "duration": 761,
    "start_time": "2021-12-27T16:38:33.763Z"
   },
   {
    "duration": 571,
    "start_time": "2021-12-27T16:38:34.525Z"
   },
   {
    "duration": 228,
    "start_time": "2021-12-27T16:38:35.099Z"
   },
   {
    "duration": 371,
    "start_time": "2021-12-27T16:38:35.329Z"
   },
   {
    "duration": 403,
    "start_time": "2021-12-27T16:38:35.703Z"
   },
   {
    "duration": 339,
    "start_time": "2021-12-27T16:38:36.109Z"
   },
   {
    "duration": 3712,
    "start_time": "2021-12-27T16:38:36.451Z"
   },
   {
    "duration": 235,
    "start_time": "2021-12-27T16:38:40.165Z"
   },
   {
    "duration": 646,
    "start_time": "2021-12-27T16:38:40.401Z"
   },
   {
    "duration": 12752,
    "start_time": "2021-12-27T16:38:41.049Z"
   },
   {
    "duration": 17,
    "start_time": "2021-12-27T16:38:53.803Z"
   },
   {
    "duration": 42,
    "start_time": "2021-12-27T16:38:53.822Z"
   },
   {
    "duration": 13,
    "start_time": "2021-12-27T16:38:53.866Z"
   },
   {
    "duration": 13,
    "start_time": "2021-12-27T16:38:53.881Z"
   },
   {
    "duration": 18,
    "start_time": "2021-12-27T16:38:53.896Z"
   },
   {
    "duration": 660,
    "start_time": "2021-12-27T16:38:53.916Z"
   },
   {
    "duration": 972,
    "start_time": "2021-12-27T16:39:08.522Z"
   },
   {
    "duration": 867,
    "start_time": "2021-12-27T16:39:21.594Z"
   },
   {
    "duration": 94,
    "start_time": "2021-12-27T16:40:12.785Z"
   },
   {
    "duration": 5257,
    "start_time": "2021-12-27T16:40:24.317Z"
   },
   {
    "duration": 13989,
    "start_time": "2021-12-27T16:44:06.533Z"
   },
   {
    "duration": 5124,
    "start_time": "2021-12-27T16:55:50.232Z"
   },
   {
    "duration": 15,
    "start_time": "2021-12-27T17:30:01.834Z"
   },
   {
    "duration": 11,
    "start_time": "2021-12-27T17:30:14.165Z"
   },
   {
    "duration": 11,
    "start_time": "2021-12-27T17:30:18.681Z"
   },
   {
    "duration": 15,
    "start_time": "2021-12-27T17:30:29.275Z"
   },
   {
    "duration": 16,
    "start_time": "2021-12-27T17:30:44.293Z"
   },
   {
    "duration": 17,
    "start_time": "2021-12-27T17:31:03.987Z"
   },
   {
    "duration": 328,
    "start_time": "2021-12-27T17:31:22.304Z"
   },
   {
    "duration": 266,
    "start_time": "2021-12-27T17:31:29.267Z"
   },
   {
    "duration": 14,
    "start_time": "2021-12-27T17:31:40.977Z"
   },
   {
    "duration": 31,
    "start_time": "2021-12-27T17:34:43.722Z"
   },
   {
    "duration": 87,
    "start_time": "2021-12-27T17:36:26.505Z"
   },
   {
    "duration": 12,
    "start_time": "2021-12-27T17:36:26.595Z"
   },
   {
    "duration": 96,
    "start_time": "2021-12-27T17:36:26.641Z"
   },
   {
    "duration": 51,
    "start_time": "2021-12-27T17:36:26.739Z"
   },
   {
    "duration": 1368,
    "start_time": "2021-12-27T17:36:26.794Z"
   },
   {
    "duration": 835,
    "start_time": "2021-12-27T17:36:28.166Z"
   },
   {
    "duration": 367,
    "start_time": "2021-12-27T17:36:29.004Z"
   },
   {
    "duration": 442,
    "start_time": "2021-12-27T17:36:29.373Z"
   },
   {
    "duration": 481,
    "start_time": "2021-12-27T17:36:29.817Z"
   },
   {
    "duration": 259,
    "start_time": "2021-12-27T17:36:30.302Z"
   },
   {
    "duration": 2361,
    "start_time": "2021-12-27T17:36:30.563Z"
   },
   {
    "duration": 238,
    "start_time": "2021-12-27T17:36:32.927Z"
   },
   {
    "duration": 694,
    "start_time": "2021-12-27T17:36:33.167Z"
   },
   {
    "duration": 4815,
    "start_time": "2021-12-27T17:36:33.863Z"
   },
   {
    "duration": 10,
    "start_time": "2021-12-27T17:36:38.680Z"
   },
   {
    "duration": 20,
    "start_time": "2021-12-27T17:36:38.693Z"
   },
   {
    "duration": 16,
    "start_time": "2021-12-27T17:36:38.716Z"
   },
   {
    "duration": 41,
    "start_time": "2021-12-27T17:36:38.735Z"
   },
   {
    "duration": 37,
    "start_time": "2021-12-27T17:36:38.779Z"
   },
   {
    "duration": 563,
    "start_time": "2021-12-27T17:36:38.819Z"
   },
   {
    "duration": 23,
    "start_time": "2021-12-27T17:40:46.772Z"
   },
   {
    "duration": 13,
    "start_time": "2021-12-27T17:40:51.621Z"
   },
   {
    "duration": 13,
    "start_time": "2021-12-27T17:40:56.009Z"
   },
   {
    "duration": 25,
    "start_time": "2021-12-27T17:41:23.682Z"
   },
   {
    "duration": 14,
    "start_time": "2021-12-27T17:43:33.674Z"
   },
   {
    "duration": 257,
    "start_time": "2021-12-27T17:43:49.272Z"
   },
   {
    "duration": 321,
    "start_time": "2021-12-27T17:43:55.553Z"
   },
   {
    "duration": 12,
    "start_time": "2021-12-27T17:44:08.124Z"
   },
   {
    "duration": 265,
    "start_time": "2021-12-27T17:44:39.434Z"
   },
   {
    "duration": 16,
    "start_time": "2021-12-27T17:44:47.797Z"
   },
   {
    "duration": 16,
    "start_time": "2021-12-27T17:44:57.209Z"
   },
   {
    "duration": 16,
    "start_time": "2021-12-27T17:45:04.742Z"
   },
   {
    "duration": 24,
    "start_time": "2021-12-27T17:45:26.403Z"
   },
   {
    "duration": 61,
    "start_time": "2021-12-27T17:45:38.960Z"
   },
   {
    "duration": 10,
    "start_time": "2021-12-27T17:46:41.744Z"
   },
   {
    "duration": 267,
    "start_time": "2021-12-27T17:47:31.818Z"
   },
   {
    "duration": 299,
    "start_time": "2021-12-27T17:48:09.715Z"
   },
   {
    "duration": 275,
    "start_time": "2021-12-27T17:50:44.185Z"
   },
   {
    "duration": 271,
    "start_time": "2021-12-27T17:50:59.648Z"
   },
   {
    "duration": 266,
    "start_time": "2021-12-27T17:51:23.327Z"
   },
   {
    "duration": 78,
    "start_time": "2021-12-27T17:51:34.074Z"
   },
   {
    "duration": 463,
    "start_time": "2021-12-27T17:51:39.463Z"
   },
   {
    "duration": 11,
    "start_time": "2021-12-27T17:52:35.875Z"
   },
   {
    "duration": 15,
    "start_time": "2021-12-27T17:53:01.470Z"
   },
   {
    "duration": 12,
    "start_time": "2021-12-27T17:53:23.745Z"
   },
   {
    "duration": 282,
    "start_time": "2021-12-27T17:53:40.214Z"
   },
   {
    "duration": 281,
    "start_time": "2021-12-27T17:53:46.544Z"
   },
   {
    "duration": 260,
    "start_time": "2021-12-27T17:55:04.178Z"
   },
   {
    "duration": 258,
    "start_time": "2021-12-27T17:56:24.518Z"
   },
   {
    "duration": 81,
    "start_time": "2021-12-27T17:58:56.490Z"
   },
   {
    "duration": 8,
    "start_time": "2021-12-27T17:58:56.573Z"
   },
   {
    "duration": 92,
    "start_time": "2021-12-27T17:58:56.583Z"
   },
   {
    "duration": 31,
    "start_time": "2021-12-27T17:58:56.677Z"
   },
   {
    "duration": 974,
    "start_time": "2021-12-27T17:58:56.710Z"
   },
   {
    "duration": 475,
    "start_time": "2021-12-27T17:58:57.686Z"
   },
   {
    "duration": 211,
    "start_time": "2021-12-27T17:58:58.163Z"
   },
   {
    "duration": 247,
    "start_time": "2021-12-27T17:58:58.376Z"
   },
   {
    "duration": 448,
    "start_time": "2021-12-27T17:58:58.625Z"
   },
   {
    "duration": 364,
    "start_time": "2021-12-27T17:58:59.075Z"
   },
   {
    "duration": 3750,
    "start_time": "2021-12-27T17:58:59.441Z"
   },
   {
    "duration": 251,
    "start_time": "2021-12-27T17:59:03.193Z"
   },
   {
    "duration": 686,
    "start_time": "2021-12-27T17:59:03.446Z"
   },
   {
    "duration": 4541,
    "start_time": "2021-12-27T17:59:04.134Z"
   },
   {
    "duration": 10,
    "start_time": "2021-12-27T17:59:08.677Z"
   },
   {
    "duration": 13,
    "start_time": "2021-12-27T17:59:08.689Z"
   },
   {
    "duration": 10,
    "start_time": "2021-12-27T17:59:08.703Z"
   },
   {
    "duration": 10,
    "start_time": "2021-12-27T17:59:08.715Z"
   },
   {
    "duration": 295,
    "start_time": "2021-12-27T17:59:08.726Z"
   },
   {
    "duration": 213,
    "start_time": "2021-12-27T17:59:08.810Z"
   },
   {
    "duration": 273,
    "start_time": "2021-12-27T18:02:54.020Z"
   },
   {
    "duration": 269,
    "start_time": "2021-12-27T18:03:10.893Z"
   },
   {
    "duration": 256,
    "start_time": "2021-12-27T18:03:50.677Z"
   },
   {
    "duration": 266,
    "start_time": "2021-12-27T18:07:10.872Z"
   },
   {
    "duration": 972,
    "start_time": "2021-12-27T21:41:28.441Z"
   },
   {
    "duration": 17,
    "start_time": "2021-12-27T21:41:29.416Z"
   },
   {
    "duration": 95,
    "start_time": "2021-12-27T21:41:29.436Z"
   },
   {
    "duration": 48,
    "start_time": "2021-12-27T21:41:29.535Z"
   },
   {
    "duration": 1334,
    "start_time": "2021-12-27T21:41:29.587Z"
   },
   {
    "duration": 807,
    "start_time": "2021-12-27T21:41:30.924Z"
   },
   {
    "duration": 329,
    "start_time": "2021-12-27T21:41:31.734Z"
   },
   {
    "duration": 398,
    "start_time": "2021-12-27T21:41:32.069Z"
   },
   {
    "duration": 456,
    "start_time": "2021-12-27T21:41:32.471Z"
   },
   {
    "duration": 367,
    "start_time": "2021-12-27T21:41:32.930Z"
   },
   {
    "duration": 4084,
    "start_time": "2021-12-27T21:41:33.300Z"
   },
   {
    "duration": 357,
    "start_time": "2021-12-27T21:41:37.387Z"
   },
   {
    "duration": 997,
    "start_time": "2021-12-27T21:41:37.746Z"
   },
   {
    "duration": 8515,
    "start_time": "2021-12-27T21:41:38.745Z"
   },
   {
    "duration": 12,
    "start_time": "2021-12-27T21:41:47.262Z"
   },
   {
    "duration": 19,
    "start_time": "2021-12-27T21:41:47.276Z"
   },
   {
    "duration": 16,
    "start_time": "2021-12-27T21:41:47.298Z"
   },
   {
    "duration": 13,
    "start_time": "2021-12-27T21:41:47.316Z"
   },
   {
    "duration": 502,
    "start_time": "2021-12-27T21:41:47.332Z"
   },
   {
    "duration": 342,
    "start_time": "2021-12-27T21:41:47.495Z"
   },
   {
    "duration": 1411,
    "start_time": "2021-12-27T21:44:18.740Z"
   },
   {
    "duration": 1167,
    "start_time": "2021-12-27T21:44:41.337Z"
   },
   {
    "duration": 1128,
    "start_time": "2021-12-27T21:44:58.011Z"
   },
   {
    "duration": 102,
    "start_time": "2021-12-27T21:45:24.526Z"
   },
   {
    "duration": 13,
    "start_time": "2021-12-27T21:45:24.630Z"
   },
   {
    "duration": 82,
    "start_time": "2021-12-27T21:45:24.661Z"
   },
   {
    "duration": 31,
    "start_time": "2021-12-27T21:45:24.761Z"
   },
   {
    "duration": 1184,
    "start_time": "2021-12-27T21:45:24.794Z"
   },
   {
    "duration": 764,
    "start_time": "2021-12-27T21:45:25.981Z"
   },
   {
    "duration": 327,
    "start_time": "2021-12-27T21:45:26.748Z"
   },
   {
    "duration": 353,
    "start_time": "2021-12-27T21:45:27.077Z"
   },
   {
    "duration": 322,
    "start_time": "2021-12-27T21:45:27.434Z"
   },
   {
    "duration": 358,
    "start_time": "2021-12-27T21:45:27.760Z"
   },
   {
    "duration": 335,
    "start_time": "2021-12-27T21:45:28.120Z"
   },
   {
    "duration": 349,
    "start_time": "2021-12-27T21:45:28.459Z"
   },
   {
    "duration": 994,
    "start_time": "2021-12-27T21:45:28.810Z"
   },
   {
    "duration": 8456,
    "start_time": "2021-12-27T21:45:29.807Z"
   },
   {
    "duration": 13,
    "start_time": "2021-12-27T21:45:38.265Z"
   },
   {
    "duration": 15,
    "start_time": "2021-12-27T21:45:38.280Z"
   },
   {
    "duration": 13,
    "start_time": "2021-12-27T21:45:38.297Z"
   },
   {
    "duration": 49,
    "start_time": "2021-12-27T21:45:38.313Z"
   },
   {
    "duration": 376,
    "start_time": "2021-12-27T21:45:38.364Z"
   },
   {
    "duration": 208,
    "start_time": "2021-12-27T21:45:38.535Z"
   },
   {
    "duration": 388,
    "start_time": "2021-12-27T21:45:45.557Z"
   },
   {
    "duration": 346,
    "start_time": "2021-12-27T21:50:49.994Z"
   },
   {
    "duration": 363,
    "start_time": "2021-12-27T21:51:04.171Z"
   },
   {
    "duration": 419,
    "start_time": "2021-12-27T21:51:08.510Z"
   },
   {
    "duration": 359,
    "start_time": "2021-12-27T21:51:30.287Z"
   },
   {
    "duration": 104,
    "start_time": "2021-12-27T21:51:42.595Z"
   },
   {
    "duration": 10,
    "start_time": "2021-12-27T21:51:42.702Z"
   },
   {
    "duration": 99,
    "start_time": "2021-12-27T21:51:42.716Z"
   },
   {
    "duration": 41,
    "start_time": "2021-12-27T21:51:42.818Z"
   },
   {
    "duration": 1248,
    "start_time": "2021-12-27T21:51:42.862Z"
   },
   {
    "duration": 699,
    "start_time": "2021-12-27T21:51:44.113Z"
   },
   {
    "duration": 344,
    "start_time": "2021-12-27T21:51:44.815Z"
   },
   {
    "duration": 550,
    "start_time": "2021-12-27T21:51:45.161Z"
   },
   {
    "duration": 396,
    "start_time": "2021-12-27T21:51:45.724Z"
   },
   {
    "duration": 369,
    "start_time": "2021-12-27T21:51:46.123Z"
   },
   {
    "duration": 327,
    "start_time": "2021-12-27T21:51:46.496Z"
   },
   {
    "duration": 356,
    "start_time": "2021-12-27T21:51:46.827Z"
   },
   {
    "duration": 991,
    "start_time": "2021-12-27T21:51:47.186Z"
   },
   {
    "duration": 354,
    "start_time": "2021-12-27T21:51:56.499Z"
   },
   {
    "duration": 352,
    "start_time": "2021-12-27T21:51:56.503Z"
   },
   {
    "duration": 353,
    "start_time": "2021-12-27T21:51:56.503Z"
   },
   {
    "duration": 353,
    "start_time": "2021-12-27T21:51:56.504Z"
   },
   {
    "duration": 354,
    "start_time": "2021-12-27T21:51:56.505Z"
   },
   {
    "duration": 355,
    "start_time": "2021-12-27T21:51:56.505Z"
   },
   {
    "duration": 355,
    "start_time": "2021-12-27T21:51:56.506Z"
   },
   {
    "duration": 356,
    "start_time": "2021-12-27T21:51:56.507Z"
   },
   {
    "duration": 357,
    "start_time": "2021-12-27T21:51:56.507Z"
   },
   {
    "duration": 357,
    "start_time": "2021-12-27T21:51:56.508Z"
   },
   {
    "duration": 308,
    "start_time": "2021-12-27T21:51:56.559Z"
   },
   {
    "duration": 307,
    "start_time": "2021-12-27T21:51:56.561Z"
   },
   {
    "duration": 308,
    "start_time": "2021-12-27T21:51:56.561Z"
   },
   {
    "duration": 309,
    "start_time": "2021-12-27T21:51:56.562Z"
   },
   {
    "duration": 308,
    "start_time": "2021-12-27T21:51:56.564Z"
   },
   {
    "duration": 307,
    "start_time": "2021-12-27T21:51:56.566Z"
   },
   {
    "duration": 307,
    "start_time": "2021-12-27T21:51:56.568Z"
   },
   {
    "duration": 307,
    "start_time": "2021-12-27T21:51:56.569Z"
   },
   {
    "duration": 308,
    "start_time": "2021-12-27T21:51:56.569Z"
   },
   {
    "duration": 309,
    "start_time": "2021-12-27T21:51:56.570Z"
   },
   {
    "duration": 378,
    "start_time": "2021-12-27T21:52:27.602Z"
   },
   {
    "duration": 108,
    "start_time": "2021-12-27T21:52:31.176Z"
   },
   {
    "duration": 14,
    "start_time": "2021-12-27T21:52:31.288Z"
   },
   {
    "duration": 147,
    "start_time": "2021-12-27T21:52:31.307Z"
   },
   {
    "duration": 51,
    "start_time": "2021-12-27T21:52:31.461Z"
   },
   {
    "duration": 1651,
    "start_time": "2021-12-27T21:52:31.515Z"
   },
   {
    "duration": 733,
    "start_time": "2021-12-27T21:52:33.168Z"
   },
   {
    "duration": 368,
    "start_time": "2021-12-27T21:52:33.904Z"
   },
   {
    "duration": 372,
    "start_time": "2021-12-27T21:52:34.277Z"
   },
   {
    "duration": 338,
    "start_time": "2021-12-27T21:52:34.660Z"
   },
   {
    "duration": 422,
    "start_time": "2021-12-27T21:52:35.000Z"
   },
   {
    "duration": 358,
    "start_time": "2021-12-27T21:52:35.426Z"
   },
   {
    "duration": 361,
    "start_time": "2021-12-27T21:52:35.787Z"
   },
   {
    "duration": 1083,
    "start_time": "2021-12-27T21:52:36.150Z"
   },
   {
    "duration": 8388,
    "start_time": "2021-12-27T21:52:37.236Z"
   },
   {
    "duration": 12,
    "start_time": "2021-12-27T21:52:45.627Z"
   },
   {
    "duration": 32,
    "start_time": "2021-12-27T21:52:45.641Z"
   },
   {
    "duration": 14,
    "start_time": "2021-12-27T21:52:45.675Z"
   },
   {
    "duration": 16,
    "start_time": "2021-12-27T21:52:45.691Z"
   },
   {
    "duration": 395,
    "start_time": "2021-12-27T21:52:45.710Z"
   },
   {
    "duration": -285,
    "start_time": "2021-12-27T21:52:46.392Z"
   },
   {
    "duration": 102,
    "start_time": "2021-12-27T21:53:24.684Z"
   },
   {
    "duration": 10,
    "start_time": "2021-12-27T21:53:24.789Z"
   },
   {
    "duration": 96,
    "start_time": "2021-12-27T21:53:24.803Z"
   },
   {
    "duration": 33,
    "start_time": "2021-12-27T21:53:24.902Z"
   },
   {
    "duration": 1203,
    "start_time": "2021-12-27T21:53:24.937Z"
   },
   {
    "duration": 757,
    "start_time": "2021-12-27T21:53:26.143Z"
   },
   {
    "duration": 325,
    "start_time": "2021-12-27T21:53:26.902Z"
   },
   {
    "duration": 357,
    "start_time": "2021-12-27T21:53:27.230Z"
   },
   {
    "duration": 331,
    "start_time": "2021-12-27T21:53:27.591Z"
   },
   {
    "duration": 350,
    "start_time": "2021-12-27T21:53:27.925Z"
   },
   {
    "duration": 327,
    "start_time": "2021-12-27T21:53:28.277Z"
   },
   {
    "duration": 436,
    "start_time": "2021-12-27T21:53:28.606Z"
   },
   {
    "duration": 987,
    "start_time": "2021-12-27T21:53:29.044Z"
   },
   {
    "duration": 8320,
    "start_time": "2021-12-27T21:53:30.033Z"
   },
   {
    "duration": 13,
    "start_time": "2021-12-27T21:53:38.355Z"
   },
   {
    "duration": 13,
    "start_time": "2021-12-27T21:53:38.370Z"
   },
   {
    "duration": 12,
    "start_time": "2021-12-27T21:53:38.385Z"
   },
   {
    "duration": 13,
    "start_time": "2021-12-27T21:53:38.399Z"
   },
   {
    "duration": 406,
    "start_time": "2021-12-27T21:53:38.458Z"
   },
   {
    "duration": 251,
    "start_time": "2021-12-27T21:53:38.616Z"
   },
   {
    "duration": 1153,
    "start_time": "2021-12-27T21:54:23.457Z"
   },
   {
    "duration": 380,
    "start_time": "2021-12-27T21:55:30.986Z"
   },
   {
    "duration": 24,
    "start_time": "2021-12-27T21:56:40.205Z"
   },
   {
    "duration": 103,
    "start_time": "2021-12-27T21:59:01.236Z"
   },
   {
    "duration": 25,
    "start_time": "2021-12-27T21:59:01.341Z"
   },
   {
    "duration": 103,
    "start_time": "2021-12-27T21:59:01.369Z"
   },
   {
    "duration": 31,
    "start_time": "2021-12-27T21:59:01.475Z"
   },
   {
    "duration": 1325,
    "start_time": "2021-12-27T21:59:01.508Z"
   },
   {
    "duration": 830,
    "start_time": "2021-12-27T21:59:02.837Z"
   },
   {
    "duration": 339,
    "start_time": "2021-12-27T21:59:03.670Z"
   },
   {
    "duration": 382,
    "start_time": "2021-12-27T21:59:04.013Z"
   },
   {
    "duration": 462,
    "start_time": "2021-12-27T21:59:04.401Z"
   },
   {
    "duration": 365,
    "start_time": "2021-12-27T21:59:04.866Z"
   },
   {
    "duration": 4103,
    "start_time": "2021-12-27T21:59:05.233Z"
   },
   {
    "duration": 355,
    "start_time": "2021-12-27T21:59:09.340Z"
   },
   {
    "duration": 1010,
    "start_time": "2021-12-27T21:59:09.697Z"
   },
   {
    "duration": 8275,
    "start_time": "2021-12-27T21:59:10.709Z"
   },
   {
    "duration": 12,
    "start_time": "2021-12-27T21:59:18.986Z"
   },
   {
    "duration": 13,
    "start_time": "2021-12-27T21:59:19.001Z"
   },
   {
    "duration": 12,
    "start_time": "2021-12-27T21:59:19.016Z"
   },
   {
    "duration": 12,
    "start_time": "2021-12-27T21:59:19.060Z"
   },
   {
    "duration": 20,
    "start_time": "2021-12-27T21:59:19.075Z"
   },
   {
    "duration": 781,
    "start_time": "2021-12-27T21:59:19.098Z"
   },
   {
    "duration": 366,
    "start_time": "2021-12-27T21:59:55.236Z"
   },
   {
    "duration": 365,
    "start_time": "2021-12-27T22:08:28.201Z"
   },
   {
    "duration": 114,
    "start_time": "2021-12-27T22:08:36.120Z"
   },
   {
    "duration": 34,
    "start_time": "2021-12-27T22:08:36.236Z"
   },
   {
    "duration": 78,
    "start_time": "2021-12-27T22:08:36.273Z"
   },
   {
    "duration": 33,
    "start_time": "2021-12-27T22:08:36.369Z"
   },
   {
    "duration": 1343,
    "start_time": "2021-12-27T22:08:36.405Z"
   },
   {
    "duration": 759,
    "start_time": "2021-12-27T22:08:37.751Z"
   },
   {
    "duration": 346,
    "start_time": "2021-12-27T22:08:38.513Z"
   },
   {
    "duration": 396,
    "start_time": "2021-12-27T22:08:38.863Z"
   },
   {
    "duration": 456,
    "start_time": "2021-12-27T22:08:39.264Z"
   },
   {
    "duration": 397,
    "start_time": "2021-12-27T22:08:39.723Z"
   },
   {
    "duration": 4009,
    "start_time": "2021-12-27T22:08:40.122Z"
   },
   {
    "duration": 365,
    "start_time": "2021-12-27T22:08:44.134Z"
   },
   {
    "duration": 1239,
    "start_time": "2021-12-27T22:08:44.501Z"
   },
   {
    "duration": 8775,
    "start_time": "2021-12-27T22:08:45.742Z"
   },
   {
    "duration": 13,
    "start_time": "2021-12-27T22:08:54.519Z"
   },
   {
    "duration": 33,
    "start_time": "2021-12-27T22:08:54.534Z"
   },
   {
    "duration": 13,
    "start_time": "2021-12-27T22:08:54.569Z"
   },
   {
    "duration": 11,
    "start_time": "2021-12-27T22:08:54.584Z"
   },
   {
    "duration": 534,
    "start_time": "2021-12-27T22:08:54.597Z"
   },
   {
    "duration": 373,
    "start_time": "2021-12-27T22:08:54.760Z"
   },
   {
    "duration": 22,
    "start_time": "2021-12-27T22:10:13.972Z"
   },
   {
    "duration": 43,
    "start_time": "2021-12-27T22:11:25.333Z"
   },
   {
    "duration": 42,
    "start_time": "2021-12-27T22:11:43.031Z"
   },
   {
    "duration": 28,
    "start_time": "2021-12-27T22:11:46.806Z"
   },
   {
    "duration": 24,
    "start_time": "2021-12-27T22:12:06.061Z"
   },
   {
    "duration": 407,
    "start_time": "2021-12-27T22:14:59.022Z"
   },
   {
    "duration": 420,
    "start_time": "2021-12-27T22:15:06.158Z"
   },
   {
    "duration": 108,
    "start_time": "2021-12-27T22:15:14.772Z"
   },
   {
    "duration": 11,
    "start_time": "2021-12-27T22:15:14.883Z"
   },
   {
    "duration": 102,
    "start_time": "2021-12-27T22:15:14.897Z"
   },
   {
    "duration": 35,
    "start_time": "2021-12-27T22:15:15.003Z"
   },
   {
    "duration": 1261,
    "start_time": "2021-12-27T22:15:15.041Z"
   },
   {
    "duration": 790,
    "start_time": "2021-12-27T22:15:16.305Z"
   },
   {
    "duration": 344,
    "start_time": "2021-12-27T22:15:17.099Z"
   },
   {
    "duration": 403,
    "start_time": "2021-12-27T22:15:17.446Z"
   },
   {
    "duration": 452,
    "start_time": "2021-12-27T22:15:17.860Z"
   },
   {
    "duration": 360,
    "start_time": "2021-12-27T22:15:18.315Z"
   },
   {
    "duration": 4161,
    "start_time": "2021-12-27T22:15:18.678Z"
   },
   {
    "duration": 435,
    "start_time": "2021-12-27T22:15:22.842Z"
   },
   {
    "duration": 1326,
    "start_time": "2021-12-27T22:15:23.279Z"
   },
   {
    "duration": 9086,
    "start_time": "2021-12-27T22:15:24.608Z"
   },
   {
    "duration": 13,
    "start_time": "2021-12-27T22:15:33.697Z"
   },
   {
    "duration": 14,
    "start_time": "2021-12-27T22:15:33.712Z"
   },
   {
    "duration": 42,
    "start_time": "2021-12-27T22:15:33.729Z"
   },
   {
    "duration": 14,
    "start_time": "2021-12-27T22:15:33.774Z"
   },
   {
    "duration": 362,
    "start_time": "2021-12-27T22:15:33.828Z"
   },
   {
    "duration": 355,
    "start_time": "2021-12-27T22:15:33.836Z"
   },
   {
    "duration": 373,
    "start_time": "2021-12-27T22:16:11.748Z"
   },
   {
    "duration": 368,
    "start_time": "2021-12-27T22:17:43.728Z"
   },
   {
    "duration": 146,
    "start_time": "2021-12-27T22:22:07.466Z"
   },
   {
    "duration": 18,
    "start_time": "2021-12-27T22:22:07.616Z"
   },
   {
    "duration": 100,
    "start_time": "2021-12-27T22:22:07.638Z"
   },
   {
    "duration": 60,
    "start_time": "2021-12-27T22:22:07.742Z"
   },
   {
    "duration": 2146,
    "start_time": "2021-12-27T22:22:07.805Z"
   },
   {
    "duration": 1264,
    "start_time": "2021-12-27T22:22:09.959Z"
   },
   {
    "duration": 545,
    "start_time": "2021-12-27T22:22:11.226Z"
   },
   {
    "duration": 387,
    "start_time": "2021-12-27T22:22:11.777Z"
   },
   {
    "duration": 444,
    "start_time": "2021-12-27T22:22:12.167Z"
   },
   {
    "duration": 368,
    "start_time": "2021-12-27T22:22:12.613Z"
   },
   {
    "duration": 4461,
    "start_time": "2021-12-27T22:22:12.983Z"
   },
   {
    "duration": 365,
    "start_time": "2021-12-27T22:22:17.447Z"
   },
   {
    "duration": 1021,
    "start_time": "2021-12-27T22:22:17.815Z"
   },
   {
    "duration": 8414,
    "start_time": "2021-12-27T22:22:18.839Z"
   },
   {
    "duration": 14,
    "start_time": "2021-12-27T22:22:27.256Z"
   },
   {
    "duration": 17,
    "start_time": "2021-12-27T22:22:27.272Z"
   },
   {
    "duration": 18,
    "start_time": "2021-12-27T22:22:27.291Z"
   },
   {
    "duration": 51,
    "start_time": "2021-12-27T22:22:27.312Z"
   },
   {
    "duration": 409,
    "start_time": "2021-12-27T22:22:27.367Z"
   },
   {
    "duration": -196,
    "start_time": "2021-12-27T22:22:27.974Z"
   },
   {
    "duration": 372,
    "start_time": "2021-12-27T22:22:51.667Z"
   },
   {
    "duration": 22,
    "start_time": "2021-12-27T22:23:01.410Z"
   },
   {
    "duration": 437,
    "start_time": "2021-12-27T22:25:23.907Z"
   },
   {
    "duration": 379,
    "start_time": "2021-12-27T22:26:06.724Z"
   },
   {
    "duration": 402,
    "start_time": "2021-12-27T22:26:19.541Z"
   },
   {
    "duration": 21,
    "start_time": "2021-12-27T22:26:51.142Z"
   },
   {
    "duration": 39,
    "start_time": "2021-12-27T22:26:55.319Z"
   },
   {
    "duration": 31,
    "start_time": "2021-12-27T22:27:30.002Z"
   },
   {
    "duration": 46,
    "start_time": "2021-12-27T22:27:58.238Z"
   },
   {
    "duration": 421,
    "start_time": "2021-12-27T22:28:46.935Z"
   },
   {
    "duration": 535,
    "start_time": "2021-12-27T22:30:16.081Z"
   },
   {
    "duration": 874,
    "start_time": "2021-12-27T22:31:52.281Z"
   },
   {
    "duration": 474,
    "start_time": "2021-12-27T22:32:18.292Z"
   },
   {
    "duration": 510,
    "start_time": "2021-12-27T22:32:27.313Z"
   },
   {
    "duration": 585,
    "start_time": "2021-12-27T22:32:37.148Z"
   },
   {
    "duration": 425,
    "start_time": "2021-12-27T22:32:46.772Z"
   },
   {
    "duration": 423,
    "start_time": "2021-12-27T22:33:27.686Z"
   },
   {
    "duration": 400,
    "start_time": "2021-12-27T22:33:38.672Z"
   },
   {
    "duration": 551,
    "start_time": "2021-12-27T22:35:40.293Z"
   },
   {
    "duration": 442,
    "start_time": "2021-12-27T22:37:50.448Z"
   },
   {
    "duration": 457,
    "start_time": "2021-12-27T22:38:08.747Z"
   },
   {
    "duration": 606,
    "start_time": "2021-12-27T22:38:19.892Z"
   },
   {
    "duration": 100,
    "start_time": "2021-12-27T23:01:57.795Z"
   },
   {
    "duration": 11,
    "start_time": "2021-12-27T23:01:57.899Z"
   },
   {
    "duration": 105,
    "start_time": "2021-12-27T23:01:57.913Z"
   },
   {
    "duration": 44,
    "start_time": "2021-12-27T23:01:58.021Z"
   },
   {
    "duration": 1215,
    "start_time": "2021-12-27T23:01:58.067Z"
   },
   {
    "duration": 741,
    "start_time": "2021-12-27T23:01:59.285Z"
   },
   {
    "duration": 331,
    "start_time": "2021-12-27T23:02:00.028Z"
   },
   {
    "duration": 410,
    "start_time": "2021-12-27T23:02:00.361Z"
   },
   {
    "duration": 476,
    "start_time": "2021-12-27T23:02:00.777Z"
   },
   {
    "duration": 384,
    "start_time": "2021-12-27T23:02:01.260Z"
   },
   {
    "duration": 4092,
    "start_time": "2021-12-27T23:02:01.647Z"
   },
   {
    "duration": 443,
    "start_time": "2021-12-27T23:02:05.742Z"
   },
   {
    "duration": 1165,
    "start_time": "2021-12-27T23:02:06.187Z"
   },
   {
    "duration": 8541,
    "start_time": "2021-12-27T23:02:07.359Z"
   },
   {
    "duration": 14,
    "start_time": "2021-12-27T23:02:15.902Z"
   },
   {
    "duration": 14,
    "start_time": "2021-12-27T23:02:15.918Z"
   },
   {
    "duration": 38,
    "start_time": "2021-12-27T23:02:15.933Z"
   },
   {
    "duration": 14,
    "start_time": "2021-12-27T23:02:15.973Z"
   },
   {
    "duration": 551,
    "start_time": "2021-12-27T23:02:15.989Z"
   },
   {
    "duration": 807,
    "start_time": "2021-12-27T23:02:16.543Z"
   },
   {
    "duration": 458,
    "start_time": "2021-12-27T23:06:22.972Z"
   },
   {
    "duration": 328,
    "start_time": "2021-12-27T23:07:43.195Z"
   },
   {
    "duration": 338,
    "start_time": "2021-12-27T23:13:30.744Z"
   },
   {
    "duration": 335,
    "start_time": "2021-12-27T23:13:35.987Z"
   },
   {
    "duration": 389,
    "start_time": "2021-12-27T23:14:55.332Z"
   },
   {
    "duration": 343,
    "start_time": "2021-12-27T23:15:02.343Z"
   },
   {
    "duration": 347,
    "start_time": "2021-12-27T23:15:12.290Z"
   },
   {
    "duration": 369,
    "start_time": "2021-12-27T23:15:19.037Z"
   },
   {
    "duration": 2903,
    "start_time": "2021-12-27T23:22:13.378Z"
   },
   {
    "duration": 2637,
    "start_time": "2021-12-27T23:22:33.973Z"
   },
   {
    "duration": 2600,
    "start_time": "2021-12-27T23:22:42.338Z"
   },
   {
    "duration": 2622,
    "start_time": "2021-12-27T23:23:13.644Z"
   },
   {
    "duration": 2596,
    "start_time": "2021-12-27T23:23:23.254Z"
   },
   {
    "duration": 2600,
    "start_time": "2021-12-27T23:23:36.609Z"
   },
   {
    "duration": 2926,
    "start_time": "2021-12-27T23:23:49.342Z"
   },
   {
    "duration": 2956,
    "start_time": "2021-12-27T23:24:04.458Z"
   },
   {
    "duration": 2742,
    "start_time": "2021-12-27T23:24:15.247Z"
   },
   {
    "duration": 2597,
    "start_time": "2021-12-27T23:24:26.335Z"
   },
   {
    "duration": 2588,
    "start_time": "2021-12-27T23:24:37.944Z"
   },
   {
    "duration": 2835,
    "start_time": "2021-12-27T23:24:50.197Z"
   },
   {
    "duration": 2632,
    "start_time": "2021-12-27T23:25:04.904Z"
   },
   {
    "duration": 2609,
    "start_time": "2021-12-27T23:25:20.252Z"
   },
   {
    "duration": 2584,
    "start_time": "2021-12-27T23:25:30.447Z"
   },
   {
    "duration": 2694,
    "start_time": "2021-12-27T23:25:48.929Z"
   },
   {
    "duration": 4863,
    "start_time": "2021-12-27T23:26:28.815Z"
   },
   {
    "duration": 5087,
    "start_time": "2021-12-27T23:26:46.745Z"
   },
   {
    "duration": 5094,
    "start_time": "2021-12-27T23:27:02.178Z"
   },
   {
    "duration": 5114,
    "start_time": "2021-12-27T23:27:13.545Z"
   },
   {
    "duration": 4795,
    "start_time": "2021-12-27T23:27:31.089Z"
   },
   {
    "duration": 4911,
    "start_time": "2021-12-27T23:27:44.092Z"
   },
   {
    "duration": 5035,
    "start_time": "2021-12-27T23:27:55.139Z"
   },
   {
    "duration": 5471,
    "start_time": "2021-12-27T23:28:08.052Z"
   },
   {
    "duration": 4936,
    "start_time": "2021-12-27T23:28:23.358Z"
   },
   {
    "duration": 1058,
    "start_time": "2021-12-28T07:06:07.988Z"
   },
   {
    "duration": 28,
    "start_time": "2021-12-28T07:06:09.049Z"
   },
   {
    "duration": 103,
    "start_time": "2021-12-28T07:06:09.080Z"
   },
   {
    "duration": 30,
    "start_time": "2021-12-28T07:06:09.186Z"
   },
   {
    "duration": 1318,
    "start_time": "2021-12-28T07:06:09.219Z"
   },
   {
    "duration": 871,
    "start_time": "2021-12-28T07:06:10.540Z"
   },
   {
    "duration": 331,
    "start_time": "2021-12-28T07:06:11.413Z"
   },
   {
    "duration": 415,
    "start_time": "2021-12-28T07:06:11.748Z"
   },
   {
    "duration": 451,
    "start_time": "2021-12-28T07:06:12.167Z"
   },
   {
    "duration": 376,
    "start_time": "2021-12-28T07:06:12.620Z"
   },
   {
    "duration": 4330,
    "start_time": "2021-12-28T07:06:12.999Z"
   },
   {
    "duration": 376,
    "start_time": "2021-12-28T07:06:17.331Z"
   },
   {
    "duration": 1094,
    "start_time": "2021-12-28T07:06:17.709Z"
   },
   {
    "duration": 9283,
    "start_time": "2021-12-28T07:06:18.806Z"
   },
   {
    "duration": 12,
    "start_time": "2021-12-28T07:06:28.092Z"
   },
   {
    "duration": 13,
    "start_time": "2021-12-28T07:06:28.106Z"
   },
   {
    "duration": 48,
    "start_time": "2021-12-28T07:06:28.122Z"
   },
   {
    "duration": 15,
    "start_time": "2021-12-28T07:06:28.173Z"
   },
   {
    "duration": 469,
    "start_time": "2021-12-28T07:06:28.190Z"
   },
   {
    "duration": 371,
    "start_time": "2021-12-28T07:06:28.663Z"
   },
   {
    "duration": 456,
    "start_time": "2021-12-28T07:06:29.037Z"
   },
   {
    "duration": 2875,
    "start_time": "2021-12-28T07:06:29.496Z"
   },
   {
    "duration": 5308,
    "start_time": "2021-12-28T07:06:32.379Z"
   },
   {
    "duration": 856,
    "start_time": "2021-12-28T07:18:19.367Z"
   },
   {
    "duration": 558,
    "start_time": "2021-12-28T07:18:52.550Z"
   },
   {
    "duration": 847,
    "start_time": "2021-12-28T07:19:00.817Z"
   },
   {
    "duration": 620,
    "start_time": "2021-12-28T07:23:24.998Z"
   },
   {
    "duration": 547,
    "start_time": "2021-12-28T07:28:30.079Z"
   },
   {
    "duration": 353,
    "start_time": "2021-12-28T07:37:37.567Z"
   },
   {
    "duration": 433,
    "start_time": "2021-12-28T07:37:50.062Z"
   },
   {
    "duration": 1091,
    "start_time": "2021-12-28T07:44:45.063Z"
   },
   {
    "duration": 309,
    "start_time": "2021-12-28T07:45:10.974Z"
   },
   {
    "duration": 1007,
    "start_time": "2021-12-28T07:46:48.442Z"
   },
   {
    "duration": 357,
    "start_time": "2021-12-28T07:47:05.623Z"
   },
   {
    "duration": 110,
    "start_time": "2021-12-28T08:05:46.177Z"
   },
   {
    "duration": 15,
    "start_time": "2021-12-28T08:05:46.290Z"
   },
   {
    "duration": 111,
    "start_time": "2021-12-28T08:05:46.309Z"
   },
   {
    "duration": 50,
    "start_time": "2021-12-28T08:05:46.424Z"
   },
   {
    "duration": 1347,
    "start_time": "2021-12-28T08:05:46.477Z"
   },
   {
    "duration": 646,
    "start_time": "2021-12-28T08:05:47.827Z"
   },
   {
    "duration": 350,
    "start_time": "2021-12-28T08:05:48.476Z"
   },
   {
    "duration": 320,
    "start_time": "2021-12-28T08:05:48.829Z"
   },
   {
    "duration": 364,
    "start_time": "2021-12-28T08:05:49.162Z"
   },
   {
    "duration": 331,
    "start_time": "2021-12-28T08:05:49.528Z"
   },
   {
    "duration": 395,
    "start_time": "2021-12-28T08:05:49.861Z"
   },
   {
    "duration": 450,
    "start_time": "2021-12-28T08:05:50.260Z"
   },
   {
    "duration": 425,
    "start_time": "2021-12-28T08:05:50.713Z"
   },
   {
    "duration": 4143,
    "start_time": "2021-12-28T08:05:51.141Z"
   },
   {
    "duration": 374,
    "start_time": "2021-12-28T08:05:55.287Z"
   },
   {
    "duration": 1443,
    "start_time": "2021-12-28T08:05:55.664Z"
   },
   {
    "duration": 8676,
    "start_time": "2021-12-28T08:05:57.110Z"
   },
   {
    "duration": 14,
    "start_time": "2021-12-28T08:06:05.788Z"
   },
   {
    "duration": 17,
    "start_time": "2021-12-28T08:06:05.804Z"
   },
   {
    "duration": 38,
    "start_time": "2021-12-28T08:06:05.824Z"
   },
   {
    "duration": 13,
    "start_time": "2021-12-28T08:06:05.864Z"
   },
   {
    "duration": 457,
    "start_time": "2021-12-28T08:06:05.880Z"
   },
   {
    "duration": 366,
    "start_time": "2021-12-28T08:06:06.341Z"
   },
   {
    "duration": 553,
    "start_time": "2021-12-28T08:06:06.709Z"
   },
   {
    "duration": 2801,
    "start_time": "2021-12-28T08:06:07.264Z"
   },
   {
    "duration": 5060,
    "start_time": "2021-12-28T08:06:10.068Z"
   },
   {
    "duration": 493,
    "start_time": "2021-12-28T08:06:50.610Z"
   },
   {
    "duration": 436,
    "start_time": "2021-12-28T09:08:58.046Z"
   },
   {
    "duration": 347,
    "start_time": "2021-12-28T09:09:13.888Z"
   },
   {
    "duration": 3983,
    "start_time": "2021-12-28T09:09:21.631Z"
   },
   {
    "duration": 1000,
    "start_time": "2021-12-28T09:11:02.712Z"
   },
   {
    "duration": 8913,
    "start_time": "2021-12-28T09:16:41.317Z"
   },
   {
    "duration": 1011,
    "start_time": "2021-12-28T16:20:29.597Z"
   },
   {
    "duration": 15,
    "start_time": "2021-12-28T16:20:30.611Z"
   },
   {
    "duration": 108,
    "start_time": "2021-12-28T16:20:30.628Z"
   },
   {
    "duration": 41,
    "start_time": "2021-12-28T16:20:30.739Z"
   },
   {
    "duration": 1253,
    "start_time": "2021-12-28T16:20:30.782Z"
   },
   {
    "duration": 609,
    "start_time": "2021-12-28T16:20:32.038Z"
   },
   {
    "duration": 348,
    "start_time": "2021-12-28T16:20:32.649Z"
   },
   {
    "duration": 323,
    "start_time": "2021-12-28T16:20:33.002Z"
   },
   {
    "duration": 377,
    "start_time": "2021-12-28T16:20:33.328Z"
   },
   {
    "duration": 326,
    "start_time": "2021-12-28T16:20:33.708Z"
   },
   {
    "duration": 399,
    "start_time": "2021-12-28T16:20:34.036Z"
   },
   {
    "duration": 452,
    "start_time": "2021-12-28T16:20:34.437Z"
   },
   {
    "duration": 357,
    "start_time": "2021-12-28T16:20:34.892Z"
   },
   {
    "duration": 4054,
    "start_time": "2021-12-28T16:20:35.251Z"
   },
   {
    "duration": 393,
    "start_time": "2021-12-28T16:20:39.308Z"
   },
   {
    "duration": 1158,
    "start_time": "2021-12-28T16:20:39.703Z"
   },
   {
    "duration": 8811,
    "start_time": "2021-12-28T16:20:40.867Z"
   },
   {
    "duration": 13,
    "start_time": "2021-12-28T16:20:49.681Z"
   },
   {
    "duration": 21,
    "start_time": "2021-12-28T16:20:49.697Z"
   },
   {
    "duration": 47,
    "start_time": "2021-12-28T16:20:49.720Z"
   },
   {
    "duration": 16,
    "start_time": "2021-12-28T16:20:49.770Z"
   },
   {
    "duration": 481,
    "start_time": "2021-12-28T16:20:49.789Z"
   },
   {
    "duration": 370,
    "start_time": "2021-12-28T16:20:50.275Z"
   },
   {
    "duration": 551,
    "start_time": "2021-12-28T16:20:50.648Z"
   },
   {
    "duration": 2882,
    "start_time": "2021-12-28T16:20:51.202Z"
   },
   {
    "duration": 5078,
    "start_time": "2021-12-28T16:20:54.086Z"
   },
   {
    "duration": 564,
    "start_time": "2021-12-28T17:02:02.432Z"
   },
   {
    "duration": 561,
    "start_time": "2021-12-28T17:04:01.543Z"
   },
   {
    "duration": 402,
    "start_time": "2021-12-28T17:04:25.840Z"
   },
   {
    "duration": 475,
    "start_time": "2021-12-28T17:04:30.225Z"
   },
   {
    "duration": 444,
    "start_time": "2021-12-28T17:04:52.232Z"
   },
   {
    "duration": 420,
    "start_time": "2021-12-28T17:05:13.098Z"
   },
   {
    "duration": 742,
    "start_time": "2021-12-28T17:05:37.386Z"
   },
   {
    "duration": 95,
    "start_time": "2021-12-28T17:20:52.756Z"
   },
   {
    "duration": 432,
    "start_time": "2021-12-28T17:21:03.666Z"
   },
   {
    "duration": 416,
    "start_time": "2021-12-28T17:21:15.193Z"
   },
   {
    "duration": 541,
    "start_time": "2021-12-28T17:21:20.614Z"
   },
   {
    "duration": 20,
    "start_time": "2021-12-28T17:23:25.961Z"
   },
   {
    "duration": 20,
    "start_time": "2021-12-28T17:23:28.967Z"
   },
   {
    "duration": 67,
    "start_time": "2021-12-28T17:23:35.554Z"
   },
   {
    "duration": 41,
    "start_time": "2021-12-28T17:23:50.564Z"
   },
   {
    "duration": 194,
    "start_time": "2021-12-28T17:24:04.827Z"
   },
   {
    "duration": 644,
    "start_time": "2021-12-28T17:25:06.827Z"
   },
   {
    "duration": 453,
    "start_time": "2021-12-28T17:30:07.444Z"
   },
   {
    "duration": 531,
    "start_time": "2021-12-28T17:30:44.010Z"
   },
   {
    "duration": 376,
    "start_time": "2021-12-28T17:31:16.241Z"
   },
   {
    "duration": 492,
    "start_time": "2021-12-28T17:34:57.842Z"
   },
   {
    "duration": 401,
    "start_time": "2021-12-28T17:35:00.693Z"
   },
   {
    "duration": 438,
    "start_time": "2021-12-28T17:35:26.637Z"
   },
   {
    "duration": 481,
    "start_time": "2021-12-28T17:35:57.720Z"
   },
   {
    "duration": 454,
    "start_time": "2021-12-28T17:38:51.260Z"
   },
   {
    "duration": 91,
    "start_time": "2021-12-28T17:39:04.789Z"
   },
   {
    "duration": 531,
    "start_time": "2021-12-28T17:39:09.942Z"
   },
   {
    "duration": 508,
    "start_time": "2021-12-28T17:39:37.645Z"
   },
   {
    "duration": 451,
    "start_time": "2021-12-28T17:39:46.512Z"
   },
   {
    "duration": 511,
    "start_time": "2021-12-28T17:39:53.219Z"
   },
   {
    "duration": 2859,
    "start_time": "2021-12-28T17:49:11.696Z"
   },
   {
    "duration": 582,
    "start_time": "2021-12-28T17:50:23.402Z"
   },
   {
    "duration": 603,
    "start_time": "2021-12-28T17:50:29.606Z"
   },
   {
    "duration": 458,
    "start_time": "2021-12-28T17:50:35.857Z"
   },
   {
    "duration": 272,
    "start_time": "2021-12-28T17:50:47.204Z"
   },
   {
    "duration": 402,
    "start_time": "2021-12-28T17:50:52.211Z"
   },
   {
    "duration": 344,
    "start_time": "2021-12-28T17:51:08.888Z"
   },
   {
    "duration": 539,
    "start_time": "2021-12-28T17:51:25.192Z"
   },
   {
    "duration": 527,
    "start_time": "2021-12-28T17:51:29.406Z"
   },
   {
    "duration": 418,
    "start_time": "2021-12-28T17:51:36.939Z"
   },
   {
    "duration": 359,
    "start_time": "2021-12-28T17:51:40.411Z"
   },
   {
    "duration": 357,
    "start_time": "2021-12-28T17:53:22.716Z"
   },
   {
    "duration": 351,
    "start_time": "2021-12-28T17:53:39.849Z"
   },
   {
    "duration": 355,
    "start_time": "2021-12-28T17:53:43.744Z"
   },
   {
    "duration": 344,
    "start_time": "2021-12-28T17:53:45.212Z"
   },
   {
    "duration": 365,
    "start_time": "2021-12-28T17:53:48.765Z"
   },
   {
    "duration": 307,
    "start_time": "2021-12-28T17:54:05.694Z"
   },
   {
    "duration": 310,
    "start_time": "2021-12-28T17:54:16.048Z"
   },
   {
    "duration": 341,
    "start_time": "2021-12-28T17:54:25.041Z"
   },
   {
    "duration": 309,
    "start_time": "2021-12-28T17:54:29.772Z"
   },
   {
    "duration": 408,
    "start_time": "2021-12-28T17:54:35.533Z"
   },
   {
    "duration": 338,
    "start_time": "2021-12-28T17:55:41.172Z"
   },
   {
    "duration": 361,
    "start_time": "2021-12-28T17:55:46.047Z"
   },
   {
    "duration": 556,
    "start_time": "2021-12-28T17:59:17.875Z"
   },
   {
    "duration": 482,
    "start_time": "2021-12-28T17:59:36.168Z"
   },
   {
    "duration": 574,
    "start_time": "2021-12-28T18:05:38.679Z"
   },
   {
    "duration": 550,
    "start_time": "2021-12-28T18:05:45.900Z"
   },
   {
    "duration": 585,
    "start_time": "2021-12-28T18:05:53.557Z"
   },
   {
    "duration": 775,
    "start_time": "2021-12-28T18:05:57.396Z"
   },
   {
    "duration": 516,
    "start_time": "2021-12-28T18:06:06.152Z"
   },
   {
    "duration": 416,
    "start_time": "2021-12-28T18:06:11.410Z"
   },
   {
    "duration": 472,
    "start_time": "2021-12-28T18:06:15.395Z"
   },
   {
    "duration": 479,
    "start_time": "2021-12-28T18:06:39.683Z"
   },
   {
    "duration": 473,
    "start_time": "2021-12-28T18:06:52.558Z"
   },
   {
    "duration": 483,
    "start_time": "2021-12-28T18:07:00.328Z"
   },
   {
    "duration": 525,
    "start_time": "2021-12-28T18:07:07.781Z"
   },
   {
    "duration": 469,
    "start_time": "2021-12-28T18:07:14.879Z"
   },
   {
    "duration": 807,
    "start_time": "2021-12-28T21:28:32.040Z"
   },
   {
    "duration": 10,
    "start_time": "2021-12-28T21:28:32.849Z"
   },
   {
    "duration": 48,
    "start_time": "2021-12-28T21:28:32.862Z"
   },
   {
    "duration": 20,
    "start_time": "2021-12-28T21:28:32.928Z"
   },
   {
    "duration": 820,
    "start_time": "2021-12-28T21:28:32.950Z"
   },
   {
    "duration": 404,
    "start_time": "2021-12-28T21:28:33.772Z"
   },
   {
    "duration": 265,
    "start_time": "2021-12-28T21:28:34.178Z"
   },
   {
    "duration": 293,
    "start_time": "2021-12-28T21:28:34.445Z"
   },
   {
    "duration": 198,
    "start_time": "2021-12-28T21:28:34.741Z"
   },
   {
    "duration": 227,
    "start_time": "2021-12-28T21:28:34.942Z"
   },
   {
    "duration": 235,
    "start_time": "2021-12-28T21:28:35.170Z"
   },
   {
    "duration": 273,
    "start_time": "2021-12-28T21:28:35.407Z"
   },
   {
    "duration": 210,
    "start_time": "2021-12-28T21:28:35.682Z"
   },
   {
    "duration": 2306,
    "start_time": "2021-12-28T21:28:35.894Z"
   },
   {
    "duration": 214,
    "start_time": "2021-12-28T21:28:38.201Z"
   },
   {
    "duration": 651,
    "start_time": "2021-12-28T21:28:38.416Z"
   },
   {
    "duration": 4683,
    "start_time": "2021-12-28T21:28:39.069Z"
   },
   {
    "duration": 8,
    "start_time": "2021-12-28T21:28:43.754Z"
   },
   {
    "duration": 19,
    "start_time": "2021-12-28T21:28:43.763Z"
   },
   {
    "duration": 10,
    "start_time": "2021-12-28T21:28:43.784Z"
   },
   {
    "duration": 32,
    "start_time": "2021-12-28T21:28:43.796Z"
   },
   {
    "duration": 382,
    "start_time": "2021-12-28T21:28:43.830Z"
   },
   {
    "duration": 313,
    "start_time": "2021-12-28T21:28:44.214Z"
   },
   {
    "duration": 288,
    "start_time": "2021-12-28T21:28:44.529Z"
   },
   {
    "duration": 109,
    "start_time": "2021-12-28T21:28:44.819Z"
   },
   {
    "duration": 1745,
    "start_time": "2021-12-28T21:28:43.185Z"
   },
   {
    "duration": 1745,
    "start_time": "2021-12-28T21:28:43.186Z"
   },
   {
    "duration": 334,
    "start_time": "2021-12-28T21:32:38.276Z"
   },
   {
    "duration": 253,
    "start_time": "2021-12-28T21:36:32.604Z"
   },
   {
    "duration": 269,
    "start_time": "2021-12-28T21:36:36.183Z"
   },
   {
    "duration": 336,
    "start_time": "2021-12-28T21:40:42.202Z"
   },
   {
    "duration": 331,
    "start_time": "2021-12-28T21:40:50.961Z"
   },
   {
    "duration": 416,
    "start_time": "2021-12-28T21:43:04.662Z"
   },
   {
    "duration": 410,
    "start_time": "2021-12-28T21:43:07.824Z"
   },
   {
    "duration": 1587,
    "start_time": "2021-12-28T21:47:07.942Z"
   },
   {
    "duration": 89,
    "start_time": "2021-12-28T21:47:15.521Z"
   },
   {
    "duration": 16,
    "start_time": "2021-12-28T21:47:15.612Z"
   },
   {
    "duration": 51,
    "start_time": "2021-12-28T21:47:15.631Z"
   },
   {
    "duration": 20,
    "start_time": "2021-12-28T21:47:15.684Z"
   },
   {
    "duration": 718,
    "start_time": "2021-12-28T21:47:15.706Z"
   },
   {
    "duration": 336,
    "start_time": "2021-12-28T21:47:16.427Z"
   },
   {
    "duration": 214,
    "start_time": "2021-12-28T21:47:16.765Z"
   },
   {
    "duration": 200,
    "start_time": "2021-12-28T21:47:16.981Z"
   },
   {
    "duration": 274,
    "start_time": "2021-12-28T21:47:17.184Z"
   },
   {
    "duration": 190,
    "start_time": "2021-12-28T21:47:17.460Z"
   },
   {
    "duration": 231,
    "start_time": "2021-12-28T21:47:17.652Z"
   },
   {
    "duration": 360,
    "start_time": "2021-12-28T21:47:17.884Z"
   },
   {
    "duration": 201,
    "start_time": "2021-12-28T21:47:18.246Z"
   },
   {
    "duration": 2826,
    "start_time": "2021-12-28T21:47:18.449Z"
   },
   {
    "duration": 212,
    "start_time": "2021-12-28T21:47:21.277Z"
   },
   {
    "duration": 585,
    "start_time": "2021-12-28T21:47:21.491Z"
   },
   {
    "duration": 4556,
    "start_time": "2021-12-28T21:47:22.078Z"
   },
   {
    "duration": 10,
    "start_time": "2021-12-28T21:47:26.636Z"
   },
   {
    "duration": 15,
    "start_time": "2021-12-28T21:47:26.647Z"
   },
   {
    "duration": 10,
    "start_time": "2021-12-28T21:47:26.663Z"
   },
   {
    "duration": 9,
    "start_time": "2021-12-28T21:47:26.674Z"
   },
   {
    "duration": 360,
    "start_time": "2021-12-28T21:47:26.684Z"
   },
   {
    "duration": 431,
    "start_time": "2021-12-28T21:47:27.045Z"
   },
   {
    "duration": 391,
    "start_time": "2021-12-28T21:47:27.477Z"
   },
   {
    "duration": 1643,
    "start_time": "2021-12-28T21:47:27.869Z"
   },
   {
    "duration": 2766,
    "start_time": "2021-12-28T21:47:29.513Z"
   },
   {
    "duration": 1840,
    "start_time": "2021-12-28T21:52:31.839Z"
   },
   {
    "duration": 3041,
    "start_time": "2021-12-28T21:52:48.876Z"
   },
   {
    "duration": 36,
    "start_time": "2021-12-28T21:58:05.950Z"
   },
   {
    "duration": 25,
    "start_time": "2021-12-28T21:58:40.697Z"
   },
   {
    "duration": 40,
    "start_time": "2021-12-28T21:58:49.223Z"
   },
   {
    "duration": 146,
    "start_time": "2021-12-28T21:58:56.666Z"
   },
   {
    "duration": 27,
    "start_time": "2021-12-28T21:59:03.025Z"
   },
   {
    "duration": 26,
    "start_time": "2021-12-28T21:59:24.843Z"
   },
   {
    "duration": 433,
    "start_time": "2021-12-28T21:59:36.520Z"
   },
   {
    "duration": 143,
    "start_time": "2021-12-28T21:59:58.896Z"
   },
   {
    "duration": 35,
    "start_time": "2021-12-28T22:00:07.505Z"
   },
   {
    "duration": 7317,
    "start_time": "2021-12-28T22:00:24.085Z"
   },
   {
    "duration": 1581,
    "start_time": "2021-12-28T22:00:39.799Z"
   },
   {
    "duration": 27,
    "start_time": "2021-12-28T22:01:57.182Z"
   },
   {
    "duration": 23,
    "start_time": "2021-12-28T22:03:09.706Z"
   },
   {
    "duration": 26,
    "start_time": "2021-12-28T22:04:27.919Z"
   },
   {
    "duration": 31,
    "start_time": "2021-12-28T22:04:41.995Z"
   },
   {
    "duration": 136,
    "start_time": "2021-12-28T22:04:58.344Z"
   },
   {
    "duration": 398,
    "start_time": "2021-12-28T22:08:54.361Z"
   },
   {
    "duration": 514,
    "start_time": "2021-12-28T22:10:17.552Z"
   },
   {
    "duration": 37,
    "start_time": "2021-12-28T22:10:38.778Z"
   },
   {
    "duration": 341,
    "start_time": "2021-12-28T22:10:52.545Z"
   },
   {
    "duration": 471,
    "start_time": "2021-12-28T22:11:28.823Z"
   },
   {
    "duration": 340,
    "start_time": "2021-12-28T22:11:48.023Z"
   },
   {
    "duration": 25,
    "start_time": "2021-12-28T22:12:04.725Z"
   },
   {
    "duration": 34,
    "start_time": "2021-12-28T22:12:11.225Z"
   },
   {
    "duration": 23,
    "start_time": "2021-12-28T22:12:15.569Z"
   },
   {
    "duration": 9953,
    "start_time": "2021-12-28T22:17:31.008Z"
   },
   {
    "duration": 3149,
    "start_time": "2021-12-28T22:18:13.070Z"
   },
   {
    "duration": 3370,
    "start_time": "2021-12-28T22:18:25.722Z"
   },
   {
    "duration": 3465,
    "start_time": "2021-12-28T22:18:43.108Z"
   },
   {
    "duration": 3170,
    "start_time": "2021-12-28T22:19:44.199Z"
   },
   {
    "duration": 91,
    "start_time": "2021-12-28T22:39:55.388Z"
   },
   {
    "duration": 9,
    "start_time": "2021-12-28T22:39:55.481Z"
   },
   {
    "duration": 76,
    "start_time": "2021-12-28T22:39:55.492Z"
   },
   {
    "duration": 23,
    "start_time": "2021-12-28T22:39:55.570Z"
   },
   {
    "duration": 977,
    "start_time": "2021-12-28T22:39:55.595Z"
   },
   {
    "duration": 418,
    "start_time": "2021-12-28T22:39:56.573Z"
   },
   {
    "duration": 226,
    "start_time": "2021-12-28T22:39:56.993Z"
   },
   {
    "duration": 260,
    "start_time": "2021-12-28T22:39:57.221Z"
   },
   {
    "duration": 324,
    "start_time": "2021-12-28T22:39:57.483Z"
   },
   {
    "duration": 226,
    "start_time": "2021-12-28T22:39:57.809Z"
   },
   {
    "duration": 262,
    "start_time": "2021-12-28T22:39:58.036Z"
   },
   {
    "duration": 294,
    "start_time": "2021-12-28T22:39:58.299Z"
   },
   {
    "duration": 291,
    "start_time": "2021-12-28T22:39:58.595Z"
   },
   {
    "duration": 2695,
    "start_time": "2021-12-28T22:39:58.888Z"
   },
   {
    "duration": 298,
    "start_time": "2021-12-28T22:40:01.585Z"
   },
   {
    "duration": 791,
    "start_time": "2021-12-28T22:40:01.885Z"
   },
   {
    "duration": 5564,
    "start_time": "2021-12-28T22:40:02.677Z"
   },
   {
    "duration": 18,
    "start_time": "2021-12-28T22:40:08.243Z"
   },
   {
    "duration": 10,
    "start_time": "2021-12-28T22:40:08.265Z"
   },
   {
    "duration": 9,
    "start_time": "2021-12-28T22:40:08.276Z"
   },
   {
    "duration": 8,
    "start_time": "2021-12-28T22:40:08.287Z"
   },
   {
    "duration": 345,
    "start_time": "2021-12-28T22:40:08.331Z"
   },
   {
    "duration": 412,
    "start_time": "2021-12-28T22:40:08.679Z"
   },
   {
    "duration": 555,
    "start_time": "2021-12-28T22:40:09.093Z"
   },
   {
    "duration": 2310,
    "start_time": "2021-12-28T22:40:09.650Z"
   },
   {
    "duration": 21,
    "start_time": "2021-12-28T22:40:11.962Z"
   },
   {
    "duration": 3721,
    "start_time": "2021-12-28T22:40:11.984Z"
   },
   {
    "duration": 49,
    "start_time": "2021-12-28T22:40:15.707Z"
   },
   {
    "duration": 909,
    "start_time": "2021-12-30T02:14:46.800Z"
   },
   {
    "duration": 14,
    "start_time": "2021-12-30T02:14:47.712Z"
   },
   {
    "duration": 98,
    "start_time": "2021-12-30T02:14:47.729Z"
   },
   {
    "duration": 38,
    "start_time": "2021-12-30T02:14:47.830Z"
   },
   {
    "duration": 1189,
    "start_time": "2021-12-30T02:14:47.870Z"
   },
   {
    "duration": 584,
    "start_time": "2021-12-30T02:14:49.062Z"
   },
   {
    "duration": 322,
    "start_time": "2021-12-30T02:14:49.648Z"
   },
   {
    "duration": 317,
    "start_time": "2021-12-30T02:14:49.974Z"
   },
   {
    "duration": 355,
    "start_time": "2021-12-30T02:14:50.294Z"
   },
   {
    "duration": 307,
    "start_time": "2021-12-30T02:14:50.660Z"
   },
   {
    "duration": 392,
    "start_time": "2021-12-30T02:14:50.970Z"
   },
   {
    "duration": 429,
    "start_time": "2021-12-30T02:14:51.365Z"
   },
   {
    "duration": 354,
    "start_time": "2021-12-30T02:14:51.798Z"
   },
   {
    "duration": 3890,
    "start_time": "2021-12-30T02:14:52.154Z"
   },
   {
    "duration": 360,
    "start_time": "2021-12-30T02:14:56.047Z"
   },
   {
    "duration": 1083,
    "start_time": "2021-12-30T02:14:56.409Z"
   },
   {
    "duration": 8506,
    "start_time": "2021-12-30T02:14:57.494Z"
   },
   {
    "duration": 13,
    "start_time": "2021-12-30T02:15:06.003Z"
   },
   {
    "duration": 16,
    "start_time": "2021-12-30T02:15:06.019Z"
   },
   {
    "duration": 22,
    "start_time": "2021-12-30T02:15:06.037Z"
   },
   {
    "duration": 14,
    "start_time": "2021-12-30T02:15:06.061Z"
   },
   {
    "duration": 481,
    "start_time": "2021-12-30T02:15:06.078Z"
   },
   {
    "duration": 722,
    "start_time": "2021-12-30T02:15:06.563Z"
   },
   {
    "duration": 665,
    "start_time": "2021-12-30T02:15:07.288Z"
   },
   {
    "duration": 2684,
    "start_time": "2021-12-30T02:15:07.955Z"
   },
   {
    "duration": 36,
    "start_time": "2021-12-30T02:15:10.642Z"
   },
   {
    "duration": 4920,
    "start_time": "2021-12-30T02:15:10.680Z"
   },
   {
    "duration": 36,
    "start_time": "2021-12-30T02:15:15.603Z"
   },
   {
    "duration": 428,
    "start_time": "2021-12-30T02:46:20.749Z"
   },
   {
    "duration": 963,
    "start_time": "2021-12-30T02:46:50.228Z"
   },
   {
    "duration": 15,
    "start_time": "2021-12-30T02:46:51.193Z"
   },
   {
    "duration": 104,
    "start_time": "2021-12-30T02:46:51.210Z"
   },
   {
    "duration": 30,
    "start_time": "2021-12-30T02:46:51.317Z"
   },
   {
    "duration": 1173,
    "start_time": "2021-12-30T02:46:51.359Z"
   },
   {
    "duration": 598,
    "start_time": "2021-12-30T02:46:52.534Z"
   },
   {
    "duration": 327,
    "start_time": "2021-12-30T02:46:53.135Z"
   },
   {
    "duration": 306,
    "start_time": "2021-12-30T02:46:53.466Z"
   },
   {
    "duration": 362,
    "start_time": "2021-12-30T02:46:53.776Z"
   },
   {
    "duration": 315,
    "start_time": "2021-12-30T02:46:54.141Z"
   },
   {
    "duration": 384,
    "start_time": "2021-12-30T02:46:54.459Z"
   },
   {
    "duration": 435,
    "start_time": "2021-12-30T02:46:54.846Z"
   },
   {
    "duration": 346,
    "start_time": "2021-12-30T02:46:55.284Z"
   },
   {
    "duration": 3912,
    "start_time": "2021-12-30T02:46:55.633Z"
   },
   {
    "duration": 354,
    "start_time": "2021-12-30T02:46:59.548Z"
   },
   {
    "duration": 1123,
    "start_time": "2021-12-30T02:46:59.905Z"
   },
   {
    "duration": 8363,
    "start_time": "2021-12-30T02:47:01.030Z"
   },
   {
    "duration": 12,
    "start_time": "2021-12-30T02:47:09.395Z"
   },
   {
    "duration": 16,
    "start_time": "2021-12-30T02:47:09.409Z"
   },
   {
    "duration": 37,
    "start_time": "2021-12-30T02:47:09.427Z"
   },
   {
    "duration": 13,
    "start_time": "2021-12-30T02:47:09.466Z"
   },
   {
    "duration": 402,
    "start_time": "2021-12-30T02:47:09.482Z"
   },
   {
    "duration": 610,
    "start_time": "2021-12-30T02:47:09.889Z"
   },
   {
    "duration": 666,
    "start_time": "2021-12-30T02:47:10.501Z"
   },
   {
    "duration": 2600,
    "start_time": "2021-12-30T02:47:11.169Z"
   },
   {
    "duration": 29,
    "start_time": "2021-12-30T02:47:13.771Z"
   },
   {
    "duration": 4991,
    "start_time": "2021-12-30T02:47:13.803Z"
   },
   {
    "duration": 34,
    "start_time": "2021-12-30T02:47:18.797Z"
   },
   {
    "duration": 961,
    "start_time": "2021-12-30T02:47:43.752Z"
   },
   {
    "duration": 16,
    "start_time": "2021-12-30T02:47:44.717Z"
   },
   {
    "duration": 101,
    "start_time": "2021-12-30T02:47:44.737Z"
   },
   {
    "duration": 45,
    "start_time": "2021-12-30T02:47:44.842Z"
   },
   {
    "duration": 1242,
    "start_time": "2021-12-30T02:47:44.889Z"
   },
   {
    "duration": 754,
    "start_time": "2021-12-30T02:47:46.134Z"
   },
   {
    "duration": 334,
    "start_time": "2021-12-30T02:47:46.891Z"
   },
   {
    "duration": 313,
    "start_time": "2021-12-30T02:47:47.229Z"
   },
   {
    "duration": 376,
    "start_time": "2021-12-30T02:47:47.546Z"
   },
   {
    "duration": 316,
    "start_time": "2021-12-30T02:47:47.925Z"
   },
   {
    "duration": 404,
    "start_time": "2021-12-30T02:47:48.244Z"
   },
   {
    "duration": 447,
    "start_time": "2021-12-30T02:47:48.650Z"
   },
   {
    "duration": 462,
    "start_time": "2021-12-30T02:47:49.100Z"
   },
   {
    "duration": 3884,
    "start_time": "2021-12-30T02:47:49.565Z"
   },
   {
    "duration": 356,
    "start_time": "2021-12-30T02:47:53.459Z"
   },
   {
    "duration": 1104,
    "start_time": "2021-12-30T02:47:53.818Z"
   },
   {
    "duration": 8616,
    "start_time": "2021-12-30T02:47:54.925Z"
   },
   {
    "duration": 20,
    "start_time": "2021-12-30T02:48:03.544Z"
   },
   {
    "duration": 17,
    "start_time": "2021-12-30T02:48:03.568Z"
   },
   {
    "duration": 15,
    "start_time": "2021-12-30T02:48:03.588Z"
   },
   {
    "duration": 53,
    "start_time": "2021-12-30T02:48:03.606Z"
   },
   {
    "duration": 435,
    "start_time": "2021-12-30T02:48:03.662Z"
   },
   {
    "duration": 625,
    "start_time": "2021-12-30T02:48:04.101Z"
   },
   {
    "duration": 689,
    "start_time": "2021-12-30T02:48:04.729Z"
   },
   {
    "duration": 2711,
    "start_time": "2021-12-30T02:48:05.420Z"
   },
   {
    "duration": 44,
    "start_time": "2021-12-30T02:48:08.134Z"
   },
   {
    "duration": 5204,
    "start_time": "2021-12-30T02:48:08.181Z"
   },
   {
    "duration": 36,
    "start_time": "2021-12-30T02:48:13.388Z"
   },
   {
    "duration": 969,
    "start_time": "2021-12-30T03:15:31.136Z"
   },
   {
    "duration": 16,
    "start_time": "2021-12-30T03:15:32.108Z"
   },
   {
    "duration": 103,
    "start_time": "2021-12-30T03:15:32.128Z"
   },
   {
    "duration": 39,
    "start_time": "2021-12-30T03:15:32.234Z"
   },
   {
    "duration": 1170,
    "start_time": "2021-12-30T03:15:32.275Z"
   },
   {
    "duration": 584,
    "start_time": "2021-12-30T03:15:33.447Z"
   },
   {
    "duration": 337,
    "start_time": "2021-12-30T03:15:34.034Z"
   },
   {
    "duration": 307,
    "start_time": "2021-12-30T03:15:34.375Z"
   },
   {
    "duration": 365,
    "start_time": "2021-12-30T03:15:34.685Z"
   },
   {
    "duration": 311,
    "start_time": "2021-12-30T03:15:35.052Z"
   },
   {
    "duration": 617,
    "start_time": "2021-12-30T03:15:35.365Z"
   },
   {
    "duration": 441,
    "start_time": "2021-12-30T03:15:35.985Z"
   },
   {
    "duration": 342,
    "start_time": "2021-12-30T03:15:36.429Z"
   },
   {
    "duration": 4040,
    "start_time": "2021-12-30T03:15:36.774Z"
   },
   {
    "duration": 364,
    "start_time": "2021-12-30T03:15:40.816Z"
   },
   {
    "duration": 1061,
    "start_time": "2021-12-30T03:15:41.182Z"
   },
   {
    "duration": 8625,
    "start_time": "2021-12-30T03:15:42.245Z"
   },
   {
    "duration": 12,
    "start_time": "2021-12-30T03:15:50.872Z"
   },
   {
    "duration": 18,
    "start_time": "2021-12-30T03:15:50.887Z"
   },
   {
    "duration": 56,
    "start_time": "2021-12-30T03:15:50.908Z"
   },
   {
    "duration": 16,
    "start_time": "2021-12-30T03:15:50.967Z"
   },
   {
    "duration": 514,
    "start_time": "2021-12-30T03:15:50.985Z"
   },
   {
    "duration": 624,
    "start_time": "2021-12-30T03:15:51.504Z"
   },
   {
    "duration": 671,
    "start_time": "2021-12-30T03:15:52.131Z"
   },
   {
    "duration": 2645,
    "start_time": "2021-12-30T03:15:52.804Z"
   },
   {
    "duration": 33,
    "start_time": "2021-12-30T03:15:55.451Z"
   },
   {
    "duration": 5098,
    "start_time": "2021-12-30T03:15:55.487Z"
   },
   {
    "duration": 36,
    "start_time": "2021-12-30T03:16:00.587Z"
   },
   {
    "duration": 740,
    "start_time": "2021-12-31T08:55:32.176Z"
   },
   {
    "duration": 10,
    "start_time": "2021-12-31T08:55:32.918Z"
   },
   {
    "duration": 64,
    "start_time": "2021-12-31T08:55:32.931Z"
   },
   {
    "duration": 23,
    "start_time": "2021-12-31T08:55:32.997Z"
   },
   {
    "duration": 717,
    "start_time": "2021-12-31T08:55:33.021Z"
   },
   {
    "duration": 403,
    "start_time": "2021-12-31T08:55:33.740Z"
   },
   {
    "duration": 219,
    "start_time": "2021-12-31T08:55:34.145Z"
   },
   {
    "duration": 201,
    "start_time": "2021-12-31T08:55:34.367Z"
   },
   {
    "duration": 234,
    "start_time": "2021-12-31T08:55:34.570Z"
   },
   {
    "duration": 203,
    "start_time": "2021-12-31T08:55:34.806Z"
   },
   {
    "duration": 248,
    "start_time": "2021-12-31T08:55:35.011Z"
   },
   {
    "duration": 276,
    "start_time": "2021-12-31T08:55:35.261Z"
   },
   {
    "duration": 224,
    "start_time": "2021-12-31T08:55:35.538Z"
   },
   {
    "duration": 2145,
    "start_time": "2021-12-31T08:55:35.764Z"
   },
   {
    "duration": 244,
    "start_time": "2021-12-31T08:55:37.911Z"
   },
   {
    "duration": 718,
    "start_time": "2021-12-31T08:55:38.157Z"
   },
   {
    "duration": 4196,
    "start_time": "2021-12-31T08:55:38.876Z"
   },
   {
    "duration": 19,
    "start_time": "2021-12-31T08:55:43.074Z"
   },
   {
    "duration": 13,
    "start_time": "2021-12-31T08:55:43.095Z"
   },
   {
    "duration": 10,
    "start_time": "2021-12-31T08:55:43.110Z"
   },
   {
    "duration": 10,
    "start_time": "2021-12-31T08:55:43.123Z"
   },
   {
    "duration": 375,
    "start_time": "2021-12-31T08:55:43.135Z"
   },
   {
    "duration": 388,
    "start_time": "2021-12-31T08:55:43.513Z"
   },
   {
    "duration": 427,
    "start_time": "2021-12-31T08:55:43.903Z"
   },
   {
    "duration": 1597,
    "start_time": "2021-12-31T08:55:44.333Z"
   },
   {
    "duration": 21,
    "start_time": "2021-12-31T08:55:45.931Z"
   },
   {
    "duration": 2869,
    "start_time": "2021-12-31T08:55:45.954Z"
   },
   {
    "duration": 23,
    "start_time": "2021-12-31T08:55:48.825Z"
   },
   {
    "duration": 93,
    "start_time": "2021-12-31T08:56:33.643Z"
   },
   {
    "duration": 41,
    "start_time": "2021-12-31T09:04:32.296Z"
   },
   {
    "duration": 92,
    "start_time": "2021-12-31T09:17:18.865Z"
   },
   {
    "duration": 8,
    "start_time": "2021-12-31T09:17:18.959Z"
   },
   {
    "duration": 56,
    "start_time": "2021-12-31T09:17:18.970Z"
   },
   {
    "duration": 21,
    "start_time": "2021-12-31T09:17:19.028Z"
   },
   {
    "duration": 718,
    "start_time": "2021-12-31T09:17:19.050Z"
   },
   {
    "duration": 364,
    "start_time": "2021-12-31T09:17:19.770Z"
   },
   {
    "duration": 221,
    "start_time": "2021-12-31T09:17:20.136Z"
   },
   {
    "duration": 206,
    "start_time": "2021-12-31T09:17:20.360Z"
   },
   {
    "duration": 244,
    "start_time": "2021-12-31T09:17:20.568Z"
   },
   {
    "duration": 209,
    "start_time": "2021-12-31T09:17:20.814Z"
   },
   {
    "duration": 262,
    "start_time": "2021-12-31T09:17:21.025Z"
   },
   {
    "duration": 278,
    "start_time": "2021-12-31T09:17:21.291Z"
   },
   {
    "duration": 298,
    "start_time": "2021-12-31T09:17:21.571Z"
   },
   {
    "duration": 2188,
    "start_time": "2021-12-31T09:17:21.871Z"
   },
   {
    "duration": 250,
    "start_time": "2021-12-31T09:17:24.061Z"
   },
   {
    "duration": 636,
    "start_time": "2021-12-31T09:17:24.312Z"
   },
   {
    "duration": 4148,
    "start_time": "2021-12-31T09:17:24.950Z"
   },
   {
    "duration": 9,
    "start_time": "2021-12-31T09:17:29.100Z"
   },
   {
    "duration": 23,
    "start_time": "2021-12-31T09:17:29.111Z"
   },
   {
    "duration": 9,
    "start_time": "2021-12-31T09:17:29.136Z"
   },
   {
    "duration": 8,
    "start_time": "2021-12-31T09:17:29.147Z"
   },
   {
    "duration": 348,
    "start_time": "2021-12-31T09:17:29.156Z"
   },
   {
    "duration": 399,
    "start_time": "2021-12-31T09:17:29.507Z"
   },
   {
    "duration": 477,
    "start_time": "2021-12-31T09:17:29.908Z"
   },
   {
    "duration": 1663,
    "start_time": "2021-12-31T09:17:30.391Z"
   },
   {
    "duration": 19,
    "start_time": "2021-12-31T09:17:32.056Z"
   },
   {
    "duration": 2894,
    "start_time": "2021-12-31T09:17:32.077Z"
   },
   {
    "duration": 39,
    "start_time": "2021-12-31T09:17:34.973Z"
   },
   {
    "duration": 466,
    "start_time": "2021-12-31T09:20:27.602Z"
   },
   {
    "duration": 474,
    "start_time": "2021-12-31T09:20:37.644Z"
   },
   {
    "duration": 442,
    "start_time": "2021-12-31T09:20:59.551Z"
   },
   {
    "duration": 420,
    "start_time": "2021-12-31T09:21:08.348Z"
   },
   {
    "duration": 357,
    "start_time": "2021-12-31T09:21:12.712Z"
   },
   {
    "duration": 344,
    "start_time": "2021-12-31T09:21:18.899Z"
   },
   {
    "duration": 349,
    "start_time": "2021-12-31T09:21:25.110Z"
   },
   {
    "duration": 321,
    "start_time": "2021-12-31T09:21:38.040Z"
   },
   {
    "duration": 386,
    "start_time": "2021-12-31T09:21:47.109Z"
   },
   {
    "duration": 367,
    "start_time": "2021-12-31T09:22:03.810Z"
   },
   {
    "duration": 381,
    "start_time": "2021-12-31T09:22:20.063Z"
   },
   {
    "duration": 367,
    "start_time": "2021-12-31T09:22:25.321Z"
   },
   {
    "duration": 372,
    "start_time": "2021-12-31T09:22:30.098Z"
   },
   {
    "duration": 12,
    "start_time": "2021-12-31T09:22:40.681Z"
   },
   {
    "duration": 93,
    "start_time": "2021-12-31T10:57:00.811Z"
   },
   {
    "duration": 8,
    "start_time": "2021-12-31T10:57:00.905Z"
   },
   {
    "duration": 42,
    "start_time": "2021-12-31T10:57:00.915Z"
   },
   {
    "duration": 52,
    "start_time": "2021-12-31T10:57:00.959Z"
   },
   {
    "duration": 772,
    "start_time": "2021-12-31T10:57:01.013Z"
   },
   {
    "duration": 505,
    "start_time": "2021-12-31T10:57:01.786Z"
   },
   {
    "duration": 364,
    "start_time": "2021-12-31T10:57:02.293Z"
   },
   {
    "duration": 332,
    "start_time": "2021-12-31T10:57:02.659Z"
   },
   {
    "duration": 397,
    "start_time": "2021-12-31T10:57:02.994Z"
   },
   {
    "duration": 238,
    "start_time": "2021-12-31T10:57:03.393Z"
   },
   {
    "duration": 13,
    "start_time": "2021-12-31T10:57:03.633Z"
   },
   {
    "duration": 287,
    "start_time": "2021-12-31T10:57:03.648Z"
   },
   {
    "duration": 297,
    "start_time": "2021-12-31T10:57:03.937Z"
   },
   {
    "duration": 2228,
    "start_time": "2021-12-31T10:57:04.236Z"
   },
   {
    "duration": 233,
    "start_time": "2021-12-31T10:57:06.466Z"
   },
   {
    "duration": 635,
    "start_time": "2021-12-31T10:57:06.701Z"
   },
   {
    "duration": 4299,
    "start_time": "2021-12-31T10:57:07.337Z"
   },
   {
    "duration": 22,
    "start_time": "2021-12-31T10:57:11.638Z"
   },
   {
    "duration": 42,
    "start_time": "2021-12-31T10:57:11.662Z"
   },
   {
    "duration": 16,
    "start_time": "2021-12-31T10:57:11.707Z"
   },
   {
    "duration": 33,
    "start_time": "2021-12-31T10:57:11.724Z"
   },
   {
    "duration": 347,
    "start_time": "2021-12-31T10:57:11.760Z"
   },
   {
    "duration": 392,
    "start_time": "2021-12-31T10:57:12.109Z"
   },
   {
    "duration": 415,
    "start_time": "2021-12-31T10:57:12.502Z"
   },
   {
    "duration": 1601,
    "start_time": "2021-12-31T10:57:12.918Z"
   },
   {
    "duration": 19,
    "start_time": "2021-12-31T10:57:14.521Z"
   },
   {
    "duration": 2783,
    "start_time": "2021-12-31T10:57:14.541Z"
   },
   {
    "duration": 23,
    "start_time": "2021-12-31T10:57:17.325Z"
   },
   {
    "duration": 495,
    "start_time": "2021-12-31T10:57:21.166Z"
   },
   {
    "duration": 493,
    "start_time": "2021-12-31T10:57:48.502Z"
   },
   {
    "duration": 484,
    "start_time": "2021-12-31T10:58:05.150Z"
   },
   {
    "duration": 556,
    "start_time": "2021-12-31T10:58:11.598Z"
   },
   {
    "duration": 13,
    "start_time": "2021-12-31T10:59:45.172Z"
   },
   {
    "duration": 324,
    "start_time": "2021-12-31T11:00:40.213Z"
   },
   {
    "duration": 13,
    "start_time": "2021-12-31T11:01:49.316Z"
   },
   {
    "duration": 14,
    "start_time": "2021-12-31T11:20:00.148Z"
   },
   {
    "duration": 96,
    "start_time": "2021-12-31T11:20:53.520Z"
   },
   {
    "duration": 8,
    "start_time": "2021-12-31T11:20:53.618Z"
   },
   {
    "duration": 65,
    "start_time": "2021-12-31T11:20:53.628Z"
   },
   {
    "duration": 23,
    "start_time": "2021-12-31T11:20:53.694Z"
   },
   {
    "duration": 713,
    "start_time": "2021-12-31T11:20:53.718Z"
   },
   {
    "duration": 497,
    "start_time": "2021-12-31T11:20:54.432Z"
   },
   {
    "duration": 368,
    "start_time": "2021-12-31T11:20:54.931Z"
   },
   {
    "duration": 400,
    "start_time": "2021-12-31T11:20:55.302Z"
   },
   {
    "duration": 379,
    "start_time": "2021-12-31T11:20:55.704Z"
   },
   {
    "duration": 206,
    "start_time": "2021-12-31T11:20:56.085Z"
   },
   {
    "duration": 12,
    "start_time": "2021-12-31T11:20:56.293Z"
   },
   {
    "duration": 247,
    "start_time": "2021-12-31T11:20:56.307Z"
   },
   {
    "duration": 219,
    "start_time": "2021-12-31T11:20:56.556Z"
   },
   {
    "duration": 1809,
    "start_time": "2021-12-31T11:20:56.777Z"
   },
   {
    "duration": 237,
    "start_time": "2021-12-31T11:20:58.591Z"
   },
   {
    "duration": 628,
    "start_time": "2021-12-31T11:20:58.830Z"
   },
   {
    "duration": 3354,
    "start_time": "2021-12-31T11:20:59.460Z"
   },
   {
    "duration": 9,
    "start_time": "2021-12-31T11:21:02.816Z"
   },
   {
    "duration": 11,
    "start_time": "2021-12-31T11:21:02.826Z"
   },
   {
    "duration": 10,
    "start_time": "2021-12-31T11:21:02.838Z"
   },
   {
    "duration": 9,
    "start_time": "2021-12-31T11:21:02.849Z"
   },
   {
    "duration": 397,
    "start_time": "2021-12-31T11:21:02.859Z"
   },
   {
    "duration": 388,
    "start_time": "2021-12-31T11:21:03.259Z"
   },
   {
    "duration": 399,
    "start_time": "2021-12-31T11:21:03.649Z"
   },
   {
    "duration": 1237,
    "start_time": "2021-12-31T11:21:04.049Z"
   },
   {
    "duration": 17,
    "start_time": "2021-12-31T11:21:05.287Z"
   },
   {
    "duration": 2423,
    "start_time": "2021-12-31T11:21:05.306Z"
   },
   {
    "duration": 22,
    "start_time": "2021-12-31T11:21:07.731Z"
   },
   {
    "duration": 2085,
    "start_time": "2021-12-31T11:23:09.784Z"
   },
   {
    "duration": 2029,
    "start_time": "2021-12-31T11:23:49.622Z"
   },
   {
    "duration": 260,
    "start_time": "2021-12-31T11:23:58.544Z"
   },
   {
    "duration": 298,
    "start_time": "2021-12-31T11:24:11.886Z"
   },
   {
    "duration": 284,
    "start_time": "2021-12-31T11:24:18.321Z"
   },
   {
    "duration": 350,
    "start_time": "2021-12-31T11:24:34.244Z"
   },
   {
    "duration": 339,
    "start_time": "2021-12-31T11:24:41.369Z"
   },
   {
    "duration": 326,
    "start_time": "2021-12-31T11:24:47.525Z"
   },
   {
    "duration": 311,
    "start_time": "2021-12-31T11:24:52.798Z"
   },
   {
    "duration": 344,
    "start_time": "2021-12-31T11:28:48.268Z"
   },
   {
    "duration": 278,
    "start_time": "2021-12-31T11:29:50.243Z"
   },
   {
    "duration": 2063,
    "start_time": "2021-12-31T11:30:25.307Z"
   },
   {
    "duration": 2044,
    "start_time": "2021-12-31T11:32:18.637Z"
   },
   {
    "duration": 2047,
    "start_time": "2021-12-31T11:32:25.235Z"
   },
   {
    "duration": 335,
    "start_time": "2021-12-31T11:36:37.478Z"
   },
   {
    "duration": 347,
    "start_time": "2021-12-31T11:36:56.828Z"
   },
   {
    "duration": 321,
    "start_time": "2021-12-31T11:37:04.294Z"
   },
   {
    "duration": 273,
    "start_time": "2021-12-31T11:37:55.327Z"
   },
   {
    "duration": 2008,
    "start_time": "2021-12-31T11:38:16.165Z"
   },
   {
    "duration": 1977,
    "start_time": "2021-12-31T11:38:53.900Z"
   },
   {
    "duration": 197,
    "start_time": "2021-12-31T11:42:01.854Z"
   },
   {
    "duration": 330,
    "start_time": "2021-12-31T11:44:41.807Z"
   },
   {
    "duration": 175,
    "start_time": "2021-12-31T11:46:35.302Z"
   },
   {
    "duration": 689,
    "start_time": "2021-12-31T11:47:07.676Z"
   },
   {
    "duration": 599,
    "start_time": "2021-12-31T11:47:25.315Z"
   },
   {
    "duration": 600,
    "start_time": "2021-12-31T11:47:36.732Z"
   },
   {
    "duration": 588,
    "start_time": "2021-12-31T11:47:49.410Z"
   },
   {
    "duration": 566,
    "start_time": "2021-12-31T11:47:55.808Z"
   },
   {
    "duration": 98,
    "start_time": "2021-12-31T12:20:12.945Z"
   },
   {
    "duration": 8,
    "start_time": "2021-12-31T12:20:13.045Z"
   },
   {
    "duration": 63,
    "start_time": "2021-12-31T12:20:13.054Z"
   },
   {
    "duration": 22,
    "start_time": "2021-12-31T12:20:13.119Z"
   },
   {
    "duration": 789,
    "start_time": "2021-12-31T12:20:13.143Z"
   },
   {
    "duration": 503,
    "start_time": "2021-12-31T12:20:13.934Z"
   },
   {
    "duration": 380,
    "start_time": "2021-12-31T12:20:14.439Z"
   },
   {
    "duration": 365,
    "start_time": "2021-12-31T12:20:14.821Z"
   },
   {
    "duration": 384,
    "start_time": "2021-12-31T12:20:15.188Z"
   },
   {
    "duration": 210,
    "start_time": "2021-12-31T12:20:15.574Z"
   },
   {
    "duration": 18,
    "start_time": "2021-12-31T12:20:15.785Z"
   },
   {
    "duration": 405,
    "start_time": "2021-12-31T12:20:15.805Z"
   },
   {
    "duration": 304,
    "start_time": "2021-12-31T12:20:16.212Z"
   },
   {
    "duration": 2020,
    "start_time": "2021-12-31T12:20:16.518Z"
   },
   {
    "duration": 199,
    "start_time": "2021-12-31T12:20:18.540Z"
   },
   {
    "duration": 560,
    "start_time": "2021-12-31T12:20:18.741Z"
   },
   {
    "duration": 3401,
    "start_time": "2021-12-31T12:20:19.304Z"
   },
   {
    "duration": 10,
    "start_time": "2021-12-31T12:20:22.707Z"
   },
   {
    "duration": 16,
    "start_time": "2021-12-31T12:20:22.719Z"
   },
   {
    "duration": 9,
    "start_time": "2021-12-31T12:20:22.737Z"
   },
   {
    "duration": 9,
    "start_time": "2021-12-31T12:20:22.748Z"
   },
   {
    "duration": 354,
    "start_time": "2021-12-31T12:20:22.758Z"
   },
   {
    "duration": 387,
    "start_time": "2021-12-31T12:20:23.115Z"
   },
   {
    "duration": 496,
    "start_time": "2021-12-31T12:20:23.504Z"
   },
   {
    "duration": 1283,
    "start_time": "2021-12-31T12:20:24.002Z"
   },
   {
    "duration": 18,
    "start_time": "2021-12-31T12:20:25.287Z"
   },
   {
    "duration": 2507,
    "start_time": "2021-12-31T12:20:25.307Z"
   },
   {
    "duration": 22,
    "start_time": "2021-12-31T12:20:27.815Z"
   },
   {
    "duration": 160,
    "start_time": "2021-12-31T12:21:46.823Z"
   },
   {
    "duration": 98,
    "start_time": "2021-12-31T12:23:58.047Z"
   },
   {
    "duration": 7,
    "start_time": "2021-12-31T12:23:58.147Z"
   },
   {
    "duration": 54,
    "start_time": "2021-12-31T12:23:58.156Z"
   },
   {
    "duration": 22,
    "start_time": "2021-12-31T12:23:58.211Z"
   },
   {
    "duration": 708,
    "start_time": "2021-12-31T12:23:58.235Z"
   },
   {
    "duration": 559,
    "start_time": "2021-12-31T12:23:58.945Z"
   },
   {
    "duration": 379,
    "start_time": "2021-12-31T12:23:59.506Z"
   },
   {
    "duration": 359,
    "start_time": "2021-12-31T12:23:59.892Z"
   },
   {
    "duration": 377,
    "start_time": "2021-12-31T12:24:00.253Z"
   },
   {
    "duration": 208,
    "start_time": "2021-12-31T12:24:00.632Z"
   },
   {
    "duration": 14,
    "start_time": "2021-12-31T12:24:00.841Z"
   },
   {
    "duration": 360,
    "start_time": "2021-12-31T12:24:00.857Z"
   },
   {
    "duration": 300,
    "start_time": "2021-12-31T12:24:01.219Z"
   },
   {
    "duration": 1960,
    "start_time": "2021-12-31T12:24:01.522Z"
   },
   {
    "duration": 242,
    "start_time": "2021-12-31T12:24:03.484Z"
   },
   {
    "duration": 543,
    "start_time": "2021-12-31T12:24:03.729Z"
   },
   {
    "duration": 11,
    "start_time": "2021-12-31T12:24:04.274Z"
   },
   {
    "duration": 24,
    "start_time": "2021-12-31T12:24:04.292Z"
   },
   {
    "duration": 27,
    "start_time": "2021-12-31T12:24:04.318Z"
   },
   {
    "duration": 22,
    "start_time": "2021-12-31T12:24:04.347Z"
   },
   {
    "duration": 336,
    "start_time": "2021-12-31T12:24:04.371Z"
   },
   {
    "duration": 376,
    "start_time": "2021-12-31T12:24:04.709Z"
   },
   {
    "duration": 420,
    "start_time": "2021-12-31T12:24:05.090Z"
   },
   {
    "duration": 1253,
    "start_time": "2021-12-31T12:24:05.512Z"
   },
   {
    "duration": 26,
    "start_time": "2021-12-31T12:24:06.766Z"
   },
   {
    "duration": 2599,
    "start_time": "2021-12-31T12:24:06.794Z"
   },
   {
    "duration": 23,
    "start_time": "2021-12-31T12:24:09.397Z"
   },
   {
    "duration": 192,
    "start_time": "2021-12-31T12:34:13.047Z"
   },
   {
    "duration": 636,
    "start_time": "2021-12-31T12:34:29.101Z"
   },
   {
    "duration": 18,
    "start_time": "2021-12-31T12:38:00.493Z"
   },
   {
    "duration": 22,
    "start_time": "2021-12-31T12:38:15.706Z"
   },
   {
    "duration": 23,
    "start_time": "2021-12-31T12:38:29.520Z"
   },
   {
    "duration": 24,
    "start_time": "2021-12-31T12:38:44.054Z"
   },
   {
    "duration": 25,
    "start_time": "2021-12-31T12:38:50.257Z"
   },
   {
    "duration": 28,
    "start_time": "2021-12-31T12:39:00.925Z"
   },
   {
    "duration": 200,
    "start_time": "2021-12-31T12:39:32.005Z"
   },
   {
    "duration": 201,
    "start_time": "2021-12-31T12:39:56.978Z"
   },
   {
    "duration": 194,
    "start_time": "2021-12-31T12:40:10.419Z"
   },
   {
    "duration": 189,
    "start_time": "2021-12-31T12:40:41.105Z"
   },
   {
    "duration": 183,
    "start_time": "2021-12-31T12:41:54.769Z"
   },
   {
    "duration": 18,
    "start_time": "2021-12-31T12:42:05.770Z"
   },
   {
    "duration": 191,
    "start_time": "2021-12-31T12:42:24.490Z"
   },
   {
    "duration": 95,
    "start_time": "2021-12-31T12:45:33.740Z"
   },
   {
    "duration": 8,
    "start_time": "2021-12-31T12:45:33.837Z"
   },
   {
    "duration": 61,
    "start_time": "2021-12-31T12:45:33.847Z"
   },
   {
    "duration": 23,
    "start_time": "2021-12-31T12:45:33.910Z"
   },
   {
    "duration": 708,
    "start_time": "2021-12-31T12:45:33.934Z"
   },
   {
    "duration": 482,
    "start_time": "2021-12-31T12:45:34.644Z"
   },
   {
    "duration": 369,
    "start_time": "2021-12-31T12:45:35.128Z"
   },
   {
    "duration": 393,
    "start_time": "2021-12-31T12:45:35.499Z"
   },
   {
    "duration": 367,
    "start_time": "2021-12-31T12:45:35.895Z"
   },
   {
    "duration": 202,
    "start_time": "2021-12-31T12:45:36.264Z"
   },
   {
    "duration": 13,
    "start_time": "2021-12-31T12:45:36.468Z"
   },
   {
    "duration": 336,
    "start_time": "2021-12-31T12:45:36.491Z"
   },
   {
    "duration": 283,
    "start_time": "2021-12-31T12:45:36.829Z"
   },
   {
    "duration": 1971,
    "start_time": "2021-12-31T12:45:37.114Z"
   },
   {
    "duration": 170,
    "start_time": "2021-12-31T12:45:39.087Z"
   },
   {
    "duration": 536,
    "start_time": "2021-12-31T12:45:39.259Z"
   },
   {
    "duration": 10,
    "start_time": "2021-12-31T12:45:39.797Z"
   },
   {
    "duration": 186,
    "start_time": "2021-12-31T12:45:39.808Z"
   },
   {
    "duration": 2302,
    "start_time": "2021-12-31T12:45:37.694Z"
   },
   {
    "duration": 2301,
    "start_time": "2021-12-31T12:45:37.696Z"
   },
   {
    "duration": 2300,
    "start_time": "2021-12-31T12:45:37.698Z"
   },
   {
    "duration": 2297,
    "start_time": "2021-12-31T12:45:37.702Z"
   },
   {
    "duration": 2297,
    "start_time": "2021-12-31T12:45:37.703Z"
   },
   {
    "duration": 2296,
    "start_time": "2021-12-31T12:45:37.705Z"
   },
   {
    "duration": 2296,
    "start_time": "2021-12-31T12:45:37.706Z"
   },
   {
    "duration": 2294,
    "start_time": "2021-12-31T12:45:37.708Z"
   },
   {
    "duration": 2294,
    "start_time": "2021-12-31T12:45:37.709Z"
   },
   {
    "duration": 94,
    "start_time": "2021-12-31T12:45:46.120Z"
   },
   {
    "duration": 8,
    "start_time": "2021-12-31T12:45:46.216Z"
   },
   {
    "duration": 40,
    "start_time": "2021-12-31T12:45:46.226Z"
   },
   {
    "duration": 45,
    "start_time": "2021-12-31T12:45:46.267Z"
   },
   {
    "duration": 766,
    "start_time": "2021-12-31T12:45:46.314Z"
   },
   {
    "duration": 497,
    "start_time": "2021-12-31T12:45:47.082Z"
   },
   {
    "duration": 361,
    "start_time": "2021-12-31T12:45:47.580Z"
   },
   {
    "duration": 334,
    "start_time": "2021-12-31T12:45:47.943Z"
   },
   {
    "duration": 367,
    "start_time": "2021-12-31T12:45:48.279Z"
   },
   {
    "duration": 198,
    "start_time": "2021-12-31T12:45:48.648Z"
   },
   {
    "duration": 13,
    "start_time": "2021-12-31T12:45:48.848Z"
   },
   {
    "duration": 437,
    "start_time": "2021-12-31T12:45:48.862Z"
   },
   {
    "duration": 309,
    "start_time": "2021-12-31T12:45:49.301Z"
   },
   {
    "duration": 2028,
    "start_time": "2021-12-31T12:45:49.612Z"
   },
   {
    "duration": 182,
    "start_time": "2021-12-31T12:45:51.642Z"
   },
   {
    "duration": 554,
    "start_time": "2021-12-31T12:45:51.825Z"
   },
   {
    "duration": 15,
    "start_time": "2021-12-31T12:45:52.380Z"
   },
   {
    "duration": 207,
    "start_time": "2021-12-31T12:45:52.396Z"
   },
   {
    "duration": 2306,
    "start_time": "2021-12-31T12:45:50.299Z"
   },
   {
    "duration": 2305,
    "start_time": "2021-12-31T12:45:50.301Z"
   },
   {
    "duration": 2284,
    "start_time": "2021-12-31T12:45:50.323Z"
   },
   {
    "duration": 2282,
    "start_time": "2021-12-31T12:45:50.326Z"
   },
   {
    "duration": 2282,
    "start_time": "2021-12-31T12:45:50.327Z"
   },
   {
    "duration": 2281,
    "start_time": "2021-12-31T12:45:50.329Z"
   },
   {
    "duration": 2281,
    "start_time": "2021-12-31T12:45:50.330Z"
   },
   {
    "duration": 2281,
    "start_time": "2021-12-31T12:45:50.331Z"
   },
   {
    "duration": 2281,
    "start_time": "2021-12-31T12:45:50.332Z"
   },
   {
    "duration": 211,
    "start_time": "2021-12-31T12:47:14.358Z"
   },
   {
    "duration": 12,
    "start_time": "2021-12-31T12:47:28.603Z"
   },
   {
    "duration": 203,
    "start_time": "2021-12-31T12:47:47.238Z"
   },
   {
    "duration": 187,
    "start_time": "2021-12-31T12:47:53.520Z"
   },
   {
    "duration": 14,
    "start_time": "2021-12-31T12:48:00.063Z"
   },
   {
    "duration": 179,
    "start_time": "2021-12-31T12:48:18.650Z"
   },
   {
    "duration": 12,
    "start_time": "2021-12-31T12:48:32.180Z"
   },
   {
    "duration": 13,
    "start_time": "2021-12-31T12:48:38.646Z"
   },
   {
    "duration": 180,
    "start_time": "2021-12-31T12:49:21.826Z"
   },
   {
    "duration": 169,
    "start_time": "2021-12-31T12:49:42.763Z"
   },
   {
    "duration": 86,
    "start_time": "2021-12-31T12:50:34.020Z"
   },
   {
    "duration": 179,
    "start_time": "2021-12-31T12:50:48.742Z"
   },
   {
    "duration": 13,
    "start_time": "2021-12-31T12:52:21.396Z"
   },
   {
    "duration": 21,
    "start_time": "2021-12-31T12:52:36.722Z"
   },
   {
    "duration": 195,
    "start_time": "2021-12-31T12:52:46.117Z"
   },
   {
    "duration": 63,
    "start_time": "2021-12-31T12:52:52.937Z"
   },
   {
    "duration": 190,
    "start_time": "2021-12-31T12:52:57.859Z"
   },
   {
    "duration": 193,
    "start_time": "2021-12-31T12:53:05.858Z"
   },
   {
    "duration": 21,
    "start_time": "2021-12-31T12:53:11.077Z"
   },
   {
    "duration": 182,
    "start_time": "2021-12-31T12:53:32.169Z"
   },
   {
    "duration": 180,
    "start_time": "2021-12-31T12:53:51.827Z"
   },
   {
    "duration": 220,
    "start_time": "2021-12-31T12:54:00.009Z"
   },
   {
    "duration": 20,
    "start_time": "2021-12-31T12:54:12.864Z"
   },
   {
    "duration": 12,
    "start_time": "2021-12-31T12:55:06.963Z"
   },
   {
    "duration": 191,
    "start_time": "2021-12-31T12:55:23.559Z"
   },
   {
    "duration": 174,
    "start_time": "2021-12-31T12:55:37.202Z"
   },
   {
    "duration": 12,
    "start_time": "2021-12-31T12:55:46.243Z"
   },
   {
    "duration": 2931,
    "start_time": "2021-12-31T12:56:18.283Z"
   },
   {
    "duration": 3623,
    "start_time": "2021-12-31T12:56:28.593Z"
   },
   {
    "duration": 13,
    "start_time": "2021-12-31T12:56:40.103Z"
   },
   {
    "duration": 59,
    "start_time": "2021-12-31T12:58:55.813Z"
   },
   {
    "duration": 10,
    "start_time": "2021-12-31T12:59:01.716Z"
   },
   {
    "duration": 14,
    "start_time": "2021-12-31T12:59:10.010Z"
   },
   {
    "duration": 13,
    "start_time": "2021-12-31T12:59:37.329Z"
   },
   {
    "duration": 13,
    "start_time": "2021-12-31T12:59:44.446Z"
   },
   {
    "duration": 13,
    "start_time": "2021-12-31T13:00:17.646Z"
   },
   {
    "duration": 15,
    "start_time": "2021-12-31T13:04:03.006Z"
   },
   {
    "duration": 252,
    "start_time": "2021-12-31T13:04:15.443Z"
   },
   {
    "duration": 215,
    "start_time": "2021-12-31T13:04:22.765Z"
   },
   {
    "duration": 19,
    "start_time": "2021-12-31T13:04:45.692Z"
   },
   {
    "duration": 13,
    "start_time": "2021-12-31T13:05:03.904Z"
   },
   {
    "duration": 13,
    "start_time": "2021-12-31T13:05:28.775Z"
   },
   {
    "duration": 13,
    "start_time": "2021-12-31T13:05:46.784Z"
   },
   {
    "duration": 13,
    "start_time": "2021-12-31T13:05:59.147Z"
   },
   {
    "duration": 15,
    "start_time": "2021-12-31T13:06:40.820Z"
   },
   {
    "duration": 15,
    "start_time": "2021-12-31T13:06:58.522Z"
   },
   {
    "duration": 14,
    "start_time": "2021-12-31T13:07:50.024Z"
   },
   {
    "duration": 14,
    "start_time": "2021-12-31T13:07:59.394Z"
   },
   {
    "duration": 13,
    "start_time": "2021-12-31T13:08:07.244Z"
   },
   {
    "duration": 234,
    "start_time": "2021-12-31T13:08:16.539Z"
   },
   {
    "duration": 13,
    "start_time": "2021-12-31T13:08:21.806Z"
   },
   {
    "duration": 13,
    "start_time": "2021-12-31T13:08:35.561Z"
   },
   {
    "duration": 14,
    "start_time": "2021-12-31T13:09:25.235Z"
   },
   {
    "duration": 170,
    "start_time": "2021-12-31T13:10:04.440Z"
   },
   {
    "duration": 192,
    "start_time": "2021-12-31T13:10:33.393Z"
   },
   {
    "duration": 58,
    "start_time": "2021-12-31T13:11:06.929Z"
   },
   {
    "duration": 184,
    "start_time": "2021-12-31T13:11:17.392Z"
   },
   {
    "duration": 14,
    "start_time": "2021-12-31T13:11:27.173Z"
   },
   {
    "duration": 14,
    "start_time": "2021-12-31T13:11:56.488Z"
   },
   {
    "duration": 174,
    "start_time": "2021-12-31T13:12:07.036Z"
   },
   {
    "duration": 14,
    "start_time": "2021-12-31T13:12:14.745Z"
   },
   {
    "duration": 15,
    "start_time": "2021-12-31T13:12:31.096Z"
   },
   {
    "duration": 13,
    "start_time": "2021-12-31T13:12:40.495Z"
   },
   {
    "duration": 96,
    "start_time": "2021-12-31T13:13:20.610Z"
   },
   {
    "duration": 8,
    "start_time": "2021-12-31T13:13:20.709Z"
   },
   {
    "duration": 43,
    "start_time": "2021-12-31T13:13:20.720Z"
   },
   {
    "duration": 42,
    "start_time": "2021-12-31T13:13:20.765Z"
   },
   {
    "duration": 807,
    "start_time": "2021-12-31T13:13:20.809Z"
   },
   {
    "duration": 497,
    "start_time": "2021-12-31T13:13:21.617Z"
   },
   {
    "duration": 796,
    "start_time": "2021-12-31T13:13:22.115Z"
   },
   {
    "duration": 328,
    "start_time": "2021-12-31T13:13:22.913Z"
   },
   {
    "duration": 365,
    "start_time": "2021-12-31T13:13:23.243Z"
   },
   {
    "duration": 271,
    "start_time": "2021-12-31T13:13:23.610Z"
   },
   {
    "duration": 16,
    "start_time": "2021-12-31T13:13:23.883Z"
   },
   {
    "duration": 322,
    "start_time": "2021-12-31T13:13:23.901Z"
   },
   {
    "duration": 294,
    "start_time": "2021-12-31T13:13:24.225Z"
   },
   {
    "duration": 2018,
    "start_time": "2021-12-31T13:13:24.521Z"
   },
   {
    "duration": 171,
    "start_time": "2021-12-31T13:13:26.540Z"
   },
   {
    "duration": 553,
    "start_time": "2021-12-31T13:13:26.713Z"
   },
   {
    "duration": 9,
    "start_time": "2021-12-31T13:13:27.268Z"
   },
   {
    "duration": 15,
    "start_time": "2021-12-31T13:13:27.278Z"
   },
   {
    "duration": 11,
    "start_time": "2021-12-31T13:13:27.294Z"
   },
   {
    "duration": 7,
    "start_time": "2021-12-31T13:13:27.307Z"
   },
   {
    "duration": 308,
    "start_time": "2021-12-31T13:13:27.316Z"
   },
   {
    "duration": 379,
    "start_time": "2021-12-31T13:13:27.626Z"
   },
   {
    "duration": 586,
    "start_time": "2021-12-31T13:13:28.007Z"
   },
   {
    "duration": 1252,
    "start_time": "2021-12-31T13:13:28.595Z"
   },
   {
    "duration": 19,
    "start_time": "2021-12-31T13:13:29.849Z"
   },
   {
    "duration": 2533,
    "start_time": "2021-12-31T13:13:29.870Z"
   },
   {
    "duration": 22,
    "start_time": "2021-12-31T13:13:32.404Z"
   },
   {
    "duration": 176,
    "start_time": "2021-12-31T13:14:12.058Z"
   },
   {
    "duration": 183,
    "start_time": "2021-12-31T13:14:55.828Z"
   },
   {
    "duration": 11,
    "start_time": "2021-12-31T13:15:01.937Z"
   },
   {
    "duration": 98,
    "start_time": "2021-12-31T13:20:33.364Z"
   },
   {
    "duration": 8,
    "start_time": "2021-12-31T13:20:33.464Z"
   },
   {
    "duration": 59,
    "start_time": "2021-12-31T13:20:33.474Z"
   },
   {
    "duration": 23,
    "start_time": "2021-12-31T13:20:33.534Z"
   },
   {
    "duration": 733,
    "start_time": "2021-12-31T13:20:33.559Z"
   },
   {
    "duration": 582,
    "start_time": "2021-12-31T13:20:34.294Z"
   },
   {
    "duration": 375,
    "start_time": "2021-12-31T13:20:34.878Z"
   },
   {
    "duration": 359,
    "start_time": "2021-12-31T13:20:35.255Z"
   },
   {
    "duration": 378,
    "start_time": "2021-12-31T13:20:35.616Z"
   },
   {
    "duration": 205,
    "start_time": "2021-12-31T13:20:35.996Z"
   },
   {
    "duration": 14,
    "start_time": "2021-12-31T13:20:36.203Z"
   },
   {
    "duration": 372,
    "start_time": "2021-12-31T13:20:36.219Z"
   },
   {
    "duration": 312,
    "start_time": "2021-12-31T13:20:36.593Z"
   },
   {
    "duration": 2001,
    "start_time": "2021-12-31T13:20:36.906Z"
   },
   {
    "duration": 257,
    "start_time": "2021-12-31T13:20:38.908Z"
   },
   {
    "duration": 575,
    "start_time": "2021-12-31T13:20:39.167Z"
   },
   {
    "duration": 11,
    "start_time": "2021-12-31T13:20:39.743Z"
   },
   {
    "duration": 13,
    "start_time": "2021-12-31T13:20:39.755Z"
   },
   {
    "duration": 21,
    "start_time": "2021-12-31T13:20:39.770Z"
   },
   {
    "duration": 10,
    "start_time": "2021-12-31T13:20:39.793Z"
   },
   {
    "duration": 336,
    "start_time": "2021-12-31T13:20:39.804Z"
   },
   {
    "duration": 393,
    "start_time": "2021-12-31T13:20:40.142Z"
   },
   {
    "duration": 413,
    "start_time": "2021-12-31T13:20:40.538Z"
   },
   {
    "duration": 1283,
    "start_time": "2021-12-31T13:20:40.953Z"
   },
   {
    "duration": 18,
    "start_time": "2021-12-31T13:20:42.238Z"
   },
   {
    "duration": 2604,
    "start_time": "2021-12-31T13:20:42.258Z"
   },
   {
    "duration": 37,
    "start_time": "2021-12-31T13:20:44.865Z"
   },
   {
    "duration": 2052,
    "start_time": "2021-12-31T13:24:25.231Z"
   },
   {
    "duration": 329,
    "start_time": "2021-12-31T13:24:36.973Z"
   },
   {
    "duration": 358,
    "start_time": "2021-12-31T13:24:45.352Z"
   },
   {
    "duration": 331,
    "start_time": "2021-12-31T13:25:04.964Z"
   },
   {
    "duration": 337,
    "start_time": "2021-12-31T13:25:19.554Z"
   },
   {
    "duration": 278,
    "start_time": "2021-12-31T13:25:27.543Z"
   },
   {
    "duration": 275,
    "start_time": "2021-12-31T13:26:11.037Z"
   },
   {
    "duration": 403,
    "start_time": "2021-12-31T13:26:56.589Z"
   },
   {
    "duration": 317,
    "start_time": "2021-12-31T13:27:01.393Z"
   },
   {
    "duration": 291,
    "start_time": "2021-12-31T13:27:07.246Z"
   },
   {
    "duration": 304,
    "start_time": "2021-12-31T13:27:16.551Z"
   },
   {
    "duration": 322,
    "start_time": "2021-12-31T13:27:19.892Z"
   },
   {
    "duration": 280,
    "start_time": "2021-12-31T13:27:25.527Z"
   },
   {
    "duration": 278,
    "start_time": "2021-12-31T13:27:30.543Z"
   },
   {
    "duration": 314,
    "start_time": "2021-12-31T13:27:33.989Z"
   },
   {
    "duration": 61,
    "start_time": "2021-12-31T13:29:19.645Z"
   },
   {
    "duration": 314,
    "start_time": "2021-12-31T13:29:39.396Z"
   },
   {
    "duration": 310,
    "start_time": "2021-12-31T13:29:51.396Z"
   },
   {
    "duration": 396,
    "start_time": "2021-12-31T13:37:17.040Z"
   },
   {
    "duration": 215,
    "start_time": "2021-12-31T13:38:54.359Z"
   },
   {
    "duration": 186,
    "start_time": "2021-12-31T13:38:56.254Z"
   },
   {
    "duration": 190,
    "start_time": "2021-12-31T13:38:58.955Z"
   },
   {
    "duration": 94,
    "start_time": "2021-12-31T13:40:35.869Z"
   },
   {
    "duration": 8,
    "start_time": "2021-12-31T13:40:35.964Z"
   },
   {
    "duration": 58,
    "start_time": "2021-12-31T13:40:35.974Z"
   },
   {
    "duration": 23,
    "start_time": "2021-12-31T13:40:36.034Z"
   },
   {
    "duration": 722,
    "start_time": "2021-12-31T13:40:36.058Z"
   },
   {
    "duration": 511,
    "start_time": "2021-12-31T13:40:36.782Z"
   },
   {
    "duration": 373,
    "start_time": "2021-12-31T13:40:37.294Z"
   },
   {
    "duration": 430,
    "start_time": "2021-12-31T13:40:37.670Z"
   },
   {
    "duration": 390,
    "start_time": "2021-12-31T13:40:38.103Z"
   },
   {
    "duration": 212,
    "start_time": "2021-12-31T13:40:38.495Z"
   },
   {
    "duration": 14,
    "start_time": "2021-12-31T13:40:38.709Z"
   },
   {
    "duration": 375,
    "start_time": "2021-12-31T13:40:38.725Z"
   },
   {
    "duration": 303,
    "start_time": "2021-12-31T13:40:39.102Z"
   },
   {
    "duration": 2035,
    "start_time": "2021-12-31T13:40:39.407Z"
   },
   {
    "duration": 186,
    "start_time": "2021-12-31T13:40:41.444Z"
   },
   {
    "duration": 564,
    "start_time": "2021-12-31T13:40:41.631Z"
   },
   {
    "duration": 10,
    "start_time": "2021-12-31T13:40:42.197Z"
   },
   {
    "duration": 13,
    "start_time": "2021-12-31T13:40:42.209Z"
   },
   {
    "duration": 10,
    "start_time": "2021-12-31T13:40:42.224Z"
   },
   {
    "duration": 10,
    "start_time": "2021-12-31T13:40:42.236Z"
   },
   {
    "duration": 354,
    "start_time": "2021-12-31T13:40:42.248Z"
   },
   {
    "duration": 481,
    "start_time": "2021-12-31T13:40:42.604Z"
   },
   {
    "duration": 329,
    "start_time": "2021-12-31T13:40:43.093Z"
   },
   {
    "duration": 197,
    "start_time": "2021-12-31T13:40:43.424Z"
   },
   {
    "duration": 203,
    "start_time": "2021-12-31T13:40:43.623Z"
   },
   {
    "duration": 229,
    "start_time": "2021-12-31T13:40:43.828Z"
   },
   {
    "duration": 1307,
    "start_time": "2021-12-31T13:40:44.058Z"
   },
   {
    "duration": 26,
    "start_time": "2021-12-31T13:40:45.366Z"
   },
   {
    "duration": 2618,
    "start_time": "2021-12-31T13:40:45.394Z"
   },
   {
    "duration": 23,
    "start_time": "2021-12-31T13:40:48.014Z"
   },
   {
    "duration": 100,
    "start_time": "2021-12-31T14:38:16.292Z"
   },
   {
    "duration": 8,
    "start_time": "2021-12-31T14:38:16.394Z"
   },
   {
    "duration": 41,
    "start_time": "2021-12-31T14:38:16.404Z"
   },
   {
    "duration": 54,
    "start_time": "2021-12-31T14:38:16.447Z"
   },
   {
    "duration": 704,
    "start_time": "2021-12-31T14:38:16.503Z"
   },
   {
    "duration": 507,
    "start_time": "2021-12-31T14:38:17.209Z"
   },
   {
    "duration": 384,
    "start_time": "2021-12-31T14:38:17.718Z"
   },
   {
    "duration": 346,
    "start_time": "2021-12-31T14:38:18.105Z"
   },
   {
    "duration": 459,
    "start_time": "2021-12-31T14:38:18.453Z"
   },
   {
    "duration": 205,
    "start_time": "2021-12-31T14:38:18.913Z"
   },
   {
    "duration": 14,
    "start_time": "2021-12-31T14:38:19.120Z"
   },
   {
    "duration": 375,
    "start_time": "2021-12-31T14:38:19.136Z"
   },
   {
    "duration": 302,
    "start_time": "2021-12-31T14:38:19.513Z"
   },
   {
    "duration": 2070,
    "start_time": "2021-12-31T14:38:19.817Z"
   },
   {
    "duration": 186,
    "start_time": "2021-12-31T14:38:21.889Z"
   },
   {
    "duration": 555,
    "start_time": "2021-12-31T14:38:22.077Z"
   },
   {
    "duration": 11,
    "start_time": "2021-12-31T14:38:22.634Z"
   },
   {
    "duration": 13,
    "start_time": "2021-12-31T14:38:22.647Z"
   },
   {
    "duration": 35,
    "start_time": "2021-12-31T14:38:22.662Z"
   },
   {
    "duration": 11,
    "start_time": "2021-12-31T14:38:22.699Z"
   },
   {
    "duration": 308,
    "start_time": "2021-12-31T14:38:22.711Z"
   },
   {
    "duration": 460,
    "start_time": "2021-12-31T14:38:23.020Z"
   },
   {
    "duration": 335,
    "start_time": "2021-12-31T14:38:23.483Z"
   },
   {
    "duration": 203,
    "start_time": "2021-12-31T14:38:23.820Z"
   },
   {
    "duration": 202,
    "start_time": "2021-12-31T14:38:24.025Z"
   },
   {
    "duration": 233,
    "start_time": "2021-12-31T14:38:24.229Z"
   },
   {
    "duration": 1298,
    "start_time": "2021-12-31T14:38:24.464Z"
   },
   {
    "duration": 28,
    "start_time": "2021-12-31T14:38:25.764Z"
   },
   {
    "duration": 2497,
    "start_time": "2021-12-31T14:38:25.794Z"
   },
   {
    "duration": 21,
    "start_time": "2021-12-31T14:38:28.293Z"
   },
   {
    "duration": 101,
    "start_time": "2021-12-31T14:38:49.704Z"
   },
   {
    "duration": 9,
    "start_time": "2021-12-31T14:38:49.807Z"
   },
   {
    "duration": 45,
    "start_time": "2021-12-31T14:38:49.818Z"
   },
   {
    "duration": 47,
    "start_time": "2021-12-31T14:38:49.865Z"
   },
   {
    "duration": 836,
    "start_time": "2021-12-31T14:38:49.914Z"
   },
   {
    "duration": 521,
    "start_time": "2021-12-31T14:38:50.752Z"
   },
   {
    "duration": 396,
    "start_time": "2021-12-31T14:38:51.274Z"
   },
   {
    "duration": 356,
    "start_time": "2021-12-31T14:38:51.673Z"
   },
   {
    "duration": 382,
    "start_time": "2021-12-31T14:38:52.032Z"
   },
   {
    "duration": 220,
    "start_time": "2021-12-31T14:38:52.416Z"
   },
   {
    "duration": 17,
    "start_time": "2021-12-31T14:38:52.638Z"
   },
   {
    "duration": 462,
    "start_time": "2021-12-31T14:38:52.656Z"
   },
   {
    "duration": 294,
    "start_time": "2021-12-31T14:38:53.120Z"
   },
   {
    "duration": 2059,
    "start_time": "2021-12-31T14:38:53.416Z"
   },
   {
    "duration": 186,
    "start_time": "2021-12-31T14:38:55.478Z"
   },
   {
    "duration": 581,
    "start_time": "2021-12-31T14:38:55.666Z"
   },
   {
    "duration": 11,
    "start_time": "2021-12-31T14:38:56.249Z"
   },
   {
    "duration": 31,
    "start_time": "2021-12-31T14:38:56.262Z"
   },
   {
    "duration": 16,
    "start_time": "2021-12-31T14:38:56.294Z"
   },
   {
    "duration": 9,
    "start_time": "2021-12-31T14:38:56.312Z"
   },
   {
    "duration": 312,
    "start_time": "2021-12-31T14:38:56.323Z"
   },
   {
    "duration": 391,
    "start_time": "2021-12-31T14:38:56.637Z"
   },
   {
    "duration": 327,
    "start_time": "2021-12-31T14:38:57.031Z"
   },
   {
    "duration": 196,
    "start_time": "2021-12-31T14:38:57.359Z"
   },
   {
    "duration": 295,
    "start_time": "2021-12-31T14:38:57.557Z"
   },
   {
    "duration": 229,
    "start_time": "2021-12-31T14:38:57.854Z"
   },
   {
    "duration": 1274,
    "start_time": "2021-12-31T14:38:58.085Z"
   },
   {
    "duration": 32,
    "start_time": "2021-12-31T14:38:59.361Z"
   },
   {
    "duration": 2616,
    "start_time": "2021-12-31T14:38:59.394Z"
   },
   {
    "duration": 23,
    "start_time": "2021-12-31T14:39:02.012Z"
   },
   {
    "duration": 112,
    "start_time": "2021-12-31T14:41:15.180Z"
   },
   {
    "duration": 9,
    "start_time": "2021-12-31T14:41:15.293Z"
   },
   {
    "duration": 43,
    "start_time": "2021-12-31T14:41:15.304Z"
   },
   {
    "duration": 54,
    "start_time": "2021-12-31T14:41:15.348Z"
   },
   {
    "duration": 714,
    "start_time": "2021-12-31T14:41:15.404Z"
   },
   {
    "duration": 598,
    "start_time": "2021-12-31T14:41:16.120Z"
   },
   {
    "duration": 387,
    "start_time": "2021-12-31T14:41:16.721Z"
   },
   {
    "duration": 356,
    "start_time": "2021-12-31T14:41:17.110Z"
   },
   {
    "duration": 403,
    "start_time": "2021-12-31T14:41:17.470Z"
   },
   {
    "duration": 212,
    "start_time": "2021-12-31T14:41:17.876Z"
   },
   {
    "duration": 16,
    "start_time": "2021-12-31T14:41:18.091Z"
   },
   {
    "duration": 383,
    "start_time": "2021-12-31T14:41:18.109Z"
   },
   {
    "duration": 321,
    "start_time": "2021-12-31T14:41:18.494Z"
   },
   {
    "duration": 2159,
    "start_time": "2021-12-31T14:41:18.818Z"
   },
   {
    "duration": 191,
    "start_time": "2021-12-31T14:41:20.980Z"
   },
   {
    "duration": 599,
    "start_time": "2021-12-31T14:41:21.173Z"
   },
   {
    "duration": 22,
    "start_time": "2021-12-31T14:41:21.774Z"
   },
   {
    "duration": 15,
    "start_time": "2021-12-31T14:41:21.798Z"
   },
   {
    "duration": 12,
    "start_time": "2021-12-31T14:41:21.815Z"
   },
   {
    "duration": 12,
    "start_time": "2021-12-31T14:41:21.829Z"
   },
   {
    "duration": 363,
    "start_time": "2021-12-31T14:41:21.843Z"
   },
   {
    "duration": 398,
    "start_time": "2021-12-31T14:41:22.207Z"
   },
   {
    "duration": 331,
    "start_time": "2021-12-31T14:41:22.607Z"
   },
   {
    "duration": 196,
    "start_time": "2021-12-31T14:41:22.940Z"
   },
   {
    "duration": 203,
    "start_time": "2021-12-31T14:41:23.137Z"
   },
   {
    "duration": 224,
    "start_time": "2021-12-31T14:41:23.342Z"
   },
   {
    "duration": 1396,
    "start_time": "2021-12-31T14:41:23.570Z"
   },
   {
    "duration": 29,
    "start_time": "2021-12-31T14:41:24.969Z"
   },
   {
    "duration": 2528,
    "start_time": "2021-12-31T14:41:25.001Z"
   },
   {
    "duration": 25,
    "start_time": "2021-12-31T14:41:27.532Z"
   },
   {
    "duration": 353,
    "start_time": "2021-12-31T14:42:52.981Z"
   },
   {
    "duration": 210,
    "start_time": "2021-12-31T14:44:08.401Z"
   },
   {
    "duration": 214,
    "start_time": "2021-12-31T14:44:23.489Z"
   },
   {
    "duration": 260,
    "start_time": "2021-12-31T14:44:35.127Z"
   },
   {
    "duration": 552,
    "start_time": "2021-12-31T14:45:10.679Z"
   },
   {
    "duration": 456,
    "start_time": "2021-12-31T14:45:16.694Z"
   },
   {
    "duration": 262,
    "start_time": "2021-12-31T14:45:58.257Z"
   },
   {
    "duration": 262,
    "start_time": "2021-12-31T14:53:43.306Z"
   },
   {
    "duration": 231,
    "start_time": "2021-12-31T14:54:30.993Z"
   },
   {
    "duration": 216,
    "start_time": "2021-12-31T14:54:57.609Z"
   },
   {
    "duration": 354,
    "start_time": "2021-12-31T14:55:16.463Z"
   },
   {
    "duration": 635,
    "start_time": "2021-12-31T15:06:49.887Z"
   },
   {
    "duration": 349,
    "start_time": "2021-12-31T15:07:23.008Z"
   },
   {
    "duration": 364,
    "start_time": "2021-12-31T15:09:58.887Z"
   },
   {
    "duration": 359,
    "start_time": "2021-12-31T15:10:27.026Z"
   },
   {
    "duration": 530,
    "start_time": "2021-12-31T15:12:12.896Z"
   },
   {
    "duration": 619,
    "start_time": "2021-12-31T15:12:18.424Z"
   },
   {
    "duration": 553,
    "start_time": "2021-12-31T15:12:29.678Z"
   },
   {
    "duration": 541,
    "start_time": "2021-12-31T15:12:43.144Z"
   },
   {
    "duration": 359,
    "start_time": "2021-12-31T15:12:49.017Z"
   },
   {
    "duration": 531,
    "start_time": "2021-12-31T15:13:18.233Z"
   },
   {
    "duration": 357,
    "start_time": "2021-12-31T15:13:22.244Z"
   },
   {
    "duration": 435,
    "start_time": "2021-12-31T15:14:42.396Z"
   },
   {
    "duration": 356,
    "start_time": "2021-12-31T15:14:52.521Z"
   },
   {
    "duration": 353,
    "start_time": "2021-12-31T15:15:56.389Z"
   },
   {
    "duration": 1002,
    "start_time": "2022-01-01T10:22:58.889Z"
   },
   {
    "duration": 12,
    "start_time": "2022-01-01T10:22:59.893Z"
   },
   {
    "duration": 94,
    "start_time": "2022-01-01T10:22:59.909Z"
   },
   {
    "duration": 37,
    "start_time": "2022-01-01T10:23:00.006Z"
   },
   {
    "duration": 1340,
    "start_time": "2022-01-01T10:23:00.046Z"
   },
   {
    "duration": 852,
    "start_time": "2022-01-01T10:23:01.389Z"
   },
   {
    "duration": 604,
    "start_time": "2022-01-01T10:23:02.245Z"
   },
   {
    "duration": 551,
    "start_time": "2022-01-01T10:23:02.852Z"
   },
   {
    "duration": 595,
    "start_time": "2022-01-01T10:23:03.407Z"
   },
   {
    "duration": 329,
    "start_time": "2022-01-01T10:23:04.005Z"
   },
   {
    "duration": 35,
    "start_time": "2022-01-01T10:23:04.336Z"
   },
   {
    "duration": 496,
    "start_time": "2022-01-01T10:23:04.374Z"
   },
   {
    "duration": 409,
    "start_time": "2022-01-01T10:23:04.872Z"
   },
   {
    "duration": 3600,
    "start_time": "2022-01-01T10:23:05.284Z"
   },
   {
    "duration": 271,
    "start_time": "2022-01-01T10:23:08.887Z"
   },
   {
    "duration": 878,
    "start_time": "2022-01-01T10:23:09.160Z"
   },
   {
    "duration": 12,
    "start_time": "2022-01-01T10:23:10.041Z"
   },
   {
    "duration": 16,
    "start_time": "2022-01-01T10:23:10.068Z"
   },
   {
    "duration": 29,
    "start_time": "2022-01-01T10:23:10.086Z"
   },
   {
    "duration": 13,
    "start_time": "2022-01-01T10:23:10.117Z"
   },
   {
    "duration": 451,
    "start_time": "2022-01-01T10:23:10.133Z"
   },
   {
    "duration": 608,
    "start_time": "2022-01-01T10:23:10.586Z"
   },
   {
    "duration": 562,
    "start_time": "2022-01-01T10:23:11.196Z"
   },
   {
    "duration": 363,
    "start_time": "2022-01-01T10:23:11.767Z"
   },
   {
    "duration": 359,
    "start_time": "2022-01-01T10:23:12.133Z"
   },
   {
    "duration": 555,
    "start_time": "2022-01-01T10:23:12.495Z"
   },
   {
    "duration": 2247,
    "start_time": "2022-01-01T10:23:13.057Z"
   },
   {
    "duration": 29,
    "start_time": "2022-01-01T10:23:15.308Z"
   },
   {
    "duration": 4446,
    "start_time": "2022-01-01T10:23:15.340Z"
   },
   {
    "duration": 35,
    "start_time": "2022-01-01T10:23:19.788Z"
   },
   {
    "duration": 140,
    "start_time": "2022-01-01T10:26:12.006Z"
   },
   {
    "duration": 26,
    "start_time": "2022-01-01T10:26:12.148Z"
   },
   {
    "duration": 65,
    "start_time": "2022-01-01T10:26:12.177Z"
   },
   {
    "duration": 45,
    "start_time": "2022-01-01T10:26:12.245Z"
   },
   {
    "duration": 1195,
    "start_time": "2022-01-01T10:26:12.293Z"
   },
   {
    "duration": 868,
    "start_time": "2022-01-01T10:26:13.491Z"
   },
   {
    "duration": 617,
    "start_time": "2022-01-01T10:26:14.366Z"
   },
   {
    "duration": 545,
    "start_time": "2022-01-01T10:26:14.985Z"
   },
   {
    "duration": 602,
    "start_time": "2022-01-01T10:26:15.534Z"
   },
   {
    "duration": 330,
    "start_time": "2022-01-01T10:26:16.139Z"
   },
   {
    "duration": 21,
    "start_time": "2022-01-01T10:26:16.471Z"
   },
   {
    "duration": 484,
    "start_time": "2022-01-01T10:26:16.494Z"
   },
   {
    "duration": 396,
    "start_time": "2022-01-01T10:26:16.981Z"
   },
   {
    "duration": 3947,
    "start_time": "2022-01-01T10:26:17.380Z"
   },
   {
    "duration": 278,
    "start_time": "2022-01-01T10:26:21.329Z"
   },
   {
    "duration": 899,
    "start_time": "2022-01-01T10:26:21.610Z"
   },
   {
    "duration": 13,
    "start_time": "2022-01-01T10:26:22.512Z"
   },
   {
    "duration": 40,
    "start_time": "2022-01-01T10:26:22.527Z"
   },
   {
    "duration": 15,
    "start_time": "2022-01-01T10:26:22.569Z"
   },
   {
    "duration": 15,
    "start_time": "2022-01-01T10:26:22.586Z"
   },
   {
    "duration": 471,
    "start_time": "2022-01-01T10:26:22.603Z"
   },
   {
    "duration": 634,
    "start_time": "2022-01-01T10:26:23.077Z"
   },
   {
    "duration": 580,
    "start_time": "2022-01-01T10:26:23.713Z"
   },
   {
    "duration": 364,
    "start_time": "2022-01-01T10:26:24.295Z"
   },
   {
    "duration": 355,
    "start_time": "2022-01-01T10:26:24.661Z"
   },
   {
    "duration": 528,
    "start_time": "2022-01-01T10:26:25.019Z"
   },
   {
    "duration": 2160,
    "start_time": "2022-01-01T10:26:25.551Z"
   },
   {
    "duration": 29,
    "start_time": "2022-01-01T10:26:27.714Z"
   },
   {
    "duration": 4466,
    "start_time": "2022-01-01T10:26:27.767Z"
   },
   {
    "duration": 41,
    "start_time": "2022-01-01T10:26:32.236Z"
   },
   {
    "duration": 17,
    "start_time": "2022-01-01T10:27:01.127Z"
   },
   {
    "duration": 17,
    "start_time": "2022-01-01T10:27:07.205Z"
   },
   {
    "duration": 362,
    "start_time": "2022-01-01T10:28:05.299Z"
   },
   {
    "duration": 304,
    "start_time": "2022-01-01T10:28:29.692Z"
   },
   {
    "duration": 276,
    "start_time": "2022-01-01T10:28:46.476Z"
   },
   {
    "duration": 95,
    "start_time": "2022-01-01T10:29:04.206Z"
   },
   {
    "duration": 291,
    "start_time": "2022-01-01T10:29:09.900Z"
   },
   {
    "duration": 14,
    "start_time": "2022-01-01T10:29:22.476Z"
   },
   {
    "duration": 15,
    "start_time": "2022-01-01T10:29:31.090Z"
   },
   {
    "duration": 87,
    "start_time": "2022-01-01T10:55:48.977Z"
   },
   {
    "duration": 493,
    "start_time": "2022-01-01T10:55:55.936Z"
   },
   {
    "duration": 458,
    "start_time": "2022-01-01T10:56:45.441Z"
   },
   {
    "duration": 446,
    "start_time": "2022-01-01T10:56:56.531Z"
   },
   {
    "duration": 202,
    "start_time": "2022-01-01T11:34:27.921Z"
   },
   {
    "duration": 672,
    "start_time": "2022-01-01T11:38:14.357Z"
   },
   {
    "duration": 823,
    "start_time": "2022-01-01T11:38:25.816Z"
   },
   {
    "duration": 613,
    "start_time": "2022-01-01T11:38:39.160Z"
   },
   {
    "duration": 556,
    "start_time": "2022-01-01T11:39:47.791Z"
   },
   {
    "duration": 556,
    "start_time": "2022-01-01T11:40:02.135Z"
   },
   {
    "duration": 127,
    "start_time": "2022-01-01T11:40:06.821Z"
   },
   {
    "duration": 25,
    "start_time": "2022-01-01T11:40:06.951Z"
   },
   {
    "duration": 61,
    "start_time": "2022-01-01T11:40:06.979Z"
   },
   {
    "duration": 54,
    "start_time": "2022-01-01T11:40:07.043Z"
   },
   {
    "duration": 1226,
    "start_time": "2022-01-01T11:40:07.100Z"
   },
   {
    "duration": 877,
    "start_time": "2022-01-01T11:40:08.329Z"
   },
   {
    "duration": 597,
    "start_time": "2022-01-01T11:40:09.208Z"
   },
   {
    "duration": 552,
    "start_time": "2022-01-01T11:40:09.807Z"
   },
   {
    "duration": 602,
    "start_time": "2022-01-01T11:40:10.367Z"
   },
   {
    "duration": 324,
    "start_time": "2022-01-01T11:40:10.972Z"
   },
   {
    "duration": 19,
    "start_time": "2022-01-01T11:40:11.298Z"
   },
   {
    "duration": 507,
    "start_time": "2022-01-01T11:40:11.319Z"
   },
   {
    "duration": 447,
    "start_time": "2022-01-01T11:40:11.829Z"
   },
   {
    "duration": 3567,
    "start_time": "2022-01-01T11:40:12.279Z"
   },
   {
    "duration": 359,
    "start_time": "2022-01-01T11:40:15.848Z"
   },
   {
    "duration": 894,
    "start_time": "2022-01-01T11:40:16.209Z"
   },
   {
    "duration": 14,
    "start_time": "2022-01-01T11:40:17.105Z"
   },
   {
    "duration": 17,
    "start_time": "2022-01-01T11:40:17.121Z"
   },
   {
    "duration": 13,
    "start_time": "2022-01-01T11:40:17.168Z"
   },
   {
    "duration": 14,
    "start_time": "2022-01-01T11:40:17.183Z"
   },
   {
    "duration": 505,
    "start_time": "2022-01-01T11:40:17.199Z"
   },
   {
    "duration": 130,
    "start_time": "2022-01-01T11:40:17.707Z"
   },
   {
    "duration": 565,
    "start_time": "2022-01-01T11:40:17.840Z"
   },
   {
    "duration": 362,
    "start_time": "2022-01-01T11:40:18.408Z"
   },
   {
    "duration": 357,
    "start_time": "2022-01-01T11:40:18.772Z"
   },
   {
    "duration": 452,
    "start_time": "2022-01-01T11:40:19.132Z"
   },
   {
    "duration": 2246,
    "start_time": "2022-01-01T11:40:19.589Z"
   },
   {
    "duration": 37,
    "start_time": "2022-01-01T11:40:21.838Z"
   },
   {
    "duration": 4419,
    "start_time": "2022-01-01T11:40:21.878Z"
   },
   {
    "duration": 33,
    "start_time": "2022-01-01T11:40:26.299Z"
   },
   {
    "duration": 602,
    "start_time": "2022-01-01T11:40:29.482Z"
   },
   {
    "duration": 911,
    "start_time": "2022-01-01T11:41:54.622Z"
   },
   {
    "duration": 835,
    "start_time": "2022-01-01T11:42:03.956Z"
   },
   {
    "duration": 963,
    "start_time": "2022-01-01T11:42:50.015Z"
   },
   {
    "duration": 832,
    "start_time": "2022-01-01T11:44:44.439Z"
   },
   {
    "duration": 556,
    "start_time": "2022-01-01T11:44:49.337Z"
   },
   {
    "duration": 798,
    "start_time": "2022-01-01T11:45:28.413Z"
   },
   {
    "duration": 103,
    "start_time": "2022-01-01T11:46:05.417Z"
   },
   {
    "duration": 544,
    "start_time": "2022-01-01T11:46:10.354Z"
   },
   {
    "duration": 560,
    "start_time": "2022-01-01T11:46:18.170Z"
   },
   {
    "duration": 573,
    "start_time": "2022-01-01T11:46:23.222Z"
   },
   {
    "duration": 565,
    "start_time": "2022-01-01T11:46:39.836Z"
   },
   {
    "duration": 668,
    "start_time": "2022-01-01T11:47:23.652Z"
   },
   {
    "duration": 86,
    "start_time": "2022-01-01T11:47:48.189Z"
   },
   {
    "duration": 860,
    "start_time": "2022-01-01T11:47:58.909Z"
   },
   {
    "duration": 559,
    "start_time": "2022-01-01T11:48:47.950Z"
   },
   {
    "duration": 907,
    "start_time": "2022-01-01T11:50:19.282Z"
   },
   {
    "duration": 569,
    "start_time": "2022-01-01T11:50:45.118Z"
   },
   {
    "duration": 335,
    "start_time": "2022-01-01T11:52:48.552Z"
   },
   {
    "duration": 738,
    "start_time": "2022-01-01T11:55:00.821Z"
   },
   {
    "duration": 688,
    "start_time": "2022-01-01T11:55:14.249Z"
   },
   {
    "duration": 1265,
    "start_time": "2022-01-01T11:55:33.361Z"
   },
   {
    "duration": 708,
    "start_time": "2022-01-01T11:56:43.534Z"
   },
   {
    "duration": 723,
    "start_time": "2022-01-01T11:57:03.165Z"
   },
   {
    "duration": 96,
    "start_time": "2022-01-01T12:02:51.210Z"
   },
   {
    "duration": 786,
    "start_time": "2022-01-01T12:05:56.883Z"
   },
   {
    "duration": 2244,
    "start_time": "2022-01-01T12:21:16.557Z"
   },
   {
    "duration": 2355,
    "start_time": "2022-01-01T12:21:33.337Z"
   },
   {
    "duration": 4708,
    "start_time": "2022-01-01T12:22:02.869Z"
   },
   {
    "duration": 6987,
    "start_time": "2022-01-01T12:25:59.614Z"
   },
   {
    "duration": 2364,
    "start_time": "2022-01-01T12:26:37.137Z"
   },
   {
    "duration": 8113,
    "start_time": "2022-01-01T12:27:00.956Z"
   },
   {
    "duration": 8636,
    "start_time": "2022-01-01T12:27:32.612Z"
   },
   {
    "duration": 681,
    "start_time": "2022-01-01T12:30:18.001Z"
   },
   {
    "duration": 495,
    "start_time": "2022-01-01T12:30:26.784Z"
   },
   {
    "duration": 88,
    "start_time": "2022-01-01T12:30:40.216Z"
   },
   {
    "duration": 685,
    "start_time": "2022-01-01T12:30:47.608Z"
   },
   {
    "duration": 501,
    "start_time": "2022-01-01T12:30:54.069Z"
   },
   {
    "duration": 631,
    "start_time": "2022-01-01T12:31:31.267Z"
   },
   {
    "duration": 477,
    "start_time": "2022-01-01T12:31:37.328Z"
   },
   {
    "duration": 952,
    "start_time": "2022-01-01T12:34:47.824Z"
   },
   {
    "duration": 623,
    "start_time": "2022-01-01T12:35:08.047Z"
   },
   {
    "duration": 584,
    "start_time": "2022-01-01T12:35:20.943Z"
   },
   {
    "duration": 659,
    "start_time": "2022-01-01T12:35:24.639Z"
   },
   {
    "duration": 613,
    "start_time": "2022-01-01T12:35:33.167Z"
   },
   {
    "duration": 1418,
    "start_time": "2022-01-01T12:44:51.052Z"
   },
   {
    "duration": 1036,
    "start_time": "2022-01-11T19:04:17.298Z"
   },
   {
    "duration": 12,
    "start_time": "2022-01-11T19:04:18.337Z"
   },
   {
    "duration": 83,
    "start_time": "2022-01-11T19:04:18.352Z"
   },
   {
    "duration": 54,
    "start_time": "2022-01-11T19:04:18.438Z"
   },
   {
    "duration": 1272,
    "start_time": "2022-01-11T19:04:18.495Z"
   },
   {
    "duration": 926,
    "start_time": "2022-01-11T19:04:19.770Z"
   },
   {
    "duration": 603,
    "start_time": "2022-01-11T19:04:20.698Z"
   },
   {
    "duration": 564,
    "start_time": "2022-01-11T19:04:21.303Z"
   },
   {
    "duration": 641,
    "start_time": "2022-01-11T19:04:21.872Z"
   },
   {
    "duration": 513,
    "start_time": "2022-01-11T19:04:22.518Z"
   },
   {
    "duration": 45,
    "start_time": "2022-01-11T19:04:23.034Z"
   },
   {
    "duration": 695,
    "start_time": "2022-01-11T19:04:23.083Z"
   },
   {
    "duration": 571,
    "start_time": "2022-01-11T19:04:23.781Z"
   },
   {
    "duration": 5637,
    "start_time": "2022-01-11T19:04:24.356Z"
   },
   {
    "duration": 416,
    "start_time": "2022-01-11T19:04:29.997Z"
   },
   {
    "duration": 1517,
    "start_time": "2022-01-11T19:04:30.416Z"
   },
   {
    "duration": 31,
    "start_time": "2022-01-11T19:04:31.936Z"
   },
   {
    "duration": 16,
    "start_time": "2022-01-11T19:04:31.970Z"
   },
   {
    "duration": 12,
    "start_time": "2022-01-11T19:04:31.989Z"
   },
   {
    "duration": 13,
    "start_time": "2022-01-11T19:04:32.003Z"
   },
   {
    "duration": 491,
    "start_time": "2022-01-11T19:04:32.018Z"
   },
   {
    "duration": 134,
    "start_time": "2022-01-11T19:04:32.512Z"
   },
   {
    "duration": 731,
    "start_time": "2022-01-11T19:04:32.648Z"
   },
   {
    "duration": 384,
    "start_time": "2022-01-11T19:04:33.382Z"
   },
   {
    "duration": 358,
    "start_time": "2022-01-11T19:04:33.769Z"
   },
   {
    "duration": 460,
    "start_time": "2022-01-11T19:04:34.129Z"
   },
   {
    "duration": 1554,
    "start_time": "2022-01-11T19:04:34.594Z"
   },
   {
    "duration": 37,
    "start_time": "2022-01-11T19:04:36.151Z"
   },
   {
    "duration": 4861,
    "start_time": "2022-01-11T19:04:36.191Z"
   },
   {
    "duration": 41,
    "start_time": "2022-01-11T19:04:41.055Z"
   },
   {
    "duration": 629,
    "start_time": "2022-01-11T19:13:23.928Z"
   },
   {
    "duration": 618,
    "start_time": "2022-01-11T19:13:37.519Z"
   },
   {
    "duration": 171,
    "start_time": "2022-01-11T19:13:48.241Z"
   },
   {
    "duration": 15,
    "start_time": "2022-01-11T19:13:48.416Z"
   },
   {
    "duration": 95,
    "start_time": "2022-01-11T19:13:48.435Z"
   },
   {
    "duration": 49,
    "start_time": "2022-01-11T19:13:48.533Z"
   },
   {
    "duration": 1320,
    "start_time": "2022-01-11T19:13:48.585Z"
   },
   {
    "duration": 804,
    "start_time": "2022-01-11T19:13:49.908Z"
   },
   {
    "duration": 609,
    "start_time": "2022-01-11T19:13:50.715Z"
   },
   {
    "duration": 584,
    "start_time": "2022-01-11T19:13:51.326Z"
   },
   {
    "duration": 674,
    "start_time": "2022-01-11T19:13:51.915Z"
   },
   {
    "duration": 342,
    "start_time": "2022-01-11T19:13:52.592Z"
   },
   {
    "duration": 38,
    "start_time": "2022-01-11T19:13:52.937Z"
   },
   {
    "duration": 508,
    "start_time": "2022-01-11T19:13:52.977Z"
   },
   {
    "duration": 523,
    "start_time": "2022-01-11T19:13:53.488Z"
   },
   {
    "duration": 3693,
    "start_time": "2022-01-11T19:13:54.013Z"
   },
   {
    "duration": 288,
    "start_time": "2022-01-11T19:13:57.708Z"
   },
   {
    "duration": 934,
    "start_time": "2022-01-11T19:13:57.999Z"
   },
   {
    "duration": 15,
    "start_time": "2022-01-11T19:13:58.935Z"
   },
   {
    "duration": 16,
    "start_time": "2022-01-11T19:13:58.967Z"
   },
   {
    "duration": 17,
    "start_time": "2022-01-11T19:13:58.985Z"
   },
   {
    "duration": 12,
    "start_time": "2022-01-11T19:13:59.005Z"
   },
   {
    "duration": 493,
    "start_time": "2022-01-11T19:13:59.020Z"
   },
   {
    "duration": 201,
    "start_time": "2022-01-11T19:13:59.517Z"
   },
   {
    "duration": 653,
    "start_time": "2022-01-11T19:13:59.721Z"
   },
   {
    "duration": 369,
    "start_time": "2022-01-11T19:14:00.377Z"
   },
   {
    "duration": 373,
    "start_time": "2022-01-11T19:14:00.748Z"
   },
   {
    "duration": 580,
    "start_time": "2022-01-11T19:14:01.124Z"
   },
   {
    "duration": 1650,
    "start_time": "2022-01-11T19:14:01.708Z"
   },
   {
    "duration": 31,
    "start_time": "2022-01-11T19:14:03.368Z"
   },
   {
    "duration": 4765,
    "start_time": "2022-01-11T19:14:03.402Z"
   },
   {
    "duration": 34,
    "start_time": "2022-01-11T19:14:08.169Z"
   },
   {
    "duration": 875,
    "start_time": "2022-01-11T19:14:30.800Z"
   },
   {
    "duration": 19,
    "start_time": "2022-01-11T19:16:21.675Z"
   },
   {
    "duration": 963,
    "start_time": "2022-01-11T19:16:28.294Z"
   },
   {
    "duration": 12,
    "start_time": "2022-01-11T19:16:29.268Z"
   },
   {
    "duration": 61,
    "start_time": "2022-01-11T19:16:29.283Z"
   },
   {
    "duration": 35,
    "start_time": "2022-01-11T19:16:29.368Z"
   },
   {
    "duration": 1403,
    "start_time": "2022-01-11T19:16:29.405Z"
   },
   {
    "duration": 938,
    "start_time": "2022-01-11T19:16:30.810Z"
   },
   {
    "duration": 633,
    "start_time": "2022-01-11T19:16:31.751Z"
   },
   {
    "duration": 593,
    "start_time": "2022-01-11T19:16:32.387Z"
   },
   {
    "duration": 652,
    "start_time": "2022-01-11T19:16:32.987Z"
   },
   {
    "duration": 335,
    "start_time": "2022-01-11T19:16:33.643Z"
   },
   {
    "duration": 22,
    "start_time": "2022-01-11T19:16:33.980Z"
   },
   {
    "duration": 489,
    "start_time": "2022-01-11T19:16:34.004Z"
   },
   {
    "duration": 400,
    "start_time": "2022-01-11T19:16:34.495Z"
   },
   {
    "duration": 3642,
    "start_time": "2022-01-11T19:16:34.897Z"
   },
   {
    "duration": 343,
    "start_time": "2022-01-11T19:16:38.542Z"
   },
   {
    "duration": 926,
    "start_time": "2022-01-11T19:16:38.888Z"
   },
   {
    "duration": 13,
    "start_time": "2022-01-11T19:16:39.816Z"
   },
   {
    "duration": 37,
    "start_time": "2022-01-11T19:16:39.831Z"
   },
   {
    "duration": 13,
    "start_time": "2022-01-11T19:16:39.871Z"
   },
   {
    "duration": 13,
    "start_time": "2022-01-11T19:16:39.887Z"
   },
   {
    "duration": 497,
    "start_time": "2022-01-11T19:16:39.903Z"
   },
   {
    "duration": 137,
    "start_time": "2022-01-11T19:16:40.402Z"
   },
   {
    "duration": 612,
    "start_time": "2022-01-11T19:16:40.542Z"
   },
   {
    "duration": 384,
    "start_time": "2022-01-11T19:16:41.156Z"
   },
   {
    "duration": 368,
    "start_time": "2022-01-11T19:16:41.542Z"
   },
   {
    "duration": 454,
    "start_time": "2022-01-11T19:16:41.913Z"
   },
   {
    "duration": 1501,
    "start_time": "2022-01-11T19:16:42.372Z"
   },
   {
    "duration": 28,
    "start_time": "2022-01-11T19:16:43.876Z"
   },
   {
    "duration": 4826,
    "start_time": "2022-01-11T19:16:43.906Z"
   },
   {
    "duration": 56,
    "start_time": "2022-01-11T19:16:48.735Z"
   },
   {
    "duration": 764,
    "start_time": "2022-01-11T19:16:49.551Z"
   },
   {
    "duration": 888,
    "start_time": "2022-01-11T19:17:03.756Z"
   },
   {
    "duration": 133,
    "start_time": "2022-01-11T19:17:07.297Z"
   },
   {
    "duration": 12,
    "start_time": "2022-01-11T19:17:07.433Z"
   },
   {
    "duration": 81,
    "start_time": "2022-01-11T19:17:07.448Z"
   },
   {
    "duration": 51,
    "start_time": "2022-01-11T19:17:07.531Z"
   },
   {
    "duration": 1361,
    "start_time": "2022-01-11T19:17:07.585Z"
   },
   {
    "duration": 818,
    "start_time": "2022-01-11T19:17:08.949Z"
   },
   {
    "duration": 671,
    "start_time": "2022-01-11T19:17:09.769Z"
   },
   {
    "duration": 583,
    "start_time": "2022-01-11T19:17:10.443Z"
   },
   {
    "duration": 630,
    "start_time": "2022-01-11T19:17:11.031Z"
   },
   {
    "duration": 337,
    "start_time": "2022-01-11T19:17:11.668Z"
   },
   {
    "duration": 20,
    "start_time": "2022-01-11T19:17:12.008Z"
   },
   {
    "duration": 564,
    "start_time": "2022-01-11T19:17:12.030Z"
   },
   {
    "duration": 429,
    "start_time": "2022-01-11T19:17:12.597Z"
   },
   {
    "duration": 3649,
    "start_time": "2022-01-11T19:17:13.028Z"
   },
   {
    "duration": 281,
    "start_time": "2022-01-11T19:17:16.679Z"
   },
   {
    "duration": 972,
    "start_time": "2022-01-11T19:17:16.962Z"
   },
   {
    "duration": 29,
    "start_time": "2022-01-11T19:17:17.937Z"
   },
   {
    "duration": 20,
    "start_time": "2022-01-11T19:17:17.969Z"
   },
   {
    "duration": 14,
    "start_time": "2022-01-11T19:17:17.992Z"
   },
   {
    "duration": 20,
    "start_time": "2022-01-11T19:17:18.009Z"
   },
   {
    "duration": 501,
    "start_time": "2022-01-11T19:17:18.069Z"
   },
   {
    "duration": 129,
    "start_time": "2022-01-11T19:17:18.573Z"
   },
   {
    "duration": 647,
    "start_time": "2022-01-11T19:17:18.704Z"
   },
   {
    "duration": 372,
    "start_time": "2022-01-11T19:17:19.353Z"
   },
   {
    "duration": 373,
    "start_time": "2022-01-11T19:17:19.728Z"
   },
   {
    "duration": 546,
    "start_time": "2022-01-11T19:17:20.104Z"
   },
   {
    "duration": 1400,
    "start_time": "2022-01-11T19:17:20.657Z"
   },
   {
    "duration": 34,
    "start_time": "2022-01-11T19:17:22.060Z"
   },
   {
    "duration": 4825,
    "start_time": "2022-01-11T19:17:22.097Z"
   },
   {
    "duration": 52,
    "start_time": "2022-01-11T19:17:26.925Z"
   },
   {
    "duration": 835,
    "start_time": "2022-01-11T19:18:09.783Z"
   },
   {
    "duration": 791,
    "start_time": "2022-01-11T19:19:21.790Z"
   },
   {
    "duration": 892,
    "start_time": "2022-01-11T19:22:59.630Z"
   },
   {
    "duration": 136,
    "start_time": "2022-01-11T19:32:13.134Z"
   },
   {
    "duration": 12,
    "start_time": "2022-01-11T19:32:13.272Z"
   },
   {
    "duration": 85,
    "start_time": "2022-01-11T19:32:13.287Z"
   },
   {
    "duration": 32,
    "start_time": "2022-01-11T19:32:13.374Z"
   },
   {
    "duration": 1263,
    "start_time": "2022-01-11T19:32:13.409Z"
   },
   {
    "duration": 845,
    "start_time": "2022-01-11T19:32:14.674Z"
   },
   {
    "duration": 601,
    "start_time": "2022-01-11T19:32:15.521Z"
   },
   {
    "duration": 569,
    "start_time": "2022-01-11T19:32:16.124Z"
   },
   {
    "duration": 692,
    "start_time": "2022-01-11T19:32:16.697Z"
   },
   {
    "duration": 330,
    "start_time": "2022-01-11T19:32:17.393Z"
   },
   {
    "duration": 22,
    "start_time": "2022-01-11T19:32:17.725Z"
   },
   {
    "duration": 527,
    "start_time": "2022-01-11T19:32:17.750Z"
   },
   {
    "duration": 409,
    "start_time": "2022-01-11T19:32:18.280Z"
   },
   {
    "duration": 4009,
    "start_time": "2022-01-11T19:32:18.692Z"
   },
   {
    "duration": 283,
    "start_time": "2022-01-11T19:32:22.704Z"
   },
   {
    "duration": 961,
    "start_time": "2022-01-11T19:32:22.990Z"
   },
   {
    "duration": 25,
    "start_time": "2022-01-11T19:32:23.955Z"
   },
   {
    "duration": 24,
    "start_time": "2022-01-11T19:32:23.983Z"
   },
   {
    "duration": 17,
    "start_time": "2022-01-11T19:32:24.011Z"
   },
   {
    "duration": 51,
    "start_time": "2022-01-11T19:32:24.031Z"
   },
   {
    "duration": 430,
    "start_time": "2022-01-11T19:32:24.085Z"
   },
   {
    "duration": 140,
    "start_time": "2022-01-11T19:32:24.519Z"
   },
   {
    "duration": 631,
    "start_time": "2022-01-11T19:32:24.661Z"
   },
   {
    "duration": 462,
    "start_time": "2022-01-11T19:32:25.294Z"
   },
   {
    "duration": 377,
    "start_time": "2022-01-11T19:32:25.759Z"
   },
   {
    "duration": 479,
    "start_time": "2022-01-11T19:32:26.138Z"
   },
   {
    "duration": 1523,
    "start_time": "2022-01-11T19:32:26.622Z"
   },
   {
    "duration": 37,
    "start_time": "2022-01-11T19:32:28.148Z"
   },
   {
    "duration": 4814,
    "start_time": "2022-01-11T19:32:28.188Z"
   },
   {
    "duration": 37,
    "start_time": "2022-01-11T19:32:33.005Z"
   },
   {
    "duration": 807,
    "start_time": "2022-01-11T19:33:35.627Z"
   },
   {
    "duration": 899,
    "start_time": "2022-01-11T19:33:50.008Z"
   },
   {
    "duration": 136,
    "start_time": "2022-01-11T19:33:55.335Z"
   },
   {
    "duration": 12,
    "start_time": "2022-01-11T19:33:55.473Z"
   },
   {
    "duration": 92,
    "start_time": "2022-01-11T19:33:55.488Z"
   },
   {
    "duration": 29,
    "start_time": "2022-01-11T19:33:55.583Z"
   },
   {
    "duration": 1270,
    "start_time": "2022-01-11T19:33:55.615Z"
   },
   {
    "duration": 840,
    "start_time": "2022-01-11T19:33:56.888Z"
   },
   {
    "duration": 611,
    "start_time": "2022-01-11T19:33:57.731Z"
   },
   {
    "duration": 560,
    "start_time": "2022-01-11T19:33:58.345Z"
   },
   {
    "duration": 689,
    "start_time": "2022-01-11T19:33:58.909Z"
   },
   {
    "duration": 336,
    "start_time": "2022-01-11T19:33:59.602Z"
   },
   {
    "duration": 37,
    "start_time": "2022-01-11T19:33:59.941Z"
   },
   {
    "duration": 510,
    "start_time": "2022-01-11T19:33:59.980Z"
   },
   {
    "duration": 400,
    "start_time": "2022-01-11T19:34:00.492Z"
   },
   {
    "duration": 3704,
    "start_time": "2022-01-11T19:34:00.895Z"
   },
   {
    "duration": 278,
    "start_time": "2022-01-11T19:34:04.602Z"
   },
   {
    "duration": 947,
    "start_time": "2022-01-11T19:34:04.883Z"
   },
   {
    "duration": 15,
    "start_time": "2022-01-11T19:34:05.833Z"
   },
   {
    "duration": 33,
    "start_time": "2022-01-11T19:34:05.851Z"
   },
   {
    "duration": 14,
    "start_time": "2022-01-11T19:34:05.886Z"
   },
   {
    "duration": 12,
    "start_time": "2022-01-11T19:34:05.902Z"
   },
   {
    "duration": 473,
    "start_time": "2022-01-11T19:34:05.917Z"
   },
   {
    "duration": 134,
    "start_time": "2022-01-11T19:34:06.393Z"
   },
   {
    "duration": 706,
    "start_time": "2022-01-11T19:34:06.530Z"
   },
   {
    "duration": 374,
    "start_time": "2022-01-11T19:34:07.239Z"
   },
   {
    "duration": 365,
    "start_time": "2022-01-11T19:34:07.615Z"
   },
   {
    "duration": 467,
    "start_time": "2022-01-11T19:34:07.983Z"
   },
   {
    "duration": 1398,
    "start_time": "2022-01-11T19:34:08.455Z"
   },
   {
    "duration": 27,
    "start_time": "2022-01-11T19:34:09.867Z"
   },
   {
    "duration": 4722,
    "start_time": "2022-01-11T19:34:09.896Z"
   },
   {
    "duration": 49,
    "start_time": "2022-01-11T19:34:14.620Z"
   },
   {
    "duration": 881,
    "start_time": "2022-01-11T19:34:19.186Z"
   },
   {
    "duration": 132,
    "start_time": "2022-01-11T19:34:23.286Z"
   },
   {
    "duration": 12,
    "start_time": "2022-01-11T19:34:23.421Z"
   },
   {
    "duration": 80,
    "start_time": "2022-01-11T19:34:23.437Z"
   },
   {
    "duration": 52,
    "start_time": "2022-01-11T19:34:23.521Z"
   },
   {
    "duration": 1245,
    "start_time": "2022-01-11T19:34:23.575Z"
   },
   {
    "duration": 851,
    "start_time": "2022-01-11T19:34:24.822Z"
   },
   {
    "duration": 621,
    "start_time": "2022-01-11T19:34:25.676Z"
   },
   {
    "duration": 576,
    "start_time": "2022-01-11T19:34:26.299Z"
   },
   {
    "duration": 699,
    "start_time": "2022-01-11T19:34:26.881Z"
   },
   {
    "duration": 343,
    "start_time": "2022-01-11T19:34:27.584Z"
   },
   {
    "duration": 37,
    "start_time": "2022-01-11T19:34:27.930Z"
   },
   {
    "duration": 505,
    "start_time": "2022-01-11T19:34:27.970Z"
   },
   {
    "duration": 402,
    "start_time": "2022-01-11T19:34:28.477Z"
   },
   {
    "duration": 3679,
    "start_time": "2022-01-11T19:34:28.882Z"
   },
   {
    "duration": 275,
    "start_time": "2022-01-11T19:34:32.568Z"
   },
   {
    "duration": 910,
    "start_time": "2022-01-11T19:34:32.845Z"
   },
   {
    "duration": 18,
    "start_time": "2022-01-11T19:34:33.757Z"
   },
   {
    "duration": 15,
    "start_time": "2022-01-11T19:34:33.777Z"
   },
   {
    "duration": 13,
    "start_time": "2022-01-11T19:34:33.795Z"
   },
   {
    "duration": 13,
    "start_time": "2022-01-11T19:34:33.810Z"
   },
   {
    "duration": 440,
    "start_time": "2022-01-11T19:34:33.868Z"
   },
   {
    "duration": 132,
    "start_time": "2022-01-11T19:34:34.311Z"
   },
   {
    "duration": 615,
    "start_time": "2022-01-11T19:34:34.446Z"
   },
   {
    "duration": 455,
    "start_time": "2022-01-11T19:34:35.068Z"
   },
   {
    "duration": 374,
    "start_time": "2022-01-11T19:34:35.526Z"
   },
   {
    "duration": 477,
    "start_time": "2022-01-11T19:34:35.903Z"
   },
   {
    "duration": 1416,
    "start_time": "2022-01-11T19:34:36.385Z"
   },
   {
    "duration": 29,
    "start_time": "2022-01-11T19:34:37.804Z"
   },
   {
    "duration": 4714,
    "start_time": "2022-01-11T19:34:37.836Z"
   },
   {
    "duration": 50,
    "start_time": "2022-01-11T19:34:42.553Z"
   },
   {
    "duration": 132,
    "start_time": "2022-01-11T19:35:23.977Z"
   },
   {
    "duration": 12,
    "start_time": "2022-01-11T19:35:24.112Z"
   },
   {
    "duration": 93,
    "start_time": "2022-01-11T19:35:24.127Z"
   },
   {
    "duration": 64,
    "start_time": "2022-01-11T19:35:24.223Z"
   },
   {
    "duration": 1460,
    "start_time": "2022-01-11T19:35:24.289Z"
   },
   {
    "duration": 841,
    "start_time": "2022-01-11T19:35:25.752Z"
   },
   {
    "duration": 619,
    "start_time": "2022-01-11T19:35:26.596Z"
   },
   {
    "duration": 565,
    "start_time": "2022-01-11T19:35:27.218Z"
   },
   {
    "duration": 629,
    "start_time": "2022-01-11T19:35:27.787Z"
   },
   {
    "duration": 338,
    "start_time": "2022-01-11T19:35:28.420Z"
   },
   {
    "duration": 25,
    "start_time": "2022-01-11T19:35:28.760Z"
   },
   {
    "duration": 503,
    "start_time": "2022-01-11T19:35:28.788Z"
   },
   {
    "duration": 518,
    "start_time": "2022-01-11T19:35:29.293Z"
   },
   {
    "duration": 4175,
    "start_time": "2022-01-11T19:35:29.813Z"
   },
   {
    "duration": 287,
    "start_time": "2022-01-11T19:35:33.991Z"
   },
   {
    "duration": 923,
    "start_time": "2022-01-11T19:35:34.280Z"
   },
   {
    "duration": 13,
    "start_time": "2022-01-11T19:35:35.206Z"
   },
   {
    "duration": 48,
    "start_time": "2022-01-11T19:35:35.222Z"
   },
   {
    "duration": 14,
    "start_time": "2022-01-11T19:35:35.272Z"
   },
   {
    "duration": 15,
    "start_time": "2022-01-11T19:35:35.289Z"
   },
   {
    "duration": 479,
    "start_time": "2022-01-11T19:35:35.307Z"
   },
   {
    "duration": 138,
    "start_time": "2022-01-11T19:35:35.788Z"
   },
   {
    "duration": 626,
    "start_time": "2022-01-11T19:35:35.929Z"
   },
   {
    "duration": 372,
    "start_time": "2022-01-11T19:35:36.557Z"
   },
   {
    "duration": 361,
    "start_time": "2022-01-11T19:35:36.931Z"
   },
   {
    "duration": 460,
    "start_time": "2022-01-11T19:35:37.294Z"
   },
   {
    "duration": 1511,
    "start_time": "2022-01-11T19:35:37.759Z"
   },
   {
    "duration": 29,
    "start_time": "2022-01-11T19:35:39.273Z"
   },
   {
    "duration": 4684,
    "start_time": "2022-01-11T19:35:39.304Z"
   },
   {
    "duration": 33,
    "start_time": "2022-01-11T19:35:43.991Z"
   },
   {
    "duration": 802,
    "start_time": "2022-01-11T19:35:44.027Z"
   },
   {
    "duration": 134,
    "start_time": "2022-01-11T19:36:52.282Z"
   },
   {
    "duration": 13,
    "start_time": "2022-01-11T19:36:52.418Z"
   },
   {
    "duration": 93,
    "start_time": "2022-01-11T19:36:52.435Z"
   },
   {
    "duration": 53,
    "start_time": "2022-01-11T19:36:52.530Z"
   },
   {
    "duration": 1300,
    "start_time": "2022-01-11T19:36:52.586Z"
   },
   {
    "duration": 920,
    "start_time": "2022-01-11T19:36:53.888Z"
   },
   {
    "duration": 625,
    "start_time": "2022-01-11T19:36:54.811Z"
   },
   {
    "duration": 582,
    "start_time": "2022-01-11T19:36:55.439Z"
   },
   {
    "duration": 615,
    "start_time": "2022-01-11T19:36:56.025Z"
   },
   {
    "duration": 345,
    "start_time": "2022-01-11T19:36:56.644Z"
   },
   {
    "duration": 21,
    "start_time": "2022-01-11T19:36:56.992Z"
   },
   {
    "duration": 502,
    "start_time": "2022-01-11T19:36:57.016Z"
   },
   {
    "duration": 483,
    "start_time": "2022-01-11T19:36:57.521Z"
   },
   {
    "duration": 3865,
    "start_time": "2022-01-11T19:36:58.006Z"
   },
   {
    "duration": 385,
    "start_time": "2022-01-11T19:37:01.873Z"
   },
   {
    "duration": 931,
    "start_time": "2022-01-11T19:37:02.267Z"
   },
   {
    "duration": 15,
    "start_time": "2022-01-11T19:37:03.200Z"
   },
   {
    "duration": 21,
    "start_time": "2022-01-11T19:37:03.217Z"
   },
   {
    "duration": 38,
    "start_time": "2022-01-11T19:37:03.241Z"
   },
   {
    "duration": 14,
    "start_time": "2022-01-11T19:37:03.282Z"
   },
   {
    "duration": 490,
    "start_time": "2022-01-11T19:37:03.299Z"
   },
   {
    "duration": 140,
    "start_time": "2022-01-11T19:37:03.792Z"
   },
   {
    "duration": 638,
    "start_time": "2022-01-11T19:37:03.935Z"
   },
   {
    "duration": 382,
    "start_time": "2022-01-11T19:37:04.576Z"
   },
   {
    "duration": 385,
    "start_time": "2022-01-11T19:37:04.960Z"
   },
   {
    "duration": 470,
    "start_time": "2022-01-11T19:37:05.347Z"
   },
   {
    "duration": 1537,
    "start_time": "2022-01-11T19:37:05.824Z"
   },
   {
    "duration": 29,
    "start_time": "2022-01-11T19:37:07.363Z"
   },
   {
    "duration": 4683,
    "start_time": "2022-01-11T19:37:07.395Z"
   },
   {
    "duration": 34,
    "start_time": "2022-01-11T19:37:12.081Z"
   },
   {
    "duration": 149,
    "start_time": "2022-01-11T19:37:15.428Z"
   },
   {
    "duration": 11,
    "start_time": "2022-01-11T19:37:15.580Z"
   },
   {
    "duration": 86,
    "start_time": "2022-01-11T19:37:15.594Z"
   },
   {
    "duration": 31,
    "start_time": "2022-01-11T19:37:15.683Z"
   },
   {
    "duration": 1428,
    "start_time": "2022-01-11T19:37:15.716Z"
   },
   {
    "duration": 564,
    "start_time": "2022-01-11T19:37:17.147Z"
   },
   {
    "duration": 600,
    "start_time": "2022-01-11T19:37:17.713Z"
   },
   {
    "duration": 660,
    "start_time": "2022-01-11T19:37:18.317Z"
   },
   {
    "duration": 627,
    "start_time": "2022-01-11T19:37:18.980Z"
   },
   {
    "duration": 336,
    "start_time": "2022-01-11T19:37:19.610Z"
   },
   {
    "duration": 30,
    "start_time": "2022-01-11T19:37:19.949Z"
   },
   {
    "duration": 515,
    "start_time": "2022-01-11T19:37:19.982Z"
   },
   {
    "duration": 410,
    "start_time": "2022-01-11T19:37:20.500Z"
   },
   {
    "duration": 3670,
    "start_time": "2022-01-11T19:37:20.913Z"
   },
   {
    "duration": 284,
    "start_time": "2022-01-11T19:37:24.586Z"
   },
   {
    "duration": 961,
    "start_time": "2022-01-11T19:37:24.872Z"
   },
   {
    "duration": 15,
    "start_time": "2022-01-11T19:37:25.835Z"
   },
   {
    "duration": 17,
    "start_time": "2022-01-11T19:37:25.868Z"
   },
   {
    "duration": 15,
    "start_time": "2022-01-11T19:37:25.887Z"
   },
   {
    "duration": 17,
    "start_time": "2022-01-11T19:37:25.905Z"
   },
   {
    "duration": 476,
    "start_time": "2022-01-11T19:37:25.924Z"
   },
   {
    "duration": 221,
    "start_time": "2022-01-11T19:37:26.403Z"
   },
   {
    "duration": 642,
    "start_time": "2022-01-11T19:37:26.629Z"
   },
   {
    "duration": 378,
    "start_time": "2022-01-11T19:37:27.274Z"
   },
   {
    "duration": 381,
    "start_time": "2022-01-11T19:37:27.654Z"
   },
   {
    "duration": 467,
    "start_time": "2022-01-11T19:37:28.037Z"
   },
   {
    "duration": 1470,
    "start_time": "2022-01-11T19:37:28.507Z"
   },
   {
    "duration": 30,
    "start_time": "2022-01-11T19:37:29.980Z"
   },
   {
    "duration": 5384,
    "start_time": "2022-01-11T19:37:30.013Z"
   },
   {
    "duration": 34,
    "start_time": "2022-01-11T19:37:35.400Z"
   },
   {
    "duration": 746,
    "start_time": "2022-01-11T19:37:49.606Z"
   },
   {
    "duration": 527,
    "start_time": "2022-01-11T19:37:53.634Z"
   },
   {
    "duration": 1019,
    "start_time": "2022-01-11T19:38:22.234Z"
   },
   {
    "duration": 148,
    "start_time": "2022-01-11T19:38:33.045Z"
   },
   {
    "duration": 11,
    "start_time": "2022-01-11T19:38:33.196Z"
   },
   {
    "duration": 91,
    "start_time": "2022-01-11T19:38:33.211Z"
   },
   {
    "duration": 37,
    "start_time": "2022-01-11T19:38:33.305Z"
   },
   {
    "duration": 1250,
    "start_time": "2022-01-11T19:38:33.345Z"
   },
   {
    "duration": 580,
    "start_time": "2022-01-11T19:38:34.599Z"
   },
   {
    "duration": 615,
    "start_time": "2022-01-11T19:38:35.182Z"
   },
   {
    "duration": 666,
    "start_time": "2022-01-11T19:38:35.801Z"
   },
   {
    "duration": 636,
    "start_time": "2022-01-11T19:38:36.471Z"
   },
   {
    "duration": 342,
    "start_time": "2022-01-11T19:38:37.109Z"
   },
   {
    "duration": 31,
    "start_time": "2022-01-11T19:38:37.454Z"
   },
   {
    "duration": 499,
    "start_time": "2022-01-11T19:38:37.487Z"
   },
   {
    "duration": 401,
    "start_time": "2022-01-11T19:38:37.989Z"
   },
   {
    "duration": 3679,
    "start_time": "2022-01-11T19:38:38.393Z"
   },
   {
    "duration": 294,
    "start_time": "2022-01-11T19:38:42.076Z"
   },
   {
    "duration": 932,
    "start_time": "2022-01-11T19:38:42.373Z"
   },
   {
    "duration": 13,
    "start_time": "2022-01-11T19:38:43.309Z"
   },
   {
    "duration": 43,
    "start_time": "2022-01-11T19:38:43.324Z"
   },
   {
    "duration": 15,
    "start_time": "2022-01-11T19:38:43.370Z"
   },
   {
    "duration": 13,
    "start_time": "2022-01-11T19:38:43.388Z"
   },
   {
    "duration": 488,
    "start_time": "2022-01-11T19:38:43.404Z"
   },
   {
    "duration": 237,
    "start_time": "2022-01-11T19:38:43.895Z"
   },
   {
    "duration": 655,
    "start_time": "2022-01-11T19:38:44.139Z"
   },
   {
    "duration": 391,
    "start_time": "2022-01-11T19:38:44.797Z"
   },
   {
    "duration": 391,
    "start_time": "2022-01-11T19:38:45.191Z"
   },
   {
    "duration": 472,
    "start_time": "2022-01-11T19:38:45.585Z"
   },
   {
    "duration": 1432,
    "start_time": "2022-01-11T19:38:46.059Z"
   },
   {
    "duration": 28,
    "start_time": "2022-01-11T19:38:47.494Z"
   },
   {
    "duration": 4689,
    "start_time": "2022-01-11T19:38:47.525Z"
   },
   {
    "duration": 50,
    "start_time": "2022-01-11T19:38:52.218Z"
   },
   {
    "duration": 145,
    "start_time": "2022-01-11T19:38:54.095Z"
   },
   {
    "duration": 29,
    "start_time": "2022-01-11T19:38:54.243Z"
   },
   {
    "duration": 192,
    "start_time": "2022-01-11T19:38:54.275Z"
   },
   {
    "duration": 31,
    "start_time": "2022-01-11T19:38:54.469Z"
   },
   {
    "duration": 1350,
    "start_time": "2022-01-11T19:38:54.503Z"
   },
   {
    "duration": 869,
    "start_time": "2022-01-11T19:38:55.856Z"
   },
   {
    "duration": 829,
    "start_time": "2022-01-11T19:38:56.728Z"
   },
   {
    "duration": 586,
    "start_time": "2022-01-11T19:38:57.560Z"
   },
   {
    "duration": 702,
    "start_time": "2022-01-11T19:38:58.150Z"
   },
   {
    "duration": 440,
    "start_time": "2022-01-11T19:38:58.855Z"
   },
   {
    "duration": 22,
    "start_time": "2022-01-11T19:38:59.298Z"
   },
   {
    "duration": 619,
    "start_time": "2022-01-11T19:38:59.323Z"
   },
   {
    "duration": 538,
    "start_time": "2022-01-11T19:38:59.945Z"
   },
   {
    "duration": 3910,
    "start_time": "2022-01-11T19:39:00.486Z"
   },
   {
    "duration": 307,
    "start_time": "2022-01-11T19:39:04.398Z"
   },
   {
    "duration": 933,
    "start_time": "2022-01-11T19:39:04.707Z"
   },
   {
    "duration": 24,
    "start_time": "2022-01-11T19:39:05.642Z"
   },
   {
    "duration": 17,
    "start_time": "2022-01-11T19:39:05.669Z"
   },
   {
    "duration": 13,
    "start_time": "2022-01-11T19:39:05.689Z"
   },
   {
    "duration": 13,
    "start_time": "2022-01-11T19:39:05.704Z"
   },
   {
    "duration": 493,
    "start_time": "2022-01-11T19:39:05.720Z"
   },
   {
    "duration": 138,
    "start_time": "2022-01-11T19:39:06.216Z"
   },
   {
    "duration": 637,
    "start_time": "2022-01-11T19:39:06.356Z"
   },
   {
    "duration": 405,
    "start_time": "2022-01-11T19:39:06.996Z"
   },
   {
    "duration": 467,
    "start_time": "2022-01-11T19:39:07.403Z"
   },
   {
    "duration": 461,
    "start_time": "2022-01-11T19:39:07.872Z"
   },
   {
    "duration": 1423,
    "start_time": "2022-01-11T19:39:08.338Z"
   },
   {
    "duration": 27,
    "start_time": "2022-01-11T19:39:09.763Z"
   },
   {
    "duration": 4710,
    "start_time": "2022-01-11T19:39:09.792Z"
   },
   {
    "duration": 33,
    "start_time": "2022-01-11T19:39:14.504Z"
   },
   {
    "duration": 156,
    "start_time": "2022-01-11T19:43:05.893Z"
   },
   {
    "duration": 23,
    "start_time": "2022-01-11T19:43:06.052Z"
   },
   {
    "duration": 109,
    "start_time": "2022-01-11T19:43:06.080Z"
   },
   {
    "duration": 45,
    "start_time": "2022-01-11T19:43:06.193Z"
   },
   {
    "duration": 1411,
    "start_time": "2022-01-11T19:43:06.242Z"
   },
   {
    "duration": 1019,
    "start_time": "2022-01-11T19:43:07.656Z"
   },
   {
    "duration": 758,
    "start_time": "2022-01-11T19:43:08.678Z"
   },
   {
    "duration": 858,
    "start_time": "2022-01-11T19:43:09.439Z"
   },
   {
    "duration": 971,
    "start_time": "2022-01-11T19:43:10.303Z"
   },
   {
    "duration": 526,
    "start_time": "2022-01-11T19:43:11.278Z"
   },
   {
    "duration": 30,
    "start_time": "2022-01-11T19:43:11.807Z"
   },
   {
    "duration": 701,
    "start_time": "2022-01-11T19:43:11.840Z"
   },
   {
    "duration": 452,
    "start_time": "2022-01-11T19:43:12.544Z"
   },
   {
    "duration": 5718,
    "start_time": "2022-01-11T19:43:12.999Z"
   },
   {
    "duration": 427,
    "start_time": "2022-01-11T19:43:18.721Z"
   },
   {
    "duration": 1512,
    "start_time": "2022-01-11T19:43:19.151Z"
   },
   {
    "duration": 23,
    "start_time": "2022-01-11T19:43:20.668Z"
   },
   {
    "duration": 31,
    "start_time": "2022-01-11T19:43:20.694Z"
   },
   {
    "duration": 50,
    "start_time": "2022-01-11T19:43:20.728Z"
   },
   {
    "duration": 19,
    "start_time": "2022-01-11T19:43:20.782Z"
   },
   {
    "duration": 655,
    "start_time": "2022-01-11T19:43:20.805Z"
   },
   {
    "duration": 140,
    "start_time": "2022-01-11T19:43:21.468Z"
   },
   {
    "duration": 774,
    "start_time": "2022-01-11T19:43:21.611Z"
   },
   {
    "duration": 385,
    "start_time": "2022-01-11T19:43:22.389Z"
   },
   {
    "duration": 375,
    "start_time": "2022-01-11T19:43:22.776Z"
   },
   {
    "duration": 625,
    "start_time": "2022-01-11T19:43:23.154Z"
   },
   {
    "duration": 2501,
    "start_time": "2022-01-11T19:43:23.787Z"
   },
   {
    "duration": 29,
    "start_time": "2022-01-11T19:43:26.292Z"
   },
   {
    "duration": 4786,
    "start_time": "2022-01-11T19:43:26.323Z"
   },
   {
    "duration": 62,
    "start_time": "2022-01-11T19:43:31.112Z"
   },
   {
    "duration": 514,
    "start_time": "2022-01-11T19:48:23.946Z"
   },
   {
    "duration": 575,
    "start_time": "2022-01-11T19:48:30.923Z"
   },
   {
    "duration": 333,
    "start_time": "2022-01-11T19:50:20.368Z"
   },
   {
    "duration": 324,
    "start_time": "2022-01-11T19:58:19.629Z"
   },
   {
    "duration": 455,
    "start_time": "2022-01-11T19:58:31.269Z"
   },
   {
    "duration": 25,
    "start_time": "2022-01-11T19:59:24.585Z"
   },
   {
    "duration": 27,
    "start_time": "2022-01-11T20:12:27.295Z"
   },
   {
    "duration": 14,
    "start_time": "2022-01-11T20:12:38.174Z"
   },
   {
    "duration": 13,
    "start_time": "2022-01-11T20:12:40.816Z"
   },
   {
    "duration": 23,
    "start_time": "2022-01-11T20:12:46.075Z"
   },
   {
    "duration": 21,
    "start_time": "2022-01-11T20:14:01.289Z"
   },
   {
    "duration": 420,
    "start_time": "2022-01-11T20:15:09.488Z"
   },
   {
    "duration": 21,
    "start_time": "2022-01-11T20:15:19.414Z"
   },
   {
    "duration": 319,
    "start_time": "2022-01-11T20:15:29.028Z"
   },
   {
    "duration": 20,
    "start_time": "2022-01-11T20:15:34.669Z"
   },
   {
    "duration": 22,
    "start_time": "2022-01-11T20:27:22.268Z"
   },
   {
    "duration": 346,
    "start_time": "2022-01-11T20:27:35.808Z"
   },
   {
    "duration": 21,
    "start_time": "2022-01-11T20:29:20.228Z"
   },
   {
    "duration": 269,
    "start_time": "2022-01-11T20:29:33.907Z"
   },
   {
    "duration": 704,
    "start_time": "2022-01-11T20:29:48.127Z"
   },
   {
    "duration": 21,
    "start_time": "2022-01-11T20:30:07.983Z"
   },
   {
    "duration": 23,
    "start_time": "2022-01-11T20:30:13.894Z"
   },
   {
    "duration": 19,
    "start_time": "2022-01-11T20:30:39.767Z"
   },
   {
    "duration": 21,
    "start_time": "2022-01-11T20:30:52.715Z"
   },
   {
    "duration": 19,
    "start_time": "2022-01-11T20:31:11.466Z"
   },
   {
    "duration": 309,
    "start_time": "2022-01-11T20:32:12.563Z"
   },
   {
    "duration": 20,
    "start_time": "2022-01-11T20:32:25.315Z"
   },
   {
    "duration": 345,
    "start_time": "2022-01-11T20:33:26.528Z"
   },
   {
    "duration": 1001,
    "start_time": "2022-01-12T08:50:27.276Z"
   },
   {
    "duration": 12,
    "start_time": "2022-01-12T08:50:28.279Z"
   },
   {
    "duration": 88,
    "start_time": "2022-01-12T08:50:28.294Z"
   },
   {
    "duration": 34,
    "start_time": "2022-01-12T08:50:28.385Z"
   },
   {
    "duration": 1284,
    "start_time": "2022-01-12T08:50:28.422Z"
   },
   {
    "duration": 679,
    "start_time": "2022-01-12T08:50:29.708Z"
   },
   {
    "duration": 599,
    "start_time": "2022-01-12T08:50:30.389Z"
   },
   {
    "duration": 571,
    "start_time": "2022-01-12T08:50:30.990Z"
   },
   {
    "duration": 586,
    "start_time": "2022-01-12T08:50:31.565Z"
   },
   {
    "duration": 331,
    "start_time": "2022-01-12T08:50:32.159Z"
   },
   {
    "duration": 24,
    "start_time": "2022-01-12T08:50:32.493Z"
   },
   {
    "duration": 543,
    "start_time": "2022-01-12T08:50:32.519Z"
   },
   {
    "duration": 411,
    "start_time": "2022-01-12T08:50:33.065Z"
   },
   {
    "duration": 3582,
    "start_time": "2022-01-12T08:50:33.478Z"
   },
   {
    "duration": 271,
    "start_time": "2022-01-12T08:50:37.062Z"
   },
   {
    "duration": 885,
    "start_time": "2022-01-12T08:50:37.335Z"
   },
   {
    "duration": 12,
    "start_time": "2022-01-12T08:50:38.222Z"
   },
   {
    "duration": 37,
    "start_time": "2022-01-12T08:50:38.237Z"
   },
   {
    "duration": 13,
    "start_time": "2022-01-12T08:50:38.276Z"
   },
   {
    "duration": 11,
    "start_time": "2022-01-12T08:50:38.291Z"
   },
   {
    "duration": 376,
    "start_time": "2022-01-12T08:50:38.304Z"
   },
   {
    "duration": 130,
    "start_time": "2022-01-12T08:50:38.682Z"
   },
   {
    "duration": 601,
    "start_time": "2022-01-12T08:50:38.815Z"
   },
   {
    "duration": 356,
    "start_time": "2022-01-12T08:50:39.419Z"
   },
   {
    "duration": 357,
    "start_time": "2022-01-12T08:50:39.778Z"
   },
   {
    "duration": 477,
    "start_time": "2022-01-12T08:50:40.138Z"
   },
   {
    "duration": 1640,
    "start_time": "2022-01-12T08:50:40.619Z"
   },
   {
    "duration": 26,
    "start_time": "2022-01-12T08:50:42.261Z"
   },
   {
    "duration": 4617,
    "start_time": "2022-01-12T08:50:42.290Z"
   },
   {
    "duration": 50,
    "start_time": "2022-01-12T08:50:46.911Z"
   },
   {
    "duration": 22,
    "start_time": "2022-01-12T09:01:46.082Z"
   },
   {
    "duration": 20,
    "start_time": "2022-01-12T09:02:01.658Z"
   },
   {
    "duration": 22,
    "start_time": "2022-01-12T09:02:07.096Z"
   },
   {
    "duration": 75,
    "start_time": "2022-01-12T09:29:22.994Z"
   },
   {
    "duration": 27,
    "start_time": "2022-01-12T09:30:11.021Z"
   },
   {
    "duration": 25,
    "start_time": "2022-01-12T09:30:36.118Z"
   },
   {
    "duration": 22,
    "start_time": "2022-01-12T09:31:34.933Z"
   },
   {
    "duration": 30,
    "start_time": "2022-01-12T09:31:41.142Z"
   },
   {
    "duration": 476,
    "start_time": "2022-01-12T09:34:17.122Z"
   },
   {
    "duration": 26,
    "start_time": "2022-01-12T09:34:28.900Z"
   },
   {
    "duration": 32,
    "start_time": "2022-01-12T09:34:36.714Z"
   },
   {
    "duration": 31,
    "start_time": "2022-01-12T09:34:42.014Z"
   },
   {
    "duration": 26,
    "start_time": "2022-01-12T09:35:05.193Z"
   },
   {
    "duration": 28,
    "start_time": "2022-01-12T09:35:16.875Z"
   },
   {
    "duration": 407,
    "start_time": "2022-01-12T09:36:01.727Z"
   },
   {
    "duration": 367,
    "start_time": "2022-01-12T09:38:05.293Z"
   },
   {
    "duration": 465,
    "start_time": "2022-01-12T09:38:26.970Z"
   },
   {
    "duration": 24,
    "start_time": "2022-01-12T09:38:38.354Z"
   },
   {
    "duration": 31,
    "start_time": "2022-01-12T09:40:10.713Z"
   },
   {
    "duration": 24,
    "start_time": "2022-01-12T09:41:58.752Z"
   },
   {
    "duration": 23,
    "start_time": "2022-01-12T09:42:02.545Z"
   },
   {
    "duration": 115,
    "start_time": "2022-01-12T09:48:37.373Z"
   },
   {
    "duration": 323,
    "start_time": "2022-01-12T09:48:58.942Z"
   },
   {
    "duration": 33,
    "start_time": "2022-01-12T09:49:08.773Z"
   },
   {
    "duration": 52,
    "start_time": "2022-01-12T09:50:29.973Z"
   },
   {
    "duration": 15,
    "start_time": "2022-01-12T09:53:40.473Z"
   },
   {
    "duration": 23,
    "start_time": "2022-01-12T09:54:18.881Z"
   },
   {
    "duration": 54,
    "start_time": "2022-01-12T09:54:25.733Z"
   },
   {
    "duration": 37,
    "start_time": "2022-01-12T09:54:56.033Z"
   },
   {
    "duration": 379,
    "start_time": "2022-01-12T10:03:55.816Z"
   },
   {
    "duration": 545,
    "start_time": "2022-01-12T10:04:59.154Z"
   },
   {
    "duration": 505,
    "start_time": "2022-01-12T10:05:03.633Z"
   },
   {
    "duration": 13,
    "start_time": "2022-01-12T10:06:30.732Z"
   },
   {
    "duration": 6,
    "start_time": "2022-01-12T10:07:58.154Z"
   },
   {
    "duration": 40,
    "start_time": "2022-01-12T10:08:05.471Z"
   },
   {
    "duration": 2322,
    "start_time": "2022-01-12T10:10:07.830Z"
   },
   {
    "duration": 52,
    "start_time": "2022-01-12T10:10:15.533Z"
   },
   {
    "duration": 15,
    "start_time": "2022-01-12T10:11:44.993Z"
   },
   {
    "duration": 23,
    "start_time": "2022-01-12T10:12:19.492Z"
   },
   {
    "duration": 325,
    "start_time": "2022-01-12T10:13:49.658Z"
   },
   {
    "duration": 316,
    "start_time": "2022-01-12T10:14:13.359Z"
   },
   {
    "duration": 314,
    "start_time": "2022-01-12T10:14:24.926Z"
   },
   {
    "duration": 306,
    "start_time": "2022-01-12T10:14:45.097Z"
   },
   {
    "duration": 337,
    "start_time": "2022-01-12T10:14:54.093Z"
   },
   {
    "duration": 356,
    "start_time": "2022-01-12T10:14:57.973Z"
   },
   {
    "duration": 386,
    "start_time": "2022-01-12T10:15:28.131Z"
   },
   {
    "duration": 328,
    "start_time": "2022-01-12T10:15:38.753Z"
   },
   {
    "duration": 371,
    "start_time": "2022-01-12T10:16:11.404Z"
   },
   {
    "duration": 316,
    "start_time": "2022-01-12T10:16:18.911Z"
   },
   {
    "duration": 322,
    "start_time": "2022-01-12T10:16:41.073Z"
   },
   {
    "duration": 324,
    "start_time": "2022-01-12T10:16:46.494Z"
   },
   {
    "duration": 291,
    "start_time": "2022-01-12T10:16:52.935Z"
   },
   {
    "duration": 288,
    "start_time": "2022-01-12T10:16:56.881Z"
   },
   {
    "duration": 322,
    "start_time": "2022-01-12T10:17:01.374Z"
   },
   {
    "duration": 299,
    "start_time": "2022-01-12T10:17:05.111Z"
   },
   {
    "duration": 339,
    "start_time": "2022-01-12T10:17:08.549Z"
   },
   {
    "duration": 420,
    "start_time": "2022-01-12T10:17:12.856Z"
   },
   {
    "duration": 287,
    "start_time": "2022-01-12T10:17:40.714Z"
   },
   {
    "duration": 295,
    "start_time": "2022-01-12T10:17:48.200Z"
   },
   {
    "duration": 415,
    "start_time": "2022-01-12T10:17:57.713Z"
   },
   {
    "duration": 289,
    "start_time": "2022-01-12T10:18:07.976Z"
   },
   {
    "duration": 329,
    "start_time": "2022-01-12T10:18:43.067Z"
   },
   {
    "duration": 294,
    "start_time": "2022-01-12T10:23:53.493Z"
   },
   {
    "duration": 299,
    "start_time": "2022-01-12T10:25:58.563Z"
   },
   {
    "duration": 296,
    "start_time": "2022-01-12T10:27:07.833Z"
   },
   {
    "duration": 15,
    "start_time": "2022-01-12T10:27:58.240Z"
   },
   {
    "duration": 833,
    "start_time": "2022-01-12T12:58:21.542Z"
   },
   {
    "duration": 13,
    "start_time": "2022-01-12T12:58:22.377Z"
   },
   {
    "duration": 82,
    "start_time": "2022-01-12T12:58:22.392Z"
   },
   {
    "duration": 32,
    "start_time": "2022-01-12T12:58:22.477Z"
   },
   {
    "duration": 1181,
    "start_time": "2022-01-12T12:58:22.510Z"
   },
   {
    "duration": 661,
    "start_time": "2022-01-12T12:58:23.693Z"
   },
   {
    "duration": 554,
    "start_time": "2022-01-12T12:58:24.356Z"
   },
   {
    "duration": 466,
    "start_time": "2022-01-12T12:58:24.913Z"
   },
   {
    "duration": 452,
    "start_time": "2022-01-12T12:58:25.382Z"
   },
   {
    "duration": 319,
    "start_time": "2022-01-12T12:58:25.841Z"
   },
   {
    "duration": 21,
    "start_time": "2022-01-12T12:58:26.162Z"
   },
   {
    "duration": 405,
    "start_time": "2022-01-12T12:58:26.186Z"
   },
   {
    "duration": 400,
    "start_time": "2022-01-12T12:58:26.593Z"
   },
   {
    "duration": 3749,
    "start_time": "2022-01-12T12:58:26.995Z"
   },
   {
    "duration": 261,
    "start_time": "2022-01-12T12:58:30.746Z"
   },
   {
    "duration": 890,
    "start_time": "2022-01-12T12:58:31.010Z"
   },
   {
    "duration": 14,
    "start_time": "2022-01-12T12:58:31.902Z"
   },
   {
    "duration": 310,
    "start_time": "2022-01-12T12:58:31.919Z"
   },
   {
    "duration": 24,
    "start_time": "2022-01-12T12:58:32.231Z"
   },
   {
    "duration": 26,
    "start_time": "2022-01-12T12:58:32.257Z"
   },
   {
    "duration": 211,
    "start_time": "2022-01-12T12:58:32.286Z"
   },
   {
    "duration": 134,
    "start_time": "2022-01-12T12:58:32.500Z"
   },
   {
    "duration": 547,
    "start_time": "2022-01-12T12:58:32.636Z"
   },
   {
    "duration": 324,
    "start_time": "2022-01-12T12:58:33.185Z"
   },
   {
    "duration": 255,
    "start_time": "2022-01-12T12:58:33.511Z"
   },
   {
    "duration": 409,
    "start_time": "2022-01-12T12:58:33.768Z"
   },
   {
    "duration": 1369,
    "start_time": "2022-01-12T12:58:34.182Z"
   },
   {
    "duration": 25,
    "start_time": "2022-01-12T12:58:35.554Z"
   },
   {
    "duration": 4600,
    "start_time": "2022-01-12T12:58:35.581Z"
   },
   {
    "duration": 31,
    "start_time": "2022-01-12T12:58:40.183Z"
   },
   {
    "duration": 58,
    "start_time": "2022-01-12T12:59:26.414Z"
   },
   {
    "duration": 52,
    "start_time": "2022-01-12T12:59:56.332Z"
   },
   {
    "duration": 45,
    "start_time": "2022-01-12T13:00:04.981Z"
   },
   {
    "duration": 45,
    "start_time": "2022-01-12T13:00:25.890Z"
   },
   {
    "duration": 28,
    "start_time": "2022-01-12T13:00:36.180Z"
   },
   {
    "duration": 9,
    "start_time": "2022-01-12T13:00:51.564Z"
   },
   {
    "duration": 12,
    "start_time": "2022-01-12T13:01:03.562Z"
   },
   {
    "duration": 48,
    "start_time": "2022-01-12T13:01:08.261Z"
   },
   {
    "duration": 111,
    "start_time": "2022-01-12T13:01:30.555Z"
   },
   {
    "duration": 11,
    "start_time": "2022-01-12T13:01:30.668Z"
   },
   {
    "duration": 81,
    "start_time": "2022-01-12T13:01:30.682Z"
   },
   {
    "duration": 36,
    "start_time": "2022-01-12T13:01:30.765Z"
   },
   {
    "duration": 1181,
    "start_time": "2022-01-12T13:01:30.804Z"
   },
   {
    "duration": 419,
    "start_time": "2022-01-12T13:01:31.987Z"
   },
   {
    "duration": 484,
    "start_time": "2022-01-12T13:01:32.409Z"
   },
   {
    "duration": 352,
    "start_time": "2022-01-12T13:01:32.895Z"
   },
   {
    "duration": 541,
    "start_time": "2022-01-12T13:01:33.251Z"
   },
   {
    "duration": 357,
    "start_time": "2022-01-12T13:01:33.795Z"
   },
   {
    "duration": 22,
    "start_time": "2022-01-12T13:01:34.155Z"
   },
   {
    "duration": 412,
    "start_time": "2022-01-12T13:01:34.180Z"
   },
   {
    "duration": 451,
    "start_time": "2022-01-12T13:01:34.595Z"
   },
   {
    "duration": 3583,
    "start_time": "2022-01-12T13:01:35.049Z"
   },
   {
    "duration": 249,
    "start_time": "2022-01-12T13:01:38.635Z"
   },
   {
    "duration": 698,
    "start_time": "2022-01-12T13:01:38.887Z"
   },
   {
    "duration": 10,
    "start_time": "2022-01-12T13:01:39.587Z"
   },
   {
    "duration": 65,
    "start_time": "2022-01-12T13:01:39.598Z"
   },
   {
    "duration": 8,
    "start_time": "2022-01-12T13:01:39.665Z"
   },
   {
    "duration": 12,
    "start_time": "2022-01-12T13:01:39.675Z"
   },
   {
    "duration": 9,
    "start_time": "2022-01-12T13:01:39.689Z"
   },
   {
    "duration": 227,
    "start_time": "2022-01-12T13:01:39.701Z"
   },
   {
    "duration": 86,
    "start_time": "2022-01-12T13:01:39.930Z"
   },
   {
    "duration": 393,
    "start_time": "2022-01-12T13:01:40.018Z"
   },
   {
    "duration": 235,
    "start_time": "2022-01-12T13:01:40.414Z"
   },
   {
    "duration": 331,
    "start_time": "2022-01-12T13:01:40.651Z"
   },
   {
    "duration": 412,
    "start_time": "2022-01-12T13:01:40.987Z"
   },
   {
    "duration": 883,
    "start_time": "2022-01-12T13:01:41.401Z"
   },
   {
    "duration": 19,
    "start_time": "2022-01-12T13:01:42.286Z"
   },
   {
    "duration": 4411,
    "start_time": "2022-01-12T13:01:42.307Z"
   },
   {
    "duration": 42,
    "start_time": "2022-01-12T13:01:46.721Z"
   },
   {
    "duration": 45,
    "start_time": "2022-01-12T13:20:18.585Z"
   },
   {
    "duration": 287,
    "start_time": "2022-01-12T13:21:55.349Z"
   },
   {
    "duration": 16,
    "start_time": "2022-01-12T13:22:45.032Z"
   },
   {
    "duration": 184,
    "start_time": "2022-01-12T13:23:00.238Z"
   },
   {
    "duration": 10,
    "start_time": "2022-01-12T13:23:33.867Z"
   },
   {
    "duration": 8,
    "start_time": "2022-01-12T13:23:37.426Z"
   },
   {
    "duration": 14,
    "start_time": "2022-01-12T13:23:42.877Z"
   },
   {
    "duration": 197,
    "start_time": "2022-01-12T13:23:59.386Z"
   },
   {
    "duration": 260,
    "start_time": "2022-01-12T13:24:09.591Z"
   },
   {
    "duration": 267,
    "start_time": "2022-01-12T13:30:43.910Z"
   },
   {
    "duration": 190,
    "start_time": "2022-01-12T13:31:14.908Z"
   },
   {
    "duration": 189,
    "start_time": "2022-01-12T13:40:30.234Z"
   },
   {
    "duration": 185,
    "start_time": "2022-01-12T13:40:55.355Z"
   },
   {
    "duration": 195,
    "start_time": "2022-01-12T13:41:17.369Z"
   },
   {
    "duration": 264,
    "start_time": "2022-01-12T13:41:40.994Z"
   },
   {
    "duration": 220,
    "start_time": "2022-01-12T13:42:02.097Z"
   },
   {
    "duration": 11,
    "start_time": "2022-01-12T13:42:33.062Z"
   },
   {
    "duration": 184,
    "start_time": "2022-01-12T13:42:56.698Z"
   },
   {
    "duration": 13,
    "start_time": "2022-01-12T13:46:08.514Z"
   },
   {
    "duration": 16,
    "start_time": "2022-01-12T13:46:30.499Z"
   },
   {
    "duration": 12,
    "start_time": "2022-01-12T13:49:21.838Z"
   },
   {
    "duration": 12,
    "start_time": "2022-01-12T13:49:50.304Z"
   },
   {
    "duration": 13,
    "start_time": "2022-01-12T13:50:58.557Z"
   },
   {
    "duration": 10,
    "start_time": "2022-01-12T13:52:00.645Z"
   },
   {
    "duration": 11,
    "start_time": "2022-01-12T13:52:13.198Z"
   },
   {
    "duration": 13,
    "start_time": "2022-01-12T13:52:41.838Z"
   },
   {
    "duration": 10,
    "start_time": "2022-01-12T13:52:56.237Z"
   },
   {
    "duration": 80,
    "start_time": "2022-01-12T13:54:32.232Z"
   },
   {
    "duration": 16,
    "start_time": "2022-01-12T13:54:40.606Z"
   },
   {
    "duration": 21,
    "start_time": "2022-01-12T13:55:00.880Z"
   },
   {
    "duration": 28,
    "start_time": "2022-01-12T13:55:58.247Z"
   },
   {
    "duration": 17,
    "start_time": "2022-01-12T13:56:16.837Z"
   },
   {
    "duration": 19,
    "start_time": "2022-01-12T13:57:33.520Z"
   },
   {
    "duration": 21,
    "start_time": "2022-01-12T13:57:55.749Z"
   },
   {
    "duration": 21,
    "start_time": "2022-01-12T13:58:05.349Z"
   },
   {
    "duration": 18,
    "start_time": "2022-01-12T13:58:13.630Z"
   },
   {
    "duration": 98,
    "start_time": "2022-01-12T13:59:04.956Z"
   },
   {
    "duration": 9,
    "start_time": "2022-01-12T13:59:05.056Z"
   },
   {
    "duration": 70,
    "start_time": "2022-01-12T13:59:05.067Z"
   },
   {
    "duration": 27,
    "start_time": "2022-01-12T13:59:05.139Z"
   },
   {
    "duration": 715,
    "start_time": "2022-01-12T13:59:05.168Z"
   },
   {
    "duration": 359,
    "start_time": "2022-01-12T13:59:05.885Z"
   },
   {
    "duration": 339,
    "start_time": "2022-01-12T13:59:06.246Z"
   },
   {
    "duration": 379,
    "start_time": "2022-01-12T13:59:06.587Z"
   },
   {
    "duration": 353,
    "start_time": "2022-01-12T13:59:06.969Z"
   },
   {
    "duration": 196,
    "start_time": "2022-01-12T13:59:07.324Z"
   },
   {
    "duration": 19,
    "start_time": "2022-01-12T13:59:07.522Z"
   },
   {
    "duration": 312,
    "start_time": "2022-01-12T13:59:07.542Z"
   },
   {
    "duration": 288,
    "start_time": "2022-01-12T13:59:07.856Z"
   },
   {
    "duration": 1988,
    "start_time": "2022-01-12T13:59:08.146Z"
   },
   {
    "duration": 171,
    "start_time": "2022-01-12T13:59:10.136Z"
   },
   {
    "duration": 537,
    "start_time": "2022-01-12T13:59:10.308Z"
   },
   {
    "duration": 9,
    "start_time": "2022-01-12T13:59:10.847Z"
   },
   {
    "duration": 213,
    "start_time": "2022-01-12T13:59:10.857Z"
   },
   {
    "duration": 17,
    "start_time": "2022-01-12T13:59:11.071Z"
   },
   {
    "duration": 18,
    "start_time": "2022-01-12T13:59:11.089Z"
   },
   {
    "duration": 282,
    "start_time": "2022-01-12T13:59:11.109Z"
   },
   {
    "duration": 76,
    "start_time": "2022-01-12T13:59:11.392Z"
   },
   {
    "duration": 345,
    "start_time": "2022-01-12T13:59:11.469Z"
   },
   {
    "duration": 206,
    "start_time": "2022-01-12T13:59:11.816Z"
   },
   {
    "duration": 218,
    "start_time": "2022-01-12T13:59:12.024Z"
   },
   {
    "duration": 253,
    "start_time": "2022-01-12T13:59:12.244Z"
   },
   {
    "duration": 776,
    "start_time": "2022-01-12T13:59:12.500Z"
   },
   {
    "duration": 18,
    "start_time": "2022-01-12T13:59:13.277Z"
   },
   {
    "duration": 2667,
    "start_time": "2022-01-12T13:59:13.296Z"
   },
   {
    "duration": 23,
    "start_time": "2022-01-12T13:59:15.965Z"
   },
   {
    "duration": 69,
    "start_time": "2022-01-12T13:59:41.830Z"
   },
   {
    "duration": 70,
    "start_time": "2022-01-12T13:59:53.549Z"
   },
   {
    "duration": -144,
    "start_time": "2022-01-12T14:10:34.459Z"
   },
   {
    "duration": 84,
    "start_time": "2022-01-12T14:22:28.476Z"
   },
   {
    "duration": -145,
    "start_time": "2022-01-12T14:22:56.248Z"
   },
   {
    "duration": 96,
    "start_time": "2022-01-12T14:23:12.275Z"
   },
   {
    "duration": 10,
    "start_time": "2022-01-12T14:23:12.373Z"
   },
   {
    "duration": 71,
    "start_time": "2022-01-12T14:23:12.385Z"
   },
   {
    "duration": 22,
    "start_time": "2022-01-12T14:23:12.458Z"
   },
   {
    "duration": 707,
    "start_time": "2022-01-12T14:23:12.482Z"
   },
   {
    "duration": 386,
    "start_time": "2022-01-12T14:23:13.191Z"
   },
   {
    "duration": 410,
    "start_time": "2022-01-12T14:23:13.579Z"
   },
   {
    "duration": 313,
    "start_time": "2022-01-12T14:23:13.990Z"
   },
   {
    "duration": 408,
    "start_time": "2022-01-12T14:23:14.306Z"
   },
   {
    "duration": 299,
    "start_time": "2022-01-12T14:23:14.717Z"
   },
   {
    "duration": 26,
    "start_time": "2022-01-12T14:23:15.018Z"
   },
   {
    "duration": 435,
    "start_time": "2022-01-12T14:23:15.047Z"
   },
   {
    "duration": 367,
    "start_time": "2022-01-12T14:23:15.483Z"
   },
   {
    "duration": 3277,
    "start_time": "2022-01-12T14:23:15.852Z"
   },
   {
    "duration": 222,
    "start_time": "2022-01-12T14:23:19.132Z"
   },
   {
    "duration": 705,
    "start_time": "2022-01-12T14:23:19.356Z"
   },
   {
    "duration": 12,
    "start_time": "2022-01-12T14:23:20.063Z"
   },
   {
    "duration": 246,
    "start_time": "2022-01-12T14:23:20.077Z"
   },
   {
    "duration": 20,
    "start_time": "2022-01-12T14:23:20.325Z"
   },
   {
    "duration": 16,
    "start_time": "2022-01-12T14:23:20.347Z"
   },
   {
    "duration": 221,
    "start_time": "2022-01-12T14:23:20.365Z"
   },
   {
    "duration": 86,
    "start_time": "2022-01-12T14:23:20.587Z"
   },
   {
    "duration": 455,
    "start_time": "2022-01-12T14:23:20.676Z"
   },
   {
    "duration": 216,
    "start_time": "2022-01-12T14:23:21.133Z"
   },
   {
    "duration": 221,
    "start_time": "2022-01-12T14:23:21.352Z"
   },
   {
    "duration": 257,
    "start_time": "2022-01-12T14:23:21.574Z"
   },
   {
    "duration": 7073,
    "start_time": "2022-01-12T14:23:21.842Z"
   },
   {
    "duration": -270,
    "start_time": "2022-01-12T14:23:29.187Z"
   },
   {
    "duration": -270,
    "start_time": "2022-01-12T14:23:29.189Z"
   },
   {
    "duration": -281,
    "start_time": "2022-01-12T14:23:29.201Z"
   },
   {
    "duration": 7656,
    "start_time": "2022-01-12T14:26:29.376Z"
   },
   {
    "duration": 6551,
    "start_time": "2022-01-12T14:31:38.457Z"
   },
   {
    "duration": 6549,
    "start_time": "2022-01-12T14:34:44.535Z"
   },
   {
    "duration": 648,
    "start_time": "2022-01-12T14:34:53.755Z"
   },
   {
    "duration": 648,
    "start_time": "2022-01-12T14:35:02.855Z"
   },
   {
    "duration": 1238,
    "start_time": "2022-01-12T14:35:43.203Z"
   },
   {
    "duration": 17,
    "start_time": "2022-01-12T14:51:51.178Z"
   },
   {
    "duration": 2467,
    "start_time": "2022-01-12T14:53:17.378Z"
   },
   {
    "duration": 2259,
    "start_time": "2022-01-12T14:54:26.406Z"
   },
   {
    "duration": 1983,
    "start_time": "2022-01-12T14:54:39.900Z"
   },
   {
    "duration": 9756,
    "start_time": "2022-01-12T14:56:05.484Z"
   },
   {
    "duration": 1045,
    "start_time": "2022-01-12T14:56:26.902Z"
   },
   {
    "duration": 853,
    "start_time": "2022-01-12T14:56:37.866Z"
   },
   {
    "duration": 817,
    "start_time": "2022-01-12T14:57:08.079Z"
   },
   {
    "duration": 6534,
    "start_time": "2022-01-12T14:57:16.941Z"
   },
   {
    "duration": 86,
    "start_time": "2022-01-12T14:58:19.947Z"
   },
   {
    "duration": 6585,
    "start_time": "2022-01-12T14:58:23.557Z"
   },
   {
    "duration": 921,
    "start_time": "2022-01-12T14:59:13.438Z"
   },
   {
    "duration": 6786,
    "start_time": "2022-01-12T14:59:42.645Z"
   },
   {
    "duration": 874,
    "start_time": "2022-01-12T15:00:03.227Z"
   },
   {
    "duration": 1531,
    "start_time": "2022-01-12T15:01:02.599Z"
   },
   {
    "duration": 9583,
    "start_time": "2022-01-12T15:02:39.661Z"
   },
   {
    "duration": 1217,
    "start_time": "2022-01-12T15:03:03.914Z"
   },
   {
    "duration": 1000,
    "start_time": "2022-01-12T15:06:24.379Z"
   },
   {
    "duration": 1276,
    "start_time": "2022-01-12T15:06:30.719Z"
   },
   {
    "duration": 3973,
    "start_time": "2022-01-12T15:07:46.300Z"
   },
   {
    "duration": 2268,
    "start_time": "2022-01-12T15:07:58.577Z"
   },
   {
    "duration": 23,
    "start_time": "2022-01-12T15:08:20.457Z"
   },
   {
    "duration": 206,
    "start_time": "2022-01-12T15:10:20.419Z"
   },
   {
    "duration": 208,
    "start_time": "2022-01-12T15:10:30.045Z"
   },
   {
    "duration": 196,
    "start_time": "2022-01-12T15:13:57.465Z"
   },
   {
    "duration": 794,
    "start_time": "2022-01-13T05:36:33.998Z"
   },
   {
    "duration": 9,
    "start_time": "2022-01-13T05:36:34.794Z"
   },
   {
    "duration": 45,
    "start_time": "2022-01-13T05:36:34.805Z"
   },
   {
    "duration": 412,
    "start_time": "2022-01-13T05:36:34.852Z"
   },
   {
    "duration": -1545,
    "start_time": "2022-01-13T05:36:36.812Z"
   },
   {
    "duration": -1569,
    "start_time": "2022-01-13T05:36:36.837Z"
   },
   {
    "duration": -1573,
    "start_time": "2022-01-13T05:36:36.841Z"
   },
   {
    "duration": -1575,
    "start_time": "2022-01-13T05:36:36.844Z"
   },
   {
    "duration": -1737,
    "start_time": "2022-01-13T05:36:37.007Z"
   },
   {
    "duration": -1739,
    "start_time": "2022-01-13T05:36:37.010Z"
   },
   {
    "duration": -1741,
    "start_time": "2022-01-13T05:36:37.013Z"
   },
   {
    "duration": -1744,
    "start_time": "2022-01-13T05:36:37.017Z"
   },
   {
    "duration": -1745,
    "start_time": "2022-01-13T05:36:37.019Z"
   },
   {
    "duration": -1747,
    "start_time": "2022-01-13T05:36:37.022Z"
   },
   {
    "duration": -1749,
    "start_time": "2022-01-13T05:36:37.025Z"
   },
   {
    "duration": -1749,
    "start_time": "2022-01-13T05:36:37.027Z"
   },
   {
    "duration": -1751,
    "start_time": "2022-01-13T05:36:37.030Z"
   },
   {
    "duration": -1752,
    "start_time": "2022-01-13T05:36:37.033Z"
   },
   {
    "duration": -1753,
    "start_time": "2022-01-13T05:36:37.035Z"
   },
   {
    "duration": -1756,
    "start_time": "2022-01-13T05:36:37.039Z"
   },
   {
    "duration": -1758,
    "start_time": "2022-01-13T05:36:37.042Z"
   },
   {
    "duration": -1761,
    "start_time": "2022-01-13T05:36:37.046Z"
   },
   {
    "duration": -1762,
    "start_time": "2022-01-13T05:36:37.049Z"
   },
   {
    "duration": -1765,
    "start_time": "2022-01-13T05:36:37.053Z"
   },
   {
    "duration": -1766,
    "start_time": "2022-01-13T05:36:37.055Z"
   },
   {
    "duration": -1768,
    "start_time": "2022-01-13T05:36:37.058Z"
   },
   {
    "duration": -1770,
    "start_time": "2022-01-13T05:36:37.061Z"
   },
   {
    "duration": -1772,
    "start_time": "2022-01-13T05:36:37.064Z"
   },
   {
    "duration": -1773,
    "start_time": "2022-01-13T05:36:37.066Z"
   },
   {
    "duration": -1783,
    "start_time": "2022-01-13T05:36:37.077Z"
   },
   {
    "duration": -1786,
    "start_time": "2022-01-13T05:36:37.081Z"
   },
   {
    "duration": -1787,
    "start_time": "2022-01-13T05:36:37.084Z"
   },
   {
    "duration": 19,
    "start_time": "2022-01-13T05:37:04.355Z"
   },
   {
    "duration": 706,
    "start_time": "2022-01-13T05:38:35.757Z"
   },
   {
    "duration": 9,
    "start_time": "2022-01-13T05:38:36.464Z"
   },
   {
    "duration": 57,
    "start_time": "2022-01-13T05:38:36.475Z"
   },
   {
    "duration": 23,
    "start_time": "2022-01-13T05:38:36.534Z"
   },
   {
    "duration": 795,
    "start_time": "2022-01-13T05:38:36.558Z"
   },
   {
    "duration": 478,
    "start_time": "2022-01-13T05:38:37.354Z"
   },
   {
    "duration": 409,
    "start_time": "2022-01-13T05:38:37.834Z"
   },
   {
    "duration": 407,
    "start_time": "2022-01-13T05:38:38.246Z"
   },
   {
    "duration": 424,
    "start_time": "2022-01-13T05:38:38.655Z"
   },
   {
    "duration": 243,
    "start_time": "2022-01-13T05:38:39.081Z"
   },
   {
    "duration": 17,
    "start_time": "2022-01-13T05:38:39.325Z"
   },
   {
    "duration": 454,
    "start_time": "2022-01-13T05:38:39.399Z"
   },
   {
    "duration": 357,
    "start_time": "2022-01-13T05:38:39.855Z"
   },
   {
    "duration": 2194,
    "start_time": "2022-01-13T05:38:40.213Z"
   },
   {
    "duration": 190,
    "start_time": "2022-01-13T05:38:42.408Z"
   },
   {
    "duration": 617,
    "start_time": "2022-01-13T05:38:42.600Z"
   },
   {
    "duration": 10,
    "start_time": "2022-01-13T05:38:43.218Z"
   },
   {
    "duration": 231,
    "start_time": "2022-01-13T05:38:43.229Z"
   },
   {
    "duration": 17,
    "start_time": "2022-01-13T05:38:43.462Z"
   },
   {
    "duration": 30,
    "start_time": "2022-01-13T05:38:43.480Z"
   },
   {
    "duration": 235,
    "start_time": "2022-01-13T05:38:43.511Z"
   },
   {
    "duration": 96,
    "start_time": "2022-01-13T05:38:43.747Z"
   },
   {
    "duration": 418,
    "start_time": "2022-01-13T05:38:43.846Z"
   },
   {
    "duration": 254,
    "start_time": "2022-01-13T05:38:44.266Z"
   },
   {
    "duration": 245,
    "start_time": "2022-01-13T05:38:44.522Z"
   },
   {
    "duration": 316,
    "start_time": "2022-01-13T05:38:44.768Z"
   },
   {
    "duration": 1016,
    "start_time": "2022-01-13T05:38:45.086Z"
   },
   {
    "duration": 20,
    "start_time": "2022-01-13T05:38:46.104Z"
   },
   {
    "duration": 2178,
    "start_time": "2022-01-13T05:38:46.126Z"
   },
   {
    "duration": 23,
    "start_time": "2022-01-13T05:38:48.306Z"
   },
   {
    "duration": 767,
    "start_time": "2022-01-13T05:53:24.740Z"
   },
   {
    "duration": 10,
    "start_time": "2022-01-13T05:53:25.509Z"
   },
   {
    "duration": 47,
    "start_time": "2022-01-13T05:53:25.521Z"
   },
   {
    "duration": 46,
    "start_time": "2022-01-13T05:53:25.570Z"
   },
   {
    "duration": 796,
    "start_time": "2022-01-13T05:53:25.618Z"
   },
   {
    "duration": 507,
    "start_time": "2022-01-13T05:53:26.416Z"
   },
   {
    "duration": 435,
    "start_time": "2022-01-13T05:53:26.924Z"
   },
   {
    "duration": 408,
    "start_time": "2022-01-13T05:53:27.362Z"
   },
   {
    "duration": 431,
    "start_time": "2022-01-13T05:53:27.773Z"
   },
   {
    "duration": 250,
    "start_time": "2022-01-13T05:53:28.206Z"
   },
   {
    "duration": 17,
    "start_time": "2022-01-13T05:53:28.458Z"
   },
   {
    "duration": 376,
    "start_time": "2022-01-13T05:53:28.477Z"
   },
   {
    "duration": 327,
    "start_time": "2022-01-13T05:53:28.855Z"
   },
   {
    "duration": 2309,
    "start_time": "2022-01-13T05:53:29.183Z"
   },
   {
    "duration": 199,
    "start_time": "2022-01-13T05:53:31.498Z"
   },
   {
    "duration": 657,
    "start_time": "2022-01-13T05:53:31.699Z"
   },
   {
    "duration": 9,
    "start_time": "2022-01-13T05:53:32.358Z"
   },
   {
    "duration": 245,
    "start_time": "2022-01-13T05:53:32.369Z"
   },
   {
    "duration": 18,
    "start_time": "2022-01-13T05:53:32.616Z"
   },
   {
    "duration": 17,
    "start_time": "2022-01-13T05:53:32.635Z"
   },
   {
    "duration": 283,
    "start_time": "2022-01-13T05:53:32.654Z"
   },
   {
    "duration": 102,
    "start_time": "2022-01-13T05:53:32.940Z"
   },
   {
    "duration": 435,
    "start_time": "2022-01-13T05:53:33.046Z"
   },
   {
    "duration": 264,
    "start_time": "2022-01-13T05:53:33.483Z"
   },
   {
    "duration": 258,
    "start_time": "2022-01-13T05:53:33.748Z"
   },
   {
    "duration": 331,
    "start_time": "2022-01-13T05:53:34.008Z"
   },
   {
    "duration": 1097,
    "start_time": "2022-01-13T05:53:34.341Z"
   },
   {
    "duration": 21,
    "start_time": "2022-01-13T05:53:35.440Z"
   },
   {
    "duration": 2323,
    "start_time": "2022-01-13T05:53:35.463Z"
   },
   {
    "duration": 32,
    "start_time": "2022-01-13T05:53:37.788Z"
   },
   {
    "duration": 672,
    "start_time": "2022-01-13T08:39:04.821Z"
   },
   {
    "duration": 9,
    "start_time": "2022-01-13T08:39:05.495Z"
   },
   {
    "duration": 42,
    "start_time": "2022-01-13T08:39:05.506Z"
   },
   {
    "duration": 20,
    "start_time": "2022-01-13T08:39:05.551Z"
   },
   {
    "duration": 658,
    "start_time": "2022-01-13T08:39:05.573Z"
   },
   {
    "duration": 386,
    "start_time": "2022-01-13T08:39:06.233Z"
   },
   {
    "duration": 338,
    "start_time": "2022-01-13T08:39:06.620Z"
   },
   {
    "duration": 323,
    "start_time": "2022-01-13T08:39:06.961Z"
   },
   {
    "duration": 345,
    "start_time": "2022-01-13T08:39:07.286Z"
   },
   {
    "duration": 205,
    "start_time": "2022-01-13T08:39:07.632Z"
   },
   {
    "duration": 14,
    "start_time": "2022-01-13T08:39:07.839Z"
   },
   {
    "duration": 364,
    "start_time": "2022-01-13T08:39:07.855Z"
   },
   {
    "duration": 298,
    "start_time": "2022-01-13T08:39:08.221Z"
   },
   {
    "duration": 1968,
    "start_time": "2022-01-13T08:39:08.521Z"
   },
   {
    "duration": 150,
    "start_time": "2022-01-13T08:39:10.491Z"
   },
   {
    "duration": 495,
    "start_time": "2022-01-13T08:39:10.642Z"
   },
   {
    "duration": 7,
    "start_time": "2022-01-13T08:39:11.139Z"
   },
   {
    "duration": 190,
    "start_time": "2022-01-13T08:39:11.148Z"
   },
   {
    "duration": 13,
    "start_time": "2022-01-13T08:39:11.340Z"
   },
   {
    "duration": 12,
    "start_time": "2022-01-13T08:39:11.355Z"
   },
   {
    "duration": 206,
    "start_time": "2022-01-13T08:39:11.368Z"
   },
   {
    "duration": 81,
    "start_time": "2022-01-13T08:39:11.576Z"
   },
   {
    "duration": 360,
    "start_time": "2022-01-13T08:39:11.660Z"
   },
   {
    "duration": 209,
    "start_time": "2022-01-13T08:39:12.022Z"
   },
   {
    "duration": 196,
    "start_time": "2022-01-13T08:39:12.233Z"
   },
   {
    "duration": 254,
    "start_time": "2022-01-13T08:39:12.431Z"
   },
   {
    "duration": 840,
    "start_time": "2022-01-13T08:39:12.687Z"
   },
   {
    "duration": 16,
    "start_time": "2022-01-13T08:39:13.528Z"
   },
   {
    "duration": 1872,
    "start_time": "2022-01-13T08:39:13.545Z"
   },
   {
    "duration": 18,
    "start_time": "2022-01-13T08:39:15.419Z"
   },
   {
    "duration": 187,
    "start_time": "2022-01-13T08:41:06.926Z"
   },
   {
    "duration": 602,
    "start_time": "2022-01-13T10:07:32.056Z"
   },
   {
    "duration": 678,
    "start_time": "2022-01-13T10:11:11.320Z"
   },
   {
    "duration": 685,
    "start_time": "2022-01-13T10:14:08.237Z"
   },
   {
    "duration": 600,
    "start_time": "2022-01-13T10:14:19.436Z"
   },
   {
    "duration": 81,
    "start_time": "2022-01-13T10:14:32.835Z"
   },
   {
    "duration": 8,
    "start_time": "2022-01-13T10:14:32.918Z"
   },
   {
    "duration": 38,
    "start_time": "2022-01-13T10:14:32.928Z"
   },
   {
    "duration": 20,
    "start_time": "2022-01-13T10:14:32.967Z"
   },
   {
    "duration": 657,
    "start_time": "2022-01-13T10:14:33.012Z"
   },
   {
    "duration": 383,
    "start_time": "2022-01-13T10:14:33.671Z"
   },
   {
    "duration": 342,
    "start_time": "2022-01-13T10:14:34.055Z"
   },
   {
    "duration": 378,
    "start_time": "2022-01-13T10:14:34.399Z"
   },
   {
    "duration": 347,
    "start_time": "2022-01-13T10:14:34.779Z"
   },
   {
    "duration": 196,
    "start_time": "2022-01-13T10:14:35.128Z"
   },
   {
    "duration": 12,
    "start_time": "2022-01-13T10:14:35.325Z"
   },
   {
    "duration": 330,
    "start_time": "2022-01-13T10:14:35.339Z"
   },
   {
    "duration": 286,
    "start_time": "2022-01-13T10:14:35.671Z"
   },
   {
    "duration": 1992,
    "start_time": "2022-01-13T10:14:35.958Z"
   },
   {
    "duration": 169,
    "start_time": "2022-01-13T10:14:37.952Z"
   },
   {
    "duration": 599,
    "start_time": "2022-01-13T10:14:38.124Z"
   },
   {
    "duration": 8,
    "start_time": "2022-01-13T10:14:38.725Z"
   },
   {
    "duration": 212,
    "start_time": "2022-01-13T10:14:38.735Z"
   },
   {
    "duration": 15,
    "start_time": "2022-01-13T10:14:38.949Z"
   },
   {
    "duration": 15,
    "start_time": "2022-01-13T10:14:38.966Z"
   },
   {
    "duration": 283,
    "start_time": "2022-01-13T10:14:38.982Z"
   },
   {
    "duration": 87,
    "start_time": "2022-01-13T10:14:39.266Z"
   },
   {
    "duration": 358,
    "start_time": "2022-01-13T10:14:39.354Z"
   },
   {
    "duration": 214,
    "start_time": "2022-01-13T10:14:39.714Z"
   },
   {
    "duration": 213,
    "start_time": "2022-01-13T10:14:39.929Z"
   },
   {
    "duration": 268,
    "start_time": "2022-01-13T10:14:40.144Z"
   },
   {
    "duration": 628,
    "start_time": "2022-01-13T10:14:40.413Z"
   },
   {
    "duration": 18,
    "start_time": "2022-01-13T10:14:41.043Z"
   },
   {
    "duration": 1999,
    "start_time": "2022-01-13T10:14:41.063Z"
   },
   {
    "duration": 20,
    "start_time": "2022-01-13T10:14:43.063Z"
   },
   {
    "duration": 612,
    "start_time": "2022-01-13T10:16:36.761Z"
   },
   {
    "duration": 723,
    "start_time": "2022-01-13T10:18:44.602Z"
   },
   {
    "duration": 85,
    "start_time": "2022-01-13T10:19:21.036Z"
   },
   {
    "duration": 8,
    "start_time": "2022-01-13T10:19:21.123Z"
   },
   {
    "duration": 36,
    "start_time": "2022-01-13T10:19:21.133Z"
   },
   {
    "duration": 42,
    "start_time": "2022-01-13T10:19:21.170Z"
   },
   {
    "duration": 649,
    "start_time": "2022-01-13T10:19:21.214Z"
   },
   {
    "duration": 356,
    "start_time": "2022-01-13T10:19:21.864Z"
   },
   {
    "duration": 381,
    "start_time": "2022-01-13T10:19:22.221Z"
   },
   {
    "duration": 314,
    "start_time": "2022-01-13T10:19:22.603Z"
   },
   {
    "duration": 335,
    "start_time": "2022-01-13T10:19:22.919Z"
   },
   {
    "duration": 188,
    "start_time": "2022-01-13T10:19:23.256Z"
   },
   {
    "duration": 13,
    "start_time": "2022-01-13T10:19:23.445Z"
   },
   {
    "duration": 367,
    "start_time": "2022-01-13T10:19:23.459Z"
   },
   {
    "duration": 302,
    "start_time": "2022-01-13T10:19:23.827Z"
   },
   {
    "duration": 1863,
    "start_time": "2022-01-13T10:19:24.130Z"
   },
   {
    "duration": 163,
    "start_time": "2022-01-13T10:19:25.995Z"
   },
   {
    "duration": 561,
    "start_time": "2022-01-13T10:19:26.159Z"
   },
   {
    "duration": 9,
    "start_time": "2022-01-13T10:19:26.721Z"
   },
   {
    "duration": 192,
    "start_time": "2022-01-13T10:19:26.731Z"
   },
   {
    "duration": 15,
    "start_time": "2022-01-13T10:19:26.925Z"
   },
   {
    "duration": 13,
    "start_time": "2022-01-13T10:19:26.941Z"
   },
   {
    "duration": 219,
    "start_time": "2022-01-13T10:19:26.956Z"
   },
   {
    "duration": 73,
    "start_time": "2022-01-13T10:19:27.176Z"
   },
   {
    "duration": 347,
    "start_time": "2022-01-13T10:19:27.250Z"
   },
   {
    "duration": 201,
    "start_time": "2022-01-13T10:19:27.598Z"
   },
   {
    "duration": 200,
    "start_time": "2022-01-13T10:19:27.800Z"
   },
   {
    "duration": 252,
    "start_time": "2022-01-13T10:19:28.002Z"
   },
   {
    "duration": 683,
    "start_time": "2022-01-13T10:19:28.258Z"
   },
   {
    "duration": 22,
    "start_time": "2022-01-13T10:19:28.943Z"
   },
   {
    "duration": 692,
    "start_time": "2022-01-13T10:19:28.967Z"
   },
   {
    "duration": 19,
    "start_time": "2022-01-13T10:19:29.660Z"
   },
   {
    "duration": 71,
    "start_time": "2022-01-13T10:20:57.183Z"
   },
   {
    "duration": 68,
    "start_time": "2022-01-13T10:24:35.575Z"
   },
   {
    "duration": 645,
    "start_time": "2022-01-13T10:24:40.715Z"
   },
   {
    "duration": 85,
    "start_time": "2022-01-13T10:24:46.884Z"
   },
   {
    "duration": 8,
    "start_time": "2022-01-13T10:24:46.971Z"
   },
   {
    "duration": 68,
    "start_time": "2022-01-13T10:24:46.981Z"
   },
   {
    "duration": 21,
    "start_time": "2022-01-13T10:24:47.050Z"
   },
   {
    "duration": 694,
    "start_time": "2022-01-13T10:24:47.073Z"
   },
   {
    "duration": 372,
    "start_time": "2022-01-13T10:24:47.769Z"
   },
   {
    "duration": 397,
    "start_time": "2022-01-13T10:24:48.143Z"
   },
   {
    "duration": 317,
    "start_time": "2022-01-13T10:24:48.541Z"
   },
   {
    "duration": 331,
    "start_time": "2022-01-13T10:24:48.861Z"
   },
   {
    "duration": 188,
    "start_time": "2022-01-13T10:24:49.194Z"
   },
   {
    "duration": 11,
    "start_time": "2022-01-13T10:24:49.384Z"
   },
   {
    "duration": 321,
    "start_time": "2022-01-13T10:24:49.396Z"
   },
   {
    "duration": 287,
    "start_time": "2022-01-13T10:24:49.719Z"
   },
   {
    "duration": 1892,
    "start_time": "2022-01-13T10:24:50.012Z"
   },
   {
    "duration": 159,
    "start_time": "2022-01-13T10:24:51.906Z"
   },
   {
    "duration": 606,
    "start_time": "2022-01-13T10:24:52.067Z"
   },
   {
    "duration": 10,
    "start_time": "2022-01-13T10:24:52.674Z"
   },
   {
    "duration": 200,
    "start_time": "2022-01-13T10:24:52.686Z"
   },
   {
    "duration": 25,
    "start_time": "2022-01-13T10:24:52.888Z"
   },
   {
    "duration": 14,
    "start_time": "2022-01-13T10:24:52.914Z"
   },
   {
    "duration": 217,
    "start_time": "2022-01-13T10:24:52.930Z"
   },
   {
    "duration": 81,
    "start_time": "2022-01-13T10:24:53.149Z"
   },
   {
    "duration": 426,
    "start_time": "2022-01-13T10:24:53.232Z"
   },
   {
    "duration": 218,
    "start_time": "2022-01-13T10:24:53.660Z"
   },
   {
    "duration": 215,
    "start_time": "2022-01-13T10:24:53.880Z"
   },
   {
    "duration": 279,
    "start_time": "2022-01-13T10:24:54.097Z"
   },
   {
    "duration": 712,
    "start_time": "2022-01-13T10:24:54.379Z"
   },
   {
    "duration": 24,
    "start_time": "2022-01-13T10:24:55.092Z"
   },
   {
    "duration": 709,
    "start_time": "2022-01-13T10:24:55.118Z"
   },
   {
    "duration": 21,
    "start_time": "2022-01-13T10:24:55.829Z"
   },
   {
    "duration": 946,
    "start_time": "2022-01-13T10:26:42.637Z"
   },
   {
    "duration": 85,
    "start_time": "2022-01-13T10:26:49.880Z"
   },
   {
    "duration": 8,
    "start_time": "2022-01-13T10:26:49.967Z"
   },
   {
    "duration": 63,
    "start_time": "2022-01-13T10:26:49.978Z"
   },
   {
    "duration": 21,
    "start_time": "2022-01-13T10:26:50.044Z"
   },
   {
    "duration": 676,
    "start_time": "2022-01-13T10:26:50.067Z"
   },
   {
    "duration": 430,
    "start_time": "2022-01-13T10:26:50.744Z"
   },
   {
    "duration": 349,
    "start_time": "2022-01-13T10:26:51.176Z"
   },
   {
    "duration": 322,
    "start_time": "2022-01-13T10:26:51.526Z"
   },
   {
    "duration": 349,
    "start_time": "2022-01-13T10:26:51.851Z"
   },
   {
    "duration": 205,
    "start_time": "2022-01-13T10:26:52.202Z"
   },
   {
    "duration": 15,
    "start_time": "2022-01-13T10:26:52.409Z"
   },
   {
    "duration": 376,
    "start_time": "2022-01-13T10:26:52.426Z"
   },
   {
    "duration": 301,
    "start_time": "2022-01-13T10:26:52.804Z"
   },
   {
    "duration": 2075,
    "start_time": "2022-01-13T10:26:53.107Z"
   },
   {
    "duration": 215,
    "start_time": "2022-01-13T10:26:55.184Z"
   },
   {
    "duration": 525,
    "start_time": "2022-01-13T10:26:55.401Z"
   },
   {
    "duration": 10,
    "start_time": "2022-01-13T10:26:55.928Z"
   },
   {
    "duration": 197,
    "start_time": "2022-01-13T10:26:55.939Z"
   },
   {
    "duration": 15,
    "start_time": "2022-01-13T10:26:56.138Z"
   },
   {
    "duration": 13,
    "start_time": "2022-01-13T10:26:56.155Z"
   },
   {
    "duration": 201,
    "start_time": "2022-01-13T10:26:56.170Z"
   },
   {
    "duration": 80,
    "start_time": "2022-01-13T10:26:56.372Z"
   },
   {
    "duration": 334,
    "start_time": "2022-01-13T10:26:56.454Z"
   },
   {
    "duration": 205,
    "start_time": "2022-01-13T10:26:56.789Z"
   },
   {
    "duration": 206,
    "start_time": "2022-01-13T10:26:56.996Z"
   },
   {
    "duration": 253,
    "start_time": "2022-01-13T10:26:57.204Z"
   },
   {
    "duration": 878,
    "start_time": "2022-01-13T10:26:57.460Z"
   },
   {
    "duration": 16,
    "start_time": "2022-01-13T10:26:58.340Z"
   },
   {
    "duration": 708,
    "start_time": "2022-01-13T10:26:58.358Z"
   },
   {
    "duration": 20,
    "start_time": "2022-01-13T10:26:59.068Z"
   },
   {
    "duration": 83,
    "start_time": "2022-01-13T10:27:50.797Z"
   },
   {
    "duration": 8,
    "start_time": "2022-01-13T10:27:50.882Z"
   },
   {
    "duration": 53,
    "start_time": "2022-01-13T10:27:50.892Z"
   },
   {
    "duration": 19,
    "start_time": "2022-01-13T10:27:50.947Z"
   },
   {
    "duration": 691,
    "start_time": "2022-01-13T10:27:50.967Z"
   },
   {
    "duration": 405,
    "start_time": "2022-01-13T10:27:51.660Z"
   },
   {
    "duration": 413,
    "start_time": "2022-01-13T10:27:52.067Z"
   },
   {
    "duration": 313,
    "start_time": "2022-01-13T10:27:52.481Z"
   },
   {
    "duration": 360,
    "start_time": "2022-01-13T10:27:52.797Z"
   },
   {
    "duration": 213,
    "start_time": "2022-01-13T10:27:53.159Z"
   },
   {
    "duration": 17,
    "start_time": "2022-01-13T10:27:53.374Z"
   },
   {
    "duration": 346,
    "start_time": "2022-01-13T10:27:53.393Z"
   },
   {
    "duration": 292,
    "start_time": "2022-01-13T10:27:53.740Z"
   },
   {
    "duration": 1949,
    "start_time": "2022-01-13T10:27:54.034Z"
   },
   {
    "duration": 158,
    "start_time": "2022-01-13T10:27:55.984Z"
   },
   {
    "duration": 600,
    "start_time": "2022-01-13T10:27:56.144Z"
   },
   {
    "duration": 12,
    "start_time": "2022-01-13T10:27:56.747Z"
   },
   {
    "duration": 237,
    "start_time": "2022-01-13T10:27:56.761Z"
   },
   {
    "duration": 26,
    "start_time": "2022-01-13T10:27:57.000Z"
   },
   {
    "duration": 15,
    "start_time": "2022-01-13T10:27:57.027Z"
   },
   {
    "duration": 214,
    "start_time": "2022-01-13T10:27:57.043Z"
   },
   {
    "duration": 83,
    "start_time": "2022-01-13T10:27:57.259Z"
   },
   {
    "duration": 368,
    "start_time": "2022-01-13T10:27:57.344Z"
   },
   {
    "duration": 216,
    "start_time": "2022-01-13T10:27:57.714Z"
   },
   {
    "duration": 211,
    "start_time": "2022-01-13T10:27:57.931Z"
   },
   {
    "duration": 261,
    "start_time": "2022-01-13T10:27:58.143Z"
   },
   {
    "duration": 894,
    "start_time": "2022-01-13T10:27:58.407Z"
   },
   {
    "duration": 23,
    "start_time": "2022-01-13T10:27:59.303Z"
   },
   {
    "duration": 735,
    "start_time": "2022-01-13T10:27:59.327Z"
   },
   {
    "duration": 22,
    "start_time": "2022-01-13T10:28:00.064Z"
   },
   {
    "duration": 601,
    "start_time": "2022-01-13T10:28:34.199Z"
   },
   {
    "duration": 83,
    "start_time": "2022-01-13T10:28:40.518Z"
   },
   {
    "duration": 11,
    "start_time": "2022-01-13T10:28:40.603Z"
   },
   {
    "duration": 37,
    "start_time": "2022-01-13T10:28:40.615Z"
   },
   {
    "duration": 21,
    "start_time": "2022-01-13T10:28:40.654Z"
   },
   {
    "duration": 675,
    "start_time": "2022-01-13T10:28:40.677Z"
   },
   {
    "duration": 415,
    "start_time": "2022-01-13T10:28:41.353Z"
   },
   {
    "duration": 334,
    "start_time": "2022-01-13T10:28:41.770Z"
   },
   {
    "duration": 326,
    "start_time": "2022-01-13T10:28:42.105Z"
   },
   {
    "duration": 332,
    "start_time": "2022-01-13T10:28:42.434Z"
   },
   {
    "duration": 192,
    "start_time": "2022-01-13T10:28:42.769Z"
   },
   {
    "duration": 13,
    "start_time": "2022-01-13T10:28:42.963Z"
   },
   {
    "duration": 361,
    "start_time": "2022-01-13T10:28:42.978Z"
   },
   {
    "duration": 295,
    "start_time": "2022-01-13T10:28:43.341Z"
   },
   {
    "duration": 1881,
    "start_time": "2022-01-13T10:28:43.637Z"
   },
   {
    "duration": 219,
    "start_time": "2022-01-13T10:28:45.519Z"
   },
   {
    "duration": 525,
    "start_time": "2022-01-13T10:28:45.739Z"
   },
   {
    "duration": 9,
    "start_time": "2022-01-13T10:28:46.266Z"
   },
   {
    "duration": 193,
    "start_time": "2022-01-13T10:28:46.277Z"
   },
   {
    "duration": 16,
    "start_time": "2022-01-13T10:28:46.472Z"
   },
   {
    "duration": 26,
    "start_time": "2022-01-13T10:28:46.489Z"
   },
   {
    "duration": 198,
    "start_time": "2022-01-13T10:28:46.516Z"
   },
   {
    "duration": 70,
    "start_time": "2022-01-13T10:28:46.716Z"
   },
   {
    "duration": 353,
    "start_time": "2022-01-13T10:28:46.787Z"
   },
   {
    "duration": 206,
    "start_time": "2022-01-13T10:28:47.142Z"
   },
   {
    "duration": 205,
    "start_time": "2022-01-13T10:28:47.350Z"
   },
   {
    "duration": 242,
    "start_time": "2022-01-13T10:28:47.557Z"
   },
   {
    "duration": 684,
    "start_time": "2022-01-13T10:28:47.801Z"
   },
   {
    "duration": 26,
    "start_time": "2022-01-13T10:28:48.487Z"
   },
   {
    "duration": 657,
    "start_time": "2022-01-13T10:28:48.515Z"
   },
   {
    "duration": 20,
    "start_time": "2022-01-13T10:28:49.173Z"
   },
   {
    "duration": 697,
    "start_time": "2022-01-13T10:32:29.823Z"
   },
   {
    "duration": 83,
    "start_time": "2022-01-13T10:32:33.915Z"
   },
   {
    "duration": 15,
    "start_time": "2022-01-13T10:32:33.999Z"
   },
   {
    "duration": 38,
    "start_time": "2022-01-13T10:32:34.016Z"
   },
   {
    "duration": 21,
    "start_time": "2022-01-13T10:32:34.055Z"
   },
   {
    "duration": 707,
    "start_time": "2022-01-13T10:32:34.077Z"
   },
   {
    "duration": 443,
    "start_time": "2022-01-13T10:32:34.786Z"
   },
   {
    "duration": 350,
    "start_time": "2022-01-13T10:32:35.230Z"
   },
   {
    "duration": 312,
    "start_time": "2022-01-13T10:32:35.582Z"
   },
   {
    "duration": 346,
    "start_time": "2022-01-13T10:32:35.896Z"
   },
   {
    "duration": 191,
    "start_time": "2022-01-13T10:32:36.244Z"
   },
   {
    "duration": 13,
    "start_time": "2022-01-13T10:32:36.437Z"
   },
   {
    "duration": 352,
    "start_time": "2022-01-13T10:32:36.451Z"
   },
   {
    "duration": 311,
    "start_time": "2022-01-13T10:32:36.805Z"
   },
   {
    "duration": 1984,
    "start_time": "2022-01-13T10:32:37.118Z"
   },
   {
    "duration": 150,
    "start_time": "2022-01-13T10:32:39.103Z"
   },
   {
    "duration": 502,
    "start_time": "2022-01-13T10:32:39.255Z"
   },
   {
    "duration": 9,
    "start_time": "2022-01-13T10:32:39.758Z"
   },
   {
    "duration": 191,
    "start_time": "2022-01-13T10:32:39.768Z"
   },
   {
    "duration": 15,
    "start_time": "2022-01-13T10:32:39.961Z"
   },
   {
    "duration": 13,
    "start_time": "2022-01-13T10:32:39.977Z"
   },
   {
    "duration": 210,
    "start_time": "2022-01-13T10:32:39.991Z"
   },
   {
    "duration": 77,
    "start_time": "2022-01-13T10:32:40.203Z"
   },
   {
    "duration": 364,
    "start_time": "2022-01-13T10:32:40.281Z"
   },
   {
    "duration": 207,
    "start_time": "2022-01-13T10:32:40.647Z"
   },
   {
    "duration": 207,
    "start_time": "2022-01-13T10:32:40.855Z"
   },
   {
    "duration": 255,
    "start_time": "2022-01-13T10:32:41.064Z"
   },
   {
    "duration": 709,
    "start_time": "2022-01-13T10:32:41.322Z"
   },
   {
    "duration": 17,
    "start_time": "2022-01-13T10:32:42.032Z"
   },
   {
    "duration": 671,
    "start_time": "2022-01-13T10:32:42.051Z"
   },
   {
    "duration": 19,
    "start_time": "2022-01-13T10:32:42.723Z"
   },
   {
    "duration": 650,
    "start_time": "2022-01-13T10:33:54.317Z"
   },
   {
    "duration": 81,
    "start_time": "2022-01-13T10:34:05.356Z"
   },
   {
    "duration": 8,
    "start_time": "2022-01-13T10:34:05.439Z"
   },
   {
    "duration": 38,
    "start_time": "2022-01-13T10:34:05.448Z"
   },
   {
    "duration": 42,
    "start_time": "2022-01-13T10:34:05.487Z"
   },
   {
    "duration": 666,
    "start_time": "2022-01-13T10:34:05.531Z"
   },
   {
    "duration": 414,
    "start_time": "2022-01-13T10:34:06.199Z"
   },
   {
    "duration": 349,
    "start_time": "2022-01-13T10:34:06.615Z"
   },
   {
    "duration": 310,
    "start_time": "2022-01-13T10:34:06.966Z"
   },
   {
    "duration": 354,
    "start_time": "2022-01-13T10:34:07.279Z"
   },
   {
    "duration": 200,
    "start_time": "2022-01-13T10:34:07.635Z"
   },
   {
    "duration": 12,
    "start_time": "2022-01-13T10:34:07.836Z"
   },
   {
    "duration": 370,
    "start_time": "2022-01-13T10:34:07.850Z"
   },
   {
    "duration": 306,
    "start_time": "2022-01-13T10:34:08.222Z"
   },
   {
    "duration": 1925,
    "start_time": "2022-01-13T10:34:08.530Z"
   },
   {
    "duration": 221,
    "start_time": "2022-01-13T10:34:10.457Z"
   },
   {
    "duration": 509,
    "start_time": "2022-01-13T10:34:10.679Z"
   },
   {
    "duration": 9,
    "start_time": "2022-01-13T10:34:11.190Z"
   },
   {
    "duration": 192,
    "start_time": "2022-01-13T10:34:11.200Z"
   },
   {
    "duration": 27,
    "start_time": "2022-01-13T10:34:11.394Z"
   },
   {
    "duration": 13,
    "start_time": "2022-01-13T10:34:11.422Z"
   },
   {
    "duration": 204,
    "start_time": "2022-01-13T10:34:11.436Z"
   },
   {
    "duration": 104,
    "start_time": "2022-01-13T10:34:11.642Z"
   },
   {
    "duration": 373,
    "start_time": "2022-01-13T10:34:11.748Z"
   },
   {
    "duration": 209,
    "start_time": "2022-01-13T10:34:12.123Z"
   },
   {
    "duration": 201,
    "start_time": "2022-01-13T10:34:12.333Z"
   },
   {
    "duration": 256,
    "start_time": "2022-01-13T10:34:12.536Z"
   },
   {
    "duration": 708,
    "start_time": "2022-01-13T10:34:12.796Z"
   },
   {
    "duration": 19,
    "start_time": "2022-01-13T10:34:13.506Z"
   },
   {
    "duration": 694,
    "start_time": "2022-01-13T10:34:13.526Z"
   },
   {
    "duration": 21,
    "start_time": "2022-01-13T10:34:14.222Z"
   },
   {
    "duration": 84,
    "start_time": "2022-01-13T10:34:29.923Z"
   },
   {
    "duration": 9,
    "start_time": "2022-01-13T10:34:30.009Z"
   },
   {
    "duration": 39,
    "start_time": "2022-01-13T10:34:30.020Z"
   },
   {
    "duration": 22,
    "start_time": "2022-01-13T10:34:30.061Z"
   },
   {
    "duration": 678,
    "start_time": "2022-01-13T10:34:30.085Z"
   },
   {
    "duration": 386,
    "start_time": "2022-01-13T10:34:30.765Z"
   },
   {
    "duration": 417,
    "start_time": "2022-01-13T10:34:31.153Z"
   },
   {
    "duration": 322,
    "start_time": "2022-01-13T10:34:31.571Z"
   },
   {
    "duration": 345,
    "start_time": "2022-01-13T10:34:31.896Z"
   },
   {
    "duration": 199,
    "start_time": "2022-01-13T10:34:32.243Z"
   },
   {
    "duration": 12,
    "start_time": "2022-01-13T10:34:32.444Z"
   },
   {
    "duration": 349,
    "start_time": "2022-01-13T10:34:32.457Z"
   },
   {
    "duration": 294,
    "start_time": "2022-01-13T10:34:32.811Z"
   },
   {
    "duration": 1968,
    "start_time": "2022-01-13T10:34:33.106Z"
   },
   {
    "duration": 170,
    "start_time": "2022-01-13T10:34:35.075Z"
   },
   {
    "duration": 612,
    "start_time": "2022-01-13T10:34:35.246Z"
   },
   {
    "duration": 10,
    "start_time": "2022-01-13T10:34:35.859Z"
   },
   {
    "duration": 208,
    "start_time": "2022-01-13T10:34:35.870Z"
   },
   {
    "duration": 16,
    "start_time": "2022-01-13T10:34:36.079Z"
   },
   {
    "duration": 27,
    "start_time": "2022-01-13T10:34:36.097Z"
   },
   {
    "duration": 205,
    "start_time": "2022-01-13T10:34:36.126Z"
   },
   {
    "duration": 68,
    "start_time": "2022-01-13T10:34:36.333Z"
   },
   {
    "duration": 364,
    "start_time": "2022-01-13T10:34:36.402Z"
   },
   {
    "duration": 204,
    "start_time": "2022-01-13T10:34:36.768Z"
   },
   {
    "duration": 203,
    "start_time": "2022-01-13T10:34:36.973Z"
   },
   {
    "duration": 251,
    "start_time": "2022-01-13T10:34:37.178Z"
   },
   {
    "duration": 652,
    "start_time": "2022-01-13T10:34:37.432Z"
   },
   {
    "duration": 16,
    "start_time": "2022-01-13T10:34:38.086Z"
   },
   {
    "duration": 808,
    "start_time": "2022-01-13T10:34:38.112Z"
   },
   {
    "duration": 21,
    "start_time": "2022-01-13T10:34:38.921Z"
   },
   {
    "duration": 438,
    "start_time": "2022-01-13T10:56:47.255Z"
   },
   {
    "duration": 388,
    "start_time": "2022-01-13T10:56:56.110Z"
   },
   {
    "duration": 217,
    "start_time": "2022-01-13T10:57:37.174Z"
   },
   {
    "duration": 206,
    "start_time": "2022-01-13T10:57:49.477Z"
   },
   {
    "duration": 387,
    "start_time": "2022-01-13T10:57:58.598Z"
   },
   {
    "duration": 399,
    "start_time": "2022-01-13T10:58:56.214Z"
   },
   {
    "duration": 452,
    "start_time": "2022-01-13T10:59:18.841Z"
   },
   {
    "duration": 358,
    "start_time": "2022-01-13T11:00:14.118Z"
   },
   {
    "duration": 368,
    "start_time": "2022-01-13T11:00:25.766Z"
   },
   {
    "duration": 539,
    "start_time": "2022-01-13T11:01:02.607Z"
   },
   {
    "duration": 562,
    "start_time": "2022-01-13T11:01:20.215Z"
   },
   {
    "duration": 603,
    "start_time": "2022-01-13T11:01:24.117Z"
   },
   {
    "duration": 363,
    "start_time": "2022-01-13T11:01:41.878Z"
   },
   {
    "duration": 369,
    "start_time": "2022-01-13T11:02:25.602Z"
   },
   {
    "duration": 363,
    "start_time": "2022-01-13T11:03:44.571Z"
   },
   {
    "duration": 340,
    "start_time": "2022-01-13T11:04:25.959Z"
   },
   {
    "duration": 306,
    "start_time": "2022-01-13T11:05:21.276Z"
   },
   {
    "duration": 420,
    "start_time": "2022-01-13T11:05:51.167Z"
   },
   {
    "duration": 347,
    "start_time": "2022-01-13T11:06:59.471Z"
   },
   {
    "duration": 329,
    "start_time": "2022-01-13T11:07:09.800Z"
   },
   {
    "duration": 525,
    "start_time": "2022-01-13T11:07:17.108Z"
   },
   {
    "duration": 219,
    "start_time": "2022-01-13T11:14:31.159Z"
   },
   {
    "duration": 422,
    "start_time": "2022-01-13T11:15:45.230Z"
   },
   {
    "duration": 195,
    "start_time": "2022-01-13T11:15:57.755Z"
   },
   {
    "duration": 287,
    "start_time": "2022-01-13T11:16:20.714Z"
   },
   {
    "duration": 237,
    "start_time": "2022-01-13T11:16:54.759Z"
   },
   {
    "duration": 203,
    "start_time": "2022-01-13T11:17:00.295Z"
   },
   {
    "duration": 203,
    "start_time": "2022-01-13T11:17:18.146Z"
   },
   {
    "duration": 169,
    "start_time": "2022-01-13T11:18:08.351Z"
   },
   {
    "duration": 152,
    "start_time": "2022-01-13T11:18:15.667Z"
   },
   {
    "duration": 161,
    "start_time": "2022-01-13T11:19:13.398Z"
   },
   {
    "duration": 539,
    "start_time": "2022-01-13T11:19:48.679Z"
   },
   {
    "duration": 548,
    "start_time": "2022-01-13T11:20:14.235Z"
   },
   {
    "duration": 278,
    "start_time": "2022-01-13T11:21:25.758Z"
   },
   {
    "duration": 352,
    "start_time": "2022-01-13T11:24:39.755Z"
   },
   {
    "duration": 380,
    "start_time": "2022-01-13T11:26:28.734Z"
   },
   {
    "duration": 357,
    "start_time": "2022-01-13T11:27:09.678Z"
   },
   {
    "duration": 221,
    "start_time": "2022-01-13T11:27:51.960Z"
   },
   {
    "duration": 206,
    "start_time": "2022-01-13T11:28:08.615Z"
   },
   {
    "duration": 214,
    "start_time": "2022-01-13T11:28:38.884Z"
   },
   {
    "duration": 198,
    "start_time": "2022-01-13T11:29:22.991Z"
   },
   {
    "duration": 274,
    "start_time": "2022-01-13T11:29:48.591Z"
   },
   {
    "duration": 259,
    "start_time": "2022-01-13T11:30:31.319Z"
   },
   {
    "duration": 270,
    "start_time": "2022-01-13T11:30:38.288Z"
   },
   {
    "duration": 208,
    "start_time": "2022-01-13T11:31:01.472Z"
   },
   {
    "duration": 85,
    "start_time": "2022-01-13T11:35:37.312Z"
   },
   {
    "duration": 17,
    "start_time": "2022-01-13T11:35:37.398Z"
   },
   {
    "duration": 36,
    "start_time": "2022-01-13T11:35:37.417Z"
   },
   {
    "duration": 33,
    "start_time": "2022-01-13T11:35:37.455Z"
   },
   {
    "duration": 664,
    "start_time": "2022-01-13T11:35:37.490Z"
   },
   {
    "duration": 383,
    "start_time": "2022-01-13T11:35:38.155Z"
   },
   {
    "duration": 407,
    "start_time": "2022-01-13T11:35:38.540Z"
   },
   {
    "duration": 325,
    "start_time": "2022-01-13T11:35:38.949Z"
   },
   {
    "duration": 341,
    "start_time": "2022-01-13T11:35:39.276Z"
   },
   {
    "duration": 202,
    "start_time": "2022-01-13T11:35:39.619Z"
   },
   {
    "duration": 12,
    "start_time": "2022-01-13T11:35:39.822Z"
   },
   {
    "duration": 304,
    "start_time": "2022-01-13T11:35:39.835Z"
   },
   {
    "duration": 278,
    "start_time": "2022-01-13T11:35:40.140Z"
   },
   {
    "duration": 1875,
    "start_time": "2022-01-13T11:35:40.419Z"
   },
   {
    "duration": 156,
    "start_time": "2022-01-13T11:35:42.296Z"
   },
   {
    "duration": 588,
    "start_time": "2022-01-13T11:35:42.454Z"
   },
   {
    "duration": 10,
    "start_time": "2022-01-13T11:35:43.044Z"
   },
   {
    "duration": 200,
    "start_time": "2022-01-13T11:35:43.056Z"
   },
   {
    "duration": 17,
    "start_time": "2022-01-13T11:35:43.258Z"
   },
   {
    "duration": 14,
    "start_time": "2022-01-13T11:35:43.276Z"
   },
   {
    "duration": 220,
    "start_time": "2022-01-13T11:35:43.292Z"
   },
   {
    "duration": 70,
    "start_time": "2022-01-13T11:35:43.513Z"
   },
   {
    "duration": 377,
    "start_time": "2022-01-13T11:35:43.585Z"
   },
   {
    "duration": 213,
    "start_time": "2022-01-13T11:35:43.964Z"
   },
   {
    "duration": 210,
    "start_time": "2022-01-13T11:35:44.179Z"
   },
   {
    "duration": 267,
    "start_time": "2022-01-13T11:35:44.390Z"
   },
   {
    "duration": 724,
    "start_time": "2022-01-13T11:35:44.660Z"
   },
   {
    "duration": 27,
    "start_time": "2022-01-13T11:35:45.386Z"
   },
   {
    "duration": 715,
    "start_time": "2022-01-13T11:35:45.415Z"
   },
   {
    "duration": 21,
    "start_time": "2022-01-13T11:35:46.131Z"
   },
   {
    "duration": 199,
    "start_time": "2022-01-13T11:37:11.247Z"
   },
   {
    "duration": 1026,
    "start_time": "2022-01-14T03:49:51.820Z"
   },
   {
    "duration": 15,
    "start_time": "2022-01-14T03:49:52.849Z"
   },
   {
    "duration": 62,
    "start_time": "2022-01-14T03:49:52.868Z"
   },
   {
    "duration": 98,
    "start_time": "2022-01-14T03:49:52.933Z"
   },
   {
    "duration": 1415,
    "start_time": "2022-01-14T03:49:53.034Z"
   },
   {
    "duration": 693,
    "start_time": "2022-01-14T03:49:54.452Z"
   },
   {
    "duration": 589,
    "start_time": "2022-01-14T03:49:55.148Z"
   },
   {
    "duration": 548,
    "start_time": "2022-01-14T03:49:55.741Z"
   },
   {
    "duration": 598,
    "start_time": "2022-01-14T03:49:56.293Z"
   },
   {
    "duration": 347,
    "start_time": "2022-01-14T03:49:56.894Z"
   },
   {
    "duration": 32,
    "start_time": "2022-01-14T03:49:57.244Z"
   },
   {
    "duration": 489,
    "start_time": "2022-01-14T03:49:57.279Z"
   },
   {
    "duration": 402,
    "start_time": "2022-01-14T03:49:57.771Z"
   },
   {
    "duration": 3637,
    "start_time": "2022-01-14T03:49:58.176Z"
   },
   {
    "duration": 268,
    "start_time": "2022-01-14T03:50:01.816Z"
   },
   {
    "duration": 932,
    "start_time": "2022-01-14T03:50:02.087Z"
   },
   {
    "duration": 15,
    "start_time": "2022-01-14T03:50:03.022Z"
   },
   {
    "duration": 337,
    "start_time": "2022-01-14T03:50:03.039Z"
   },
   {
    "duration": 24,
    "start_time": "2022-01-14T03:50:03.379Z"
   },
   {
    "duration": 22,
    "start_time": "2022-01-14T03:50:03.406Z"
   },
   {
    "duration": 336,
    "start_time": "2022-01-14T03:50:03.463Z"
   },
   {
    "duration": 131,
    "start_time": "2022-01-14T03:50:03.803Z"
   },
   {
    "duration": 608,
    "start_time": "2022-01-14T03:50:03.941Z"
   },
   {
    "duration": 381,
    "start_time": "2022-01-14T03:50:04.552Z"
   },
   {
    "duration": 362,
    "start_time": "2022-01-14T03:50:04.936Z"
   },
   {
    "duration": 462,
    "start_time": "2022-01-14T03:50:05.301Z"
   },
   {
    "duration": 1146,
    "start_time": "2022-01-14T03:50:05.766Z"
   },
   {
    "duration": 26,
    "start_time": "2022-01-14T03:50:06.914Z"
   },
   {
    "duration": 1195,
    "start_time": "2022-01-14T03:50:06.942Z"
   },
   {
    "duration": 46,
    "start_time": "2022-01-14T03:50:08.140Z"
   },
   {
    "duration": 292,
    "start_time": "2022-01-14T15:40:47.611Z"
   },
   {
    "duration": 798,
    "start_time": "2022-01-27T13:18:50.478Z"
   },
   {
    "duration": 19,
    "start_time": "2022-01-27T13:18:51.278Z"
   },
   {
    "duration": 45,
    "start_time": "2022-01-27T13:18:51.300Z"
   },
   {
    "duration": 26,
    "start_time": "2022-01-27T13:18:51.347Z"
   },
   {
    "duration": 741,
    "start_time": "2022-01-27T13:18:51.375Z"
   },
   {
    "duration": 468,
    "start_time": "2022-01-27T13:18:52.117Z"
   },
   {
    "duration": 389,
    "start_time": "2022-01-27T13:18:52.587Z"
   },
   {
    "duration": 377,
    "start_time": "2022-01-27T13:18:52.977Z"
   },
   {
    "duration": 396,
    "start_time": "2022-01-27T13:18:53.358Z"
   },
   {
    "duration": 232,
    "start_time": "2022-01-27T13:18:53.756Z"
   },
   {
    "duration": 17,
    "start_time": "2022-01-27T13:18:53.990Z"
   },
   {
    "duration": 346,
    "start_time": "2022-01-27T13:18:54.009Z"
   },
   {
    "duration": 336,
    "start_time": "2022-01-27T13:18:54.356Z"
   },
   {
    "duration": 2105,
    "start_time": "2022-01-27T13:18:54.693Z"
   },
   {
    "duration": 191,
    "start_time": "2022-01-27T13:18:56.800Z"
   },
   {
    "duration": 620,
    "start_time": "2022-01-27T13:18:56.996Z"
   },
   {
    "duration": 9,
    "start_time": "2022-01-27T13:18:57.618Z"
   },
   {
    "duration": 235,
    "start_time": "2022-01-27T13:18:57.629Z"
   },
   {
    "duration": 17,
    "start_time": "2022-01-27T13:18:57.866Z"
   },
   {
    "duration": 23,
    "start_time": "2022-01-27T13:18:57.885Z"
   },
   {
    "duration": 223,
    "start_time": "2022-01-27T13:18:57.910Z"
   },
   {
    "duration": 86,
    "start_time": "2022-01-27T13:18:58.135Z"
   },
   {
    "duration": 402,
    "start_time": "2022-01-27T13:18:58.222Z"
   },
   {
    "duration": 240,
    "start_time": "2022-01-27T13:18:58.626Z"
   },
   {
    "duration": 257,
    "start_time": "2022-01-27T13:18:58.869Z"
   },
   {
    "duration": 313,
    "start_time": "2022-01-27T13:18:59.127Z"
   },
   {
    "duration": 837,
    "start_time": "2022-01-27T13:18:59.443Z"
   },
   {
    "duration": 30,
    "start_time": "2022-01-27T13:19:00.282Z"
   },
   {
    "duration": 826,
    "start_time": "2022-01-27T13:19:00.315Z"
   },
   {
    "duration": 24,
    "start_time": "2022-01-27T13:19:01.143Z"
   },
   {
    "duration": 853,
    "start_time": "2022-02-07T06:31:55.190Z"
   },
   {
    "duration": 11,
    "start_time": "2022-02-07T06:31:56.045Z"
   },
   {
    "duration": 68,
    "start_time": "2022-02-07T06:31:56.059Z"
   },
   {
    "duration": 29,
    "start_time": "2022-02-07T06:31:56.129Z"
   },
   {
    "duration": 837,
    "start_time": "2022-02-07T06:31:56.160Z"
   },
   {
    "duration": 454,
    "start_time": "2022-02-07T06:31:56.998Z"
   },
   {
    "duration": 396,
    "start_time": "2022-02-07T06:31:57.455Z"
   },
   {
    "duration": 394,
    "start_time": "2022-02-07T06:31:57.854Z"
   },
   {
    "duration": 551,
    "start_time": "2022-02-07T06:31:58.250Z"
   },
   {
    "duration": 348,
    "start_time": "2022-02-07T06:31:58.803Z"
   },
   {
    "duration": 23,
    "start_time": "2022-02-07T06:31:59.153Z"
   },
   {
    "duration": 414,
    "start_time": "2022-02-07T06:31:59.178Z"
   },
   {
    "duration": 326,
    "start_time": "2022-02-07T06:31:59.595Z"
   },
   {
    "duration": 2700,
    "start_time": "2022-02-07T06:31:59.923Z"
   },
   {
    "duration": 302,
    "start_time": "2022-02-07T06:32:02.626Z"
   },
   {
    "duration": 710,
    "start_time": "2022-02-07T06:32:02.931Z"
   },
   {
    "duration": 12,
    "start_time": "2022-02-07T06:32:03.646Z"
   },
   {
    "duration": 259,
    "start_time": "2022-02-07T06:32:03.659Z"
   },
   {
    "duration": 39,
    "start_time": "2022-02-07T06:32:03.921Z"
   },
   {
    "duration": 18,
    "start_time": "2022-02-07T06:32:03.962Z"
   },
   {
    "duration": 274,
    "start_time": "2022-02-07T06:32:03.982Z"
   },
   {
    "duration": 105,
    "start_time": "2022-02-07T06:32:04.258Z"
   },
   {
    "duration": 502,
    "start_time": "2022-02-07T06:32:04.367Z"
   },
   {
    "duration": 251,
    "start_time": "2022-02-07T06:32:04.873Z"
   },
   {
    "duration": 311,
    "start_time": "2022-02-07T06:32:05.126Z"
   },
   {
    "duration": 387,
    "start_time": "2022-02-07T06:32:05.438Z"
   },
   {
    "duration": 1021,
    "start_time": "2022-02-07T06:32:05.827Z"
   },
   {
    "duration": 27,
    "start_time": "2022-02-07T06:32:06.851Z"
   },
   {
    "duration": 1125,
    "start_time": "2022-02-07T06:32:06.881Z"
   },
   {
    "duration": 38,
    "start_time": "2022-02-07T06:32:08.009Z"
   },
   {
    "duration": 735,
    "start_time": "2022-02-13T18:04:22.581Z"
   },
   {
    "duration": 8,
    "start_time": "2022-02-13T18:04:23.317Z"
   },
   {
    "duration": 54,
    "start_time": "2022-02-13T18:04:23.327Z"
   },
   {
    "duration": 23,
    "start_time": "2022-02-13T18:04:23.383Z"
   },
   {
    "duration": 698,
    "start_time": "2022-02-13T18:04:23.408Z"
   },
   {
    "duration": 444,
    "start_time": "2022-02-13T18:04:24.108Z"
   },
   {
    "duration": 371,
    "start_time": "2022-02-13T18:04:24.554Z"
   },
   {
    "duration": 346,
    "start_time": "2022-02-13T18:04:24.928Z"
   },
   {
    "duration": 394,
    "start_time": "2022-02-13T18:04:25.277Z"
   },
   {
    "duration": 226,
    "start_time": "2022-02-13T18:04:25.673Z"
   },
   {
    "duration": 15,
    "start_time": "2022-02-13T18:04:25.901Z"
   },
   {
    "duration": 376,
    "start_time": "2022-02-13T18:04:25.918Z"
   },
   {
    "duration": 287,
    "start_time": "2022-02-13T18:04:26.296Z"
   },
   {
    "duration": 2149,
    "start_time": "2022-02-13T18:04:26.585Z"
   },
   {
    "duration": 163,
    "start_time": "2022-02-13T18:04:28.736Z"
   },
   {
    "duration": 565,
    "start_time": "2022-02-13T18:04:28.901Z"
   },
   {
    "duration": 10,
    "start_time": "2022-02-13T18:04:29.468Z"
   },
   {
    "duration": 209,
    "start_time": "2022-02-13T18:04:29.480Z"
   },
   {
    "duration": 15,
    "start_time": "2022-02-13T18:04:29.691Z"
   },
   {
    "duration": 25,
    "start_time": "2022-02-13T18:04:29.708Z"
   },
   {
    "duration": 221,
    "start_time": "2022-02-13T18:04:29.735Z"
   },
   {
    "duration": 79,
    "start_time": "2022-02-13T18:04:29.958Z"
   },
   {
    "duration": 424,
    "start_time": "2022-02-13T18:04:30.041Z"
   },
   {
    "duration": 254,
    "start_time": "2022-02-13T18:04:30.467Z"
   },
   {
    "duration": 244,
    "start_time": "2022-02-13T18:04:30.723Z"
   },
   {
    "duration": 287,
    "start_time": "2022-02-13T18:04:30.968Z"
   },
   {
    "duration": 766,
    "start_time": "2022-02-13T18:04:31.256Z"
   },
   {
    "duration": 19,
    "start_time": "2022-02-13T18:04:32.024Z"
   },
   {
    "duration": 741,
    "start_time": "2022-02-13T18:04:32.059Z"
   },
   {
    "duration": 21,
    "start_time": "2022-02-13T18:04:32.801Z"
   },
   {
    "duration": 1134,
    "start_time": "2022-02-23T13:59:33.216Z"
   },
   {
    "duration": 15,
    "start_time": "2022-02-23T13:59:34.354Z"
   },
   {
    "duration": 109,
    "start_time": "2022-02-23T13:59:34.373Z"
   },
   {
    "duration": 42,
    "start_time": "2022-02-23T13:59:34.485Z"
   },
   {
    "duration": 1306,
    "start_time": "2022-02-23T13:59:34.530Z"
   },
   {
    "duration": 716,
    "start_time": "2022-02-23T13:59:35.839Z"
   },
   {
    "duration": 620,
    "start_time": "2022-02-23T13:59:36.558Z"
   },
   {
    "duration": 587,
    "start_time": "2022-02-23T13:59:37.184Z"
   },
   {
    "duration": 773,
    "start_time": "2022-02-23T13:59:37.774Z"
   },
   {
    "duration": 357,
    "start_time": "2022-02-23T13:59:38.549Z"
   },
   {
    "duration": 30,
    "start_time": "2022-02-23T13:59:38.908Z"
   },
   {
    "duration": 493,
    "start_time": "2022-02-23T13:59:38.940Z"
   },
   {
    "duration": 408,
    "start_time": "2022-02-23T13:59:39.436Z"
   },
   {
    "duration": 3819,
    "start_time": "2022-02-23T13:59:39.846Z"
   },
   {
    "duration": 294,
    "start_time": "2022-02-23T13:59:43.668Z"
   },
   {
    "duration": 995,
    "start_time": "2022-02-23T13:59:43.965Z"
   },
   {
    "duration": 12,
    "start_time": "2022-02-23T13:59:44.963Z"
   },
   {
    "duration": 367,
    "start_time": "2022-02-23T13:59:44.978Z"
   },
   {
    "duration": 22,
    "start_time": "2022-02-23T13:59:45.347Z"
   },
   {
    "duration": 22,
    "start_time": "2022-02-23T13:59:45.371Z"
   },
   {
    "duration": 385,
    "start_time": "2022-02-23T13:59:45.396Z"
   },
   {
    "duration": 137,
    "start_time": "2022-02-23T13:59:45.784Z"
   },
   {
    "duration": 665,
    "start_time": "2022-02-23T13:59:45.929Z"
   },
   {
    "duration": 396,
    "start_time": "2022-02-23T13:59:46.597Z"
   },
   {
    "duration": 875,
    "start_time": "2022-02-23T13:59:46.996Z"
   },
   {
    "duration": 1368,
    "start_time": "2022-02-23T13:59:47.873Z"
   },
   {
    "duration": 1495,
    "start_time": "2022-02-23T13:59:49.243Z"
   },
   {
    "duration": 29,
    "start_time": "2022-02-23T13:59:50.741Z"
   },
   {
    "duration": 1330,
    "start_time": "2022-02-23T13:59:50.773Z"
   },
   {
    "duration": 44,
    "start_time": "2022-02-23T13:59:52.105Z"
   },
   {
    "duration": 1032,
    "start_time": "2022-03-16T08:34:01.161Z"
   },
   {
    "duration": 19,
    "start_time": "2022-03-16T08:34:02.197Z"
   },
   {
    "duration": 5290,
    "start_time": "2022-03-16T08:34:02.219Z"
   },
   {
    "duration": -200,
    "start_time": "2022-03-16T08:34:07.712Z"
   },
   {
    "duration": -201,
    "start_time": "2022-03-16T08:34:07.715Z"
   },
   {
    "duration": -203,
    "start_time": "2022-03-16T08:34:07.718Z"
   },
   {
    "duration": -209,
    "start_time": "2022-03-16T08:34:07.726Z"
   },
   {
    "duration": -211,
    "start_time": "2022-03-16T08:34:07.729Z"
   },
   {
    "duration": -212,
    "start_time": "2022-03-16T08:34:07.732Z"
   },
   {
    "duration": -213,
    "start_time": "2022-03-16T08:34:07.734Z"
   },
   {
    "duration": -218,
    "start_time": "2022-03-16T08:34:07.740Z"
   },
   {
    "duration": -218,
    "start_time": "2022-03-16T08:34:07.742Z"
   },
   {
    "duration": -219,
    "start_time": "2022-03-16T08:34:07.744Z"
   },
   {
    "duration": -219,
    "start_time": "2022-03-16T08:34:07.746Z"
   },
   {
    "duration": -219,
    "start_time": "2022-03-16T08:34:07.748Z"
   },
   {
    "duration": -219,
    "start_time": "2022-03-16T08:34:07.749Z"
   },
   {
    "duration": -219,
    "start_time": "2022-03-16T08:34:07.751Z"
   },
   {
    "duration": -223,
    "start_time": "2022-03-16T08:34:07.756Z"
   },
   {
    "duration": -337,
    "start_time": "2022-03-16T08:34:07.871Z"
   },
   {
    "duration": -336,
    "start_time": "2022-03-16T08:34:07.872Z"
   },
   {
    "duration": -336,
    "start_time": "2022-03-16T08:34:07.873Z"
   },
   {
    "duration": -333,
    "start_time": "2022-03-16T08:34:07.874Z"
   },
   {
    "duration": -333,
    "start_time": "2022-03-16T08:34:07.875Z"
   },
   {
    "duration": -333,
    "start_time": "2022-03-16T08:34:07.876Z"
   },
   {
    "duration": -332,
    "start_time": "2022-03-16T08:34:07.877Z"
   },
   {
    "duration": -332,
    "start_time": "2022-03-16T08:34:07.878Z"
   },
   {
    "duration": -332,
    "start_time": "2022-03-16T08:34:07.879Z"
   },
   {
    "duration": -332,
    "start_time": "2022-03-16T08:34:07.880Z"
   },
   {
    "duration": -331,
    "start_time": "2022-03-16T08:34:07.881Z"
   },
   {
    "duration": -331,
    "start_time": "2022-03-16T08:34:07.882Z"
   },
   {
    "duration": 181,
    "start_time": "2022-03-16T08:34:22.033Z"
   },
   {
    "duration": 33,
    "start_time": "2022-03-16T08:34:22.217Z"
   },
   {
    "duration": 66,
    "start_time": "2022-03-16T08:34:22.254Z"
   },
   {
    "duration": 54,
    "start_time": "2022-03-16T08:34:22.322Z"
   },
   {
    "duration": 1222,
    "start_time": "2022-03-16T08:34:22.379Z"
   },
   {
    "duration": 661,
    "start_time": "2022-03-16T08:34:23.604Z"
   },
   {
    "duration": 592,
    "start_time": "2022-03-16T08:34:24.268Z"
   },
   {
    "duration": 552,
    "start_time": "2022-03-16T08:34:24.862Z"
   },
   {
    "duration": 592,
    "start_time": "2022-03-16T08:34:25.420Z"
   },
   {
    "duration": 340,
    "start_time": "2022-03-16T08:34:26.015Z"
   },
   {
    "duration": 22,
    "start_time": "2022-03-16T08:34:26.358Z"
   },
   {
    "duration": 502,
    "start_time": "2022-03-16T08:34:26.383Z"
   },
   {
    "duration": 410,
    "start_time": "2022-03-16T08:34:26.888Z"
   },
   {
    "duration": 3729,
    "start_time": "2022-03-16T08:34:27.300Z"
   },
   {
    "duration": 274,
    "start_time": "2022-03-16T08:34:31.031Z"
   },
   {
    "duration": 1272,
    "start_time": "2022-03-16T08:34:31.308Z"
   },
   {
    "duration": 18,
    "start_time": "2022-03-16T08:34:32.582Z"
   },
   {
    "duration": 465,
    "start_time": "2022-03-16T08:34:32.603Z"
   },
   {
    "duration": 22,
    "start_time": "2022-03-16T08:34:33.071Z"
   },
   {
    "duration": 22,
    "start_time": "2022-03-16T08:34:33.096Z"
   },
   {
    "duration": 341,
    "start_time": "2022-03-16T08:34:33.150Z"
   },
   {
    "duration": 133,
    "start_time": "2022-03-16T08:34:33.493Z"
   },
   {
    "duration": 606,
    "start_time": "2022-03-16T08:34:33.628Z"
   },
   {
    "duration": 368,
    "start_time": "2022-03-16T08:34:34.237Z"
   },
   {
    "duration": 370,
    "start_time": "2022-03-16T08:34:34.608Z"
   },
   {
    "duration": 462,
    "start_time": "2022-03-16T08:34:34.980Z"
   },
   {
    "duration": 1255,
    "start_time": "2022-03-16T08:34:35.453Z"
   },
   {
    "duration": 44,
    "start_time": "2022-03-16T08:34:36.710Z"
   },
   {
    "duration": 1174,
    "start_time": "2022-03-16T08:34:36.757Z"
   },
   {
    "duration": 41,
    "start_time": "2022-03-16T08:34:37.933Z"
   },
   {
    "duration": 773,
    "start_time": "2022-05-04T14:23:16.783Z"
   },
   {
    "duration": 10,
    "start_time": "2022-05-04T14:23:17.559Z"
   },
   {
    "duration": 64,
    "start_time": "2022-05-04T14:23:17.571Z"
   },
   {
    "duration": 26,
    "start_time": "2022-05-04T14:23:17.637Z"
   },
   {
    "duration": 102,
    "start_time": "2022-05-04T14:23:17.666Z"
   },
   {
    "duration": 0,
    "start_time": "2022-05-04T14:23:17.770Z"
   },
   {
    "duration": 0,
    "start_time": "2022-05-04T14:23:17.772Z"
   },
   {
    "duration": 0,
    "start_time": "2022-05-04T14:23:17.773Z"
   },
   {
    "duration": 0,
    "start_time": "2022-05-04T14:23:17.775Z"
   },
   {
    "duration": 0,
    "start_time": "2022-05-04T14:23:17.777Z"
   },
   {
    "duration": 0,
    "start_time": "2022-05-04T14:23:17.778Z"
   },
   {
    "duration": 0,
    "start_time": "2022-05-04T14:23:17.780Z"
   },
   {
    "duration": 0,
    "start_time": "2022-05-04T14:23:17.781Z"
   },
   {
    "duration": 0,
    "start_time": "2022-05-04T14:23:17.782Z"
   },
   {
    "duration": 0,
    "start_time": "2022-05-04T14:23:17.784Z"
   },
   {
    "duration": 0,
    "start_time": "2022-05-04T14:23:17.785Z"
   },
   {
    "duration": 0,
    "start_time": "2022-05-04T14:23:17.786Z"
   },
   {
    "duration": 0,
    "start_time": "2022-05-04T14:23:17.788Z"
   },
   {
    "duration": 0,
    "start_time": "2022-05-04T14:23:17.789Z"
   },
   {
    "duration": 0,
    "start_time": "2022-05-04T14:23:17.790Z"
   },
   {
    "duration": 0,
    "start_time": "2022-05-04T14:23:17.824Z"
   },
   {
    "duration": 0,
    "start_time": "2022-05-04T14:23:17.826Z"
   },
   {
    "duration": 0,
    "start_time": "2022-05-04T14:23:17.827Z"
   },
   {
    "duration": 0,
    "start_time": "2022-05-04T14:23:17.828Z"
   },
   {
    "duration": 0,
    "start_time": "2022-05-04T14:23:17.830Z"
   },
   {
    "duration": 0,
    "start_time": "2022-05-04T14:23:17.831Z"
   },
   {
    "duration": 0,
    "start_time": "2022-05-04T14:23:17.832Z"
   },
   {
    "duration": 0,
    "start_time": "2022-05-04T14:23:17.833Z"
   },
   {
    "duration": 0,
    "start_time": "2022-05-04T14:23:17.835Z"
   },
   {
    "duration": 0,
    "start_time": "2022-05-04T14:23:17.835Z"
   },
   {
    "duration": 172,
    "start_time": "2022-05-04T14:23:30.665Z"
   },
   {
    "duration": 14,
    "start_time": "2022-05-04T14:23:30.840Z"
   },
   {
    "duration": 77,
    "start_time": "2022-05-04T14:23:30.857Z"
   },
   {
    "duration": 38,
    "start_time": "2022-05-04T14:23:30.937Z"
   },
   {
    "duration": 19,
    "start_time": "2022-05-04T14:23:30.979Z"
   },
   {
    "duration": 0,
    "start_time": "2022-05-04T14:23:31.025Z"
   },
   {
    "duration": 0,
    "start_time": "2022-05-04T14:23:31.027Z"
   },
   {
    "duration": 0,
    "start_time": "2022-05-04T14:23:31.029Z"
   },
   {
    "duration": 0,
    "start_time": "2022-05-04T14:23:31.030Z"
   },
   {
    "duration": 0,
    "start_time": "2022-05-04T14:23:31.032Z"
   },
   {
    "duration": 0,
    "start_time": "2022-05-04T14:23:31.033Z"
   },
   {
    "duration": 0,
    "start_time": "2022-05-04T14:23:31.035Z"
   },
   {
    "duration": 0,
    "start_time": "2022-05-04T14:23:31.036Z"
   },
   {
    "duration": 0,
    "start_time": "2022-05-04T14:23:31.037Z"
   },
   {
    "duration": 0,
    "start_time": "2022-05-04T14:23:31.038Z"
   },
   {
    "duration": 1,
    "start_time": "2022-05-04T14:23:31.038Z"
   },
   {
    "duration": 0,
    "start_time": "2022-05-04T14:23:31.040Z"
   },
   {
    "duration": 0,
    "start_time": "2022-05-04T14:23:31.040Z"
   },
   {
    "duration": 0,
    "start_time": "2022-05-04T14:23:31.042Z"
   },
   {
    "duration": 0,
    "start_time": "2022-05-04T14:23:31.043Z"
   },
   {
    "duration": 0,
    "start_time": "2022-05-04T14:23:31.044Z"
   },
   {
    "duration": 0,
    "start_time": "2022-05-04T14:23:31.044Z"
   },
   {
    "duration": 0,
    "start_time": "2022-05-04T14:23:31.046Z"
   },
   {
    "duration": 0,
    "start_time": "2022-05-04T14:23:31.047Z"
   },
   {
    "duration": 0,
    "start_time": "2022-05-04T14:23:31.048Z"
   },
   {
    "duration": 0,
    "start_time": "2022-05-04T14:23:31.049Z"
   },
   {
    "duration": 0,
    "start_time": "2022-05-04T14:23:31.050Z"
   },
   {
    "duration": 0,
    "start_time": "2022-05-04T14:23:31.051Z"
   },
   {
    "duration": 0,
    "start_time": "2022-05-04T14:23:31.052Z"
   },
   {
    "duration": 0,
    "start_time": "2022-05-04T14:23:31.053Z"
   },
   {
    "duration": 13,
    "start_time": "2022-05-04T14:24:26.570Z"
   },
   {
    "duration": 19,
    "start_time": "2022-05-04T14:25:58.947Z"
   },
   {
    "duration": 19,
    "start_time": "2022-05-04T14:26:04.522Z"
   },
   {
    "duration": 692,
    "start_time": "2022-05-04T14:26:15.895Z"
   },
   {
    "duration": 791,
    "start_time": "2022-05-04T14:26:36.472Z"
   },
   {
    "duration": 695,
    "start_time": "2022-05-04T14:26:38.938Z"
   },
   {
    "duration": 413,
    "start_time": "2022-05-04T14:27:07.497Z"
   },
   {
    "duration": 407,
    "start_time": "2022-05-04T14:27:16.382Z"
   },
   {
    "duration": 114,
    "start_time": "2022-05-04T14:27:19.610Z"
   },
   {
    "duration": 8,
    "start_time": "2022-05-04T14:27:19.726Z"
   },
   {
    "duration": 39,
    "start_time": "2022-05-04T14:27:19.736Z"
   },
   {
    "duration": 63,
    "start_time": "2022-05-04T14:27:19.777Z"
   },
   {
    "duration": 507,
    "start_time": "2022-05-04T14:27:19.844Z"
   },
   {
    "duration": 403,
    "start_time": "2022-05-04T14:27:20.353Z"
   },
   {
    "duration": 300,
    "start_time": "2022-05-04T14:27:20.758Z"
   },
   {
    "duration": 324,
    "start_time": "2022-05-04T14:27:21.060Z"
   },
   {
    "duration": 312,
    "start_time": "2022-05-04T14:27:21.386Z"
   },
   {
    "duration": 256,
    "start_time": "2022-05-04T14:27:21.700Z"
   },
   {
    "duration": 16,
    "start_time": "2022-05-04T14:27:21.959Z"
   },
   {
    "duration": 189,
    "start_time": "2022-05-04T14:27:21.977Z"
   },
   {
    "duration": 216,
    "start_time": "2022-05-04T14:27:22.169Z"
   },
   {
    "duration": 279,
    "start_time": "2022-05-04T14:27:22.390Z"
   },
   {
    "duration": 193,
    "start_time": "2022-05-04T14:27:22.672Z"
   },
   {
    "duration": 553,
    "start_time": "2022-05-04T14:27:22.867Z"
   },
   {
    "duration": 14,
    "start_time": "2022-05-04T14:27:23.425Z"
   },
   {
    "duration": 301,
    "start_time": "2022-05-04T14:27:23.441Z"
   },
   {
    "duration": 16,
    "start_time": "2022-05-04T14:27:23.745Z"
   },
   {
    "duration": 22,
    "start_time": "2022-05-04T14:27:23.763Z"
   },
   {
    "duration": 302,
    "start_time": "2022-05-04T14:27:23.788Z"
   },
   {
    "duration": 131,
    "start_time": "2022-05-04T14:27:24.093Z"
   },
   {
    "duration": 533,
    "start_time": "2022-05-04T14:27:24.227Z"
   },
   {
    "duration": 385,
    "start_time": "2022-05-04T14:27:24.763Z"
   },
   {
    "duration": 319,
    "start_time": "2022-05-04T14:27:25.151Z"
   },
   {
    "duration": 368,
    "start_time": "2022-05-04T14:27:25.473Z"
   },
   {
    "duration": 560,
    "start_time": "2022-05-04T14:27:25.844Z"
   },
   {
    "duration": 31,
    "start_time": "2022-05-04T14:27:26.406Z"
   },
   {
    "duration": 587,
    "start_time": "2022-05-04T14:27:26.439Z"
   },
   {
    "duration": 23,
    "start_time": "2022-05-04T14:27:27.028Z"
   }
  ],
  "kernelspec": {
   "display_name": "Python 3",
   "language": "python",
   "name": "python3"
  },
  "language_info": {
   "codemirror_mode": {
    "name": "ipython",
    "version": 3
   },
   "file_extension": ".py",
   "mimetype": "text/x-python",
   "name": "python",
   "nbconvert_exporter": "python",
   "pygments_lexer": "ipython3",
   "version": "3.7.12"
  },
  "toc": {
   "base_numbering": 1,
   "nav_menu": {},
   "number_sections": true,
   "sideBar": true,
   "skip_h1_title": true,
   "title_cell": "Содержание",
   "title_sidebar": "Contents",
   "toc_cell": true,
   "toc_position": {
    "height": "calc(100% - 180px)",
    "left": "10px",
    "top": "150px",
    "width": "202px"
   },
   "toc_section_display": true,
   "toc_window_display": true
  }
 },
 "nbformat": 4,
 "nbformat_minor": 2
}
